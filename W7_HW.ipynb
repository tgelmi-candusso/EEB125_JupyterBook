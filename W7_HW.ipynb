{
 "cells": [
  {
   "cell_type": "markdown",
   "id": "767c66e9",
   "metadata": {},
   "source": [
    "# Homework 7 - Summary statistics, Histograms and Boxplots\n"
   ]
  },
  {
   "cell_type": "markdown",
   "id": "4c621ab2",
   "metadata": {},
   "source": [
    "# Introduction\n",
    "\n",
    "For this week's homework, we'll investigate the behaviour of sample statistics and distributions as we vary our sample size. Specifically, we'll be investigating the mean litter size across species. Furthermore, we will extend our analysis by studying how our sample mean estimate tends to change when we take samples of increasing sizes.\n",
    "\n",
    "# Question\n",
    "\n",
    "_Question: What is the average litter size across pecies? How does our estimate of a sample mean change as we take increasingly larger samples?_\n"
   ]
  },
  {
   "cell_type": "markdown",
   "id": "25dc74e5",
   "metadata": {},
   "source": [
    "# Lab Instructions and Learning Objectives\n",
    "\n",
    "Just like in the previous homework, you will be creating and submitting a data story answering a data science question. You will be required to submit your work in the same format as last time, complete with sections for *Introduction*, *Data*, *Methods*, *Computation*, and *Conclusion*.\n",
    "\n",
    "In this lab, you will:\n",
    "* Create a data story in a notebook exploring the question.\n",
    "* Work with the Time Use dataset from lecture to investigate properties of sampling means as the sample size changes\n",
    "* Identify and remove any missing values from our columns of interest\n",
    "* Create and modify for loops and functions to run sampling simulations\n",
    "* Visualize bivariate/numeric relationships via scatter plots"
   ]
  },
  {
   "cell_type": "markdown",
   "id": "2b677ef1",
   "metadata": {},
   "source": [
    "# Due date \n",
    "\n",
    "You will submit your completed Homework 7 on MarkUs by *Mon, Mar 7 2022 at 11:59 PM EST*. We will send an announcement in a couple days when autotesting has been set up."
   ]
  },
  {
   "cell_type": "markdown",
   "id": "2d10a0a3",
   "metadata": {},
   "source": [
    "# EEB: How to submit\n",
    "\n",
    "1. Download your homework to your local computer and save it as `EEB125_Homework_7.ipynb`.\n",
    "2. Log in here: https://markus-ds.teach.cs.toronto.edu.\n",
    "3. Submit your homework to `hw7: Homework 7`."
   ]
  },
  {
   "cell_type": "markdown",
   "id": "c9549322",
   "metadata": {},
   "source": [
    "# Marking Rubric\n",
    "\n",
    "\n",
    "Section     | 0 | 1 | 2 | 3\n",
    "------------|---|---|---|---\n",
    "Introduction|The question is not stated correctly or left blank | The question is stated correctly | NA | NA \n",
    "Data (for each python variable)       |auto test fails | auto test passes | NA | NA \n",
    "Methods (for each part) | No answer | The data extracted is specified or a reasonable rationale is given, but not both | Both the data extracted is specified and a reasonable rationale is given | NA\n",
    "Computation |auto test fails | auto test passes | NA | NA \n",
    "Conclusion (for each part) | No answer | The question is answered but no explanation is given | The question is answered but the explanation is not supported or weakly supported by the data | The question is answered and the explanation is supported by the data "
   ]
  },
  {
   "cell_type": "markdown",
   "id": "e9d60469",
   "metadata": {},
   "source": [
    "# Introduction section\n",
    "\n",
    "This should introduce the question being explored in a sentence. __(1 mark)__"
   ]
  },
  {
   "cell_type": "markdown",
   "id": "5b2f1005",
   "metadata": {},
   "source": [
    "# Data section\n",
    "\n",
    "The Data part of your notebook should read the raw data, extract a `DataFrame` containing the important columns, rename the columns, and filter out missing values.\n",
    "\n",
    "You might find it helpful to name intermediate values in your algorithms. That way you can examine them to make sure they have the type you expect and that they look like what you expect. Very helpful when debugging!\n",
    "\n",
    "## Step 1\n",
    "\n",
    "Create the following pandas `DataFrame`s:\n",
    "\n",
    "+ `pan_data_raw`: the `DataFrame` created by reading the `pantheria_iucn_V2.csv` file. __(1 mark)__\n",
    "\n",
    "\n",
    "+ `pan_ls`: the `DataFrame` containing the following columns from `pan_data_raw`: `'MSW05_Binomial'`, `'15-1_LitterSize'`.__(1 mark)__ (We test this after any changes are made to it. We do not check the initial value.)"
   ]
  },
  {
   "cell_type": "code",
   "execution_count": 5,
   "id": "caaa7f99-9324-4493-ad5d-4b4e9f98f127",
   "metadata": {},
   "outputs": [],
   "source": [
    "# Step 1 check your work\n",
    "\n",
    "assert pan_ls.shape == (4946, 2)"
   ]
  },
  {
   "cell_type": "markdown",
   "id": "9975e34b",
   "metadata": {},
   "source": [
    "In a markdown cell, after you read in the data and select the relevant columns, describe what each of the selected columns represents. Refer to the codebook to help with your description. __(1 mark)__"
   ]
  },
  {
   "cell_type": "markdown",
   "id": "846f3353-2d04-4073-a0fb-9c87a5fbb481",
   "metadata": {},
   "source": [
    "## Step 2\n",
    "\n",
    "`pan_data` could use more informative column names. \n",
    "\n",
    "Create the following:\n",
    "\n",
    "+ `new_column_names`: a python dictionary mapping the column names from `pan_ls` to the values `'species'` and `'litter_size'`. __(1 mark)__\n",
    "+ `pan_data`: a new `DataFrame` that is a copy of `pan_ls`, but with the columns renamed using `new_column_names`. __(1 mark)__"
   ]
  },
  {
   "cell_type": "code",
   "execution_count": 109,
   "id": "45285158-d59f-40e9-9db5-1422c6c1ae61",
   "metadata": {},
   "outputs": [],
   "source": [
    "# Step 2 check that you have the correct column names\n",
    "\n",
    "expected_columnnames = ['species', 'litter_size']\n",
    "\n",
    "assert expected_columnnames == list(pan_data.columns)"
   ]
  },
  {
   "cell_type": "markdown",
   "id": "534ba78e",
   "metadata": {},
   "source": [
    "## Step 3a\n",
    "\n",
    "Let's check the validity of our data in `pan_data`, specifically for the column `litter_size`. We will learn about our variable via a mini-exploratory data analysis (**'EDA'**), drawing both on numerical and visual summaries.\n",
    "\n",
    "Call function `describe` on the `'litter_size'` column and name the result `summary_stats`."
   ]
  },
  {
   "cell_type": "markdown",
   "id": "e42436bc",
   "metadata": {},
   "source": [
    "In a markdown cell, briefly describe the spread of data based on the information in `summary_stats`. __(2 marks)__"
   ]
  },
  {
   "cell_type": "markdown",
   "id": "4c6b6d19",
   "metadata": {},
   "source": [
    "## Step 3b\n",
    "\n",
    "Visualize the `'litter_size'` column by creating a plot most appropriate for the type of data in the column. Choose the plot that will show the spread and, importantly, how the values in the column are distributed.\n",
    "\n",
    "Name your plot `litter_size_plot`.\n",
    "\n",
    "In a markdown cell, describe the distribution of data, pointing out features like mode (where most observations lie), skew, and potential outliers. Do our results make sense given what we know about IUCN categorization?\n",
    "\n",
    "Are there any strange values? Specifically, does it make sense to have such a high number of species with size 0?  Briefly explain.\n",
    "__(2 marks)__\n"
   ]
  },
  {
   "cell_type": "markdown",
   "id": "78fa6fca-6b04-42d8-be88-856e59d5051a",
   "metadata": {},
   "source": [
    "## Step 4\n",
    "\n",
    "Based on your answers in 3, remove any observations that report the invalid value that you identified and name your result `pan_data_filtered`.\n",
    "\n",
    "Hint: Based on the codebook, the missing values are coded as 9996-9999. However, the max value is less than 9996, so there are no 'missing values'. That is, you do not need to consider very large numbers (they are outliers, but likely not 'invalid' or 'skipped' answers).\n",
    "\n",
    "Create a `DataFrame` named `pan_data_clean` that removes rows in `pan_data` where the value of a column has the invalid value you identified. __(1 mark)__"
   ]
  },
  {
   "cell_type": "code",
   "execution_count": 113,
   "id": "c0be8594-836f-4fac-b390-c2b804614cbd",
   "metadata": {},
   "outputs": [],
   "source": [
    "# Step 4 check that clean_pan_data has expected number of rows\n",
    "assert len(pan_data_clean) == 2336"
   ]
  },
  {
   "cell_type": "markdown",
   "id": "37704ea8",
   "metadata": {},
   "source": [
    "# Methods section\n",
    "\n",
    "Start with a Markdown cell describing what you're going to do, which is:\n",
    "\n",
    "1. Compute the 'empirical' mean litter size from our cleaned dataset. Would you expect the empirical mean to be similar to a mean computed from a sample? __(2 marks)__ *Hint: You can either answer **Yes** or **No**, but you will be marked on whether your reasoning is correct.*\n",
    "\n",
    "2. Create an array representing experimental conditions, the variable we will be changing, i.e. the sample size. Compare the variability in samples at low sample sizes with those at high sample sizes (which would be more/less variable?). Explain using an example. __(2 marks)__\n",
    "\n",
    "3. Design a function that draws 100 samples of a given sample size, and computes the sample mean of each draw. Why would we be more confident about our sample mean estimate if we drew multiple samples, as opposed to just one? __(2 marks)__\n",
    "\n",
    "4. Design a function that runs the function in step 3. for each sample size in step 2, thus simulating 100 sample statisitics for each sample size. How would you expect the accuracy or 'confidence' of our estimate (sample mean time spent eating or drinking) to change with increases in sample size? __(2 marks)__\n",
    "\n",
    "5. Compute the mean of sample means for each experimental condition level (sample size) from your results, and plot your results against sample size using a barplot. What relationship do you expect to observe between the mean of sample means and sample size. __(2 marks)__"
   ]
  },
  {
   "cell_type": "markdown",
   "id": "e25d573d",
   "metadata": {},
   "source": [
    "# Computation section\n",
    "\n",
    "\n",
    "## Compute the empirical mean\n",
    "\n",
    "The **empirical mean** as the mean of all observed data. We distinguish this from the **sample mean** which is the mean of a sample or portion of all data.\n",
    "\n",
    "Compute the empirical mean time spent eating or drinking by respondents and name it `empirical_mean_litter_size`. __(1 mark)__\n"
   ]
  },
  {
   "cell_type": "markdown",
   "id": "cadb4dd8",
   "metadata": {},
   "source": [
    "## Set up our experiments\n",
    "\n",
    "We'd like to investigate the behaviour of sample means for the following sample sizes:\n",
    "\n",
    "5, 10, 20, 50, 100, 200, 500.\n",
    "\n",
    "Create a `list` named `sample_sizes` with the aforementioned values in the specified order. __(1 mark)__"
   ]
  },
  {
   "cell_type": "markdown",
   "id": "8721b1e6",
   "metadata": {
    "tags": []
   },
   "source": [
    "## Simulating Sample Means\n",
    "\n",
    "In this part, you will complete a function that creates and returns a list of the sample means of the sample draws.\n",
    "\n",
    "Name the function `simulate_sample_means`. \n",
    "\n",
    "The function will have two arguments: \n",
    "+ `data`: the `DataFrame` that we are sampling\n",
    "+ `N`: an `int`, the size of the sample we draw\n",
    "\n",
    "Your function should make and return a list of 100 sample means of size `N` from `data`.\n",
    "\n",
    "Sample *without* replacement.\n",
    "\n",
    "The function will return a list, `sample_means`. The list will be of size 100, with each element in the list representing the sample *mean* from the sample of size N. *Hint: Initialize an empty list used to store the sample means. Inside your for loop generate a sample from the data, calculate the sample mean, and append it to your list.*\n",
    "\n",
    "Wherever there is a commented chunk of code of the form `var_name = ...`, replace the `...` with the appropriate value or expression."
   ]
  },
  {
   "cell_type": "code",
   "execution_count": null,
   "id": "2266f16f",
   "metadata": {},
   "outputs": [],
   "source": [
    "# Finish the function header and complete the function body.\n",
    "# \n",
    "def \n",
    "\n",
    "    \"\"\"Return a list of 100 sample means of size N sampling from\n",
    "    column 'litter_size'.\n",
    "    \"\"\"\n",
    "\n",
    "    # This next statement is for reproducability: each random number is generated\n",
    "    # mathematically based on the previous random number, and we can say which\n",
    "    # number to start with when we call sample. This allows us to have reproducability\n",
    "    # with \"random\" numbers and so we can autotest! Yay!\n",
    "    seed = 0\n",
    "\n",
    "    # Create any variables you need here, such as the list of sample means you are\n",
    "    # accumulating.\n",
    "\n",
    "    \n",
    "    # 100 times, generate a sample mean and append it to your list.\n",
    "    for _ in range(100):\n",
    "        seed += 1 # Don't change this line\n",
    "        \n",
    "        # Here, write code to:\n",
    "        # 1) Take a sample of litter_size, and calculate the sample mean.\n",
    "        #    When you call .sample, make sure you use random_state=seed as one of the\n",
    "        #    arguments.\n",
    "        # 2) Append the sample mean to the list of sample means.\n",
    "\n",
    "        \n",
    "        \n",
    "        \n",
    "    return ???"
   ]
  },
  {
   "cell_type": "markdown",
   "id": "9dd52469",
   "metadata": {},
   "source": [
    "## Simulating Sample Means\n",
    "\n",
    "In this part, you will complete a code block that computes and compiles the simulated statistics for each sample size.\n",
    "\n",
    "For each sample size in `sample_sizes`, call function `simulate_sample_means` from the previous step to calculate 100 sample means at that sample size. You're going to build a dictionary where each key is a sample size and each value is the corresponding list of means that `simulate_sample_means` returned."
   ]
  },
  {
   "cell_type": "markdown",
   "id": "23c28610",
   "metadata": {},
   "source": [
    "### Accumulating information in a dictionary\n",
    "Remember in lecture we used a for loop to add up a series of numbers? And then we used a for loop to accumulate a list of means? As it turns out, you can use the same technique to make a dictionary.\n",
    "\n",
    "Here's how you add a key/value pair to a dictionary (this is also called \"inserting\"):"
   ]
  },
  {
   "cell_type": "code",
   "execution_count": null,
   "id": "2e9bd233",
   "metadata": {},
   "outputs": [],
   "source": [
    "d = {}\n",
    "d['key1'] = 'value1'\n",
    "d"
   ]
  },
  {
   "cell_type": "code",
   "execution_count": null,
   "id": "26c3734e",
   "metadata": {},
   "outputs": [],
   "source": [
    "d['key2'] = 'value2'\n",
    "d"
   ]
  },
  {
   "cell_type": "code",
   "execution_count": null,
   "id": "0024545b",
   "metadata": {
    "scrolled": false
   },
   "outputs": [],
   "source": [
    "d['key1'] = 'new_value'\n",
    "d"
   ]
  },
  {
   "cell_type": "markdown",
   "id": "98d9a355",
   "metadata": {},
   "source": [
    "You can accumulate a new dictionary using a for loop:"
   ]
  },
  {
   "cell_type": "code",
   "execution_count": null,
   "id": "14ee37f1",
   "metadata": {},
   "outputs": [],
   "source": [
    "ta_to_course = {}\n",
    "\n",
    "for name in ['Matt', 'Fiona']:\n",
    "    ta_to_course[name] = 'EEB125'\n",
    "\n",
    "ta_to_course"
   ]
  },
  {
   "cell_type": "code",
   "execution_count": null,
   "id": "20a579d8",
   "metadata": {},
   "outputs": [],
   "source": [
    "for name in ['Amar', 'Bochu', 'Mickey']:\n",
    "    ta_to_course[name] = 'GGR274'\n",
    "\n",
    "print(ta_to_course)\n",
    "print(ta_to_course['Fiona'])"
   ]
  },
  {
   "cell_type": "markdown",
   "id": "747ad727",
   "metadata": {},
   "source": [
    "### Back to the problem\n",
    "\n",
    "As you loop through each element in `sample_sizes`, you will pass the current sample size to the function `simulate_sample_means` (specifically, the argument `N`). You will be sampling from the cleaned dataset, so make sure to pass the value of `pan_data_clean` to the `data` parameter.\n",
    "\n",
    "The result of calling `simulate_sample_means` is a list of means. Add a new key/value pair to `all_sample_means_by_sample_size`. They key is the current sample size and the value is the list of means.\n",
    "\n",
    "Finally we will be checking this in the autotester:\n",
    "+ `all_sample_means_by_sample_size`: a dictionary mapping the sample sizes to a list of sample means of a size 100. (Because we'll use the same random seed, we'll get the same \"random\" sequence. That means that we can autotest it. Yay!) __(2 marks)__"
   ]
  },
  {
   "cell_type": "code",
   "execution_count": null,
   "id": "c59d3754",
   "metadata": {},
   "outputs": [],
   "source": [
    "# Finish the code\n",
    "\n",
    "all_sample_means_by_sample_size_as_dict = {}\n",
    "\n",
    "for "
   ]
  },
  {
   "cell_type": "code",
   "execution_count": null,
   "id": "8ede0890",
   "metadata": {},
   "outputs": [],
   "source": [
    "# How does it look?\n",
    "all_sample_means_by_sample_size"
   ]
  },
  {
   "cell_type": "markdown",
   "id": "4b39833d",
   "metadata": {},
   "source": [
    "## Compiling and plotting our results\n",
    "\n",
    "Here, we will calculate the mean of sample means for each set of simulations. We do this by carrying out the following steps and creating the variables mentioned below:\n",
    "\n",
    "+ `sample_means_by_sample_size`: a `DataFrame` created from the dictionary `all_sample_means_by_sample_size`. __(1 mark)__\n",
    "+ `mean_of_sample_means_by_sample_size`: the result of taking the column means of `sample_means_by_sample_size`, that is the mean sample means at each sample size. __(1 mark)__ *Hint: Use the 'axis' argument of `pd.DataFrame.sum()`.*\n",
    "+ `absolute_diff_sample_mean_empirical_means_by_sample_size`: the difference between mean of sample means and the empirical mean at each sample size. *Hint: Use the pd.Series.abs() function*. __(1 mark)__\n",
    "+ `mean_of_sample_means_by_sample_size_plot`: a scatterplot, created by matplotlib, plotting the mean of sample means (y-axis) against the sample size (x-axis). __(1 mark)__\n",
    "+ Call `xlabel` and `ylabel` to set the axis labels to these values (we recommend that you copy and paste):\n",
    "  - `'Sample size'`\n",
    "  - `'Mean absolute difference between\\nempirical mean and sample mean'`"
   ]
  },
  {
   "cell_type": "markdown",
   "id": "2b240bce",
   "metadata": {},
   "source": [
    "# Conclusion\n",
    "\n",
    "Include cells with your answers to each of these questions:\n",
    " \n",
    "1. What is the empirical mean litter size. Does this value make sense? Why or why not, think about reproductive strategies (K vs R), and which are the most common and how will the mean change based on the most common reproductive strategy in our sample of species? See `litter_size_plot` to see which are the most common litter size values in our sample of species. Answer in one line. __(2 marks)__\n",
    "\n",
    "2. Based on your final scatter plot, what trend do you notice between sample size and the absolute difference between the mean of sample means and empirical mean? Do you see a negative or positive correlation, i.e. does the difference decrease or increase with sample size? Explain why this trend is seen, drawing on your understanding of randomness of sampling. __(2 marks)__"
   ]
  }
 ],
 "metadata": {
  "kernelspec": {
   "display_name": "Python 3 (ipykernel)",
   "language": "python",
   "name": "python3"
  },
  "language_info": {
   "codemirror_mode": {
    "name": "ipython",
    "version": 3
   },
   "file_extension": ".py",
   "mimetype": "text/x-python",
   "name": "python",
   "nbconvert_exporter": "python",
   "pygments_lexer": "ipython3",
   "version": "3.9.9"
  }
 },
 "nbformat": 4,
 "nbformat_minor": 5
}
