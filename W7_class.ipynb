{
 "cells": [
  {
   "cell_type": "markdown",
   "id": "66a74e4f-ade1-4b67-9071-c72a26f0ff12",
   "metadata": {},
   "source": [
    "# Class 6\n",
    "## March 2, 2022\n",
    "\n",
    "By the end of this class you should be able to:\n",
    "\n",
    "By the end of this class you should be able to:\n",
    "\n",
    "- understand how to write a function in Python\n",
    "\n",
    "- understand that a function definition creates a function object and a variable name for that object\n",
    "\n",
    "- understand how to write a function call in Python\n",
    "\n",
    "- understand that a function call is an expression that produces a value, just like mathematical expressions\n",
    "\n",
    "- explain how a function call works: how it passes information to the parameters\n",
    "\n",
    "- understand that any variables created during function execution are local to the current function call, and when the function ends the variables disappear\n",
    "\n",
    "- understand that the return statement announces the value of the function call\n",
    "\n",
    "- describe the parts of a function: name, parameters, body\n",
    "\n",
    "- understand how to write a `for` loop in Python\n",
    "\n",
    "- understand the role of empirical distributions (sample and statistic) and simulation\n",
    "\n",
    "- understand the law of averages and its relationship to empirical distributions"
   ]
  },
  {
   "cell_type": "markdown",
   "id": "590a6969-2c28-413b-8e9d-75ae00094eb2",
   "metadata": {},
   "source": [
    "<mark> Paul </mark>\n",
    "\n",
    "## Functions\n",
    "\n",
    "We've seen many functions: `sum`, `max`, `groupby`, and so on. We're going to explore how to create our own functions.\n",
    "\n",
    "We're going to use Python's `random` module, and in particular function `randint`.\n",
    "\n",
    "Later in the lecture, we're going to do it another way entirely."
   ]
  },
  {
   "cell_type": "code",
   "execution_count": 1,
   "id": "74d19b11-bcd5-48ae-9317-27ea949ecc1c",
   "metadata": {},
   "outputs": [
    {
     "name": "stdout",
     "output_type": "stream",
     "text": [
      "Help on method randint in module random:\n",
      "\n",
      "randint(a, b) method of random.Random instance\n",
      "    Return random integer in range [a, b], including both end points.\n",
      "\n"
     ]
    }
   ],
   "source": [
    "import random\n",
    "help(random.randint)"
   ]
  },
  {
   "cell_type": "markdown",
   "id": "a1d83d0c",
   "metadata": {},
   "source": [
    "Here we call function `randint`, asking for a number in the range 1 to 6."
   ]
  },
  {
   "cell_type": "code",
   "execution_count": 2,
   "id": "7193ef8d-c7a0-49f1-a382-aad67d9fd14d",
   "metadata": {},
   "outputs": [
    {
     "data": {
      "text/plain": [
       "5"
      ]
     },
     "execution_count": 2,
     "metadata": {},
     "output_type": "execute_result"
    }
   ],
   "source": [
    "random.randint(1, 6)"
   ]
  },
  {
   "cell_type": "markdown",
   "id": "28b34fa4",
   "metadata": {},
   "source": [
    "### Conjunction junction, what's your function?\n",
    "\n",
    "Here is our first function definition. It has three parts:\n",
    "\n",
    "1. Function header\n",
    "    + `def` then the function name then `():`.\n",
    "2. Documentation string — \"docstring\" for short. (This is often omitted.)\n",
    "3. Function body\n",
    "    + A sequence of Python statements that perform a computation\n",
    "    + If it ends with `return`, that announces the value of the function call"
   ]
  },
  {
   "cell_type": "code",
   "execution_count": 3,
   "id": "0d342fe1",
   "metadata": {},
   "outputs": [],
   "source": [
    "def roll_die():\n",
    "    \"\"\"Simulate a die roll by returning a number between 1 and 6.\n",
    "    \"\"\"\n",
    "    roll = random.randint(1, 6)\n",
    "    return roll"
   ]
  },
  {
   "cell_type": "markdown",
   "id": "37322cb0",
   "metadata": {},
   "source": [
    "Let's call it:"
   ]
  },
  {
   "cell_type": "code",
   "execution_count": null,
   "id": "a0256d16",
   "metadata": {},
   "outputs": [],
   "source": [
    "roll_die()"
   ]
  },
  {
   "cell_type": "markdown",
   "id": "44f5cdfe",
   "metadata": {},
   "source": [
    "`roll_die` is a variable. So … what is its value?"
   ]
  },
  {
   "cell_type": "code",
   "execution_count": null,
   "id": "6ec1155c",
   "metadata": {},
   "outputs": [],
   "source": [
    "roll_die"
   ]
  },
  {
   "cell_type": "code",
   "execution_count": null,
   "id": "c3d68a62",
   "metadata": {},
   "outputs": [],
   "source": [
    "help(roll_die)"
   ]
  },
  {
   "cell_type": "code",
   "execution_count": null,
   "id": "126f12d9",
   "metadata": {},
   "outputs": [],
   "source": [
    "dir(roll_die)"
   ]
  },
  {
   "cell_type": "code",
   "execution_count": null,
   "id": "f82e02de",
   "metadata": {},
   "outputs": [],
   "source": [
    "roll_die.__doc__"
   ]
  },
  {
   "cell_type": "markdown",
   "id": "bb7b5bad",
   "metadata": {},
   "source": [
    "A function is a value, so can we make an alias for `roll_die`?"
   ]
  },
  {
   "cell_type": "code",
   "execution_count": null,
   "id": "5a374167",
   "metadata": {},
   "outputs": [],
   "source": [
    "waffles = roll_die\n",
    "waffles()"
   ]
  },
  {
   "cell_type": "code",
   "execution_count": null,
   "id": "c22ae69b",
   "metadata": {},
   "outputs": [],
   "source": [
    "print(id(roll_die))\n",
    "print(id(waffles))"
   ]
  },
  {
   "cell_type": "code",
   "execution_count": null,
   "id": "381ea878",
   "metadata": {},
   "outputs": [],
   "source": [
    "waffles.__name__"
   ]
  },
  {
   "cell_type": "markdown",
   "id": "091afbd2-0643-4fb3-8eb7-c744e340abc5",
   "metadata": {},
   "source": [
    "### Platonic solids: octahedrons and dodecahedrons and icosahdrons, oh my!\n",
    "\n",
    "Fun reading: [The geometry of weird-shaped dice](https://skullsinthestars.com/2017/03/09/the-geometry-of-weird-shaped-dice/).\n",
    "\n",
    "![dice.jpg](https://skullsinthestars.files.wordpress.com/2017/03/platonicsolids.jpg?w=457&h=343)\n",
    "\n",
    "Often, we want to ask a function to calculate some information for us based on data we give it. Here is a function that allows us to simulate any shape of dice."
   ]
  },
  {
   "cell_type": "code",
   "execution_count": null,
   "id": "66832921",
   "metadata": {},
   "outputs": [],
   "source": [
    "def roll_die(num_sides):\n",
    "    \"\"\"Simulate a die roll by returning a number between 1 and num_sides.\n",
    "    \"\"\"\n",
    "    roll = random.randint(1, num_sides)\n",
    "    return roll"
   ]
  },
  {
   "cell_type": "markdown",
   "id": "4c21a35f",
   "metadata": {},
   "source": [
    "In this function call, we're passing `20` in, and `num_sides` is a temporary name for that value."
   ]
  },
  {
   "cell_type": "code",
   "execution_count": null,
   "id": "6ea1d5f7",
   "metadata": {},
   "outputs": [],
   "source": [
    "roll_die(20)"
   ]
  },
  {
   "cell_type": "markdown",
   "id": "d97c7330",
   "metadata": {},
   "source": [
    "### Local variables\n",
    "\n",
    "`num_sides` and `roll` are _local_ to the function. They only exist while the function is being called."
   ]
  },
  {
   "cell_type": "code",
   "execution_count": null,
   "id": "eb5671f0",
   "metadata": {},
   "outputs": [],
   "source": [
    "print(num_sides)"
   ]
  },
  {
   "cell_type": "markdown",
   "id": "fe97a739",
   "metadata": {},
   "source": [
    "The only place you can use `print(num_sides)` is in the function body for `roll_die`."
   ]
  },
  {
   "cell_type": "markdown",
   "id": "7394400c",
   "metadata": {},
   "source": [
    "### Values go in, a value comes out\n",
    "\n",
    "When we call a function, the arguments need to be evaluated before we can do the function call.\n",
    "\n",
    "When a function returns, the return value is used as the value of the function call.b"
   ]
  },
  {
   "cell_type": "markdown",
   "id": "00fc3caa",
   "metadata": {},
   "source": [
    "### When do you write a function?\n",
    "\n",
    "If you find yourself copying and pasting code, i'ts time to write a function that does the same thing.\n",
    "\n",
    "If you think of a good domain-specific name for a computation or simulation you're doing, make a function so the rest of your code is more readable."
   ]
  },
  {
   "cell_type": "markdown",
   "id": "2189b5f9",
   "metadata": {},
   "source": [
    "## You try it\n",
    "\n",
    "Write a function that takes in a number of centimeters and returns the equivalent number of inches.\n",
    "\n",
    "1. What's a good name for the function? It helps to think of a short verb phrase, because the function does something.\n",
    "2. There are 2.54 cm in an inch, so divide the number of centimeters by 2.54 to get the equivalent number of inches."
   ]
  },
  {
   "cell_type": "code",
   "execution_count": null,
   "id": "896cbde9",
   "metadata": {},
   "outputs": [],
   "source": [
    "def "
   ]
  },
  {
   "cell_type": "markdown",
   "id": "b3d1f687",
   "metadata": {},
   "source": [
    "Now call it and check whether you get the right answer:"
   ]
  },
  {
   "cell_type": "code",
   "execution_count": null,
   "id": "7a422b37",
   "metadata": {},
   "outputs": [],
   "source": [
    "# Call your function here"
   ]
  },
  {
   "cell_type": "markdown",
   "id": "9ff4f281",
   "metadata": {},
   "source": [
    "# Iteration\n",
    "## Do the same thing to each item in a list\n",
    "\n",
    "Python lets you step through a list one item at a time using a for loop:"
   ]
  },
  {
   "cell_type": "code",
   "execution_count": 4,
   "id": "d704cd4d",
   "metadata": {},
   "outputs": [
    {
     "name": "stdout",
     "output_type": "stream",
     "text": [
      "43.5\n",
      "33.1\n",
      "-25.5\n",
      "6.1\n"
     ]
    }
   ],
   "source": [
    "centimeters = [43.5, 33.1, -25.5, 6.1]\n",
    "for cm in centimeters:\n",
    "    print(cm)"
   ]
  },
  {
   "cell_type": "markdown",
   "id": "c3aeeb45",
   "metadata": {},
   "source": [
    "Each _iteration_ of the loop makes `cm` the name of the next number, in order from left to right.\n",
    "\n",
    "This works with any iterable, like `str` and `Series`."
   ]
  },
  {
   "cell_type": "code",
   "execution_count": 5,
   "id": "91621efa",
   "metadata": {},
   "outputs": [
    {
     "name": "stdout",
     "output_type": "stream",
     "text": [
      "G\n",
      "G\n",
      "R\n",
      "2\n",
      "7\n",
      "4\n"
     ]
    }
   ],
   "source": [
    "for letter in 'GGR274':\n",
    "    print(letter)"
   ]
  },
  {
   "cell_type": "markdown",
   "id": "95b8f054",
   "metadata": {},
   "source": [
    "Here's a `Series`."
   ]
  },
  {
   "cell_type": "code",
   "execution_count": 7,
   "id": "b3aac10a",
   "metadata": {},
   "outputs": [
    {
     "data": {
      "text/plain": [
       "0    30\n",
       "1    30\n",
       "2    30\n",
       "3    75\n",
       "4    15\n",
       "Name: persdur, dtype: int64"
      ]
     },
     "execution_count": 7,
     "metadata": {},
     "output_type": "execute_result"
    }
   ],
   "source": [
    "import pandas as pd\n",
    "timeuse = pd.read_csv('gss_tu2016_main_file.csv')\n",
    "\n",
    "persdur = timeuse['persdur']\n",
    "persdur.head()"
   ]
  },
  {
   "cell_type": "markdown",
   "id": "cc135ada",
   "metadata": {},
   "source": [
    "Goal: calculate the sum of the numbers using a for loop (rather than calling `sum`).\n",
    "\n",
    "Once we have this basic structure, we can start to get fancy with it.\n",
    "\n",
    "We'll start with keeping a running total. What's in `Series` `persdur`?"
   ]
  },
  {
   "cell_type": "code",
   "execution_count": 8,
   "id": "9a10cc9e",
   "metadata": {},
   "outputs": [
    {
     "data": {
      "text/plain": [
       "0    30\n",
       "1    30\n",
       "2    30\n",
       "3    75\n",
       "4    15\n",
       "Name: persdur, dtype: int64"
      ]
     },
     "execution_count": 8,
     "metadata": {},
     "output_type": "execute_result"
    }
   ],
   "source": [
    "persdur.head()"
   ]
  },
  {
   "cell_type": "markdown",
   "id": "14a84c5c",
   "metadata": {},
   "source": [
    "We can access values by index:"
   ]
  },
  {
   "cell_type": "code",
   "execution_count": 9,
   "id": "4e528fc0",
   "metadata": {},
   "outputs": [
    {
     "data": {
      "text/plain": [
       "30"
      ]
     },
     "execution_count": 9,
     "metadata": {},
     "output_type": "execute_result"
    }
   ],
   "source": [
    "running_sum = 0\n",
    "persdur[0]"
   ]
  },
  {
   "cell_type": "code",
   "execution_count": 10,
   "id": "4067dede",
   "metadata": {},
   "outputs": [
    {
     "data": {
      "text/plain": [
       "30"
      ]
     },
     "execution_count": 10,
     "metadata": {},
     "output_type": "execute_result"
    }
   ],
   "source": [
    "running_sum = running_sum + persdur[0]\n",
    "running_sum"
   ]
  },
  {
   "cell_type": "code",
   "execution_count": null,
   "id": "8292a1ea",
   "metadata": {},
   "outputs": [],
   "source": [
    "running_sum = running_sum + persdur[1]\n",
    "running_sum"
   ]
  },
  {
   "cell_type": "code",
   "execution_count": null,
   "id": "eedb0231",
   "metadata": {},
   "outputs": [],
   "source": [
    "running_sum = running_sum + persdur[2]\n",
    "running_sum"
   ]
  },
  {
   "cell_type": "code",
   "execution_count": null,
   "id": "3900d437",
   "metadata": {},
   "outputs": [],
   "source": [
    "running_sum = running_sum + persdur[3]\n",
    "running_sum"
   ]
  },
  {
   "cell_type": "code",
   "execution_count": null,
   "id": "e512cd9e",
   "metadata": {},
   "outputs": [],
   "source": [
    "running_sum = running_sum + persdur[4]\n",
    "running_sum"
   ]
  },
  {
   "cell_type": "markdown",
   "id": "60dbdf37",
   "metadata": {},
   "source": [
    "Algorithm: keep a running total of the that have been processed by the for loop. We'll start a 0 and each iteration add the current value to the sum."
   ]
  },
  {
   "cell_type": "code",
   "execution_count": null,
   "id": "8381d280",
   "metadata": {},
   "outputs": [],
   "source": [
    "running_sum = 0\n",
    "\n",
    "for pdur in persdur:\n",
    "    running_sum = running_sum + pdur\n",
    "\n",
    "running_sum"
   ]
  },
  {
   "cell_type": "markdown",
   "id": "507b81fa",
   "metadata": {},
   "source": [
    "### Iterating a constant amount of times\n",
    "\n",
    "Sometimes we want to repeat something an exact number of times rather than once for each item in a list.\n",
    "\n",
    "To do this, The Python idiom is to call function `range` to generate a sequence of numbers. The result is iterable, so we can use it in a for loop."
   ]
  },
  {
   "cell_type": "code",
   "execution_count": null,
   "id": "b0dff8cd",
   "metadata": {},
   "outputs": [],
   "source": [
    "range(1, 5)"
   ]
  },
  {
   "cell_type": "code",
   "execution_count": null,
   "id": "1638f5f2",
   "metadata": {
    "scrolled": true
   },
   "outputs": [],
   "source": [
    "help(range)"
   ]
  },
  {
   "cell_type": "code",
   "execution_count": null,
   "id": "6a080c14",
   "metadata": {},
   "outputs": [],
   "source": [
    "range(5)"
   ]
  },
  {
   "cell_type": "markdown",
   "id": "428f4ebd",
   "metadata": {},
   "source": [
    "We can use a for loop to roll five 6-sided dice and add them up using the same technique as before:"
   ]
  },
  {
   "cell_type": "code",
   "execution_count": null,
   "id": "b04f3369-aab4-400e-82c7-34dac512cf60",
   "metadata": {},
   "outputs": [],
   "source": [
    "dice_sum = 0\n",
    "\n",
    "for number in range(5):\n",
    "    dice_sum = dice_sum + roll_die(6)\n",
    "\n",
    "dice_sum"
   ]
  },
  {
   "cell_type": "markdown",
   "id": "e6b4bc80",
   "metadata": {},
   "source": [
    "Notice that we never use `number`'s value. To indicate this, the Python community often uses `_` as the variable name:"
   ]
  },
  {
   "cell_type": "code",
   "execution_count": null,
   "id": "2ba5b78e",
   "metadata": {},
   "outputs": [],
   "source": [
    "dice_sum = 0\n",
    "\n",
    "for _ in range(5):\n",
    "    dice_sum = dice_sum + roll_die(6)\n",
    "\n",
    "dice_sum"
   ]
  },
  {
   "cell_type": "code",
   "execution_count": null,
   "id": "643dbaf1",
   "metadata": {},
   "outputs": [],
   "source": []
  },
  {
   "cell_type": "markdown",
   "id": "ecfed7bc-22c4-4a3d-9a40-4c2562fd98b1",
   "metadata": {},
   "source": [
    "<mark> Nathan Start </mark>"
   ]
  },
  {
   "cell_type": "markdown",
   "id": "06f68f26-b1b7-48c7-a37b-76dd9d0811ac",
   "metadata": {
    "slideshow": {
     "slide_type": "slide"
    }
   },
   "source": [
    "# Empirical Distributions\n",
    "\n",
    "- In data science, the word \"empirical\" means \"observed\". Empirical distributions are distributions of observed data, such as data in the time use survey.\n",
    "\n",
    "- We can simulate data and see what the empirical distribution looks like. \n",
    "\n",
    "\n",
    "## Toss a coin ten times\n",
    "\n",
    "- Our setting is a simple experiment: rolling a die multiple times and keeping track of which face appears. The table `die` contains the numbers of spots on the faces of a die. All the numbers appear exactly once, as we are assuming that the die is fair."
   ]
  },
  {
   "cell_type": "markdown",
   "id": "94273e1f-0003-4bc7-9025-479faec0f371",
   "metadata": {
    "slideshow": {
     "slide_type": "slide"
    }
   },
   "source": [
    "- We will use the `numpy` library to create a *simulated* six sided die.\n",
    "\n",
    "- The `arrange` function returns evenly spaced values within an interval."
   ]
  },
  {
   "cell_type": "code",
   "execution_count": null,
   "id": "0fb5e477-77d1-4d26-bbe2-d31c73aa8530",
   "metadata": {},
   "outputs": [],
   "source": [
    "import numpy as np\n",
    "\n",
    "die_sides = np.arange(start = 1, stop = 7, step = 1)\n",
    "die_sides"
   ]
  },
  {
   "cell_type": "markdown",
   "id": "c55b37d9-e6eb-468a-a6ee-3bceda69b550",
   "metadata": {},
   "source": [
    "NB: this returns a `numpy` array which is a different python object.\n",
    "\n",
    "Alternatively, we could have used the `array` function in `numpy`."
   ]
  },
  {
   "cell_type": "code",
   "execution_count": null,
   "id": "ce94ca6d-dd7a-45ae-878a-1f3a140f62dc",
   "metadata": {},
   "outputs": [],
   "source": [
    "np.array([1, 2, 3, 4, 5, 6])"
   ]
  },
  {
   "cell_type": "markdown",
   "id": "c77518ff-dc3e-4abc-a9e2-7730dc4786f8",
   "metadata": {
    "slideshow": {
     "slide_type": "slide"
    }
   },
   "source": [
    "Now, we can create a `pandas` `Series` with `die_sides`"
   ]
  },
  {
   "cell_type": "code",
   "execution_count": null,
   "id": "c900d2a4-c249-48aa-8eac-132846795df1",
   "metadata": {},
   "outputs": [],
   "source": [
    "import pandas as pd\n",
    "\n",
    "die = pd.Series(die_sides)\n",
    "die"
   ]
  },
  {
   "cell_type": "markdown",
   "id": "9749ad06-7c39-4ff7-b9c0-de83b48f0dfd",
   "metadata": {
    "slideshow": {
     "slide_type": "slide"
    }
   },
   "source": [
    "- Now, we can use the `pandas` `sample` function to take a random *sample* of `die`.  \n",
    "\n",
    "- `replace = False` means that values that are already selected cannot be selected again.  This is the default for this parameter."
   ]
  },
  {
   "cell_type": "code",
   "execution_count": null,
   "id": "ef8b1a06-6713-43d9-914a-309e908c9e96",
   "metadata": {},
   "outputs": [],
   "source": [
    "die.sample(n = 1, replace = False)"
   ]
  },
  {
   "cell_type": "markdown",
   "id": "575efa6a-8d81-4938-9344-2a32bf5e6cb8",
   "metadata": {
    "slideshow": {
     "slide_type": "slide"
    }
   },
   "source": [
    "- `die.sample(n = 1, replace = False)` is a **simulation** of tossing a six-sided die once.\n",
    "\n",
    "- How can we toss the die, say, 10 times?\n",
    "\n",
    "- Change `n` to 10 and the `replace` parameter in `sample` to `True`, so that we sample `die` with replacement.  In other words, we allow the scenario of rolling, say, a value of 1, then on the next roll we can allow a roll of 1.  "
   ]
  },
  {
   "cell_type": "code",
   "execution_count": null,
   "id": "ba2b7c8d-32f9-483d-8cc7-6258616044ef",
   "metadata": {},
   "outputs": [],
   "source": [
    "roll_10 = die.sample(n = 10, replace = True)\n",
    "roll_10"
   ]
  },
  {
   "cell_type": "markdown",
   "id": "00712f5b-5cfc-49c3-a4ec-869413b5edd0",
   "metadata": {
    "slideshow": {
     "slide_type": "slide"
    }
   },
   "source": [
    "`np.arange(start = 0.5, stop = 6.6, step = 1)` will create a `numpy` array with elements 0.5, 0.5 + 1, 0.5 + 1 + 1, 0.5 + 1 + 1 + 1, etc. that will use to create the histogram bins. "
   ]
  },
  {
   "cell_type": "code",
   "execution_count": null,
   "id": "b1acc9b3-e614-4bc4-937d-3e9ec78e71d1",
   "metadata": {
    "slideshow": {
     "slide_type": "slide"
    }
   },
   "outputs": [],
   "source": [
    "die_bins = np.arange(start = 0.5, stop = 6.6, step = 1)"
   ]
  },
  {
   "cell_type": "code",
   "execution_count": null,
   "id": "768bb556-d74a-4007-b311-f9f5f87388ad",
   "metadata": {},
   "outputs": [],
   "source": [
    "roll_10.plot.hist(bins = die_bins, edgecolor = 'black', color = 'grey')"
   ]
  },
  {
   "cell_type": "markdown",
   "id": "673c571b-7205-4022-bf0d-804912ecd997",
   "metadata": {},
   "source": [
    "-  If the die is fair then we would expect each side of the die (1 through 6) to have an equal chance (1/6) of appearing.\n",
    "\n",
    "- So, in 10 rolls of the die we would expect approximately 10/6 (~ 2) times."
   ]
  },
  {
   "cell_type": "markdown",
   "id": "f921cd9c-dcbc-4717-a993-71e9ef2f1da6",
   "metadata": {},
   "source": [
    "- The histogram above is called the **Empirical Distribution** of 10 rolls of a fair die.\n",
    "\n",
    "- What happens if the die is rolled 10,000 times?"
   ]
  },
  {
   "cell_type": "code",
   "execution_count": null,
   "id": "97c3a0b2-0c6d-4182-b905-e88373a9d541",
   "metadata": {
    "slideshow": {
     "slide_type": "slide"
    }
   },
   "outputs": [],
   "source": [
    "roll_10000 = die.sample(n = 10000, replace = True)\n",
    "roll_10000.plot.hist(bins = die_bins, edgecolor = 'black', color = 'grey')"
   ]
  },
  {
   "cell_type": "markdown",
   "id": "b361a392-81b6-45b7-8cb7-ea17b721af21",
   "metadata": {
    "slideshow": {
     "slide_type": "slide"
    }
   },
   "source": [
    "## Plotting in matplotlib\n",
    "\n",
    "- We can create the histogram using `matplotlib.pyplot` directly (`pandas` plotting functions use this library).\n",
    "\n",
    "- `matplotlib.pyplot` gives us greater flexibility in the types of plots we can create.\n",
    "\n",
    "- the syntax is similar to `pandas.DataFrame.hist`\n",
    "\n",
    "- If the widths of the histogram bins are 1 then the setting the parameter `density = True` will display values on the vertical axis of the that correspond to the probability of a value falling into a bin. NB: if the width of the bins is not equal to 1 then `density = True` will not produce probabilities on the vertical axis.\n",
    "\n",
    "- `ylabel` and `xlabel` allow us to label the vertical and horizontal axes."
   ]
  },
  {
   "cell_type": "code",
   "execution_count": null,
   "id": "5a2a2364-2e2c-4023-9675-4547200bcee9",
   "metadata": {},
   "outputs": [],
   "source": [
    "import matplotlib.pyplot as plt\n",
    "\n",
    "plt.hist(roll_10000, bins = die_bins, edgecolor = 'black', color = 'grey', density = True)\n",
    "plt.ylabel('Proportion')\n",
    "plt.xlabel('Die value')"
   ]
  },
  {
   "cell_type": "markdown",
   "id": "4a3697c3-8121-4396-bf6e-cda4c970d1ab",
   "metadata": {
    "slideshow": {
     "slide_type": "slide"
    }
   },
   "source": [
    "## Probability\n",
    "\n",
    "- Since the widths of the histogram bins are 1 the values on the vertical axis of the histogram are probabilities.\n",
    "\n",
    "- The probability of rolling a 1, 2, 3, 4, 5, or 6 in 10,000 rolls of a six-sided fair die is approximately 0.17 (= 1/6).\n",
    "\n",
    "- The observed probabilities can be directly calculated using `value_counts` then dividing by the number of die rolls (or in general the number of simulations)."
   ]
  },
  {
   "cell_type": "code",
   "execution_count": null,
   "id": "fdd3fdf0-b15f-4338-912e-7fb2e2fe48f8",
   "metadata": {},
   "outputs": [],
   "source": [
    "roll_10000.value_counts()/len(roll_10000)"
   ]
  },
  {
   "cell_type": "markdown",
   "id": "b6b04a45",
   "metadata": {},
   "source": [
    "As we increase the number of rolls in the simulation, the area of each bar gets closer to 16.67%, which is the area of each bar in the probability histogram."
   ]
  },
  {
   "cell_type": "markdown",
   "id": "7dc8c6ff-aea9-4b01-8234-bb5baf4c6dde",
   "metadata": {
    "slideshow": {
     "slide_type": "slide"
    }
   },
   "source": [
    "## The Law of Averages\n",
    "\n",
    "What we have observed above is an instance of a general rule called the *law of averages*:\n",
    "\n",
    "If a chance experiment is repeated independently and under identical conditions, then, in the long run, the proportion of times that an event occurs gets closer and closer to the theoretical probability of the event.\n",
    "\n",
    "For example, in the long run, the proportion of times the face with four spots appears gets closer and closer to 1/6.\n",
    "\n",
    "Here \"independently and under identical conditions\" means that every repetition is performed in the same way regardless of the results of all the other repetitions.\n",
    "\n",
    "Under these conditions, the law above implies that if the chance experiment is repeated a large number of times then the proportion of times that an event occurs is very likely to be close to the theoretical probability of the event."
   ]
  },
  {
   "cell_type": "markdown",
   "id": "260487e3-8b93-4d1c-a902-478778bfe131",
   "metadata": {
    "slideshow": {
     "slide_type": "slide"
    }
   },
   "source": [
    "The function `rolldie` has one argument `numrolls` that represents the number of times a die is rolled."
   ]
  },
  {
   "cell_type": "code",
   "execution_count": null,
   "id": "e979aa12-90e8-4e27-8c2e-55c53f16d818",
   "metadata": {},
   "outputs": [],
   "source": [
    "def rolldie(numrolls):\n",
    "    die_results = die.sample(n = numrolls, replace = True)\n",
    "    return die_results"
   ]
  },
  {
   "cell_type": "markdown",
   "id": "1095376f-3757-428a-82f7-7ffcd289697a",
   "metadata": {
    "slideshow": {
     "slide_type": "fragment"
    }
   },
   "source": [
    "- The function `empirical_hist` has one argument `obsdievals` that represents the observed values of rolling a single-sided die.\n",
    "\n",
    "- The function produces the quantitative distribution of a die, and a histogram."
   ]
  },
  {
   "cell_type": "code",
   "execution_count": null,
   "id": "6dd8cbfe-fec4-4435-a2d2-671c248caf9d",
   "metadata": {},
   "outputs": [],
   "source": [
    "def empirical_hist(obsdievals):\n",
    "    print(obsdievals.value_counts()/len(obsdievals))\n",
    "    plt.hist(obsdievals, bins = die_bins, edgecolor = 'black', color = 'grey', density = True)\n",
    "    plt.ylabel('Proportion')\n",
    "    plt.xlabel('Die value')"
   ]
  },
  {
   "cell_type": "markdown",
   "id": "360fcd5f-29eb-40f5-a5ba-166abe0b167a",
   "metadata": {
    "slideshow": {
     "slide_type": "fragment"
    }
   },
   "source": [
    "- The parameter value for `empirical_hist` can be obtained by using the function `rolldie` above.\n",
    "\n",
    "- This can be used directly as the parameter value for `empirical_hist`."
   ]
  },
  {
   "cell_type": "code",
   "execution_count": null,
   "id": "1d9a3758-cdfb-463f-9eb4-a4b335ab2c39",
   "metadata": {},
   "outputs": [],
   "source": [
    "# this is a long version of the code below\n",
    "# rollvalues = rolldie(10)\n",
    "# empirical_hist(rollvalues)\n",
    "\n",
    "empirical_hist(rolldie(10))"
   ]
  },
  {
   "cell_type": "markdown",
   "id": "aaac1b3e-92e2-4a6b-a134-675d5cf03921",
   "metadata": {
    "slideshow": {
     "slide_type": "slide"
    }
   },
   "source": [
    "# Interactive exploration of simulating a die roll\n",
    "\n",
    "We can use the `interact` function from `ipywidgets` library to interact directly with distribution. \n"
   ]
  },
  {
   "cell_type": "code",
   "execution_count": null,
   "id": "9b8adcbb-f026-4249-9180-6cee95121e10",
   "metadata": {},
   "outputs": [],
   "source": [
    "from ipywidgets import interact\n",
    "import ipywidgets as widgets\n",
    "\n",
    "def die_sim_plot(n):\n",
    "    rolldie = die.sample(n, replace=True)\n",
    "    print(rolldie.value_counts()/n)\n",
    "    plt.hist(rolldie, bins = die_bins, edgecolor = 'black', color = 'grey', density = True)\n",
    "\n",
    "\n",
    "interact(die_sim_plot, n = widgets.IntSlider(min = 10, max= 10000, step=50, value=10))"
   ]
  },
  {
   "cell_type": "markdown",
   "id": "35a8f6f1-9f53-4056-811d-4ba209a0d181",
   "metadata": {},
   "source": [
    "## Questions\n",
    "\n",
    "- What does the value `n` on the slider represent?\n",
    "\n",
    "- What do the numbers above the histogram represent?\n",
    "\n",
    "- Describe what the histogram represents.\n",
    "\n",
    "- Describe the pattern in the histogram as `n` gets larger.  "
   ]
  },
  {
   "cell_type": "markdown",
   "id": "8d97415f-304a-4764-87d2-8bc6398d49a1",
   "metadata": {
    "slideshow": {
     "slide_type": "slide"
    }
   },
   "source": [
    "## Sampling from a Population"
   ]
  },
  {
   "cell_type": "markdown",
   "id": "6619481d-0cd3-4ca0-a424-77ff0573f9b1",
   "metadata": {},
   "source": [
    "The law of averages also holds when the random sample is drawn from individuals in a large population.\n",
    "\n"
   ]
  },
  {
   "cell_type": "code",
   "execution_count": null,
   "id": "44654c56-1611-4079-849a-080a76cb8308",
   "metadata": {},
   "outputs": [],
   "source": [
    "import pandas as pd\n",
    "\n",
    "pantheria = pd.read_csv('pantheria.txt',sep=\"\\t\")\n",
    "pantheria.head()"
   ]
  },
  {
   "cell_type": "code",
   "execution_count": null,
   "id": "104dd949-7d2a-4319-af96-7e1f2d3e3c60",
   "metadata": {
    "slideshow": {
     "slide_type": "slide"
    }
   },
   "outputs": [],
   "source": [
    "important_columns = [\"MSW05_Order\",\"MSW05_Binomial\",\"14-1_InterbirthInterval_d\"]\n",
    "\n",
    "sub_pantheria = pantheria[important_columns]\n",
    "\n",
    "columnnames = {'MSW05_Order': 'order',\n",
    "               'MSW05_Binomial': 'genus_species',\n",
    "               '14-1_InterbirthInterval_d': 'interbirth_d'}\n",
    "\n",
    "sub_pantheria = sub_pantheria.rename(columns=columnnames)\n",
    "\n",
    "sub_pantheria.head()"
   ]
  },
  {
   "cell_type": "markdown",
   "id": "08e1cf80-0b90-423a-908f-d943edbad116",
   "metadata": {
    "slideshow": {
     "slide_type": "slide"
    }
   },
   "source": [
    "Transform inter birth interval from days to months, and add this new column called `'interbirth_month'` to `sub_pantheria`."
   ]
  },
  {
   "cell_type": "code",
   "execution_count": null,
   "id": "775bf77a-e389-4740-a0d4-05c0da66c3d0",
   "metadata": {},
   "outputs": [],
   "source": [
    "sub_pantheria = sub_pantheria.copy()\n",
    "sub_pantheria['interbirth_month'] = (sub_pantheria['interbirth_d']/30)\n",
    "sub_pantheria.head()"
   ]
  },
  {
   "cell_type": "code",
   "execution_count": null,
   "id": "477d4caa-1f1d-4a03-9b4b-1794fb8a469c",
   "metadata": {},
   "outputs": [],
   "source": [
    "sub_pantheria['interbirth_month'].describe()"
   ]
  },
  {
   "cell_type": "code",
   "execution_count": null,
   "id": "a44134bd-feed-4d09-9e7d-4cfbac069412",
   "metadata": {},
   "outputs": [],
   "source": [
    "sub_pantheria['interbirth_month'].plot.hist( bins = 10, color = 'grey', edgecolor = 'black')"
   ]
  },
  {
   "cell_type": "markdown",
   "id": "98899452-10c5-4caa-af9d-eb249470a403",
   "metadata": {
    "slideshow": {
     "slide_type": "slide"
    }
   },
   "source": [
    "# Empirical Distribution of the Sample\n",
    "\n",
    "Let's think of the 695 species inter birth times (months) as a population, and draw random samples from it with replacement. "
   ]
  },
  {
   "cell_type": "markdown",
   "id": "5c0feccb",
   "metadata": {},
   "source": [
    "A random sample of 50 ..."
   ]
  },
  {
   "cell_type": "code",
   "execution_count": null,
   "id": "2d2565ef-03af-47f4-84e0-a98b9b95bf2f",
   "metadata": {},
   "outputs": [],
   "source": [
    "sub_pantheria['interbirth_month'].sample(50, replace = True).plot.hist(bins = 10, color = 'grey', edgecolor = 'black')"
   ]
  },
  {
   "cell_type": "markdown",
   "id": "e4bea666",
   "metadata": {
    "slideshow": {
     "slide_type": "slide"
    }
   },
   "source": [
    "A random sample of 150 ..."
   ]
  },
  {
   "cell_type": "code",
   "execution_count": null,
   "id": "9ec7a567-7547-4ae3-a479-72671cb6dad3",
   "metadata": {},
   "outputs": [],
   "source": [
    "sub_pantheria['interbirth_month'].sample(150, replace = True).plot.hist(bins = 10, color = 'grey', edgecolor = 'black')"
   ]
  },
  {
   "cell_type": "markdown",
   "id": "d8ceeb6f",
   "metadata": {
    "slideshow": {
     "slide_type": "slide"
    }
   },
   "source": [
    "A random sample of 500 ..."
   ]
  },
  {
   "cell_type": "code",
   "execution_count": null,
   "id": "1592bec2-f400-49be-a3f2-0cabe69e10f8",
   "metadata": {},
   "outputs": [],
   "source": [
    "sub_pantheria['interbirth_month'].sample(500, replace = True).plot.hist(bins = 10, color = 'grey', edgecolor = 'black')"
   ]
  },
  {
   "cell_type": "markdown",
   "id": "6a0a76f5-1b61-4012-bd6a-8702ec4af6f0",
   "metadata": {},
   "source": [
    "- The values that occur with the least frequency are less likely to occur in small random samples.\n",
    "- As the size of the random sample increases the sample will resemble the population, with high probability."
   ]
  },
  {
   "cell_type": "markdown",
   "id": "f6e05b23-de87-4532-9b8d-9df2b6afbd53",
   "metadata": {
    "slideshow": {
     "slide_type": "slide"
    }
   },
   "source": [
    "## Interactive exploration of empirical distribution of a sample"
   ]
  },
  {
   "cell_type": "code",
   "execution_count": null,
   "id": "629cc25d-8e24-4034-b8a6-2ce0e6ba25cc",
   "metadata": {},
   "outputs": [],
   "source": [
    "from ipywidgets import interact\n",
    "import ipywidgets as widgets\n",
    "\n",
    "def emp_hist_plot(n):\n",
    "    sub_pantheria['interbirth_month'].sample(n, replace = True).plot.hist(bins = 10, color = 'grey', edgecolor = 'black')\n",
    "\n",
    "interact(emp_hist_plot, n = widgets.IntSlider(min = 10, max= 500, step=50, value=10))"
   ]
  },
  {
   "cell_type": "markdown",
   "id": "d0e5abe1",
   "metadata": {},
   "source": [
    "The histogram of the \"population\"."
   ]
  },
  {
   "cell_type": "code",
   "execution_count": null,
   "id": "cb0fd5a8-1d90-4dbf-a20b-a20a8f06022c",
   "metadata": {},
   "outputs": [],
   "source": [
    "sub_pantheria['interbirth_month'].plot.hist(bins = 10, color = 'grey', edgecolor = 'black')"
   ]
  },
  {
   "cell_type": "markdown",
   "id": "6f8eab1f-9d99-4897-8c52-68660b6cb172",
   "metadata": {},
   "source": [
    "## Questions\n",
    "\n",
    "- Describe how the empirical histogram changes as the the value `n` gets larger."
   ]
  },
  {
   "cell_type": "markdown",
   "id": "682d7bd2-9b9a-4a49-8377-f20bf552856a",
   "metadata": {
    "slideshow": {
     "slide_type": "slide"
    }
   },
   "source": [
    "# Empirical Distribution of a Statistic\n",
    "\n",
    "The Law of Averages implies that with high probability, the empirical distribution of a large random sample will resemble the distribution of the population from which the sample was drawn.\n",
    "\n",
    "The resemblance is visible in two histograms: the empirical histogram of a large random sample is likely to resemble the histogram of the population."
   ]
  },
  {
   "cell_type": "markdown",
   "id": "bd803c51-dac9-4418-b126-f350fb2a306d",
   "metadata": {
    "slideshow": {
     "slide_type": "slide"
    }
   },
   "source": [
    "## Statistical Parameter\n",
    "Frequently, we are interested in numerical quantities associated with a population.\n",
    "- In a population of voters, what percent will vote for Candidate A?\n",
    "- In a population of Facebook users, what is the largest number of Facebook friends that the users have?\n",
    "- In a population of United flights, what is the median departure delay?\n",
    "\n",
    "Numerical quantities associated with a (statistical) population are called *statistical parameters* or *parameters*. For the population of respondents in `sub_pantheria['interbirth_month']`, we know the value of the parameter \" median inter-birth time (months) \":"
   ]
  },
  {
   "cell_type": "code",
   "execution_count": null,
   "id": "4742ba08-636e-43f1-ab3f-2aa1df3cacb5",
   "metadata": {},
   "outputs": [],
   "source": [
    "sub_pantheria['interbirth_month'].median()"
   ]
  },
  {
   "cell_type": "markdown",
   "id": "588fdf1b-878d-497f-9ed8-06d87dc4b5c3",
   "metadata": {
    "slideshow": {
     "slide_type": "slide"
    }
   },
   "source": [
    "## Statistic\n",
    "In many situations, we will be interested in figuring out the value of an unknown parameter. For this, we will rely on data from a large random sample drawn from the population.\n",
    "\n",
    "A *statistic* (note the singular!) is any number computed using the data in a sample. The sample median, therefore, is a statistic. \n",
    "\n",
    "Remember that `sub_pantheria['interbirth_month']` contains a random sample of 100 species from `sub_pantheria['interbirth_month']`. The observed value of the sample median is:"
   ]
  },
  {
   "cell_type": "code",
   "execution_count": null,
   "id": "828f5548-1809-4142-bc95-eb8902997db6",
   "metadata": {},
   "outputs": [],
   "source": [
    "sub_pantheria['interbirth_month'].sample(100).median()"
   ]
  },
  {
   "cell_type": "markdown",
   "id": "c6facf88-2ed3-46b6-a18e-3e8f232471b1",
   "metadata": {},
   "source": [
    "Our sample – one set of 100 species – gave us one observed value of the statistic. This raises an important problem of inference:\n",
    "\n",
    "**The statistic could have been different.**\n",
    "A fundamental consideration in using any statistic based on a random sample is that *the sample could have come out differently*, and therefore the statistic could have come out differently too. "
   ]
  },
  {
   "cell_type": "markdown",
   "id": "419170f5-cc83-45b3-9d5e-417b38fc4fa0",
   "metadata": {
    "slideshow": {
     "slide_type": "fragment"
    }
   },
   "source": [
    "Run the cell above a few times to see how the answer varies. Often it is equal to 12.17, the same value as the population parameter. But sometimes it is different."
   ]
  },
  {
   "cell_type": "markdown",
   "id": "5f31d9af-2acb-4f9e-8384-69d085688e2b",
   "metadata": {},
   "source": [
    "**Just how different could the statistic have been?** One way to answer this is to simulate the statistic many times and note the values. A histogram of those values will tell us about the **distribution of the statistic**."
   ]
  },
  {
   "cell_type": "markdown",
   "id": "aabf6698-67b5-4388-9eb4-4fcf9d9e1251",
   "metadata": {},
   "source": [
    "## Simulating a Statistic\n",
    "We will simulate the sample median using the steps below.  You can replace the sample size of 1000 by any other sample size, and the sample median by any other statistic.\n",
    "\n",
    "**Step 1: Decide which statistic to simulate.** We have already decided that: we are going to simulate the median of a random sample of size 1000 drawn from the population of time use survey respondents that had a median time spent on personal activities between 0.25 and 3.0 hours.\n",
    "\n",
    "**Step 2: Define a function that returns one simulated value of the statistic.** Draw a random sample of size 1000 and compute the median of the sample. We did this in the code cell above. Here it is again, encapsulated in a function."
   ]
  },
  {
   "cell_type": "code",
   "execution_count": null,
   "id": "e1ea259b-5fc4-4b51-98ee-7962ac261e2d",
   "metadata": {},
   "outputs": [],
   "source": [
    "def random_sample_median():\n",
    "    return sub_pantheria['interbirth_month'].sample(100).median()"
   ]
  },
  {
   "cell_type": "code",
   "execution_count": null,
   "id": "500f6238-d66c-4867-85f2-3bb0022558b3",
   "metadata": {},
   "outputs": [],
   "source": [
    "random_sample_median()"
   ]
  },
  {
   "cell_type": "markdown",
   "id": "1b51d1cc-d9b6-475b-a2fc-3da92bf4568f",
   "metadata": {
    "slideshow": {
     "slide_type": "slide"
    }
   },
   "source": [
    "**Step 3: Decide how many simulated values to generate.** Let's do 5,000 repetitions.\n",
    "\n",
    "**Step 4: Use a `for` loop to generate a list of simulated values.** Start by creating an empty list in which to collect our results. We will then set up a `for` loop for generating all the simulated values. The body of the loop will consist of generating one simulated value of the sample median, and appending it to our collection list.\n",
    "\n",
    "The simulation takes a noticeable amount of time to run. That is because it is performing 5000 repetitions of the process of drawing a sample of size 1000 and computing its median. That's a lot of sampling and repeating!"
   ]
  },
  {
   "cell_type": "markdown",
   "id": "1b4e5eb3-3f8f-444e-80e2-0e4985d79c35",
   "metadata": {
    "slideshow": {
     "slide_type": "fragment"
    }
   },
   "source": [
    "Let's break down this step a bit further:\n",
    "\n",
    "- set up an empty list called `sim_medians`."
   ]
  },
  {
   "cell_type": "code",
   "execution_count": null,
   "id": "b68ca1a7-69f1-4b15-b73d-455449778d7c",
   "metadata": {
    "slideshow": {
     "slide_type": "fragment"
    }
   },
   "outputs": [],
   "source": [
    "sim_medians = [] # empty list"
   ]
  },
  {
   "cell_type": "markdown",
   "id": "d648634e-5122-4a5c-86e5-b53ca15218e8",
   "metadata": {
    "slideshow": {
     "slide_type": "fragment"
    }
   },
   "source": [
    "- Use the `append` function to append values to `sim_medians`."
   ]
  },
  {
   "cell_type": "code",
   "execution_count": null,
   "id": "32ac77b6-6026-4199-b020-042456b0d2e5",
   "metadata": {},
   "outputs": [],
   "source": [
    "sim_medians.append(random_sample_median())\n",
    "sim_medians"
   ]
  },
  {
   "cell_type": "markdown",
   "id": "558f483e-13c8-4e60-ad4c-6aa86ae341a9",
   "metadata": {},
   "source": [
    "- Run the cell above several times and you will see that values keep getting appended to `sim_medians`.\n",
    "\n",
    "- Each time the cell is run a random sample of 100 is drawn, the median is calculated then appended to the list."
   ]
  },
  {
   "cell_type": "code",
   "execution_count": null,
   "id": "7fd2824e-e22c-4a99-a6f8-b49bb5d731a9",
   "metadata": {
    "slideshow": {
     "slide_type": "fragment"
    }
   },
   "outputs": [],
   "source": [
    "sim_medians = []\n",
    "\n",
    "num_sims = 5000 \n",
    "\n",
    "for _ in range(num_sims):\n",
    "    sim_medians.append(random_sample_median())"
   ]
  },
  {
   "cell_type": "markdown",
   "id": "9a0c8d91-74c0-42dd-a047-ef3e9e5be348",
   "metadata": {
    "slideshow": {
     "slide_type": "slide"
    }
   },
   "source": [
    "## Empirical Distribution of a Statistic\n",
    "\n",
    "We can now examine the **empirical frequency distribution** of the median statistic."
   ]
  },
  {
   "cell_type": "markdown",
   "id": "068c6036-fc74-4d6f-b593-551e5a6f350c",
   "metadata": {},
   "source": [
    "Create a `pandas` series using the list `sim_medians` then use the `describe` function to describe the distribution."
   ]
  },
  {
   "cell_type": "code",
   "execution_count": null,
   "id": "7ea852ae-6f88-4c4c-8c45-474fe4c41669",
   "metadata": {},
   "outputs": [],
   "source": [
    "pd.Series(sim_medians).describe()"
   ]
  },
  {
   "cell_type": "markdown",
   "id": "9b6cc5d7-ccb4-4f68-98d6-5286c2d5e9fd",
   "metadata": {
    "slideshow": {
     "slide_type": "fragment"
    }
   },
   "source": [
    "- The distribution of the median can be visualized using a histogram.  \n",
    "\n",
    "- The histogram can tell us how frequent certain values of the median occur in random samples."
   ]
  },
  {
   "cell_type": "code",
   "execution_count": null,
   "id": "e992e40d-2844-425b-9fdd-daa9650c4197",
   "metadata": {},
   "outputs": [],
   "source": [
    "# create bins of length 0.1 \n",
    "# starting at 0.5 and ending at 1.1\n",
    "\n",
    "import numpy as np\n",
    "import matplotlib.pyplot as plt\n",
    "\n",
    "median_bins = np.arange(0, 30, 5) \n",
    "\n",
    "# use the bins to plot empirical distribution of medians\n",
    "\n",
    "plt.hist(sim_medians, edgecolor = 'black', color = 'grey', bins = median_bins);"
   ]
  },
  {
   "cell_type": "markdown",
   "id": "14086d57-41f2-46e5-8743-5dad3e33f9c0",
   "metadata": {
    "slideshow": {
     "slide_type": "slide"
    }
   },
   "source": [
    "The exact counts of medians in each interval can be examined using `pd.cut` and `value_counts`."
   ]
  },
  {
   "cell_type": "code",
   "execution_count": null,
   "id": "2098fcff-5608-4975-837e-6bda68d0a819",
   "metadata": {},
   "outputs": [],
   "source": [
    "# create a pandas series so we can use cut function\n",
    "sim_means_series = pd.Series(sim_medians)\n",
    "\n",
    "# frequency of values in each bin\n",
    "print(pd.cut(sim_means_series, median_bins).value_counts())\n",
    "\n",
    "# relative frequency (proportion) of values in each bin\n",
    "pd.cut(sim_means_series, median_bins).value_counts()/num_sims"
   ]
  },
  {
   "cell_type": "markdown",
   "id": "0a801c11-c859-478d-8c77-f661c29d7115",
   "metadata": {},
   "source": [
    "- The histogram shows that the median values between 10 and 15 months have the highest probability of occurring (viz. 0.6332).\n",
    "\n",
    "- This means that a random sample would rarely yield a median value in the range of 0 - 5 or 15 - 20."
   ]
  },
  {
   "cell_type": "markdown",
   "id": "ea13ebcd-67c3-4ff2-90b7-744b2bb858e6",
   "metadata": {
    "slideshow": {
     "slide_type": "slide"
    }
   },
   "source": [
    "## What can we learn from simulation?\n",
    "\n",
    "- If we could generate all possible random samples of size 1000, we would know all possible values of the statistic (the sample median), as well as the probabilities of all those values. We could visualize all the values and probabilities in the probability histogram of the statistic.\n",
    "\n",
    "- But in many situations including this one, the number of all possible samples is large enough to exceed the capacity of the computer, and purely mathematical calculations of the probabilities can be intractably difficult.\n",
    "\n",
    "- This is where empirical histograms come in.\n",
    "\n",
    "- We know that by the Law of Averages, the empirical histogram of the statistic is likely to resemble the probability histogram of the statistic, if the sample size is large and if you repeat the random sampling process numerous times.\n",
    "\n",
    "- This means that simulating random processes repeatedly is a way of approximating probability distributions *without figuring out the probabilities mathematically or generating all possible random samples*. \n",
    "\n",
    "- Thus computer simulations become a powerful tool in data science. They can help data scientists understand the properties of random quantities that would be complicated to analyze in other ways."
   ]
  },
  {
   "cell_type": "code",
   "execution_count": null,
   "id": "26e966f6-631c-416a-8cbc-366f79567bd0",
   "metadata": {},
   "outputs": [],
   "source": []
  }
 ],
 "metadata": {
  "celltoolbar": "Slideshow",
  "kernelspec": {
   "display_name": "Python 3 (ipykernel)",
   "language": "python",
   "name": "python3"
  },
  "language_info": {
   "codemirror_mode": {
    "name": "ipython",
    "version": 3
   },
   "file_extension": ".py",
   "mimetype": "text/x-python",
   "name": "python",
   "nbconvert_exporter": "python",
   "pygments_lexer": "ipython3",
   "version": "3.10.2"
  }
 },
 "nbformat": 4,
 "nbformat_minor": 5
}
