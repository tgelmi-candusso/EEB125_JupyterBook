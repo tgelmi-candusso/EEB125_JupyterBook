{
 "cells": [
  {
   "cell_type": "markdown",
   "id": "9a9c6522",
   "metadata": {},
   "source": [
    "# Lab 3 — Data Wrangling and Exploratory Data Analysis"
   ]
  },
  {
   "cell_type": "markdown",
   "id": "53f4412d",
   "metadata": {},
   "source": [
    "## Lab Instructions and Learning Objectives "
   ]
  },
  {
   "cell_type": "markdown",
   "id": "2543e0d8",
   "metadata": {},
   "source": [
    "Don't delete any of the cells in this notebook, and add markdown/code cells when asked.\n",
    "\n",
    "In this lab you will:\n",
    "\n",
    "  - Understand and implement crosstabulation in `pandas`.\n",
    "  - Read an English specification and translate it into code.\n",
    "  - Become more familiar with the terminology you've seen so far.\n",
    "\n",
    "Some rodent species give birth to small litters, say smaller than 3. Some are active at night. Some are large, some are small.\n",
    "\n",
    "Here is the question you will explore: _What proportion of rodent species who give birth to small litters and are active during nighttime, are also small body sized?_"
   ]
  },
  {
   "cell_type": "markdown",
   "id": "2103f517",
   "metadata": {},
   "source": [
    "## How to submit"
   ]
  },
  {
   "cell_type": "markdown",
   "id": "42d637ab",
   "metadata": {},
   "source": [
    "1. Log in here: https://markus-ds.teach.cs.toronto.edu (Tip: Control/Command-click to open it in a new tab so you can still see these instructions.)\n",
    "\n",
    "2. Choose your course.\n",
    "\n",
    "3. Click the lab3: Lab week 3 assessment.\n",
    "\n",
    "4. Click the `Submissions` tab. The new page is `lab3: Submissions`.\n",
    "\n",
    "5. Click button `Upload File` on the bottom right.\n",
    "\n",
    "6. Click button `Choose Files`.\n",
    "\n",
    "7. Select the `Lab_3.ipynb` file that you downloaded in the previous task, then click `Save`."
   ]
  },
  {
   "cell_type": "markdown",
   "id": "7c54db7a",
   "metadata": {},
   "source": [
    "## Due Date  "
   ]
  },
  {
   "cell_type": "markdown",
   "id": "79530dd0",
   "metadata": {},
   "source": [
    "You will submit your completed labs as Notebook files on MarkUs. We have heard feedback that the time pressure to submit the lab is stressful, so we are changing the lab deadlines on MarkUs to Fridays at 10am."
   ]
  },
  {
   "cell_type": "markdown",
   "id": "f2375ec1",
   "metadata": {},
   "source": [
    "# Marking Rubric\n",
    "\n",
    "1 mark for having all the right variable names, plus 1 mark per correct variable type and value."
   ]
  },
  {
   "cell_type": "markdown",
   "id": "f69297ad",
   "metadata": {},
   "source": [
    "# Data science recipes\n",
    "\n",
    "We have written up [a few data science recipes](https://jupyter.utoronto.ca/hub/user-redirect/git-pull?repo=https%3A%2F%2Fgithub.com%2FUofTCompDSci%2Frecipes&branch=main&urlpath=tree%2Frecipes%2Fdata_science_recipes.ipynb) in a Jupyter notebook. You'll find these:\n",
    "\n",
    "+ Read a CSV file\n",
    "+ Calculate a statistic about a single column\n",
    "+ Subset a DataFrame by extracting columns\n",
    "+ Rename the columns in a DataFrame\n",
    "+ Subset a DataFrame by filtering rows that have a particular property\n",
    "\n",
    "Please feel free to suggest ones that you'd like us to write for you."
   ]
  },
  {
   "cell_type": "markdown",
   "id": "671230ef",
   "metadata": {},
   "source": [
    "## Lab 3 Introduction"
   ]
  },
  {
   "cell_type": "markdown",
   "id": "d1f63995",
   "metadata": {},
   "source": [
    "In this lab, you will continue to work with data from week 3 class: the ecological dataset across mammals, Pantheria. You will continue to work with boolean conditions, you will work with multiple conditions, you will rename variables, and add new columns to your existing data frame. \n"
   ]
  },
  {
   "cell_type": "markdown",
   "id": "cffa6493",
   "metadata": {},
   "source": [
    "As usual, these labs are meant to facilitate your understanding of the material from lectures in a low-stakes environment. Please feel free to refer to your lecture content, collaborate with your peers, and seek out help from your TAs. "
   ]
  },
  {
   "cell_type": "markdown",
   "id": "cf29af2f",
   "metadata": {},
   "source": [
    "### Data Description "
   ]
  },
  {
   "cell_type": "markdown",
   "id": "cc71058e",
   "metadata": {},
   "source": [
    "We will work with the subset data we created during the lecture but for the order Rodentia. The subset data set contains several variables pertaining to the taxonomy (order, genus, species) and morphology characteristics and activity patterns.\n",
    "\n",
    "Notice how we use blank lines to organize the programming concepts."
   ]
  },
  {
   "cell_type": "code",
   "execution_count": null,
   "id": "da135e4c",
   "metadata": {},
   "outputs": [],
   "source": [
    "import pandas as pd\n",
    "pantheria = pd.read_csv('pantheria.csv', sep=\"\\t\")\n",
    "\n",
    "# Subset by column\n",
    "important_columns = [\"MSW05_Order\",\"MSW05_Genus\",\"MSW05_Species\",\"5-1_AdultBodyMass_g\",\n",
    "                     \"12-2_Terrestriality\",\"6-2_TrophicLevel\",\"1-1_ActivityCycle\",\n",
    "                     \"15-1_LitterSize\"]\n",
    "sub_pantheria = pantheria[important_columns]\n",
    "\n",
    "# Rename\n",
    "columnnames = {'MSW05_Order': 'order',\n",
    "               'MSW05_Genus': 'genus',\n",
    "               'MSW05_Species': 'species',\n",
    "               '5-1_AdultBodyMass_g': 'body_mass_g',\n",
    "               '12-2_Terrestriality': 'terrestriality',\n",
    "               '6-2_TrophicLevel': 'trophic_level',\n",
    "               '1-1_ActivityCycle': 'activity_cycle',\n",
    "               '15-1_LitterSize': 'litter_size'}\n",
    "sub_pantheria_col_names = sub_pantheria.rename(columns= columnnames)\n",
    "print(f'sub_pantheria_col_names shape: {sub_pantheria_col_names.shape}')\n",
    "\n",
    "#subset rows of orders primate and carnivora\n",
    "order_series = sub_pantheria_col_names['order']\n",
    "order_rodents = order_series == 'Rodentia'\n",
    "\n",
    "# This selects only the rows for order 'Rodentia'\n",
    "rodents_df = sub_pantheria_col_names[order_rodents]\n",
    "\n",
    "print(f'rodents_df shape: {rodents_df.shape}')\n",
    "\n",
    "rodents_df.head()"
   ]
  },
  {
   "cell_type": "markdown",
   "id": "cb983556",
   "metadata": {},
   "source": [
    "## Question 1"
   ]
  },
  {
   "cell_type": "markdown",
   "id": "a4ca74ea",
   "metadata": {},
   "source": [
    "We'll start by partitioning body mass into three categories: small (under 100g), medium (100g to 500g) and large (over 500g).\n",
    "\n",
    "Write code to extract the `'body_mass_g'` column and name it `body_mass_col`. (What type is it?)\n",
    "\n",
    "Now create 3 Boolean `Series` based on `body_mass_col`:\n",
    "+ One named `s_body` that contains `True` only for rodents who weigh less than 100g\n",
    "+ One named `m_body` that contains `True` only for rodents that weigh between 100g and 500g, inclusive.\n",
    "    - Hint: Use `(body_mass_col >= 100) & (body_mass_col <= 500)`, which:\n",
    "        * makes a Boolean `Series` that it `True` when the body mass is >= 100g (and `False` otherwise)\n",
    "        * makes a Boolean `Series` that it `True` when the body mass is <= 500g\n",
    "        * Combines the two to make a Boolean `Series` that is `True` when both of those two `Series` are both `True`.\n",
    "\n",
    "+ One named `l_body` that contains `True` only for rodents who weigh more than 500g.\n",
    "\n",
    "How many species are large size?"
   ]
  },
  {
   "cell_type": "code",
   "execution_count": null,
   "id": "1bfeed78",
   "metadata": {},
   "outputs": [],
   "source": [
    "# place your answer in this cell\n"
   ]
  },
  {
   "cell_type": "code",
   "execution_count": null,
   "id": "6c8cd573",
   "metadata": {},
   "outputs": [],
   "source": [
    "# Q1 check\n",
    "print(s_body.value_counts())\n",
    "print(m_body.value_counts())\n",
    "print(l_body.value_counts())"
   ]
  },
  {
   "cell_type": "markdown",
   "id": "3c4ec027",
   "metadata": {},
   "source": [
    "## Question 2"
   ]
  },
  {
   "cell_type": "markdown",
   "id": "135b7eef",
   "metadata": {},
   "source": [
    "Now that we have Boolean `Series` for each of the three categories, we can add a new column that has value `0` if the rodent is small, `1` if it is medium, and `2` if it is large.\n",
    "\n",
    "Below, we make a copy of your `DataFrame` and name it `activity_analysis`. It's good practice to do this before starting to add columns and otherwise modify the data.\n",
    "\n",
    "Now write 3 assignment statements to add a column called `'size_cat'` to the `activity_analysis` `DataFrame`. You'll need to use `.loc`. Use variables `small`, `medium`, and `large` as indexes, one per assignment statement. (The 'cat' in `'size_cat'` is short for 'category', not a feline.)\n"
   ]
  },
  {
   "cell_type": "code",
   "execution_count": null,
   "id": "d03be94c",
   "metadata": {},
   "outputs": [],
   "source": [
    "# place your answer in this cell\n",
    "activity_analysis = rodents_df.copy()\n"
   ]
  },
  {
   "cell_type": "code",
   "execution_count": null,
   "id": "a54f6e72",
   "metadata": {
    "scrolled": true
   },
   "outputs": [],
   "source": [
    "# Q2 check\n",
    "print(activity_analysis.shape)\n",
    "activity_analysis.head()"
   ]
  },
  {
   "cell_type": "markdown",
   "id": "dab0cfe4",
   "metadata": {},
   "source": [
    "##  Question 3"
   ]
  },
  {
   "cell_type": "markdown",
   "id": "8d5a58d9",
   "metadata": {},
   "source": [
    "The `'activity_cycle'` column describes the time of day in which each species is more active as `1`: nocturnal only, `2`: crepuscular, `3`: diurnal. We're going to create a new column called `'nighttime_activity'` that is `True` for nocturnal and crepuscular rodents, but is `False` for diurnal rodents.\n",
    "\n",
    "Extrac the `'activity_cycle'` column from the `activity_analysis` `DataFrame` and name that column `cycle`. It's a `Series` of `1`s, `2`s and `3`s.\n",
    "\n",
    "Time to make the two Boolean `Series` that we're going to use to create the new column. Name them `nighttime` and `daytime`.\n",
    "\n",
    "`daytime` is where `cycle == 3`.\n",
    "\n",
    "For `nighttime`: create two _other_ Boolean `Series`, one each for nocturnal and crepuscular. Name them anything you want. Then combine them using `|` (or) and assign the result to `nighttime`.\n",
    "\n",
    "Using `nighttime` and `daytime`, add a new column called `'nighttime_activity'` that is `True` when the `nighttime` `Series` is `True` and `False` when the `daytime` `Series` is `True`.\n",
    " \n",
    "How many rodent species are active during nighttime?"
   ]
  },
  {
   "cell_type": "code",
   "execution_count": null,
   "id": "15c99071",
   "metadata": {
    "scrolled": true
   },
   "outputs": [],
   "source": [
    "# place your answer in this cell\n"
   ]
  },
  {
   "cell_type": "code",
   "execution_count": null,
   "id": "4f58b34b",
   "metadata": {},
   "outputs": [],
   "source": [
    "# Q3 check\n",
    "print(f'cycle.head\\n{cycle.head()}')\n",
    "print()\n",
    "print(f'There are {sum(nighttime)} nighttime creatures') # We get 407\n",
    "print(f'There are {sum(daytime)} daytime creatures') # We get 151\n",
    "print()\n",
    "print(activity_analysis.head())"
   ]
  },
  {
   "cell_type": "markdown",
   "id": "281ef445",
   "metadata": {},
   "source": [
    "## Question 4"
   ]
  },
  {
   "cell_type": "markdown",
   "id": "77dad986",
   "metadata": {},
   "source": [
    "What species have fewer than 3 offspring and are active at night?\n",
    "\n",
    "The `'litter_size'` column has the average litter size for each rodent. You'll notice it contains numbers like `1.94`, because it's a series of floating-point numbers. You'll also notice `NaN`, which stand for \"Not a Number\". That means the data is missing. Those won't be included in our results.\n",
    "\n",
    "Extract the `'litter_size'` column and name it `litter_size_col`. It is a floating-point `Series`. Use it to make a Boolean `Series` named `small_litter` that is `True` when the litter size is less than 3.\n",
    "\n",
    "Then do the same for your new `nighttime_activity` column. Luckily, you already have a Boolean `Series` named `nighttime` with the appropriate `True` values.\n",
    "\n",
    "Combine `small_litter` and `nighttime` using `&` (and), and name it `small_litter_night`. These are the critters that have small litters and are active at night."
   ]
  },
  {
   "cell_type": "code",
   "execution_count": null,
   "id": "03b3051c",
   "metadata": {},
   "outputs": [],
   "source": [
    "# place your answer in this cell\n"
   ]
  },
  {
   "cell_type": "code",
   "execution_count": null,
   "id": "3af20c76",
   "metadata": {
    "scrolled": true
   },
   "outputs": [],
   "source": [
    "# Q4 check\n",
    "print(f'litter_size_col:\\n{litter_size_col.head()}')\n",
    "print(f'small_litter:\\n{small_litter.head()}')\n",
    "print(f'small_night:\\n{small_litter_night.head()}')\n",
    "\n",
    "# We get 117 for this next one:\n",
    "print(f'There are {sum(small_litter_night)} types of small-litter nighttime critters.')"
   ]
  },
  {
   "cell_type": "markdown",
   "id": "e0bb2509",
   "metadata": {},
   "source": [
    "## Question 5"
   ]
  },
  {
   "cell_type": "markdown",
   "id": "416c60c6",
   "metadata": {},
   "source": [
    "Use the `small_litter_night` Boolean `Series`to select rows from `activity_analysis` where the rodent species have both a small body size and are active during the night. Name this new `DataFrame` `s_litter_nighttime_df`."
   ]
  },
  {
   "cell_type": "code",
   "execution_count": null,
   "id": "0c67f584",
   "metadata": {},
   "outputs": [],
   "source": [
    "# place your answer in this cell\n"
   ]
  },
  {
   "cell_type": "code",
   "execution_count": null,
   "id": "5ea255b9",
   "metadata": {
    "scrolled": true
   },
   "outputs": [],
   "source": [
    "# Q5 check\n",
    "print(f's_litter_nighttime_df.shape: {s_litter_nighttime_df.shape}')  # We get (117, 10)\n",
    "s_litter_nighttime_df"
   ]
  },
  {
   "cell_type": "markdown",
   "id": "2d087c4c",
   "metadata": {},
   "source": [
    "## Question 6"
   ]
  },
  {
   "cell_type": "markdown",
   "id": "9bb01059",
   "metadata": {},
   "source": [
    "These two Boolean `Series` have been created:\n",
    "\n",
    "+ `small_litter_night`: `True` for critters that have small litters and are active at night.\n",
    "\n",
    "+ `s_body`: `True` for critters that weigh less than 100g.\n",
    "\n",
    "Let's confirm they have the same number of rows."
   ]
  },
  {
   "cell_type": "code",
   "execution_count": null,
   "id": "2e0a39bd",
   "metadata": {},
   "outputs": [],
   "source": [
    "print(small_litter_night.shape)\n",
    "print(s_body.shape)"
   ]
  },
  {
   "cell_type": "markdown",
   "id": "d4de7498",
   "metadata": {},
   "source": [
    "Let's take the intersection. Combine them with `&` and name the resulting Boolean `Series` `s_body_s_litter_night`. (Zounds, these names are fun.)"
   ]
  },
  {
   "cell_type": "code",
   "execution_count": null,
   "id": "b3e73c9c",
   "metadata": {},
   "outputs": [],
   "source": [
    "# place your answer in this cell\n"
   ]
  },
  {
   "cell_type": "code",
   "execution_count": null,
   "id": "ba8d04f8",
   "metadata": {},
   "outputs": [],
   "source": [
    "# Q6 check\n",
    "s_body_s_litter_night.value_counts()  # We got 52."
   ]
  },
  {
   "cell_type": "markdown",
   "id": "558958be",
   "metadata": {},
   "source": [
    "## Question 7 "
   ]
  },
  {
   "cell_type": "markdown",
   "id": "b73514e7",
   "metadata": {},
   "source": [
    "Remember way back in Question 1 that you partitioned body mass into three categories (small, medium, large) and created a column called `'size_cat'` with values `1`, `2`, and `3`?\n",
    "\n",
    "Let's extract that column as a `Series` and name it `size`. Now compare `size` to `1` using `==` to get a Boolean `Series`, and name it `size_small`.\n",
    "\n",
    "Subset the rows for size `1` rodents by using `size_small` as an index into the `activity_analysis` `DataFrame`. This makes a `DataFrame` containing only the small rodents. Name it `size_small_rodents`.\n",
    "\n",
    "Recall that `small_litter_night` is `True` for small-litter rodents that are active at night, and that `s_body` is `True` for small-body rodents. Create a crosstab for these two `Series` and name it `small_nighttime`.\n",
    "\n",
    "What proportion of rodent species, which give birth to small litters and are active during nighttime, are also small body sized? You should be able to access that value like this: `small_nighttime.iloc[1, 1]`. Name that value `small_night_pct`."
   ]
  },
  {
   "cell_type": "code",
   "execution_count": null,
   "id": "1a749642",
   "metadata": {},
   "outputs": [],
   "source": [
    "# place you answer in this cell\n"
   ]
  },
  {
   "cell_type": "code",
   "execution_count": null,
   "id": "d0a25e7c",
   "metadata": {},
   "outputs": [],
   "source": [
    "# Q7 check\n",
    "print(f'size.value_counts:\\n{size.value_counts()}')\n",
    "print(f'size_small.value_counts:\\n{size_small.value_counts()}')\n",
    "print(f'size_small_rodents:\\n{size_small_rodents.head()}')\n",
    "print(f'The answer is {small_night_pct}')"
   ]
  }
 ],
 "metadata": {
  "kernelspec": {
   "display_name": "Python 3 (ipykernel)",
   "language": "python",
   "name": "python3"
  },
  "language_info": {
   "codemirror_mode": {
    "name": "ipython",
    "version": 3
   },
   "file_extension": ".py",
   "mimetype": "text/x-python",
   "name": "python",
   "nbconvert_exporter": "python",
   "pygments_lexer": "ipython3",
   "version": "3.9.9"
  }
 },
 "nbformat": 4,
 "nbformat_minor": 5
}
