{
 "cells": [
  {
   "cell_type": "markdown",
   "id": "0c375662-3fc4-4044-95c0-95782d8ced2c",
   "metadata": {},
   "source": [
    "# Homework 2 - Data Wrangling: Understanding U.S. Covid Statistics\n",
    " \n"
   ]
  },
  {
   "cell_type": "markdown",
   "id": "0cab92da",
   "metadata": {},
   "source": [
    "# Introduction\n",
    "\n",
    "The [GenderSci Lab](https://www.genderscilab.org) is \"dedicated to generating feminist concepts, methods and theories for scientific research on sex and gender.\"\n",
    "\n",
    "One of their research projects explores the impact of COVID-19 on women and men.\n",
    "In this lab, we are using a set of data that is based on the information in their [US Gender/Sex COVID-19 Data Tracker](https://genderscilab.org/gender-and-sex-in-covid19/#DataTable). (You may need to search for \"US Gender/Sex COVID-19 Data Tables\".)\n",
    "\n",
    "The table shows various pieces of information about US state COVID-19 cases and deaths counted by sex, including the total case count, male case count, and female case counts, as well as the death counts and percentages. Here's a snippet:\n",
    "\n",
    "![US Gender/Sex COVID-19 Data Tables](tableclip.png)\n",
    "\n",
    "We have added one more column of data to this, the state population. You'll find out more about this data below, after the boring stuff.\n",
    "\n",
    "# Question\n",
    "\n",
    "The question you're answering in this lab: \n",
    "\n",
    "> __Do states with large populations have a higher COVID-19 rate than states with low populations?__"
   ]
  },
  {
   "cell_type": "markdown",
   "id": "c9aa6382",
   "metadata": {},
   "source": [
    "# Lab Instructions and Learning Objectives\n",
    "\n",
    "Just like in the previous homework, you will be creating and submitting a data story answering a data science question. You will be required to submit your work in the same format as last time, complete with sections for *Introduction*, *Data*, *Methods*, *Computation*, and *Conclusion*.\n",
    "\n",
    "In this lab, you will:\n",
    "* Create a data story in a notebook exploring the question.\n",
    "* Work with COVID-19 case counts and population information.\n",
    "* Select multiple columns (variables) from a `DataFrame`.\n",
    "* Filter rows (observations) through explicit (boolean/condition-based) indexing."
   ]
  },
  {
   "cell_type": "markdown",
   "id": "d288bd07",
   "metadata": {
    "tags": []
   },
   "source": [
    "# Due date \n",
    "\n",
    "You will submit your completed Homework 2 on MarkUs by *Tuesday, Jan 25 2021 at 11:59 PM EST*. We will send an announcement in a couple days when autotesting has been set up on MarkUs."
   ]
  },
  {
   "cell_type": "markdown",
   "id": "8b27574c",
   "metadata": {},
   "source": [
    "# GGR: How to submit\n",
    "\n",
    "1. Download your homework to your local computer and save it as `EEB125_Homework_2.ipynb`.\n",
    "2. Log in here: https://markus-ds.teach.cs.toronto.edu.\n",
    "3. Submit your homework to `HW2: Homework 2`."
   ]
  },
  {
   "cell_type": "markdown",
   "id": "a1f43877-a23c-4f83-aec6-0b123aa807a8",
   "metadata": {},
   "source": [
    "# Marking Rubric\n",
    "\n",
    "\n",
    "Section     | 0 | 1 | 2 | 3\n",
    "------------|---|---|---|---\n",
    "Introduction|The question is not stated correctly or left blank | The question is stated correctly | NA | NA \n",
    "Data (for each python variable)       |auto test fails | auto test passes | NA | NA \n",
    "Methods (for each part) | No answer | The data extracted is specified or a reasonable rationale is given, but not both | Both the data extracted is specified and a reasonable rationale is given | NA\n",
    "Computation |auto test fails | auto test passes | NA | NA \n",
    "Conclusion (for each part) | No answer | The question is answered but no explanation is given | The question is answered but the explanation is not supported or weakly supported by the data | The question is answered and the explanation is supported by the data \n",
    "\n",
    "Maximum grade: 24\n"
   ]
  },
  {
   "cell_type": "markdown",
   "id": "6ed3ad1c",
   "metadata": {},
   "source": [
    "# Introduction section\n",
    "\n",
    "This should introduce the question being explored in a sentence. __(1 mark)__"
   ]
  },
  {
   "cell_type": "markdown",
   "id": "cb4beddd",
   "metadata": {},
   "source": [
    "# Data section\n",
    "\n",
    "The `Data` part of your notebook should read the raw data, extract a `DataFrame` containing the important columns, and present the overall data. Create at least these two variables.\n",
    "\n",
    "+ `covid_raw_data` : the `DataFrame` created by reading the `covid_raw_w2.csv` file. __(1 mark)__\n",
    "+ `covid_data`: the `DataFrame` containing only the relevant columns from the raw data: the `State`, `Total_cases`, and `pop` columns. __(1 mark)__\n",
    "\n",
    "(We will check the value of `covid_data`, the smaller `DataFrame` with only three columns, in the autotester. You'll probably want to use a few other variables along the way for the intermediate steps, like creating a list of important columns, but we're not autotesting those.)\n",
    "\n",
    "A note about the data: as it turns out, when we retrieved the data, some values were missing, and we omitted states with missing data in our dataset. For example, it did not contain a `Total_cases` column for Florida, so we omitted Florida from the dataset. There are other states missing as well — there are a total of 41 states in our cleaned dataset."
   ]
  },
  {
   "cell_type": "markdown",
   "id": "fdb454f7",
   "metadata": {},
   "source": [
    "# Methods section\n",
    "\n",
    "Start with a Markdown cell describing what you're going to do, which is:\n",
    "\n",
    "1. Extract and analyze data about large states (explain which data you're going to extract and analyze).  What data are extracting? Why are you extracting this data?  Explain in a few sentences. __(2 marks)__\n",
    "2. Extract and analyze data about small states (explain which data you're going to extract and analyze). What data are extracting? Why are you extracting this data? Explain in a few sentences. __(2 marks)__\n",
    "3. Compare the results. What quantities will you compare in your analysis?  Why did you choose to compare these quantities? Explain in a few sentences. __(2 marks)__"
   ]
  },
  {
   "cell_type": "markdown",
   "id": "3f106f52",
   "metadata": {},
   "source": [
    "# Computation section\n",
    "\n",
    "There are two sections to this, one for large-state data and one for small-state data."
   ]
  },
  {
   "cell_type": "markdown",
   "id": "9bb9ded3",
   "metadata": {},
   "source": [
    "## Large-state data\n",
    "\n",
    "We'll define \"large\" as any state with a population greater than 15 million. Python lets you write that number like this so that it's more readable: `15_000_000`. You will need to get a boolean `Series` by comparing to this number, then do some math using built-in function `sum`. (You should not need `len`.)\n",
    "\n",
    "Create these variables along the way. We will check them in the autotester. We will not check your intermediate steps.\n",
    "\n",
    "+ `large_case_sum`: the total number of cases in the large states. __(1 mark)__\n",
    "+ `large_pop_sum`: the total population in the large states. __(1 mark)__\n",
    "+ `large_case_avg`: the total number of cases in the large states divided by the total population. __(1 mark)__"
   ]
  },
  {
   "cell_type": "markdown",
   "id": "7c0c7110",
   "metadata": {},
   "source": [
    "## Small-state data\n",
    "\n",
    "We'll define \"small\" as any state with fewer than 1 million people. You'll need to get a boolean `Series` by comparing to `1_000_000` then doing the same math.\n",
    "\n",
    "Note that the code for small-state data will look a lot like the code for the large-state data.\n",
    "\n",
    "+ `small_case_sum`: the total number of cases in the small states. __(1 mark)__\n",
    "+ `small_pop_sum`: the total population in the small states. __(1 mark)__\n",
    "+ `small_case_avg`: the total number of cases in the small states divided by the total population. __(1 mark)__"
   ]
  },
  {
   "cell_type": "markdown",
   "id": "09b315ec",
   "metadata": {},
   "source": [
    "# Conclusion\n",
    "\n",
    "Include cells with your answers to each of these questions:\n",
    "\n",
    "1. Do states with large populations have a higher COVID-19 rate than states with low populations?  Briefly explain. __(3 marks)__\n",
    "2. Briefly explain how the missing data might influence your answer to 1. __(3 marks)__\n",
    "3. Use your answers to 1. and 2. to answer the following: If you had limited resources (e.g., doctors, nurses, medicine) to distribute to help those who are sick, how would you distribute these states based on their population size? What would be an 'efficient' strategy, one that helps the most people quickly? What would be an 'equitable' strategy? Briefly explain in a few sentences. __(3 marks)__"
   ]
  },
  {
   "cell_type": "markdown",
   "id": "a945621d",
   "metadata": {},
   "source": [
    "# Printing the required variables\n",
    "\n",
    "Include a cell at the very end of your notebook containing this code:"
   ]
  },
  {
   "cell_type": "code",
   "execution_count": 60,
   "id": "6644e283",
   "metadata": {},
   "outputs": [
    {
     "name": "stdout",
     "output_type": "stream",
     "text": [
      "covid_data.head():\n",
      "         State  Total_cases       pop\n",
      "0       Alaska     132645.0    731545\n",
      "1      Arizona    1166060.0   7278717\n",
      "2   California    4647587.0  39512223\n",
      "3     Colorado     740461.0   5758736\n",
      "4  Connecticut     402583.0   3565287\n",
      "\n",
      "large_pop_sum:\n",
      "87961665\n",
      "large_case_sum:\n",
      "10696471.0\n",
      "large_case_avg:\n",
      "0.1216037804650469\n",
      "\n",
      "small_pop_sum:\n",
      "4498465\n",
      "small_case_sum:\n",
      "638434.0\n",
      "small_case_avg:\n",
      "0.14192263360946455\n"
     ]
    }
   ],
   "source": [
    "print('covid_data.head():')\n",
    "print(covid_data.head())\n",
    "print()\n",
    "print('large_pop_sum:')\n",
    "print(large_pop_sum)\n",
    "print('large_case_sum:')\n",
    "print(large_case_sum)\n",
    "print('large_case_avg:')\n",
    "print(large_case_avg)\n",
    "print()\n",
    "print('small_pop_sum:')\n",
    "print(small_pop_sum)\n",
    "print('small_case_sum:')\n",
    "print(small_case_sum)\n",
    "print('small_case_avg:')\n",
    "print(small_case_avg)"
   ]
  },
  {
   "cell_type": "markdown",
   "id": "f2f4b264",
   "metadata": {},
   "source": [
    "The output should look like this:"
   ]
  },
  {
   "cell_type": "markdown",
   "id": "1dd271be",
   "metadata": {},
   "source": [
    "```covid_data.head():\n",
    "         State  Total_cases       pop\n",
    "0       Alaska     132645.0    731545\n",
    "1      Arizona    1166060.0   7278717\n",
    "2   California    4647587.0  39512223\n",
    "3     Colorado     740461.0   5758736\n",
    "4  Connecticut     402583.0   3565287\n",
    "\n",
    "large_pop_sum:\n",
    "87961665\n",
    "large_case_sum:\n",
    "10696471.0\n",
    "large_case_avg:\n",
    "0.1216037804650469\n",
    "\n",
    "small_pop_sum:\n",
    "4498465\n",
    "small_case_sum:\n",
    "638434.0\n",
    "small_case_avg:\n",
    "0.14192263360946455\n",
    "```"
   ]
  }
 ],
 "metadata": {
  "kernelspec": {
   "display_name": "Python 3 (ipykernel)",
   "language": "python",
   "name": "python3"
  },
  "language_info": {
   "codemirror_mode": {
    "name": "ipython",
    "version": 3
   },
   "file_extension": ".py",
   "mimetype": "text/x-python",
   "name": "python",
   "nbconvert_exporter": "python",
   "pygments_lexer": "ipython3",
   "version": "3.8.8"
  }
 },
 "nbformat": 4,
 "nbformat_minor": 5
}
