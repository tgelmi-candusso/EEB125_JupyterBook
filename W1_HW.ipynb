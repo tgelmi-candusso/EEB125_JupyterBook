{
 "cells": [
  {
   "cell_type": "markdown",
   "id": "b58c59bf",
   "metadata": {
    "id": "IiqY1IVJZciJ"
   },
   "source": [
    "# Homework 1 — a Python intro and a data science story\n",
    "\n",
    "## Due Date\n",
    "\n",
    "EEB: The homework is due 23:59 on Tuesday, January 18.\n",
    "\n",
    "## Purpose of Homework\n",
    "\n",
    "Welcome to your first weekly homework assignment! You are encouraged to refer to lecture content and liberally use course resources such as the discussion board and office hours.\n",
    "\n",
    "Homeworks build off of content explored in lecture and in lab and give you an opportunity to practice with the material. Homeworks will contain tasks that focus on tools and knowledge described in lecture and lab that week. Data science knowledge is often cumulative, and you will be asked to refer to prior weeks' content (such as loading in datasets, which is something you're going to do a lot of in this course).\n",
    "\n",
    "Homeworks may also be continuations of the shorter labs done during that week, and will feature a relatively greater emphasis on application of tools, inquiry of concepts, and interpretation of your data science findings. Homeworks will feature a mix of coding and written response questions.\n",
    "\n",
    "All homeworks will take place in a Jupyter notebook (like this one). When you are done, you will download this notebook and submit it to MarkUs.\n",
    "\n",
    "## Instructions\n",
    "\n",
    "[Part 1](#Part-1:-Python) will teach you more about Python.  There are no questions in this part to hand in.\n",
    "\n",
    "[Questions to Submit](#Questions-to-Submit) has questions that you will answer in a Jupyter notebook that you create.  Instructions on how to name your Jupyter notebook are in the [Creating your notebook section](#Creating-your-notebook) below.  This section contains the homework questions that you will submit via MarkUs.  The instructions for submitting to Markus are in the [Submitting your work section](#Submitting-your-work)."
   ]
  },
  {
   "cell_type": "markdown",
   "id": "ef288710",
   "metadata": {
    "id": "UvG3Q1t8Yz0B"
   },
   "source": [
    "# Learning objectives\n",
    "\n",
    "By the end of this homework, you will be able to …\n",
    "\n",
    "* apply the programming and basic data science concepts shown in lecture this week\n",
    "* answer a basic research question using Python and Pandas\n",
    "* Using JupyterHub, create a data story that demonstrates an answer to the question"
   ]
  },
  {
   "cell_type": "markdown",
   "id": "a94fdbcc",
   "metadata": {
    "id": "dc150bf1"
   },
   "source": [
    "# Part 1: Python\n",
    "\n",
    "In this part, you will learn more about Python.  But, there are no questions to hand in.\n",
    "\n",
    "* Types\n",
    "* Expressions\n",
    "* [Built-in functions](https://docs.python.org/3/library/functions.html) Click these and read (at least) the first sentence of each description!\n",
    "  + [len](https://docs.python.org/3/library/functions.html#len)\n",
    "  + [sum](https://docs.python.org/3/library/functions.html#sum)\n",
    "  + [type](https://docs.python.org/3/library/functions.html#type)\n",
    "  + [str](https://docs.python.org/3/library/functions.html#str)\n",
    "  + [help](https://docs.python.org/3/library/functions.html#help)\n",
    "\n",
    "\n",
    "We will explain and explore these as we use them."
   ]
  },
  {
   "cell_type": "markdown",
   "id": "706d3f1d",
   "metadata": {
    "id": "dc150bf1"
   },
   "source": [
    "## Operator precedence\n",
    "\n",
    "Just a reminder from lecture:\n",
    "\n",
    "| Precedence | Operator | Operation |\n",
    "|:- | :- | -: |\n",
    "| Highest | () | Grouping |\n",
    "|  | ** | Exponentiation |\n",
    "|  | - | Negation |\n",
    "|  | *, / //, % | Multiplication, division, integer division, remainder |\n",
    "| Lowest | +, - | Addition and substraction |\n",
    "_Python operator precedence_"
   ]
  },
  {
   "cell_type": "markdown",
   "id": "2f1b1871",
   "metadata": {
    "id": "ee5ed940"
   },
   "source": [
    "## Do some math in Python\n",
    "\n",
    "1. Click anywhere on the equation below.\n",
    "1. Click button `Run` or type Control-Enter (or Control-Return, depending on your keyboard).\n",
    "\n",
    "The result, `5`, will appear underneath."
   ]
  },
  {
   "cell_type": "code",
   "execution_count": 1,
   "id": "d0f17b75",
   "metadata": {
    "colab": {
     "base_uri": "https://localhost:8080/"
    },
    "id": "19094954",
    "outputId": "b0029cc8-cf8a-4b66-d891-fbadb23c6d52"
   },
   "outputs": [
    {
     "data": {
      "text/plain": [
       "5"
      ]
     },
     "execution_count": 1,
     "metadata": {},
     "output_type": "execute_result"
    }
   ],
   "source": [
    "3 + 2"
   ]
  },
  {
   "cell_type": "markdown",
   "id": "ff7e8d62",
   "metadata": {
    "id": "feb3f49d"
   },
   "source": [
    "## Types\n",
    "\n",
    "To Python, the `3` and the `2` are data values of type `int`. The *type* in Python dictates what Python operations we can perform on the data. \n",
    "\n",
    "`int` is short for _integer_, and type `int` consists of all whole numbers, both positive and negative, including `0`.\n",
    "\n",
    "Numbers that have decimal points are of type `float`, which is short for _floating point_, which is a technical term that refers to how these numbers are stored in computer memory.\n",
    "\n",
    "The `int`/`float` distinction is important because some operations in Python can only be done using a specific type of number (`int` or `float`). Also, the type you use will depend on the context. For example, if we were to write a program that counts the number of students enrolled in a lecture, we would use an `int` data type (we can't have half students!), and if we wanted an average we would probably want to use a `float`."
   ]
  },
  {
   "cell_type": "markdown",
   "id": "eb0d1f27",
   "metadata": {
    "id": "bb2b71ba"
   },
   "source": [
    "## Combining types using mathematical operators\n",
    "\n",
    "Run the `Code` cell below. Notice the type of the result. The other operators (`+`, `-`, and `*`) produce integers, but `/` produces a float."
   ]
  },
  {
   "cell_type": "code",
   "execution_count": 2,
   "id": "74922641",
   "metadata": {
    "id": "e95972ae",
    "outputId": "2814c7f3-2280-4db1-97eb-87388078114f"
   },
   "outputs": [
    {
     "data": {
      "text/plain": [
       "1.5"
      ]
     },
     "execution_count": 2,
     "metadata": {},
     "output_type": "execute_result"
    }
   ],
   "source": [
    "3 / 2"
   ]
  },
  {
   "cell_type": "markdown",
   "id": "88449089",
   "metadata": {},
   "source": [
    "## Built-in functions\n",
    "\n",
    "Python provides a function, whose name is `type`, that returns the type of a value. Run the following Code cell to see it in action, then try various combinations of `int` and `float` values. (You can do this by changing the `3` to something like `3.14159` and re-running the cell, then changing the `2` to something with a decimal point.)"
   ]
  },
  {
   "cell_type": "code",
   "execution_count": 3,
   "id": "84cceadc",
   "metadata": {
    "scrolled": true
   },
   "outputs": [
    {
     "data": {
      "text/plain": [
       "int"
      ]
     },
     "execution_count": 3,
     "metadata": {},
     "output_type": "execute_result"
    }
   ],
   "source": [
    "type(5)"
   ]
  },
  {
   "cell_type": "code",
   "execution_count": 4,
   "id": "4f8191c2",
   "metadata": {},
   "outputs": [
    {
     "data": {
      "text/plain": [
       "float"
      ]
     },
     "execution_count": 4,
     "metadata": {},
     "output_type": "execute_result"
    }
   ],
   "source": [
    "type(5.1)"
   ]
  },
  {
   "cell_type": "markdown",
   "id": "4c488988",
   "metadata": {
    "id": "33f139b4"
   },
   "source": [
    "## Type `str`: strings\n",
    "\n",
    "To use English sentences in a program we need a way to say where they start and end. Python uses either single `'` or double `\"` quotes, like `'Hello world.'` and `\"Hello world.\"`. The technical term for this kind of value is *string*, and strings contain *characters*.\n",
    "\n",
    "Strings can be used in expressions just like `int`s and `float`s. Much like `3` is a value of type `int`, `'Hello world.'` is a value of type `str`.\n",
    "\n",
    "Click anywhere on the string below, then click the `Run` button. (Tip: you can run the currently-selected cell by type Control-Enter.)"
   ]
  },
  {
   "cell_type": "code",
   "execution_count": 5,
   "id": "359dd2b2",
   "metadata": {
    "id": "ecb1ae0f",
    "outputId": "4f5b9f12-ae32-4858-ec46-431a9dfc460f"
   },
   "outputs": [
    {
     "data": {
      "text/plain": [
       "'Hello World'"
      ]
     },
     "execution_count": 5,
     "metadata": {},
     "output_type": "execute_result"
    }
   ],
   "source": [
    "'Hello World'"
   ]
  },
  {
   "cell_type": "code",
   "execution_count": 6,
   "id": "baa4a05e",
   "metadata": {},
   "outputs": [
    {
     "data": {
      "text/plain": [
       "str"
      ]
     },
     "execution_count": 6,
     "metadata": {},
     "output_type": "execute_result"
    }
   ],
   "source": [
    "type('Hello World')"
   ]
  },
  {
   "cell_type": "markdown",
   "id": "d72d23f0",
   "metadata": {
    "id": "df0f7113"
   },
   "source": [
    "Any time you make a change to the code cell, you need to re-run that cell to see the effect. However, if our downstream cells rely on values or variables (up next!) in upstream cells, we only need to run all upstream cells once before we can run the cell in question.\n",
    "\n",
    "The reason why Python repeats your string in the Out box is that a string is a value, and values can be used as expressions."
   ]
  },
  {
   "cell_type": "markdown",
   "id": "ee12c75b",
   "metadata": {
    "id": "df0f7113"
   },
   "source": [
    "## Printing several values\n",
    "\n",
    "Python has a built-in function named `print` that prints a value.\n",
    "\n"
   ]
  },
  {
   "cell_type": "code",
   "execution_count": 7,
   "id": "ae0f65ab",
   "metadata": {},
   "outputs": [
    {
     "name": "stdout",
     "output_type": "stream",
     "text": [
      "Remember how running a Python cell displays the value of the last expression?\n",
      "Function `print` lets us show several results at once.\n",
      "Calling print with no arguments starts a new line:\n",
      "\n",
      "Let's get fancy.\n",
      "This is a multi-line string.\n",
      "\n",
      "Use triple quotes instead of single quotes.\n",
      "Paul is 137 cm tall.\n",
      "Paul is 137 cm tall.\n"
     ]
    }
   ],
   "source": [
    "'''print('Remember how running a Python cell displays the value of the last expression?')\n",
    "print('Function `print` lets us show several results at once.')\n",
    "print('Calling print with no arguments starts a new line:')\n",
    "print()\n",
    "print('''Let's get fancy.\n",
    "This is a multi-line string.\n",
    "\n",
    "Use triple quotes instead of single quotes.''')\n",
    "\n",
    "name = 'Paul'  # Everything after the pound symbol is a comment. Python ignores comments.\n",
    "height = 137 # cm\n",
    "\n",
    "# More magic: you can add strings to make a longer string.\n",
    "print(name + ' is ' + str(height) + ' cm tall.')\n",
    "\n",
    "# For even more magic, tell Python to use a \"format string\":\n",
    "# Start the whole string with the letter 'f'. How cool is that?\n",
    "# Much easier for us humans to read than in the previous print statement!\\n\",\n",
    "print(f'{name} is {height} cm tall.')'''"
   ]
  },
  {
   "cell_type": "markdown",
   "id": "5bf0b37e",
   "metadata": {},
   "source": [
    "## Wow, that's a lot!\n",
    "\n",
    "Yeah, you may want to spend some time making sure you understand what all that does. Ask on the course discussion board if you have questions!\n",
    "\n",
    "Some notes:\n",
    "\n",
    "+ Python executes each line of code — each _statement_ — from top to bottom.\n",
    "+ Indentation is important: so far, you can't have any spaces at the beginning of a line.\n",
    "+ If the last statement is an expression, Python prints the resulting value.\n",
    "+ You can't add strings and numbers together.\n",
    "  - We fix this by using built-in function `str`, which creates a string representation of its argument."
   ]
  },
  {
   "cell_type": "markdown",
   "id": "af8aee65",
   "metadata": {},
   "source": [
    "# Questions to Submit\n",
    "\n",
    "In lecture, we explored the average wait time between eruptions of [Old Faithful](https://en.wikipedia.org/wiki/Old_Faithful).\n",
    "\n",
    "It's your turn to create a data story answering a data science question."
   ]
  },
  {
   "cell_type": "markdown",
   "id": "8d357d78",
   "metadata": {},
   "source": [
    "## Are blue jays more abundant than cardinals?\n",
    "\n",
    "Using [blue jay data](https://raw.githubusercontent.com/tgelmi-candusso/publicrepo/main/bluejay.csv) and [cardinal data](https://raw.githubusercontent.com/tgelmi-candusso/publicrepo/main/cardinal.csv) (from the [Canadian Breeding Bird Census Plots](https://data-donnees.ec.gc.ca/data/species/assess/canadian-breeding-bird-census-plots/?lang=en)), we can answer the following question: Are blue jays or cardinals more abundant across Canada?\n",
    "\n",
    "The two CSV files are already in JupyterHub in the same directory as this notebook.\n",
    "\n",
    "The data includes population per hectare for each of the Census plots.\n",
    "\n",
    "The rightmost column of each file, called `Density per 100 ha`, contains sighting information about the respective birds."
   ]
  },
  {
   "cell_type": "markdown",
   "id": "40ecf32b",
   "metadata": {},
   "source": [
    "### Naming your notebook\n",
    "\n",
    "Please name your notebook `EEB125_Homework_1.ipynb` so that the MarkUs autotesting can find it."
   ]
  },
  {
   "cell_type": "markdown",
   "id": "b6beaa42",
   "metadata": {},
   "source": [
    "### Required variable names\n",
    "\n",
    "`pandas.read_csv` returns a `DataFrame` value. You'll use it to read the `bluejay.csv` file, which is in the same folder as this notebook. Using an assignment statement, name the `DataFrame` `bluejay_df`. (Capitalization is important, MarkUs is picky.)\n",
    "\n",
    "Do the same for `cardinal.csv`, and name that `DataFrame` `cardinal_df`.\n",
    "\n",
    "For blue jays, in a separate Code cell, calculate the average of the column named `Density per 100 ha` and assign the returned value to variable `bluejay_avg`.\n",
    "\n",
    "For cardinals, in a separate Code cell, calculate the average of the column named `Density per 100 ha` and assign the returned value to variable `cardinals_avg`."
   ]
  },
  {
   "cell_type": "markdown",
   "id": "2f580d09",
   "metadata": {},
   "source": [
    "## Notebook format to submit for homework\n",
    "\n",
    "Use the following format in your notebook, with at least one cell (and usually several) per section. Use these titles in the Markdown so that each section is easily identifiable. Any level is fine as long as they are the same. You are welcome to add subheadings as well.\n",
    "\n",
    "1. **Intro:** In a Markdown cell, write a brief introduction that explains the question the notebook answers.\n",
    "1. **Data:** This section will have both Markdown and Code cells. Give a short explanation of the format of your data, describing the columns, and use function `DataFrame.head` to show the top few lines.\n",
    "1. **Methods:** In a sentence or two, explain how you will compute the average. (In future data stories, this section will get more complicated.)\n",
    "1. **Computation:** You've already read in the data a previous step and named it with a variable, so do the necessary computation. Before each Code cell, provide a Markdown cell briefly explaining what the code demonstrates.\n",
    "1. **Conclusion:** What does your evidence indicate is the answer to the question?\n",
    "\n",
    "Remember to look at Lecture 1 for inspiration, where we implemented a very similar algorithm to compute an average from a column in a CSV file."
   ]
  },
  {
   "cell_type": "markdown",
   "id": "3140fcd9",
   "metadata": {},
   "source": [
    "### Marking Rubric\n",
    "\n",
    "Section                                                          | Possible grade\n",
    "-----------------------------------------------------------------|---------------------\n",
    "1. Does the introduction explain the question in simple language?| Yes (1), No (0)\n",
    "2. Does the data section have a Markdown cell with an explanation of the data format? |  Yes (1), No (0) \n",
    "3. Does the data section have a code cell where the data is read in correctly and `DataFrame.head` is used? |  Data is read correctly and `DataFrame.head` used (2), Data is read correctly, but `DataFrame.head` is not used (1), neither part is done correctly (0).\n",
    "4. Does the computation section have a markdown cell that briefly explains what the code demonstrates? | Yes (1), No (0)\n",
    "5. Does the computation section have a code cell that computes the correct values? | Both values are correct (2), One value is correct (1), No correct values (0)\n",
    "6. Does the conclusion section contain a Markdown cell with an explanation of how your evidence answers the question?|Yes (1), No (0)\n",
    "Total possible mark | 8\n",
    "\n",
    "NB: 3, 5 will be autograded."
   ]
  },
  {
   "cell_type": "markdown",
   "id": "0bed0f5c",
   "metadata": {},
   "source": [
    "## Creating your notebook\n",
    "\n",
    "### Step 1: create a folder for your data and notebook\n",
    "\n",
    "+ Ctrl/Cmd-click the `jupyter` icon to see your file system.\n",
    "+ Make a new Folder. By default it will be called \"Untitled Folder\".\n",
    "![New folder](hw1-images/JHNewFolder.png)\n",
    "__The New folder menu item__\n"
   ]
  },
  {
   "cell_type": "markdown",
   "id": "782188b7",
   "metadata": {},
   "source": [
    "### Step 2: rename the file\n",
    "\n",
    "Rename the file: click the checkbox to the left of \"Untitled Folder\" and click button `Rename`. Name it `EEB125_HW1`."
   ]
  },
  {
   "cell_type": "markdown",
   "id": "a9c6e325",
   "metadata": {},
   "source": [
    "### Step 3: Upload the data to that new folder\n",
    "\n",
    "+ Double-click on the new folder to enter it.\n",
    "+ Download the CSV files to your computer.\n",
    "+ Now click the Upload button and upload those files.\n",
    "  - They will be placed inside the current folder."
   ]
  },
  {
   "cell_type": "markdown",
   "id": "bfce6117",
   "metadata": {},
   "source": [
    "### Step 4: Create your notebook\n",
    "\n",
    "+ Select `New —> Python 3 (ipython kernel)`. It will open in a new tab.\n",
    "![New notebook](hw1-images/NewNotebook.png)\n",
    "__Fig. 1: The New Notebook menu item__\n",
    "+ The notebook is named `Untitled` (in the upper left). Rename the notebook to `EEB125_Homework_1`. JupyterHub will add the `.ipynb` extension automatically in your file system.\n",
    "+ The first cell is a Code cell. Change it to Markdown and type a draft of your intro. Use a title!"
   ]
  },
  {
   "cell_type": "markdown",
   "id": "faf070c8",
   "metadata": {},
   "source": [
    "## Submitting your work\n",
    "\n",
    "When you are ready [*], head to [MarkUs](https://markus-ds.teach.cs.toronto.edu) and submit. Upload the following:\n",
    "\n",
    "1. The dataset you're using.\n",
    "1. The notebook you created.\n",
    "\n",
    "[*] __Note: Please wait until at least Friday to try to submit to MarkUs.__"
   ]
  },
  {
   "cell_type": "markdown",
   "id": "a08670c3",
   "metadata": {},
   "source": [
    "# Rough marking rubric\n",
    "\n",
    "+ Is the data story coherent?\n",
    "+ Is the writing clear?\n",
    "+ Are the Markdown formatting features used effectively?\n",
    "+ Does the Python code read in the data correctly? (AG)\n",
    "+ Does the Python code apply the compute-the-average algorithm correctly? (AG)\n",
    "+ Is the conclusion clear and correct and supported by the computation?\n"
   ]
  }
 ],
 "metadata": {
  "colab": {
   "collapsed_sections": [],
   "name": "Homework 1.ipynb",
   "provenance": []
  },
  "kernelspec": {
   "display_name": "Python 3 (ipykernel)",
   "language": "python",
   "name": "python3"
  },
  "language_info": {
   "codemirror_mode": {
    "name": "ipython",
    "version": 3
   },
   "file_extension": ".py",
   "mimetype": "text/x-python",
   "name": "python",
   "nbconvert_exporter": "python",
   "pygments_lexer": "ipython3",
   "version": "3.10.2"
  }
 },
 "nbformat": 4,
 "nbformat_minor": 5
}
