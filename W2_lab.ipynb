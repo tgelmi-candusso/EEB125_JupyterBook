{
 "cells": [
  {
   "cell_type": "markdown",
   "id": "b893055f-ee34-4fe8-b3aa-ea0b1ef90b53",
   "metadata": {},
   "source": [
    "# Lab 2 - Basic Data Wrangling"
   ]
  },
  {
   "cell_type": "markdown",
   "id": "a1f43877-a23c-4f83-aec6-0b123aa807a8",
   "metadata": {},
   "source": [
    "# Lab Instructions and Learning Objectives\n",
    "\n",
    "Don't delete any of the cells in this notebook, and add markdown/code cells when asked. \n",
    "\n",
    "In this lab, you will:\n",
    "* Manually transcribe 'written' data into a dictionary, then a dataframe\n",
    "* Create a `pandas` dataframe from scratch (dictionaries) \n",
    "* Select one and multiple columns (variables) from a dictionary, using explicit and implicit indexing\n",
    "* Filter rows (observations) through implicit (position-based) and explicit (boolean/condition-based) indexed\n",
    "\n",
    "\n",
    "# Due date \n",
    "\n",
    "You will submit your completed labs as Notebook files on MarkUs, no later than *30 minutes after your tutorial ends*. For example, if your tutorial ends at 1 PM EDT, then the lab will be due by 1:30 PM EDT.\n",
    "\n",
    "# How to submit\n",
    "\n",
    "1. Log in here: https://markus-ds.teach.cs.toronto.edu (Tip: Control/Command-click to open it in a new tab so you can still see these instructions.)\n",
    "2. Choose \\<course code\\>\n",
    "3. Click the lab2: `Lab week 2` assessment.\n",
    "4. Click the `Submissions` tab. The new page is `lab2: Submissions`.\n",
    "5. Click button `Upload File` on the bottom right.\n",
    "6. Click button `Choose Files`.\n",
    "7. Select the `Lab_2.ipynb` file that you downloaded in the previous task, then click `Save`.\n",
    "\n",
    "# Marking Rubric\n",
    "\n",
    "1 mark for having all all the right names, 1 mark for each variable value separately."
   ]
  },
  {
   "cell_type": "markdown",
   "id": "e9da051c",
   "metadata": {},
   "source": [
    "## Lab 2 Introduction\n",
    "\n",
    "In this lab, you will have your first hands-on opportunity to work with dataframes. Specifically, you will complete a few simple tasks including creating a `dict` and `dataframe` in pandas from data in the format of a markdown table provided below. Furthermore, you will extract (select) specific variables (columns), and subset (filter) observations (rows) on position-based (implicit) and boolean (explicit) conditions.\n",
    "\n",
    "### Data Description\n",
    "\n",
    "In this lab, you will be asked to manipulate data pertaining to students' assignment, midterm, final assessment grades. It contains 4 rows pertaining to 4 different students, and 4 columns, pertaining to student ID, assignment, midterm and final assessment grade, in that order. The data has been recorded as below: \n",
    "\n",
    "| Student ID | Assignment | Midterm | Final |\n",
    "| --- | --- | --- | --- |\n",
    "| 100 | 80 | 70 | 60 |\n",
    "| 101 | 85 | 80 | 70 |\n",
    "| 102 | 85 | 70 | 80 |\n",
    "| 103 | 90 | 85 | 90 |\n",
    "\n",
    "The dataset itself is fake, but might closely imitate or reflect how real data might also be represented. We call these types of datasets 'toy datasets'. They are meant to illustrate and verify the behaviour of different data science techniques, which is what we'll be doing today!\n",
    "\n",
    "Remember, these labs are meant to be a low-stakes environment to practice and apply skills learned in lecture. You are encouraged to refer to lecture content, work with your peers, and ask the lab TAs for help!"
   ]
  },
  {
   "cell_type": "markdown",
   "id": "9708e0fa-df2c-4e7b-a1d9-a3ac7c37bb83",
   "metadata": {},
   "source": [
    "## Question 1\n",
    "\n",
    "Import the `pandas` module under the name `pd`."
   ]
  },
  {
   "cell_type": "code",
   "execution_count": null,
   "id": "ecab8abe-41a5-420a-8457-5b1f3da5f375",
   "metadata": {},
   "outputs": [],
   "source": [
    "# place your answer to Q1 in this cell\n",
    "\n"
   ]
  },
  {
   "cell_type": "markdown",
   "id": "9ce91f61-21e7-4d60-a4ad-d35296025170",
   "metadata": {},
   "source": [
    "## Question 2\n",
    "\n",
    "Transcribe the table above into a dictionary. Refer back to the lecture notes to see how we did it.\n",
    "\n",
    "Let the keys be the column names as they appear above, and the values be the values as they appear in the columns. Assign the dictionary to a variable named `my_dict`.\n"
   ]
  },
  {
   "cell_type": "code",
   "execution_count": null,
   "id": "a28a170a",
   "metadata": {},
   "outputs": [],
   "source": [
    "# place your answer to Q2 in this cell\n"
   ]
  },
  {
   "cell_type": "markdown",
   "id": "283eb149-4485-4f5e-9779-c66340302bb8",
   "metadata": {},
   "source": [
    "## Question 3\n",
    "\n",
    "Q: Use the dictionary that you just created to create a `DataFrame` and name it `grade_summary`. (To name it, use an assignment statement.)"
   ]
  },
  {
   "cell_type": "code",
   "execution_count": null,
   "id": "260a2212",
   "metadata": {},
   "outputs": [],
   "source": [
    "# place your answer to Q3 in this cell\n",
    "\n"
   ]
  },
  {
   "cell_type": "markdown",
   "id": "1d2b16ca",
   "metadata": {},
   "source": [
    "## Question 4\n",
    "\n",
    "Q: Extract column `Assignment` from the `DataFrame` you just created and name that column `assignment_grades`. (Here's a thought question: what type is it?)"
   ]
  },
  {
   "cell_type": "code",
   "execution_count": null,
   "id": "0621ac0f",
   "metadata": {},
   "outputs": [],
   "source": [
    "# place your answer to Q4 in this cell\n",
    "\n"
   ]
  },
  {
   "cell_type": "markdown",
   "id": "5f68df70",
   "metadata": {},
   "source": [
    "## Question 5\n",
    "\n",
    "Q: Extract the other two columns (`Midterm` and `Final`) and name the resulting `DataFrame` `midterm_and_final_grades`."
   ]
  },
  {
   "cell_type": "code",
   "execution_count": null,
   "id": "a845bb58",
   "metadata": {},
   "outputs": [],
   "source": [
    "# place your answer to Q5 in this cell\n",
    "\n"
   ]
  },
  {
   "cell_type": "markdown",
   "id": "edfc3d78",
   "metadata": {},
   "source": [
    "## Question 6\n",
    "\n",
    "Extract ALL columns from the `DataFrame`, and name the resulting `DataFrame` `all_grades`."
   ]
  },
  {
   "cell_type": "code",
   "execution_count": null,
   "id": "1060a902",
   "metadata": {},
   "outputs": [],
   "source": [
    "# place your answer to Q6 in this cell\n",
    "\n",
    "\n"
   ]
  },
  {
   "cell_type": "markdown",
   "id": "86c283a1",
   "metadata": {},
   "source": [
    "## Question 7\n",
    "\n",
    "Q: Using the `.iloc` indexing method, index the first two rows of the dataframe and assign it to the variable `first_two_rows`. Do the same for the last two rows and likewise assign it to the variable `last_two_rows`. (You can go see how we did this in the lecture notes.)"
   ]
  },
  {
   "cell_type": "code",
   "execution_count": null,
   "id": "7257dfee",
   "metadata": {},
   "outputs": [],
   "source": [
    "# place your answer to Q7 in this cell\n",
    "\n"
   ]
  },
  {
   "cell_type": "markdown",
   "id": "14e967e4",
   "metadata": {},
   "source": [
    "## Question 8\n",
    "\n",
    "Q: Subset the `DataFrame`, filtering only students that received a grade of exactly 85 on the assignment. Make sure to include all columns — you don't need to include a step that selects specific columns. Name your final result `all_grades_85_on_assignment`."
   ]
  },
  {
   "cell_type": "code",
   "execution_count": null,
   "id": "2aaade14",
   "metadata": {},
   "outputs": [],
   "source": [
    "# place your answer to Q8 in this cell\n",
    "\n"
   ]
  },
  {
   "cell_type": "markdown",
   "id": "7ccfa332",
   "metadata": {},
   "source": [
    "# Check that you've used the correct variable names"
   ]
  },
  {
   "cell_type": "code",
   "execution_count": null,
   "id": "b9b230eb",
   "metadata": {},
   "outputs": [],
   "source": [
    "# This will run without error once the 8 questions are answered correctly.\n",
    "print('my_dict: ')\n",
    "print(my_dict)\n",
    "print('grade_summary: ')\n",
    "print(grade_summary)\n",
    "print('assignment_grades: ')\n",
    "print(assignment_grades)\n",
    "print('midterm_and_final_grades:')\n",
    "print(midterm_and_final_grades)\n",
    "print('all_grades:')\n",
    "print(all_grades)\n",
    "print('first_two_rows:')\n",
    "print(first_two_rows)\n",
    "print('last_two_rows:')\n",
    "print(last_two_rows)\n",
    "print('all_grades_85_on_assignment:')\n",
    "print(all_grades_85_on_assignment)"
   ]
  }
 ],
 "metadata": {
  "kernelspec": {
   "display_name": "Python 3 (ipykernel)",
   "language": "python",
   "name": "python3"
  },
  "language_info": {
   "codemirror_mode": {
    "name": "ipython",
    "version": 3
   },
   "file_extension": ".py",
   "mimetype": "text/x-python",
   "name": "python",
   "nbconvert_exporter": "python",
   "pygments_lexer": "ipython3",
   "version": "3.9.9"
  }
 },
 "nbformat": 4,
 "nbformat_minor": 5
}
