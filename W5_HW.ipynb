{
 "cells": [
  {
   "cell_type": "markdown",
   "id": "767c66e9",
   "metadata": {},
   "source": [
    "# Homework 5 - Investigating Mammalian Fecundity and Conservation using Filtering, Joins, and Arithmetic"
   ]
  },
  {
   "cell_type": "markdown",
   "id": "ee9d066f",
   "metadata": {},
   "source": [
    "## Introduction\n",
    "\n",
    "For this week's homework, you will build upon last week's work, where you cleaned up the Pantheria and IUCN data, merged them, and then computed a metric of maximum lifetime fecundity across mammals. In this assignment, we will delve more deeply into the conservation side of things to investigate whether there is a relationship between maximum lifetime fecundity and a species' risk of going extinct. "
   ]
  },
  {
   "cell_type": "markdown",
   "id": "4c621ab2",
   "metadata": {},
   "source": [
    "### Question\n",
    "\n",
    "The metric we computed last week (maximum lifetime fecundity) estimates a species' __reproductive potential__. That is, _how prodigious is each species at producing new offspring_? As biologists, we may have an intuition that species that are more capable at reproducing quickly maybe more resilient to extinction as the environment changes. We will combine the metric from last week with the IUCN data to ask a targeted question about mammalian conservation:\n",
    "\n",
    "**_Is there a difference in extinction risk between species with higher reproductive potential (greater maximum lifetime fecundity) vs. species with lower reproductive potential smaller maximum lifetime fecundity)?_**"
   ]
  },
  {
   "cell_type": "markdown",
   "id": "c94f9ae5",
   "metadata": {},
   "source": [
    "## Lab Instructions and Learning Objectives\n",
    "\n",
    "You will be creating and submitting a data story answering a data science question. You will be required to submit your work in the same format as last time, complete with sections for *Introduction*, *Data*, *Methods*, *Computation*, and *Conclusion*.\n",
    "\n",
    "In this lab, you will:\n",
    "* Complete a data story in a notebook exploring the question: is the number of offspring birthed by a lineage related to its risk of extinction?\n",
    "* Write and use Boolean expressions to recode the ordinal IUCN data. (Specifically, you're encouraged to practice using logical operators such as `!=`, `<=`, `>=`, `>`, `<`.)\n",
    "* Perform a groupby operation to investigate maximum lifetime fecundity and extinction risk across mammalian orders and then to compare fecundity according to species that are at risk vs those that are not at risk."
   ]
  },
  {
   "cell_type": "markdown",
   "id": "2b677ef1",
   "metadata": {},
   "source": [
    "## Due date \n",
    "\n",
    "You will submit your completed Homework 5 on MarkUs by *Fri, Feb 18 2022 at 11:59 PM EST*. MarkUs is ready.\n",
    "\n",
    "##### EEB: How to submit\n",
    "\n",
    "1. Download your homework to your local computer and save it as `EEB125_Homework_5.ipynb`.\n",
    "2. Log in here: https://markus-ds.teach.cs.toronto.edu.\n",
    "3. Submit your homework to `HW5: Homework 5`."
   ]
  },
  {
   "cell_type": "markdown",
   "id": "c9549322",
   "metadata": {},
   "source": [
    "## Marking Rubric\n",
    "\n",
    "Section     | 0 | 1 | 2 | 3\n",
    "------------|---|---|---|---\n",
    "Introduction|The question is not stated correctly or left blank | The question is stated correctly | NA | NA \n",
    "Data (for each python variable)       |auto test fails | auto test passes | NA | NA \n",
    "Methods (for each part) | No answer | The data extracted is specified or a reasonable rationale is given, but not both | Both the data extracted is specified and a reasonable rationale is given | NA\n",
    "Computation |auto test fails | auto test passes | NA | NA \n",
    "Conclusion (for each part) | No answer | The question is answered but no explanation is given | The question is answered but the explanation is not supported or weakly supported by the data | The question is answered and the explanation is supported by the data "
   ]
  },
  {
   "cell_type": "markdown",
   "id": "e9d60469",
   "metadata": {},
   "source": [
    "## Introduction section\n",
    "\n",
    "This should introduce the question being explored in a sentence. __(1 mark)__"
   ]
  },
  {
   "cell_type": "markdown",
   "id": "8bb168e0-fcce-4c01-88d6-743977b75cd1",
   "metadata": {},
   "source": [
    "## Data section\n",
    "\n",
    "### Step 1: Gather your data from last week\n",
    "\n",
    "Combine all of the code from last week's assignment into a single cell \n",
    "\n",
    "+ `pantheria_iucn_clean`: the `DataFrame` you created in your assignment last week combining the merged IUCN and pantheria data, plus our new column with the added variable `max_lifetime_fecundity`.\n"
   ]
  },
  {
   "cell_type": "code",
   "execution_count": null,
   "id": "48c16cf1-0c6a-4e97-9355-89dfe1b6612c",
   "metadata": {},
   "outputs": [],
   "source": [
    "import pandas as pd\n",
    "\n",
    "pantheria_raw = pd.read_csv('pantheria.txt', sep = '\\t')\n",
    "iucn_raw = pd.read_csv('phylacine.csv')\n",
    "important_columns = ['MSW05_Order', 'MSW05_Binomial', '23-1_SexualMaturityAge_d',\n",
    "                     '14-1_InterbirthInterval_d', '17-1_MaxLongevity_m', '15-1_LitterSize']\n",
    "pantheria_data = pantheria_raw[important_columns]\n",
    "important_columns = ['Binomial.1.2', 'IUCN.Status.1.2']\n",
    "iucn_data = iucn_raw[important_columns]\n",
    "pantheria_new_column_names = {'MSW05_Order': 'order',\n",
    "                              'MSW05_Binomial': 'genus_species',\n",
    "                              '23-1_SexualMaturityAge_d': 'maturity_d',\n",
    "                              '14-1_InterbirthInterval_d': 'interbirth_d',\n",
    "                              '17-1_MaxLongevity_m': 'longevity_m',\n",
    "                              '15-1_LitterSize': 'litter_size_ind'}\n",
    "\n",
    "iucn_data_new_column_names = {'Binomial.1.2':'genus_species', \n",
    "                         'IUCN.Status.1.2':'iucn_status'}\n",
    "\n",
    "pantheria_data_clean = pantheria_data.rename(columns=pantheria_new_column_names)\n",
    "iucn_data_clean = iucn_data.rename(columns=iucn_data_new_column_names)\n",
    "pantheria_data_clean['genus_species'] = pantheria_data_clean['genus_species'].str.replace(\" \",\"_\")\n",
    "joined_pantheria_iucn_data = pantheria_data_clean.merge(iucn_data_clean, \n",
    "                                                right_on='genus_species', # the right data frame is iucn \n",
    "                                                left_on='genus_species')   # the left data frame is pantheria \n",
    "\n",
    "# pantheria_iucn_clean\n",
    "nomiss = (joined_pantheria_iucn_data['iucn_status'] != 'DD') & (joined_pantheria_iucn_data['iucn_status'] != 'EP')\n",
    "\n",
    "pantheria_iucn_clean = joined_pantheria_iucn_data[nomiss]\n",
    "\n",
    "\n",
    "maturity_yr = pantheria_iucn_clean['maturity_d'] / 365\n",
    "longevity_yr = pantheria_iucn_clean['longevity_m'] / 12\n",
    "interbirth_yr = pantheria_iucn_clean['interbirth_d'] / 365\n",
    "litter_size_series = pantheria_iucn_clean['litter_size_ind']\n",
    "\n",
    "max_lifetime_fecundity = (((longevity_yr - maturity_yr) / interbirth_yr) * litter_size_series)\n",
    "pantheria_iucn_clean['max_lifetime_fecundity'] = max_lifetime_fecundity\n",
    "pantheria_iucn_clean\n"
   ]
  },
  {
   "cell_type": "markdown",
   "id": "a0699243",
   "metadata": {},
   "source": [
    "## Methods section\n",
    "\n",
    "Examine the `'iucn_status'` column in `pantheria_iucn_clean`. You will find that it contains seven different categories, each corresponding to a particular level of extinction risk (remembering that we removed all rows corresponding to `'DD'`, or data deficient, last week): \n",
    "\n",
    "![](iucn.svg)\n",
    "\n",
    "(note that our dataset does not contain any species within the 'CD' category, so we will ignore it)\n",
    "\n",
    "These categories can be viewed as an **ordinal** statistical variable, reflecting an ordering of severity from a species having a low risk of going extinct (LC) to fully extinct (EX). **We will consider any level above _Near Threatened (NT)_ to be at risk.** \n",
    "\n",
    "Since we are interested in examining fecundity in at-risk species, we can use this ordering to simplify our categories to the seven IUCN risk levels to two categories: 'at risk' vs 'not at risk'. Recoding our data in this way will involve two steps."
   ]
  },
  {
   "cell_type": "markdown",
   "id": "4e0c8bca",
   "metadata": {},
   "source": [
    "### Step 1. Recode our IUCN risk categories as numeric levels\n",
    "\n",
    "In this step, we want to specify the ordering scheme that we will use to represent the level of severity associated with each IUCN category.\n",
    "\n",
    "Create a dictionary named `iucn_map` that links the IUCN risk categories as displayed in our dataset to the level of severity, expressed numerically from 0 (least severe) to 6 (most severe). __(1 mark)__\n",
    "\n",
    "Use the `.replace()` function on the `iucn_status` column to change the IUCN risk category labels to numeric levels using the dictionary that we created above. Name the result `iucn_ord`. __(1 mark)__"
   ]
  },
  {
   "cell_type": "code",
   "execution_count": null,
   "id": "6c05b4b6",
   "metadata": {},
   "outputs": [],
   "source": [
    "# Step 1 check your work\n",
    "\n",
    "assert isinstance(iucn_ord, pd.core.series.Series)\n",
    "pantheria_iucn_clean.head()"
   ]
  },
  {
   "cell_type": "markdown",
   "id": "303a7e5b",
   "metadata": {},
   "source": [
    "### Step 2. Recode from set of 7 severity levels to Boolean risk categories\n",
    "\n",
    "Remembering that we are considering any species higher than IUCN level 'Near Threatened' (NT), create a new column called `'at_risk'` in our `pantheria_iucn_clean` dataset that is `True` for any species at IUCN level 2 (VU -- 'Vulnerable') or higher and `False` for any species below IUCN level 2. You may use an intermediate variable to add this new column if you wish, but we will not check for it."
   ]
  },
  {
   "cell_type": "code",
   "execution_count": null,
   "id": "bb501ecc",
   "metadata": {},
   "outputs": [],
   "source": [
    "# Step 2 check your work\n",
    "\n",
    "expected_columnnames = [\n",
    "    'order', 'genus_species', 'maturity_d', 'interbirth_d', 'longevity_m',\n",
    "    'litter_size_ind', 'iucn_status', 'max_lifetime_fecundity', 'at_risk'\n",
    "]\n",
    "assert expected_columnnames == list(pantheria_iucn_clean)"
   ]
  },
  {
   "cell_type": "markdown",
   "id": "37704ea8",
   "metadata": {},
   "source": [
    "## Computation section\n",
    "\n",
    "Using this new representation of conservation risk, we will now apply the `groupby()` function explore the following biological question:\n",
    "\n",
    "Do at-risk species have lower reproductive potential, on average, than species not at risk?\n",
    "\n",
    "Perform the steps below to carry out the computations to gather evidence to inform your answer to this question."
   ]
  },
  {
   "cell_type": "markdown",
   "id": "99aee05b",
   "metadata": {},
   "source": [
    "## How does reproductive potential vary across mammalian orders?"
   ]
  },
  {
   "cell_type": "markdown",
   "id": "23b5e5fc",
   "metadata": {},
   "source": [
    "### Step 1. Group data according to order\n",
    "\n",
    "We want to examine how our `max_lifetime_fecundity` metric varies across groups of mammals. Use the `groupby()` function to group `pantheria_iucn_clean` columns according to column `'order'`. Name the grouped `DataFrame` `order_grouped`. __(1 mark)__"
   ]
  },
  {
   "cell_type": "code",
   "execution_count": null,
   "id": "e97cb3cc",
   "metadata": {},
   "outputs": [],
   "source": [
    "# # check that the data is groups appropriately.\n",
    "\n",
    "assert len(order_grouped) == 29"
   ]
  },
  {
   "cell_type": "markdown",
   "id": "29a02aba",
   "metadata": {},
   "source": [
    "### Step 2. Calculate means according to groups.\n",
    "\n",
    "Use the `mean()` function to calculate the mean for each column within each order across `order_grouped`. Name the result `order_grouped_means`. __(1 mark)__"
   ]
  },
  {
   "cell_type": "code",
   "execution_count": null,
   "id": "848be808",
   "metadata": {},
   "outputs": [],
   "source": [
    "# check your work\n",
    "\n",
    "order_grouped_means.head()"
   ]
  },
  {
   "cell_type": "markdown",
   "id": "309c1555",
   "metadata": {},
   "source": [
    "### Step 3. Sort the values according to `max_lifetime_fecundity` from largest to smallest\n",
    "\n",
    "Use the `sort_values()` function to reshuffle `order_grouped_means` so that it descends from highest `max_lifetime_fecundity` to smallest. Name this sorted `DataFrame` `order_grouped_means_sorted`. __(1 mark)__\n",
    "\n",
    "If you are having trouble figuring out how to order the rows from largest to smallest, consult the documentation (https://pandas.pydata.org/docs/reference/api/pandas.DataFrame.sort_values.html) to see what argument is needed."
   ]
  },
  {
   "cell_type": "code",
   "execution_count": null,
   "id": "8ed41f88",
   "metadata": {},
   "outputs": [],
   "source": [
    "# check your work\n",
    "\n",
    "order_grouped_means_sorted.head()"
   ]
  },
  {
   "cell_type": "markdown",
   "id": "6b7a35bf",
   "metadata": {},
   "source": [
    "### Step 4. Visualize the results using a barplot\n",
    "\n",
    "Create a visualization of `max_lifetime_fecundity` across orders using `plot.bar()`.  Name this plot `order_mean_bar`. __(1 mark)__"
   ]
  },
  {
   "cell_type": "markdown",
   "id": "df083cd4",
   "metadata": {},
   "source": [
    "## Do at risk species have lower reproductive potential than species not at risk?"
   ]
  },
  {
   "cell_type": "markdown",
   "id": "16938eab",
   "metadata": {},
   "source": [
    "### Step 1. Group rows according to risk category\n",
    "\n",
    "Group `pantheria_iucn_clean` by column `'at_risk'` and name the result `risk_grouped`. __(1 mark)__"
   ]
  },
  {
   "cell_type": "markdown",
   "id": "35921e85",
   "metadata": {},
   "source": [
    "### Step 2. Visualize our results using a barplot\n",
    "\n",
    "Make a barplot similar to the one you made for the previous question to visualize average `'max_lifetime_fecundity'` between species at risk vs not at risk. Name the barplot `risk_group_plot`. __(1 mark)__"
   ]
  },
  {
   "cell_type": "markdown",
   "id": "2b240bce",
   "metadata": {},
   "source": [
    "## Conclusion\n",
    "\n",
    "Include cells with your answers to each of these questions:\n",
    "\n",
    "1. What mammalian order has the highest reproductive potential (maximum lifetime fecundity)? Which has the least (do not consider orders with missing values)? Google the names of the highest and lowest orders and describe in 1-2 words what type of animal corresponds to each. __(3 marks)__\n",
    "\n",
    "2. Are species with greater reproductive potential (higher `max_lifetime_fecundity`) at lower risk of going extinct? If so, why do you think that might be the case? Feel free to speculate! __(3 marks)__\n"
   ]
  }
 ],
 "metadata": {
  "kernelspec": {
   "display_name": "Python 3 (ipykernel)",
   "language": "python",
   "name": "python3"
  },
  "language_info": {
   "codemirror_mode": {
    "name": "ipython",
    "version": 3
   },
   "file_extension": ".py",
   "mimetype": "text/x-python",
   "name": "python",
   "nbconvert_exporter": "python",
   "pygments_lexer": "ipython3",
   "version": "3.9.9"
  }
 },
 "nbformat": 4,
 "nbformat_minor": 5
}
