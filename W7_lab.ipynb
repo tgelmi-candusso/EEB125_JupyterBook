{
 "cells": [
  {
   "cell_type": "markdown",
   "id": "9473bf19",
   "metadata": {},
   "source": [
    "# Lab Week 7: Functions "
   ]
  },
  {
   "cell_type": "markdown",
   "id": "3f42861a",
   "metadata": {},
   "source": [
    "## Lab Instructions and Learning Objectives\n",
    "\n",
    "Don't delete any of the cells in this notebook, and add markdown/code cells when asked.\n",
    "\n",
    "In this lab you will:"
   ]
  },
  {
   "cell_type": "markdown",
   "id": "4067bf93",
   "metadata": {},
   "source": [
    "  - practice writing a for loop in python\n",
    "  - explore some time series data"
   ]
  },
  {
   "cell_type": "markdown",
   "id": "f926de9f",
   "metadata": {},
   "source": [
    "## How to submit"
   ]
  },
  {
   "cell_type": "markdown",
   "id": "ba2972ff",
   "metadata": {},
   "source": [
    "1. Download this notebook using menu item `File —> Download As —> Notebook (.ipynb)`. Save it as Lab_7.ipynb.\n",
    "\n",
    "\n",
    "2. Log in here: https://markus-ds.teach.cs.toronto.edu (Tip: Control/Command-click to open it in a new tab so you can still see these instructions.)\n",
    "\n",
    "\n",
    "3. Choose your course.\n",
    "\n",
    "\n",
    "4. Click the lab7: Lab Week 7 assessment.\n",
    "\n",
    "\n",
    "5. Click the `Submissions` tab. The new page is `lab7: Submissions`.\n",
    "\n",
    "\n",
    "6. Click button `Upload File` on the bottom right.\n",
    "\n",
    "\n",
    "7. Click button `Choose Files`.\n",
    "\n",
    "\n",
    "8. Select the `Lab_7.ipynb` file that you downloaded, then click Save.\n",
    "\n"
   ]
  },
  {
   "cell_type": "markdown",
   "id": "4088aed4",
   "metadata": {},
   "source": [
    "## Due Date\n",
    "\n",
    "You will submit your completed labs as Notebook files on MarkUs by Friday at 10am."
   ]
  },
  {
   "cell_type": "markdown",
   "id": "7c8afce9",
   "metadata": {},
   "source": [
    "## Marking Rubric\n",
    "\n",
    "1 mark per test case."
   ]
  },
  {
   "cell_type": "markdown",
   "id": "5999d568",
   "metadata": {},
   "source": [
    "## Lab Week 7 Introduction"
   ]
  },
  {
   "cell_type": "markdown",
   "id": "50beeaf8",
   "metadata": {},
   "source": [
    "In this lab, you will again work with the `pantheria_iucn.csv` data set, which is is derived from the fusion of the Pantheria dataset and the IUCN dataset.\n",
    "\n",
    "As usual, these labs are meant to facilitate your understanding of the material from lectures in a low-stakes environment. Please feel free to refer to your lecture content, collaborate with your peers, and seek out help from your TAs."
   ]
  },
  {
   "cell_type": "code",
   "execution_count": 1,
   "id": "fd274f26",
   "metadata": {},
   "outputs": [
    {
     "data": {
      "text/html": [
       "<div>\n",
       "<style scoped>\n",
       "    .dataframe tbody tr th:only-of-type {\n",
       "        vertical-align: middle;\n",
       "    }\n",
       "\n",
       "    .dataframe tbody tr th {\n",
       "        vertical-align: top;\n",
       "    }\n",
       "\n",
       "    .dataframe thead th {\n",
       "        text-align: right;\n",
       "    }\n",
       "</style>\n",
       "<table border=\"1\" class=\"dataframe\">\n",
       "  <thead>\n",
       "    <tr style=\"text-align: right;\">\n",
       "      <th></th>\n",
       "      <th>genus_species</th>\n",
       "      <th>iucn_status</th>\n",
       "      <th>order</th>\n",
       "      <th>activity_cycle</th>\n",
       "      <th>metabolism_rate_g</th>\n",
       "      <th>metabolism_rate_mlO2hr</th>\n",
       "      <th>diet_breadth</th>\n",
       "      <th>homerange_km2</th>\n",
       "      <th>pop_density_nkm2</th>\n",
       "    </tr>\n",
       "  </thead>\n",
       "  <tbody>\n",
       "    <tr>\n",
       "      <th>0</th>\n",
       "      <td>Abrothrix_olivaceus</td>\n",
       "      <td>LC</td>\n",
       "      <td>Rodentia</td>\n",
       "      <td>2.0</td>\n",
       "      <td>27.0</td>\n",
       "      <td>49.19</td>\n",
       "      <td>7.0</td>\n",
       "      <td>1</td>\n",
       "      <td>3211.81</td>\n",
       "    </tr>\n",
       "    <tr>\n",
       "      <th>1</th>\n",
       "      <td>Acinonyx_jubatus</td>\n",
       "      <td>VU</td>\n",
       "      <td>Carnivora</td>\n",
       "      <td>3.0</td>\n",
       "      <td>48900.0</td>\n",
       "      <td>17115.00</td>\n",
       "      <td>1.0</td>\n",
       "      <td>4</td>\n",
       "      <td>0.01</td>\n",
       "    </tr>\n",
       "    <tr>\n",
       "      <th>2</th>\n",
       "      <td>Acomys_cahirinus</td>\n",
       "      <td>LC</td>\n",
       "      <td>Rodentia</td>\n",
       "      <td>1.0</td>\n",
       "      <td>NaN</td>\n",
       "      <td>NaN</td>\n",
       "      <td>NaN</td>\n",
       "      <td>1</td>\n",
       "      <td>2366.22</td>\n",
       "    </tr>\n",
       "    <tr>\n",
       "      <th>3</th>\n",
       "      <td>Acomys_russatus</td>\n",
       "      <td>LC</td>\n",
       "      <td>Rodentia</td>\n",
       "      <td>3.0</td>\n",
       "      <td>NaN</td>\n",
       "      <td>NaN</td>\n",
       "      <td>NaN</td>\n",
       "      <td>1</td>\n",
       "      <td>3487.07</td>\n",
       "    </tr>\n",
       "    <tr>\n",
       "      <th>4</th>\n",
       "      <td>Acrobates_pygmaeus</td>\n",
       "      <td>LC</td>\n",
       "      <td>Diprotodontia</td>\n",
       "      <td>NaN</td>\n",
       "      <td>14.0</td>\n",
       "      <td>14938.00</td>\n",
       "      <td>3.0</td>\n",
       "      <td>1</td>\n",
       "      <td>899.99</td>\n",
       "    </tr>\n",
       "  </tbody>\n",
       "</table>\n",
       "</div>"
      ],
      "text/plain": [
       "         genus_species iucn_status          order  activity_cycle  \\\n",
       "0  Abrothrix_olivaceus          LC       Rodentia             2.0   \n",
       "1     Acinonyx_jubatus          VU      Carnivora             3.0   \n",
       "2     Acomys_cahirinus          LC       Rodentia             1.0   \n",
       "3      Acomys_russatus          LC       Rodentia             3.0   \n",
       "4   Acrobates_pygmaeus          LC  Diprotodontia             NaN   \n",
       "\n",
       "   metabolism_rate_g  metabolism_rate_mlO2hr  diet_breadth  homerange_km2  \\\n",
       "0               27.0                   49.19           7.0              1   \n",
       "1            48900.0                17115.00           1.0              4   \n",
       "2                NaN                     NaN           NaN              1   \n",
       "3                NaN                     NaN           NaN              1   \n",
       "4               14.0                14938.00           3.0              1   \n",
       "\n",
       "   pop_density_nkm2  \n",
       "0           3211.81  \n",
       "1              0.01  \n",
       "2           2366.22  \n",
       "3           3487.07  \n",
       "4            899.99  "
      ]
     },
     "execution_count": 1,
     "metadata": {},
     "output_type": "execute_result"
    }
   ],
   "source": [
    "import pandas as pd\n",
    "\n",
    "pan_data = pd.read_csv('pantheria_iucn_w7.csv')\n",
    "pan_data.head()"
   ]
  },
  {
   "cell_type": "markdown",
   "id": "4610f309",
   "metadata": {},
   "source": [
    "## Question 1"
   ]
  },
  {
   "cell_type": "markdown",
   "id": "5ce1d423",
   "metadata": {},
   "source": [
    "This is a warmup to practice a for loop. Add up the numbers in column `'pop_density_nkm2'` using a for loop. Name that sum `running_total`."
   ]
  },
  {
   "cell_type": "code",
   "execution_count": null,
   "id": "39d51b14",
   "metadata": {},
   "outputs": [],
   "source": [
    "# place your answer in this cell"
   ]
  },
  {
   "cell_type": "code",
   "execution_count": null,
   "id": "8a3ceabe",
   "metadata": {},
   "outputs": [],
   "source": [
    "assert running_total == 402114.0949645482"
   ]
  },
  {
   "cell_type": "markdown",
   "id": "a1213dee",
   "metadata": {},
   "source": [
    "## The next couple questions"
   ]
  },
  {
   "cell_type": "markdown",
   "id": "3791c03b",
   "metadata": {},
   "source": [
    "Over the next few questions, we're going to make a bar blot of a subset of the following IUCN status: critical (CR) and endangered (EN). All other IUCN status will be considered collectively as \"Other\".\n",
    "\n",
    "The following code makes a list out of the `'iucn_status'` column and then replaces every non-CR and non-EN  with `'Other'`.\n",
    "\n",
    "That's an if statement! And a fancy version of a for loop that lets us use `i` as an index into the `iucn_status` list."
   ]
  },
  {
   "cell_type": "code",
   "execution_count": null,
   "id": "04222f3b",
   "metadata": {},
   "outputs": [],
   "source": [
    "iucn_status = list(pan_data[\"iucn_status\"])\n",
    "\n",
    "for i in range(len(iucn_status)):\n",
    "    if iucn_status[i] != \"CR\" and iucn_status[i] != \"EN\":\n",
    "        iucn_status[i] = \"Other\"\n",
    "        \n",
    "iucn_status"
   ]
  },
  {
   "cell_type": "markdown",
   "id": "a41cb6dc",
   "metadata": {},
   "source": [
    "## Question 2\n",
    "\n",
    "You can create a `Series` from a list like this: `pd.Series(iucn_status)`. Do that, and name this series `iucn_status_new`. Doing this gives you access to the `value_counts` function in `Series`, and also plotting."
   ]
  },
  {
   "cell_type": "code",
   "execution_count": null,
   "id": "66210b9d",
   "metadata": {},
   "outputs": [],
   "source": [
    "# place your answer in this cell"
   ]
  },
  {
   "cell_type": "markdown",
   "id": "79b2a1f5",
   "metadata": {},
   "source": [
    "## Question 3\n",
    "\n",
    "Plot the distribution of `iucn_status_new` using `plot.bar()`. Thought question: does the frequency distribution seem to make sense with what you expect?"
   ]
  },
  {
   "cell_type": "code",
   "execution_count": null,
   "id": "bc2f4bd4",
   "metadata": {},
   "outputs": [],
   "source": [
    "# place your answer in this cell. "
   ]
  },
  {
   "cell_type": "markdown",
   "id": "85a8bce4",
   "metadata": {},
   "source": [
    "## Question 4"
   ]
  },
  {
   "cell_type": "markdown",
   "id": "7c72eec9",
   "metadata": {},
   "source": [
    "Subset the `pan_data` dataframe to include only observations with the critically endangered status (CR). Name that subset `cr_df`.\n",
    "\n",
    "Use the `describe()` function to obtain summary statistics for the population density of critically endangered species. Name the summary statistics `cr_description`.\n",
    "\n",
    "Thought question: examine the median and the mean and use these two values to speculate about the shape of the distribution.\n",
    "\n",
    "Note that a characteristic of right-skewed distributions is that the first quartile (25th percent) is closer to the median than it is the third quartile (75th) percentile. In general, the opposite is true for left-skewed data. "
   ]
  },
  {
   "cell_type": "code",
   "execution_count": null,
   "id": "5b19e25f",
   "metadata": {},
   "outputs": [],
   "source": [
    "# Place your answer in this cell. "
   ]
  },
  {
   "cell_type": "markdown",
   "id": "456c8c51",
   "metadata": {},
   "source": [
    "## Question 5"
   ]
  },
  {
   "cell_type": "markdown",
   "id": "4b3b1ed4",
   "metadata": {},
   "source": [
    "Using function `pyplot` from module `matplotlib` to create a histogram of the distribution of the population density of critically endangered species (CR). Thought question: does the shape of the distribution match your conclusions from question 4?"
   ]
  },
  {
   "cell_type": "code",
   "execution_count": null,
   "id": "d8fab08e",
   "metadata": {},
   "outputs": [],
   "source": [
    "# place your answer in this cell.\n",
    "import matplotlib.pyplot as plt"
   ]
  },
  {
   "cell_type": "markdown",
   "id": "1832e282",
   "metadata": {},
   "source": [
    "## Question 6"
   ]
  },
  {
   "cell_type": "markdown",
   "id": "0482c1f7",
   "metadata": {},
   "source": [
    "Repeat question 5 but this time change the bins to 5 and 20, respectively. Display both plots.\n",
    "\n",
    "What do you notice about the change in the structure of the distribution of the population density of critically endangered species? Which distribution appears to represent the data best?"
   ]
  },
  {
   "cell_type": "code",
   "execution_count": null,
   "id": "8fb3992a",
   "metadata": {},
   "outputs": [],
   "source": [
    "# place your answer in this cell. "
   ]
  },
  {
   "cell_type": "markdown",
   "id": "dd8f42bd",
   "metadata": {},
   "source": [
    "## Question 7"
   ]
  },
  {
   "cell_type": "markdown",
   "id": "adb248c8",
   "metadata": {},
   "source": [
    "Subset the `pan_data` dataframe to include only observations from the endangered status `EN`. Name that subset `en_df`.\n",
    "\n",
    "Use the `describe()` function to obtain summary statistics for the population density of the endangered (EN) species. Name the summary statistics `en_description`.\n",
    "\n",
    "Thought question: similar to question 4, use the mean and median values to speculate about the shape of the distribution."
   ]
  },
  {
   "cell_type": "code",
   "execution_count": null,
   "id": "fa5340ea",
   "metadata": {},
   "outputs": [],
   "source": [
    "#place your answer in this cell. "
   ]
  }
 ],
 "metadata": {
  "kernelspec": {
   "display_name": "Python 3 (ipykernel)",
   "language": "python",
   "name": "python3"
  },
  "language_info": {
   "codemirror_mode": {
    "name": "ipython",
    "version": 3
   },
   "file_extension": ".py",
   "mimetype": "text/x-python",
   "name": "python",
   "nbconvert_exporter": "python",
   "pygments_lexer": "ipython3",
   "version": "3.10.2"
  }
 },
 "nbformat": 4,
 "nbformat_minor": 5
}
