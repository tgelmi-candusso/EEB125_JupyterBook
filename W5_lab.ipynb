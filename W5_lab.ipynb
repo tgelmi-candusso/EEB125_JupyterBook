{
 "cells": [
  {
   "cell_type": "markdown",
   "id": "9473bf19",
   "metadata": {},
   "source": [
    "# Lab 5: Data Wrangling and Summarizing Distributions"
   ]
  },
  {
   "cell_type": "markdown",
   "id": "3f42861a",
   "metadata": {},
   "source": [
    "# Lab Instructions and Learning Objectives\n",
    "\n",
    "Don't delete any of the cells in this notebook, and add markdown/code cells when asked.\n",
    "\n",
    "In this lab you will:"
   ]
  },
  {
   "cell_type": "markdown",
   "id": "4067bf93",
   "metadata": {},
   "source": [
    "  - select subsets of rows using operators  `!=` , `>`,  `>=`, `<`, `<=`, `<`.\n",
    "  - Understand how to construct and implement a boxplot.\n",
    "  - Understand how to summarize the distribution of a categorical variable. "
   ]
  },
  {
   "cell_type": "markdown",
   "id": "f926de9f",
   "metadata": {},
   "source": [
    "# How to submit"
   ]
  },
  {
   "cell_type": "markdown",
   "id": "ba2972ff",
   "metadata": {},
   "source": [
    "1. Download this notebook using menu item `File —> Download As —> Notebook (.ipynb)`. Save it as Lab_5.ipynb.\n",
    "\n",
    "\n",
    "2. Log in here: https://markus-ds.teach.cs.toronto.edu (Tip: Control/Command-click to open it in a new tab so you can still see these instructions.)\n",
    "\n",
    "\n",
    "3. Choose your course.\n",
    "\n",
    "\n",
    "4. Click the lab5: Lab week 5 assessment.\n",
    "\n",
    "\n",
    "5. Click the `Submissions` tab. The new page is `lab4: Submissions`.\n",
    "\n",
    "\n",
    "6. Click button `Upload File` on the bottom right.\n",
    "\n",
    "\n",
    "7. Click button `Choose Files`.\n",
    "\n",
    "\n",
    "8. Select the `Lab_5.ipynb` file that you downloaded, then click Save.\n",
    "\n"
   ]
  },
  {
   "cell_type": "markdown",
   "id": "4088aed4",
   "metadata": {},
   "source": [
    "# Due Date\n",
    "\n",
    "The due date is Friday, Feb. 11, 23:59.\n",
    "\n"
   ]
  },
  {
   "cell_type": "markdown",
   "id": "7c8afce9",
   "metadata": {},
   "source": [
    "# Marking Rubric\n",
    "\n",
    "1 mark per variable plus 1 for having all the right variable names."
   ]
  },
  {
   "cell_type": "markdown",
   "id": "5999d568",
   "metadata": {},
   "source": [
    "## Lab 5 Introduction"
   ]
  },
  {
   "cell_type": "markdown",
   "id": "50beeaf8",
   "metadata": {},
   "source": [
    "In this lab we will work with the Pantheria and IUCN dataset, merged in one table. The Pantheria dataset contains biologically relevant data for a series of species subdivided by orders. THe IUCN dataset contains the categories to which each species belongs in terms of vulnerability to extinction. This merged dataset you will be working with is called `pantheria_iucn.csv` and contains the following columns:\n",
    "- `'order'`: Taxonomic rank to which species belong.\n",
    "- `'genus_species'`: scientific names of each species.\n",
    "- `'iucn_status'`: IUCN categories as you have seen in previous labs, determining vulnerability to extinction.\n",
    "- `'activity_cycle'`: when in the day is the species mostly active.\n",
    "- `'metabolism_rate_g'`: the mass of individuals from which metabolic rate was estimated.\n",
    "- `'metabolic_rate_mlO2hr'`: Basal metabolic rate of adult individuals in milliliters of oxygen consumed per hour.\n",
    "- `'diet_breadth'`:  Number of dietary categories eaten by each species.\n",
    "- `'homerange_km2'`: Size of the area within which everyday activities of individuals or groups in square kilometers.\n",
    "- `'pop_density_nkm2'`: Number of individuals per square kilometer.\n",
    "\n",
    "For the following exercises we will use only three of these columns: `'order'`, `'homerange_km2'`and `'metabolic_rate_mlO2hr'`."
   ]
  },
  {
   "cell_type": "markdown",
   "id": "30ec64c3-36c6-40e2-bfce-f1f08cc5dba7",
   "metadata": {},
   "source": [
    "# Question 1\n",
    "\n",
    "Read CSV file `pantheria_iucn.csv` into a pandas `DataFrame` named `pantheria_iucn`. __(1 mark)__"
   ]
  },
  {
   "cell_type": "code",
   "execution_count": null,
   "id": "bd27c6e0-a17c-4dde-8ccb-b852f23401f9",
   "metadata": {
    "scrolled": true
   },
   "outputs": [],
   "source": [
    "# Q1 put your answer here\n"
   ]
  },
  {
   "cell_type": "code",
   "execution_count": null,
   "id": "3f682820",
   "metadata": {},
   "outputs": [],
   "source": [
    "# Q1 check\n",
    "\n",
    "pantheria_iucn.head()"
   ]
  },
  {
   "cell_type": "markdown",
   "id": "4610f309",
   "metadata": {},
   "source": [
    "## Question 2"
   ]
  },
  {
   "cell_type": "markdown",
   "id": "5ce1d423",
   "metadata": {},
   "source": [
    "We will look into the home ranges of each species in the dataset, this is the mean range of movement a species usually occupies during their daily activities. \n",
    "\n",
    "Create a new column in `pantheria_iucn` named `'homerange_bin'`. The values of `'homerange_bin'` should be obtained from the `'homerange_km2'` column in `pantheria_iucn` which has the values:\n",
    "\n",
    "```\n",
    "            Home range (groups of 10)\n",
    "\n",
    "           VALUE  LABEL\n",
    "               1  0 to 9 km2\n",
    "               2  10 to 24 km2\n",
    "               3  25 to 49 km2\n",
    "               4  50 to 99 km2\n",
    "               5  100 to 249 km2\n",
    "               6  250 to 499 km2\n",
    "               7  500 to 999 km2 \n",
    "               8  1000 km2 and over\n",
    "```\n",
    "\n",
    "`'homerange_bin'` should have the values `'local_range'`, `'regional_range'`, `'national_range'`, `'continental_range'`, `'global_range'` defined as :\n",
    "\n",
    "- `'local_range'`: 0 to 9 km2\n",
    "- `'regional_range'`: 10 to 49 km2\n",
    "- `'national_range'`: 50 to 99 km2\n",
    "- `'continental_range'`: 100 to 499 km2 \n",
    "- `'global_range'`: >500 km2\n",
    "\n",
    "__(1 mark)__"
   ]
  },
  {
   "cell_type": "code",
   "execution_count": null,
   "id": "4d95e275-9985-4ac2-afa5-bbd09b1794a1",
   "metadata": {},
   "outputs": [],
   "source": [
    "# Q2 put your answer here\n"
   ]
  },
  {
   "cell_type": "code",
   "execution_count": null,
   "id": "39d51b14",
   "metadata": {},
   "outputs": [],
   "source": [
    "# Q2 check\n",
    "\n",
    "homerange_bin_counts = pd.Series({'local_range':584, 'regional_range':39, 'national_range':12, 'continental_range':8, 'global_range':5})\n",
    "\n",
    "error_msg = 'check your definition of homerange_bin'\n",
    "\n",
    "assert pantheria_iucn.homerange_bin.value_counts().equals(homerange_bin_counts), error_msg"
   ]
  },
  {
   "cell_type": "markdown",
   "id": "a1213dee",
   "metadata": {
    "tags": []
   },
   "source": [
    "## Question 3\n",
    "\n",
    "Use `pantheria_iucn` to answer the following question. \n",
    "\n",
    "Calculate the relative frequency distribution of `'homerange_bin'` (i.e., the proportion of species in each home range group) for each order by using the`'order'` column. \n",
    "\n",
    "Name the distribution for Carnivora `CA_relfreq_dist`, and the distribution for the Primates `Pr_relfreq_dist`.\n",
    "\n",
    "__(2 marks)__"
   ]
  },
  {
   "cell_type": "code",
   "execution_count": null,
   "id": "12651be5-9a54-40c1-ae38-284a529a5259",
   "metadata": {
    "scrolled": true
   },
   "outputs": [],
   "source": [
    "# Q3 put your answer here\n"
   ]
  },
  {
   "cell_type": "code",
   "execution_count": null,
   "id": "e34ecf31",
   "metadata": {},
   "outputs": [],
   "source": [
    "# Q3 check\n",
    "\n",
    "print(CA_relfreq_dist)\n",
    "print(Pr_relfreq_dist)"
   ]
  },
  {
   "cell_type": "markdown",
   "id": "faa14f03-98f5-435d-b57c-7a02c586f7a4",
   "metadata": {},
   "source": [
    "# Question 4\n",
    "\n",
    "In this question you will use the two `Series`, `CA_relfreq_dist` and `Pr_relfreq_dist`, from Question 2.\n",
    "\n",
    "Compute the difference in distributions between Carnivora and Primates, and only keep the age groups where the proportion in Carnivora is greater than the proportion in the Primates.  \n",
    "\n",
    "Follow these steps to do the computation.\n",
    "\n",
    "**Step 1:**\n",
    "\n",
    "Compute the difference in relative frequency distributions between Carnivora and the Primates:\n",
    "\n",
    "`CA_relfreq_dist - Pr_relfreq_dist`\n",
    "\n",
    "**Step 2:**\n",
    "\n",
    "Select rows where the difference in the proportions within an home range group from step 1 is greater than 0. Name the resulting `Series` `diff_CAPr`."
   ]
  },
  {
   "cell_type": "code",
   "execution_count": null,
   "id": "1c2dedb0-7b6c-4480-bee8-a744ec57d384",
   "metadata": {},
   "outputs": [],
   "source": [
    "# Q4 put your answer here\n"
   ]
  },
  {
   "cell_type": "code",
   "execution_count": null,
   "id": "04222f3b",
   "metadata": {},
   "outputs": [],
   "source": [
    "# Q4 check\n",
    "\n",
    "error_msg = 'The shape is wrong.  Make sure you are selecting only differences greater than 0'\n",
    "expected_diff_CAPr_shape = (1, )\n",
    "\n",
    "assert diff_CAPr.shape == expected_diff_CAPr_shape\n",
    "\n",
    "diff_CAPr"
   ]
  },
  {
   "cell_type": "markdown",
   "id": "a41cb6dc",
   "metadata": {},
   "source": [
    "## Question 5"
   ]
  },
  {
   "cell_type": "markdown",
   "id": "71e0c3b5-3ee3-4888-aefc-ac31fb1ebc85",
   "metadata": {},
   "source": [
    "(a) Investigate the distribution of `'metabolism_rate_g'` by `'homerange_bin'` using the `describe` function.  Name the quantitative distribution (from the output of the `describe` function) `Metabolism_by_homerange_summary`. __(1 mark)__."
   ]
  },
  {
   "cell_type": "code",
   "execution_count": null,
   "id": "78bbccc9-fbeb-43d4-9053-7e30ece1a9af",
   "metadata": {},
   "outputs": [],
   "source": [
    "# Q5a put your answer here\n"
   ]
  },
  {
   "cell_type": "code",
   "execution_count": null,
   "id": "421fc273",
   "metadata": {},
   "outputs": [],
   "source": [
    "# Q5a check\n",
    "\n",
    "Metabolism_by_homerange_summary.head()"
   ]
  },
  {
   "cell_type": "markdown",
   "id": "314b97fc-abcd-4ec7-9219-7bd234a187cc",
   "metadata": {},
   "source": [
    "(b) Extract the column of `Metabolism_by_homerange_summary` corresponding to the median `metabolism_rate_g` by following these steps:\n",
    "\n",
    "Step 1:\n",
    "\n",
    "Obtain a list of column names of `Metabolism_by_homerange_summary` using `list(Metabolism_by_homerange)`, and name the list `Met_dist_colnames`. __(1 mark)__"
   ]
  },
  {
   "cell_type": "code",
   "execution_count": null,
   "id": "17fad050-e018-484e-bc09-d2994ccf905f",
   "metadata": {},
   "outputs": [],
   "source": [
    "# Q5b1 put your answer here\n"
   ]
  },
  {
   "cell_type": "code",
   "execution_count": null,
   "id": "63dfe1cf",
   "metadata": {},
   "outputs": [],
   "source": [
    "# Q5b1 check\n",
    "\n",
    "print(Met_dist_colnames)"
   ]
  },
  {
   "cell_type": "markdown",
   "id": "34925a1a-f175-47c3-b188-48652f7db502",
   "metadata": {},
   "source": [
    "Step 2:\n",
    "\n",
    "Extract the element of the list from Step 1 that corresponds to the median values.  Name this element of the list `median_column_name`. __(1 mark)__"
   ]
  },
  {
   "cell_type": "code",
   "execution_count": null,
   "id": "ca0e1a03-1be8-4399-a37f-992d3e4c493f",
   "metadata": {},
   "outputs": [],
   "source": [
    "# Q5b2 put your answer here\n"
   ]
  },
  {
   "cell_type": "code",
   "execution_count": null,
   "id": "8942806f",
   "metadata": {},
   "outputs": [],
   "source": [
    "# Q5b2 check\n",
    "\n",
    "print(median_column_name)"
   ]
  },
  {
   "cell_type": "markdown",
   "id": "ef039277-7d92-42ee-8f07-eb30e36b35f1",
   "metadata": {},
   "source": [
    "Step 3:\n",
    "\n",
    "Use `median_column_name` to extract the median column from `Metabolism_by_homerange`.  Name this `Series` `median_values`. Use either `.loc` or `.iloc` to extract the column. __(1 mark)__"
   ]
  },
  {
   "cell_type": "code",
   "execution_count": null,
   "id": "019dd688-18e7-4c27-8be6-09d5c78fab6a",
   "metadata": {},
   "outputs": [],
   "source": [
    "# Q5b3 put your answer here\n"
   ]
  },
  {
   "cell_type": "code",
   "execution_count": null,
   "id": "9619d51d-f36a-41b9-8f3a-31aaa757d6fa",
   "metadata": {},
   "outputs": [],
   "source": [
    "# Q5b3 check\n",
    "\n",
    "expected_medians = pd.Series({'continental_range' : 42450.00, 'global_range' : 365000.00, \n",
    "                     'local_range' : 206.55, 'national_range' : 121000.00,\n",
    "                     'regional_range' : 10450.00})\n",
    "\n",
    "error_msg = 'The column values should be median values you see in Metabolism_by_homerange_summary'\n",
    "\n",
    "assert expected_medians.equals(median_values), error_msg\n",
    "\n",
    "median_values"
   ]
  },
  {
   "cell_type": "markdown",
   "id": "85a8bce4",
   "metadata": {},
   "source": [
    "## Question 6"
   ]
  },
  {
   "cell_type": "markdown",
   "id": "7c72eec9",
   "metadata": {},
   "source": [
    "Use `pantheria_iucn` to visualize the distribution of `'metabolism_rate_g'` by `'homerange_bin'` by creating a boxplot for each area using the `boxplot`  function.  Name the boxplot `Metabolism_by_homerange_boxp` __(1 mark)__ "
   ]
  },
  {
   "cell_type": "code",
   "execution_count": null,
   "id": "c7a7f084-0b08-4b37-8335-4e771cfe3891",
   "metadata": {},
   "outputs": [],
   "source": [
    "# Q6 put your answer here\n"
   ]
  },
  {
   "cell_type": "code",
   "execution_count": null,
   "id": "5b19e25f",
   "metadata": {},
   "outputs": [],
   "source": [
    "# Q6 check\n",
    "\n",
    "type(Metabolism_by_homerange_boxp) # should be matplotlib.axes._subplots.AxesSubplot"
   ]
  }
 ],
 "metadata": {
  "kernelspec": {
   "display_name": "Python 3 (ipykernel)",
   "language": "python",
   "name": "python3"
  },
  "language_info": {
   "codemirror_mode": {
    "name": "ipython",
    "version": 3
   },
   "file_extension": ".py",
   "mimetype": "text/x-python",
   "name": "python",
   "nbconvert_exporter": "python",
   "pygments_lexer": "ipython3",
   "version": "3.9.9"
  }
 },
 "nbformat": 4,
 "nbformat_minor": 5
}
