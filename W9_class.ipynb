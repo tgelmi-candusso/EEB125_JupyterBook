{
 "cells": [
  {
   "cell_type": "markdown",
   "id": "df2fcea2-dbfe-44b2-87bf-9eb76fb9ff84",
   "metadata": {
    "slideshow": {
     "slide_type": "slide"
    }
   },
   "source": [
    "# Class 8 - EEB125H1\n",
    "\n",
    "- Bootstrap\n",
    "\n",
    "- Introduction to regression"
   ]
  },
  {
   "cell_type": "markdown",
   "id": "35affc44",
   "metadata": {
    "slideshow": {
     "slide_type": "slide"
    }
   },
   "source": [
    "# Bootstrap \n",
    "\n",
    "A data scientist is using the data in a random sample to estimate an unknown statistical parameter. She uses the sample to calculate the value of a statistic that she will use as her estimate."
   ]
  },
  {
   "cell_type": "markdown",
   "id": "06482f75",
   "metadata": {
    "slideshow": {
     "slide_type": "fragment"
    }
   },
   "source": [
    "Once she has calculated the observed value of her statistic, she could just present it as her estimate and go on her merry way. But she’s a data scientist. She knows that her random sample is just one of numerous possible random samples, and thus her estimate is just one of numerous plausible estimates."
   ]
  },
  {
   "cell_type": "markdown",
   "id": "20f1b57c",
   "metadata": {
    "slideshow": {
     "slide_type": "fragment"
    }
   },
   "source": [
    "By how much could those estimates vary? To answer this, it appears as though she needs to draw another sample from the population, and compute a new estimate based on the new sample. But she doesn’t have the resources to go back to the population and draw another sample."
   ]
  },
  {
   "cell_type": "markdown",
   "id": "34a7468f",
   "metadata": {
    "slideshow": {
     "slide_type": "fragment"
    }
   },
   "source": [
    "It looks as though the data scientist is stuck."
   ]
  },
  {
   "cell_type": "markdown",
   "id": "42440fbd-c283-4bcb-9ebc-f10760966b66",
   "metadata": {
    "slideshow": {
     "slide_type": "fragment"
    }
   },
   "source": [
    "Fortunately, a brilliant idea called the bootstrap can help her out. Since it is not feasible to generate new samples from the population, the bootstrap generates new random samples by a method called resampling: the new samples are drawn at random from the original sample."
   ]
  },
  {
   "cell_type": "markdown",
   "id": "fa90e925-66ed-43b8-ac74-b48e502c89b2",
   "metadata": {
    "slideshow": {
     "slide_type": "slide"
    }
   },
   "source": [
    "- We observed before that a large random sample from a population resembles the population from which it was drawn.\n",
    "\n",
    "- Consider gestation in days from the pantheria dataset."
   ]
  },
  {
   "cell_type": "code",
   "execution_count": null,
   "id": "38eb4fa6-3a99-488f-b0b9-9af193f8bd38",
   "metadata": {},
   "outputs": [],
   "source": [
    "import pandas as pd\n",
    "import matplotlib.pyplot as plt \n",
    "import numpy as np\n",
    "import seaborn as sns\n",
    "\n",
    "pantheria = pd.read_csv('pantheria.txt',sep=\"\\t\")\n",
    "\n",
    "print(pantheria.shape)"
   ]
  },
  {
   "cell_type": "code",
   "execution_count": null,
   "id": "9b2cf7ff-84fc-4643-b312-7f59e6f32935",
   "metadata": {},
   "outputs": [],
   "source": [
    "pantheria['9-1_GestationLen_d'].plot.hist(color = 'grey', edgecolor = 'black');"
   ]
  },
  {
   "cell_type": "code",
   "execution_count": null,
   "id": "d112fe85-41be-4365-8de8-8c9cad3f3f45",
   "metadata": {},
   "outputs": [],
   "source": [
    "pantheria['9-1_GestationLen_d'].median()"
   ]
  },
  {
   "cell_type": "markdown",
   "id": "1f1dd646-8a2a-4001-940e-788e7032925f",
   "metadata": {
    "slideshow": {
     "slide_type": "slide"
    }
   },
   "source": [
    "- Draw a random sample with replacement of the same size (number of rows) as the original sample.\n",
    "\n",
    "- This opens the possibility for the new sample to be different from the original sample."
   ]
  },
  {
   "cell_type": "code",
   "execution_count": null,
   "id": "8eec6b51-e0d1-41eb-a269-18d2bdbdd476",
   "metadata": {},
   "outputs": [],
   "source": [
    "gest_bsample = pantheria['9-1_GestationLen_d'].sample(frac = 1, replace=True)\n",
    "\n",
    "gest_bsample.plot.hist(color = 'grey', edgecolor = 'black');"
   ]
  },
  {
   "cell_type": "code",
   "execution_count": null,
   "id": "032bf293-5a18-42ed-9dc9-49880dc63cf5",
   "metadata": {},
   "outputs": [],
   "source": [
    "gest_bsample.median()"
   ]
  },
  {
   "cell_type": "markdown",
   "id": "8e57c6d6-1d50-4f8e-8e96-978559d6f944",
   "metadata": {
    "slideshow": {
     "slide_type": "slide"
    }
   },
   "source": [
    "## Why is this a good idea?\n",
    "\n",
    "- By the law of averages, the distribution of the original sample is likely to resemble the population.  \n",
    "\n",
    "- The distributions of all the “resamples” are likely to resemble the original sample. \n",
    "\n",
    "- So the distributions of all the resamples are likely to resemble the population as well."
   ]
  },
  {
   "cell_type": "markdown",
   "id": "fc4e8a4a-fec0-457d-89fc-9b8dd6e5d69d",
   "metadata": {
    "slideshow": {
     "slide_type": "slide"
    }
   },
   "source": [
    "## Resampled median\n",
    "\n",
    "- We generated one resampled or *bootstrapped* median above.\n",
    "\n",
    "- By resampling many times we can compute the empirical distribution of the median gestation time."
   ]
  },
  {
   "cell_type": "code",
   "execution_count": null,
   "id": "ae9b195e-3e08-473e-8d0a-0a68d8c9dd23",
   "metadata": {},
   "outputs": [],
   "source": [
    "def one_bs_median():\n",
    "    gest_med_bsample = pantheria['9-1_GestationLen_d'].sample(frac = 1, replace=True).median()\n",
    "    return gest_med_bsample"
   ]
  },
  {
   "cell_type": "code",
   "execution_count": null,
   "id": "3ad3b3c8-476e-4107-963e-17790dfffb6a",
   "metadata": {},
   "outputs": [],
   "source": [
    "one_bs_median()"
   ]
  },
  {
   "cell_type": "markdown",
   "id": "dd7720ac-069a-48c1-92a2-8d9d8cff7750",
   "metadata": {},
   "source": [
    "- Now let's compute many bootstrap medians by writing a `for` loop."
   ]
  },
  {
   "cell_type": "code",
   "execution_count": null,
   "id": "1fb17d80-be93-4eaa-b515-c0f7081d95ed",
   "metadata": {
    "slideshow": {
     "slide_type": "slide"
    }
   },
   "outputs": [],
   "source": [
    "bootstrap_medians = []  # empty list to collect medians\n",
    "\n",
    "for _ in range(5000):\n",
    "    bootstrap_medians.append(one_bs_median())"
   ]
  },
  {
   "cell_type": "code",
   "execution_count": null,
   "id": "8a10f3ed-9bda-4e0b-b3dc-cc4cff1c319e",
   "metadata": {},
   "outputs": [],
   "source": [
    "plt.hist(bootstrap_medians, color = 'grey', edgecolor = 'black');"
   ]
  },
  {
   "cell_type": "markdown",
   "id": "1b56f45d-df65-44d3-bb0d-5828a0cb495d",
   "metadata": {
    "slideshow": {
     "slide_type": "slide"
    }
   },
   "source": [
    "## Boostrap confidence intervals\n",
    "\n",
    "- We can use the bootstrap distribution to construct a range of values such that 95% of the random samples will contain the true median.\n",
    "\n",
    "- The range of values is called a confidence interval.\n",
    "\n",
    "- A 95% confidence interval for the median can be constructed finding the 2.5% percentile and the 97.5% percentile.  \n",
    "\n",
    "- The reason for choosing 2.5% and 97.5% is that 0.05/2 = 0.025, and 1 - 0.025 = 0.975.   \n",
    "\n",
    "- We can do this using the `percentile` function in `numpy`."
   ]
  },
  {
   "cell_type": "code",
   "execution_count": null,
   "id": "18c0522b-5ab6-452d-a88d-030f6268fe9f",
   "metadata": {},
   "outputs": [],
   "source": [
    "np.percentile(bootstrap_medians, 2.5)"
   ]
  },
  {
   "cell_type": "code",
   "execution_count": null,
   "id": "34493516-c986-45e4-874d-1e705c912215",
   "metadata": {},
   "outputs": [],
   "source": [
    "np.percentile(bootstrap_medians, 97.5)"
   ]
  },
  {
   "cell_type": "markdown",
   "id": "42826aaf-46d0-433b-b42c-d100e0730d3f",
   "metadata": {},
   "source": [
    "A 95% bootstrap confidence interval for median is 62.99 days to 78.07 days."
   ]
  },
  {
   "cell_type": "markdown",
   "id": "d3fd9ad3-997d-4266-82eb-f862d17743b3",
   "metadata": {
    "slideshow": {
     "slide_type": "slide"
    }
   },
   "source": [
    "## Bootstrap confidence intervals for other statistics"
   ]
  },
  {
   "cell_type": "markdown",
   "id": "edea41fc-6e87-4eec-ba04-1f11ccc046ee",
   "metadata": {},
   "source": [
    "### Do Primate carnivores have different body sizes compared to Carnivora carnivores?\n",
    "\n",
    "- Let's create a dataset (`DataFrame`) with primates and carnivora body mass measurements. "
   ]
  },
  {
   "cell_type": "code",
   "execution_count": null,
   "id": "70bb7559-1d04-4598-99b0-4bf4fd0844fe",
   "metadata": {
    "slideshow": {
     "slide_type": "fragment"
    }
   },
   "outputs": [],
   "source": [
    "cols = ['MSW05_Order', '5-1_AdultBodyMass_g']\n",
    "\n",
    "groups = (pantheria['MSW05_Order'] == 'Primates') | (pantheria['MSW05_Order'] == 'Carnivora')\n",
    "\n",
    "primcarn_df = pantheria.loc[groups, cols].dropna()\n",
    "\n",
    "primcarn_df.groupby('MSW05_Order').describe()"
   ]
  },
  {
   "cell_type": "code",
   "execution_count": null,
   "id": "04924399-bef8-42f4-b751-050b6053fa26",
   "metadata": {
    "slideshow": {
     "slide_type": "slide"
    }
   },
   "outputs": [],
   "source": [
    "primcarn_df.hist(by = 'MSW05_Order', bins = 10, edgecolor = 'black', color = 'grey');"
   ]
  },
  {
   "cell_type": "markdown",
   "id": "ac837b41-b087-4f06-8cfd-95aa8ee3f3bb",
   "metadata": {
    "slideshow": {
     "slide_type": "slide"
    }
   },
   "source": [
    "Create a function to create one bootstrap sample of the median difference."
   ]
  },
  {
   "cell_type": "code",
   "execution_count": null,
   "id": "45efd773-331f-4f75-b1b5-f719eecdb2d5",
   "metadata": {},
   "outputs": [],
   "source": [
    "# primate rows\n",
    "primes = primcarn_df['MSW05_Order'] == 'Primates'\n",
    "\n",
    "# carnivora rows\n",
    "carns = pantheria['MSW05_Order'] == 'Carnivora'\n",
    "\n",
    "\n",
    "def bs_one_median_diff():\n",
    "    # sample body mass with replacement\n",
    "    bssample = primcarn_df.sample(frac = 1, replace =  True)\n",
    "    \n",
    "    # compute difference in medians on bootstrap sample\n",
    "    bs_med_diff = (bssample.loc[carns, '5-1_AdultBodyMass_g'].median() - \n",
    "                   bssample.loc[primes, '5-1_AdultBodyMass_g'].median())\n",
    "    return bs_med_diff"
   ]
  },
  {
   "cell_type": "code",
   "execution_count": null,
   "id": "8b9065ec",
   "metadata": {},
   "outputs": [],
   "source": [
    "bs_one_median_diff()"
   ]
  },
  {
   "cell_type": "markdown",
   "id": "3ff2c7c3-da2c-4e8e-a5b0-9512cc7f940b",
   "metadata": {},
   "source": [
    "Now, compute bootstrap distribution for a `for` loop."
   ]
  },
  {
   "cell_type": "code",
   "execution_count": null,
   "id": "0007862d-46cc-41fa-a30e-2dccfceeb892",
   "metadata": {},
   "outputs": [],
   "source": [
    "bootst_med_diffs = []\n",
    "\n",
    "for _ in range(5000):\n",
    "    bootst_med_diffs.append(bs_one_median_diff())"
   ]
  },
  {
   "cell_type": "code",
   "execution_count": null,
   "id": "55172566-d50a-4acd-ae9c-ce90bc52a443",
   "metadata": {},
   "outputs": [],
   "source": [
    "plt.hist(bootst_med_diffs, color = 'grey', edgecolor = 'black');"
   ]
  },
  {
   "cell_type": "markdown",
   "id": "3d04b5a2-c614-42b0-8b3c-6c0cf982199c",
   "metadata": {},
   "source": [
    "A 95% confidence interval for the median difference is:"
   ]
  },
  {
   "cell_type": "code",
   "execution_count": null,
   "id": "78df8341-cd97-43a6-a9f2-9182d46d4b0c",
   "metadata": {},
   "outputs": [],
   "source": [
    "np.percentile(bootst_med_diffs, 2.5), np.percentile(bootst_med_diffs, 97.5) "
   ]
  },
  {
   "cell_type": "markdown",
   "id": "11b54377-10de-4ce9-8930-6c090e2678dd",
   "metadata": {},
   "source": [
    "The confidence interval contains 0, therefore there is very weak evidence that the medians are different."
   ]
  },
  {
   "cell_type": "markdown",
   "id": "f257ce9e-a2f7-4e1a-a0b3-455d047b9459",
   "metadata": {
    "slideshow": {
     "slide_type": "slide"
    }
   },
   "source": [
    "## In-class exercise\n",
    "\n",
    "Modify the code above to compute a 95% bootstrap confidence interval for the difference in means between Carnivora and Primates.  Does the confidence interval contain 0?"
   ]
  },
  {
   "cell_type": "markdown",
   "id": "b012aa46-cdfa-4372-abd0-c1b285f81ccf",
   "metadata": {
    "slideshow": {
     "slide_type": "slide"
    }
   },
   "source": [
    "# Linear Regression\n",
    "\n",
    "## Basic idea\n",
    "\n",
    "- Linear regression is a useful technique for creating models to explain relationships between variables. \n",
    "\n",
    "- For use in multiple regression variables the dependent variable must be numeric, and have meaningful numeric values. \n",
    "\n",
    "- The independent variables can be interval or categorical variables."
   ]
  },
  {
   "cell_type": "markdown",
   "id": "4b299df1-57c6-4cdc-93ea-4525d5adb942",
   "metadata": {
    "slideshow": {
     "slide_type": "slide"
    }
   },
   "source": [
    "## Example 1: perfect linear relationship between dependent and independent variables\n",
    "\n",
    "### Data"
   ]
  },
  {
   "cell_type": "code",
   "execution_count": null,
   "id": "65a0cefd-8938-4137-b3e6-8a7cb2addac2",
   "metadata": {},
   "outputs": [],
   "source": [
    "import pandas as pd\n",
    "import numpy as np\n",
    "\n",
    "data = {'depvar' : np.arange(start = 0, stop = 8, step =1),\n",
    "       'indvar' : np.arange(start = 0, stop = 8, step =1)}\n",
    "\n",
    "df = pd.DataFrame(data)\n",
    "\n",
    "df"
   ]
  },
  {
   "cell_type": "markdown",
   "id": "8703b81b-a3cf-4f1c-a5a0-ca83800fcd98",
   "metadata": {
    "slideshow": {
     "slide_type": "slide"
    }
   },
   "source": [
    "### Plot the data"
   ]
  },
  {
   "cell_type": "code",
   "execution_count": null,
   "id": "b901bbaf-da1e-42e0-81d4-84456ac9422f",
   "metadata": {
    "slideshow": {
     "slide_type": "slide"
    }
   },
   "outputs": [],
   "source": [
    "import matplotlib.pyplot as plt\n",
    "\n",
    "plt.scatter(x = df['indvar'], y = df['depvar'])\n",
    "plt.xlabel('indvar')\n",
    "plt.ylabel('depvar');"
   ]
  },
  {
   "cell_type": "markdown",
   "id": "48ab0e4f-eaa8-43e8-9236-28cad126d63f",
   "metadata": {},
   "source": [
    "- The scatter plot shows each pair of points (1, 1), (2, 2), etc. \n",
    "\n",
    "- `'indvar'` is sometimes called a predictor variable or covariate, and `'depvar'` is called the dependent variable.\n",
    "\n",
    "- The dependent variable is predicted exactly by the independent variable."
   ]
  },
  {
   "cell_type": "markdown",
   "id": "10775734-fe62-4e02-aa56-145ef82e46d7",
   "metadata": {
    "slideshow": {
     "slide_type": "slide"
    }
   },
   "source": [
    "### Compute the regression line"
   ]
  },
  {
   "cell_type": "code",
   "execution_count": null,
   "id": "bce4fa88-d67d-4685-ae01-64a9c02eb2cb",
   "metadata": {},
   "outputs": [],
   "source": [
    "from statsmodels.formula.api import ols\n",
    "\n",
    "regmod = ols('depvar ~ indvar', data = df) # setup the model"
   ]
  },
  {
   "cell_type": "markdown",
   "id": "8b21874f-701e-4c72-a30d-b3d277a6f684",
   "metadata": {},
   "source": [
    "- The code above uses the `ols` function from `statsmodels.formula.api` \n",
    "\n",
    "- The syntax in the function `ols` function `'depvar ~ indvar'` is a special syntax for describing statistical models.  \n",
    "\n",
    "- The column name to the **left** of `~` specifies the dependent variable.\n",
    "\n",
    "- The column name to the **right** of `~` specifies the independent variable(s)."
   ]
  },
  {
   "cell_type": "code",
   "execution_count": null,
   "id": "94bd5fb2-36a3-4fe9-9448-d1a9b01ef6f0",
   "metadata": {},
   "outputs": [],
   "source": [
    "regmod_fit = regmod.fit() # estimate/fit the model "
   ]
  },
  {
   "cell_type": "markdown",
   "id": "b86e7b6c-c743-4282-88be-6edf161e294d",
   "metadata": {},
   "source": [
    "After the model is setup then the `fit` function can be applied to the model.  This function computes the equation of the regression line."
   ]
  },
  {
   "cell_type": "code",
   "execution_count": null,
   "id": "1c8e103a-5128-4179-94b4-133c69f7c00e",
   "metadata": {},
   "outputs": [],
   "source": [
    "regmod_fit.params # get parameter estimates"
   ]
  },
  {
   "cell_type": "markdown",
   "id": "9c435d0d-a925-49e9-b29b-4d98ed830695",
   "metadata": {},
   "source": [
    "- The estimates of the **y-intercept** and **slope** are labelled `Intercept` (1.11e-16 approx 0)  and `indvar` (1.00e+00 approx 1).\n",
    "\n",
    "- This means the regression equation is: $$\\texttt{depvar} = 0 + 1 \\times \\texttt{indvar}$$"
   ]
  },
  {
   "cell_type": "markdown",
   "id": "aba31f01-a590-4cd3-bf8d-94fa12da634d",
   "metadata": {
    "slideshow": {
     "slide_type": "slide"
    }
   },
   "source": [
    "## Example 2: another perfect linear relationship"
   ]
  },
  {
   "cell_type": "code",
   "execution_count": null,
   "id": "a44794dd-dd16-47d0-b65b-ee70c8af8100",
   "metadata": {},
   "outputs": [],
   "source": [
    "data = {'depvar' : np.arange(start = 0, stop = 8, step =1) + 2,\n",
    "       'indvar' : np.arange(start = 0, stop = 8, step =1)}\n",
    "\n",
    "df = pd.DataFrame(data)\n",
    "\n",
    "df"
   ]
  },
  {
   "cell_type": "code",
   "execution_count": null,
   "id": "d442fa07-c907-4907-9315-5d547b0eb3ed",
   "metadata": {
    "slideshow": {
     "slide_type": "slide"
    }
   },
   "outputs": [],
   "source": [
    "plt.scatter(x = df['indvar'], y = df['depvar'])\n",
    "plt.xlabel('indvar')\n",
    "plt.ylabel('depvar');"
   ]
  },
  {
   "cell_type": "code",
   "execution_count": null,
   "id": "82ceed5b-5ccd-4b64-babb-1164c1dc496a",
   "metadata": {
    "slideshow": {
     "slide_type": "slide"
    }
   },
   "outputs": [],
   "source": [
    "regmod = ols('depvar ~ indvar', data = df) # setup the model\n",
    "\n",
    "regmod_fit = regmod.fit() # estimate/fit the model \n",
    "\n",
    "regmod_fit.params # get parameter estimates"
   ]
  },
  {
   "cell_type": "markdown",
   "id": "c862c762-f03f-4e15-a309-ac146b410975",
   "metadata": {},
   "source": [
    "- The scatter plot is similar to Example 1 except that the values of the dependent variable has been increased by 2.\n",
    "\n",
    "- The equation of the regression line for this data is:  $$\\texttt{depvar} = 2 + 1 \\times \\texttt{indvar} $$\n",
    "\n",
    "### Interpretation of y-intercept\n",
    "\n",
    "- When the independent variable is 0 the dependent variable is 2.  This is the meaning of the **y-intercept** value of 2.\n",
    "\n",
    "### Interpretation of slope\n",
    "\n",
    "- For a one-unit change in the independent variable the dependent variable changes by 1 unit."
   ]
  },
  {
   "cell_type": "markdown",
   "id": "c9a9f16b-f5b8-4260-bd96-97c660fa5a9f",
   "metadata": {
    "slideshow": {
     "slide_type": "slide"
    }
   },
   "source": [
    "## Example 3: close to linear\n",
    "\n",
    "- Examples 1 and 2 were perfect linear relationships.\n",
    "\n",
    "- In this example we examine what happens if the relationship between the dependent and independent variables is almost linear."
   ]
  },
  {
   "cell_type": "code",
   "execution_count": null,
   "id": "8677b893-d3e3-4376-9998-bdfa4ca68407",
   "metadata": {},
   "outputs": [],
   "source": [
    "np.random.seed(11) #set the seed so that it's reproducible\n",
    "\n",
    "data = {'depvar' : np.arange(start = 0, stop = 8, step =1) + 2,\n",
    "        'indvar' : np.arange(start = 0, stop = 8, step =1) + np.random.uniform(low = 0, high = 2, size = 8)}\n",
    "\n",
    "df = pd.DataFrame(data)\n",
    "\n",
    "df"
   ]
  },
  {
   "cell_type": "code",
   "execution_count": null,
   "id": "238bd266-67d1-4568-939d-cb04a92ec5cd",
   "metadata": {
    "slideshow": {
     "slide_type": "slide"
    }
   },
   "outputs": [],
   "source": [
    "plt.scatter(x = df['indvar'], y = df['depvar'])\n",
    "plt.xlabel('indvar')\n",
    "plt.ylabel('depvar');"
   ]
  },
  {
   "cell_type": "code",
   "execution_count": null,
   "id": "3c732692-4d06-4b4a-95ff-9fd4c881a594",
   "metadata": {},
   "outputs": [],
   "source": [
    "regmod = ols('depvar ~ indvar', data = df) # setup the model\n",
    "\n",
    "regmod_fit = regmod.fit() # estimate/fit the model \n",
    "\n",
    "regmod_fit.params # get parameter estimates"
   ]
  },
  {
   "cell_type": "markdown",
   "id": "c0fa1e91-0ede-4065-8381-2a1b1d891d93",
   "metadata": {},
   "source": [
    "So, now the relationship isn't perfectly linear, but close.  The equation of this regression line is:\n",
    "\n",
    "$$\\texttt{depvar} = 1.63 + 0.92 \\times \\texttt{indvar}$$"
   ]
  },
  {
   "cell_type": "code",
   "execution_count": null,
   "id": "0ece0480-1f98-40af-9d24-a0fa829f8f5a",
   "metadata": {
    "slideshow": {
     "slide_type": "slide"
    }
   },
   "outputs": [],
   "source": [
    "import seaborn as sns\n",
    "\n",
    "sns.regplot(x = 'indvar', y = 'depvar', data = df, ci = None);"
   ]
  },
  {
   "cell_type": "markdown",
   "id": "3b8c6e30-8209-4d4b-9b58-256c1db34560",
   "metadata": {},
   "source": [
    "The `regplot` function in the `seaborn` library will produce a scatter plot with the regression line.\n",
    "\n",
    "The parameters of `regplot`\n",
    "\n",
    "- `x` is the independent variable.\n",
    "- `y` is the dependent variable.\n",
    "- `ci = None` specifies no confidence interval for the regression line "
   ]
  },
  {
   "cell_type": "markdown",
   "id": "f440e4d0-8a2f-4807-9be9-2fd8475e79ed",
   "metadata": {
    "slideshow": {
     "slide_type": "slide"
    }
   },
   "source": [
    "### Statistical summary of linear regression"
   ]
  },
  {
   "cell_type": "code",
   "execution_count": null,
   "id": "3be12c93-1bea-4367-b04b-4d7aa34bf580",
   "metadata": {},
   "outputs": [],
   "source": [
    "import warnings\n",
    "warnings.filterwarnings('ignore') # turn off warnings\n",
    "\n",
    "regsum = regmod_fit.summary()\n",
    "regsum.tables[1]"
   ]
  },
  {
   "cell_type": "markdown",
   "id": "858c950f",
   "metadata": {},
   "source": [
    "- A statistical summary of the regression model is given above using the `summary` function in `statsmodels`.\n",
    "\n",
    "- There are three summary tables, but we will only be interested in the second summary table---`regsum.tables[1]` (in this course)."
   ]
  },
  {
   "cell_type": "code",
   "execution_count": null,
   "id": "333a5013",
   "metadata": {
    "slideshow": {
     "slide_type": "slide"
    }
   },
   "outputs": [],
   "source": [
    "regsum.tables[1]"
   ]
  },
  {
   "cell_type": "markdown",
   "id": "da5d106b",
   "metadata": {
    "slideshow": {
     "slide_type": "fragment"
    }
   },
   "source": [
    "What does the statistical summary represent?\n",
    "\n",
    "- the column labelled `coef` are same values as `regmod_fit.params`.  In this case the average increase `depvar` for a one unit change in `indvar` is 0.9229."
   ]
  },
  {
   "cell_type": "markdown",
   "id": "d7bd9d67",
   "metadata": {
    "slideshow": {
     "slide_type": "fragment"
    }
   },
   "source": [
    "- the `std err` column represents the standard deviation of the intercept and slope (we won't discuss in this course)."
   ]
  },
  {
   "cell_type": "markdown",
   "id": "be83e5bd",
   "metadata": {
    "slideshow": {
     "slide_type": "fragment"
    }
   },
   "source": [
    "- the `t` column represents the value of the t-statistic (we won't discuss in this course)."
   ]
  },
  {
   "cell_type": "markdown",
   "id": "7f039595",
   "metadata": {
    "slideshow": {
     "slide_type": "fragment"
    }
   },
   "source": [
    "- the column `P>|t|` represents the p-value corresponding to the null hypothesis that the intercept or slope are equal to 0.  If the value is small then this is evidence against the null hypothesis.  But if the p-value is large then there is no evidence against the null hypothesis.  "
   ]
  },
  {
   "cell_type": "markdown",
   "id": "793f560a",
   "metadata": {
    "slideshow": {
     "slide_type": "fragment"
    }
   },
   "source": [
    "- Currently, how small a p-value should be to provide evidence against a null hypothesis is being debated.  Although, the traditional threshold is 0.05 (i.e., a p-value less than or equal to 0.05 is supposed to indicate evidence against the null hypothesis)."
   ]
  },
  {
   "cell_type": "markdown",
   "id": "da301a16",
   "metadata": {
    "slideshow": {
     "slide_type": "fragment"
    }
   },
   "source": [
    "- In the example above the p-value for the slope is 0.  This indicates strong evidence that the *true* value of the slope is non-zero."
   ]
  },
  {
   "cell_type": "markdown",
   "id": "aeb520c9-e1ac-4e5c-a903-b7fd91c4d9c7",
   "metadata": {
    "slideshow": {
     "slide_type": "fragment"
    }
   },
   "source": [
    "- The columns `[0.025   0.975]` form a plausible range of values for the y-intercept and slope (formally known as a 95% confidence interval). In this case the plausible values for the slope are 0.745 and 1.101.  If the plausible range includes 0 then this is usually interpreted as not providing evidence against the null hypothesis.  "
   ]
  },
  {
   "cell_type": "markdown",
   "id": "0b73bd6e-c36d-4625-9d4f-457001a14fe1",
   "metadata": {
    "slideshow": {
     "slide_type": "slide"
    }
   },
   "source": [
    "## Predicted values and residuals\n",
    "\n",
    "If the values of the independent variable are plugged into the regression equation then we obtain the fitted values.\n",
    "\n",
    "$$\\texttt{depvar} = 1.63 + 0.92 \\times \\texttt{indvar}$$"
   ]
  },
  {
   "cell_type": "code",
   "execution_count": null,
   "id": "3994e8b3-cd43-46cc-ae68-1f3f6ff97132",
   "metadata": {},
   "outputs": [],
   "source": [
    "df"
   ]
  },
  {
   "cell_type": "markdown",
   "id": "46c19eb7-ad94-410c-a5c5-27f71fa262de",
   "metadata": {},
   "source": [
    "The fitted value for the first row of `df` is:"
   ]
  },
  {
   "cell_type": "code",
   "execution_count": null,
   "id": "aec4c8e0-9084-4e4a-8ad0-4ca36d14d4dd",
   "metadata": {},
   "outputs": [],
   "source": [
    "1.6254 + 0.9229*0.360539"
   ]
  },
  {
   "cell_type": "markdown",
   "id": "d0ec4dfa-b91a-4566-989f-2de167ef276d",
   "metadata": {},
   "source": [
    "- If the linear regression model is used on an independent variable that is not in the data set used to build the model then it's often referred to as a predicted value."
   ]
  },
  {
   "cell_type": "markdown",
   "id": "0e293e1e-a94d-4aed-84cc-d42f9064c776",
   "metadata": {
    "slideshow": {
     "slide_type": "slide"
    }
   },
   "source": [
    "To extract the fitted values from a regression model use the `fittedvalues` function in `statsmodels`."
   ]
  },
  {
   "cell_type": "code",
   "execution_count": null,
   "id": "2d2e0523-9df6-49c7-9a04-bf93a7ffc413",
   "metadata": {},
   "outputs": [],
   "source": [
    "regmod_fit.fittedvalues"
   ]
  },
  {
   "cell_type": "markdown",
   "id": "a784a7e2-4035-45d1-bce8-86d832c0428c",
   "metadata": {},
   "source": [
    "The residual is the dependent variable minus the fitted value.  So, for the first row the residual is:"
   ]
  },
  {
   "cell_type": "code",
   "execution_count": null,
   "id": "35b9cb24-a5ca-4ccc-a772-6a491ea155cd",
   "metadata": {},
   "outputs": [],
   "source": [
    "2 - 1.9581414431"
   ]
  },
  {
   "cell_type": "markdown",
   "id": "4c5b6b3c-6702-4ab3-9ed2-85fe141d9a14",
   "metadata": {
    "slideshow": {
     "slide_type": "slide"
    }
   },
   "source": [
    "To extract the residuals from a regression model use the `resid` function in `statsmodels`."
   ]
  },
  {
   "cell_type": "code",
   "execution_count": null,
   "id": "2a6fd014-3a4c-49c1-baa2-f70b9b5f7074",
   "metadata": {},
   "outputs": [],
   "source": [
    "regmod_fit.resid"
   ]
  },
  {
   "cell_type": "markdown",
   "id": "dc43dbf7-5d67-4014-bb80-074f34c81d29",
   "metadata": {},
   "source": [
    "- If the linear regression model fits the data well then the residuals should be close to 0.\n",
    "\n",
    "- One indication that the linear regression model fits well is to examine the **diagnostic** scatter plot of residuals versus fitted values.\n",
    "\n",
    "- A plot that looks like a random scatter of points around 0 indicates that linear regression is an appropriate model.\n",
    "\n",
    "- Since there are only 8 points it's hard to spot a pattern."
   ]
  },
  {
   "cell_type": "code",
   "execution_count": null,
   "id": "7e3666c0-17a5-4d03-94ce-c0ec6577f813",
   "metadata": {},
   "outputs": [],
   "source": [
    "plt.scatter(regmod_fit.fittedvalues, regmod_fit.resid)\n",
    "plt.axhline(y = 0)\n",
    "plt.xlabel('fitted values')\n",
    "plt.ylabel('residuals')"
   ]
  },
  {
   "cell_type": "markdown",
   "id": "b4fda4f8-1a45-4b8b-af59-46c0bb8b0bbf",
   "metadata": {
    "slideshow": {
     "slide_type": "slide"
    }
   },
   "source": [
    "## Accuracy of linear regression\n",
    "\n",
    "- There are several measures of accuracy for linear regression.\n",
    "\n",
    "- Popular measures are R-squared and root-mean squared error.\n",
    "\n",
    "- R-squared can be calculated from a fitted model regression model using the `rsquared` function in `statsmodels`.\n",
    "\n",
    "- R-squared is always between 0 and 1.  \n",
    "     + R-squared of 0 indicates a poor fit\n",
    "     + R-squared of 1 indicates a perfect fit"
   ]
  },
  {
   "cell_type": "code",
   "execution_count": null,
   "id": "33979c00-d8bd-4b03-84a7-7fb647c50782",
   "metadata": {},
   "outputs": [],
   "source": [
    "regmod_fit.rsquared"
   ]
  },
  {
   "cell_type": "markdown",
   "id": "1e24200e-3a17-4b3d-b1b2-dbd274112f30",
   "metadata": {
    "slideshow": {
     "slide_type": "slide"
    }
   },
   "source": [
    "## Example 4: regression with two or more independent variables\n",
    "\n",
    "It's possible to include more than one independent variable in a regression model.  "
   ]
  },
  {
   "cell_type": "code",
   "execution_count": null,
   "id": "2288c6dd-ea23-442b-9a33-21b4609a80ac",
   "metadata": {},
   "outputs": [],
   "source": [
    "np.random.seed(11) #set the seed so that it's reproducible\n",
    "\n",
    "data = {'depvar' : np.arange(start = 0, stop = 8, step =1) + 2,\n",
    "        'indvar1' : np.arange(start = 0, stop = 8, step =1) + np.random.uniform(low = 0, high = 2, size = 8),\n",
    "        'indvar2' : np.arange(start = 0, stop = 8, step =1) + np.random.normal(loc = 0, scale = 1, size = 8)}\n",
    "\n",
    "df = pd.DataFrame(data)\n",
    "\n",
    "df"
   ]
  },
  {
   "cell_type": "markdown",
   "id": "94869b31-9174-4720-8905-157314352bd3",
   "metadata": {},
   "source": [
    "To include more than one independent variable in a regression model add it to the right side of syntax for describing statistical models.\n",
    "\n",
    "`'depvar ~ indvar1 + indvar2'`"
   ]
  },
  {
   "cell_type": "code",
   "execution_count": null,
   "id": "44ed7bb9-c1a9-4e6b-aa78-75cca3af3da2",
   "metadata": {},
   "outputs": [],
   "source": [
    "regmod = ols('depvar ~ indvar1 + indvar2', data = df) # setup the model"
   ]
  },
  {
   "cell_type": "markdown",
   "id": "ac8eaa26-30e8-4010-9815-6ac6effdb591",
   "metadata": {
    "slideshow": {
     "slide_type": "slide"
    }
   },
   "source": [
    "Now `fit` `regmod`."
   ]
  },
  {
   "cell_type": "code",
   "execution_count": null,
   "id": "18f954d1-2b78-4510-8e7e-629ddfa4c962",
   "metadata": {},
   "outputs": [],
   "source": [
    "regmod_fit = regmod.fit() # estimate/fit the model "
   ]
  },
  {
   "cell_type": "markdown",
   "id": "2db7e60d-7e02-460d-a271-26fef999f03e",
   "metadata": {},
   "source": [
    "Extract the regression parameter estimates using `params`."
   ]
  },
  {
   "cell_type": "code",
   "execution_count": null,
   "id": "8fff8b02-e5cc-4209-a054-8894eb7010a9",
   "metadata": {},
   "outputs": [],
   "source": [
    "regmod_fit.params # get parameter estimates"
   ]
  },
  {
   "cell_type": "markdown",
   "id": "b1fbb313-cd06-4a05-b23e-fc1c3dcfdbe1",
   "metadata": {},
   "source": [
    "The estimated linear (multiple) linear regression model is:\n",
    "\n",
    "$$\\texttt{depvar} = 1.892482 + 0.549341 \\times \\texttt{indvar1} + 0.385197 \\times \\texttt{indvar2}$$\n",
    "\n",
    "- The y-intercept value (1.892482) is the value of the dependent variable when `indvar1` and `indvar2` are both 0.\n",
    "\n",
    "-  If `indvar1` changes by one-unit, `depvar` changes (on average) by 0.549341.\n",
    "\n",
    "-  If `indvar2` changes by one-unit, `depvar` changes (on average) by 0.385197. "
   ]
  },
  {
   "cell_type": "markdown",
   "id": "d8de2ca5-78f8-4094-a035-ad63540cbbcd",
   "metadata": {
    "slideshow": {
     "slide_type": "slide"
    }
   },
   "source": [
    "### Statistical summary of a multiple regression model"
   ]
  },
  {
   "cell_type": "code",
   "execution_count": null,
   "id": "22ba6a39-b64a-43bb-9793-ce8451adb5cc",
   "metadata": {},
   "outputs": [],
   "source": [
    "multregsummary = regmod_fit.summary()\n",
    "\n",
    "multregsummary.tables[1]"
   ]
  },
  {
   "cell_type": "markdown",
   "id": "92c189d5-8418-4451-94f2-0f425c510337",
   "metadata": {},
   "source": [
    "The statistical summary indicates:\n",
    "\n",
    "- the p-value for `indvar1` is 0.003 and the range of plausible values for the slope is 0.288 to 0.810.\n",
    "\n",
    "- the p-value for `indvar2` is 0.010 and the range of plausible values for the slope is 0.137 to 0.634.  \n",
    "\n",
    "- Since, both p-values are small there is evidence that slope is different from 0, and the range of plausible values does not include 0."
   ]
  },
  {
   "cell_type": "markdown",
   "id": "401d1241-0aaa-4f1c-93fd-335fe6ee7a22",
   "metadata": {
    "slideshow": {
     "slide_type": "slide"
    }
   },
   "source": [
    "### Accuracy of multiple regression model"
   ]
  },
  {
   "cell_type": "code",
   "execution_count": null,
   "id": "c9cc402d-1c51-4f2c-8df3-fe1c2d97fdcf",
   "metadata": {},
   "outputs": [],
   "source": [
    "plt.scatter(regmod_fit.fittedvalues, regmod_fit.resid)\n",
    "plt.axhline(y = 0)\n",
    "plt.xlabel('fitted values')\n",
    "plt.ylabel('residuals')"
   ]
  },
  {
   "cell_type": "code",
   "execution_count": null,
   "id": "fa0bedb1-c380-453f-95df-49853f70e227",
   "metadata": {},
   "outputs": [],
   "source": [
    "regmod_fit.rsquared"
   ]
  },
  {
   "cell_type": "markdown",
   "id": "afcfa85d-2242-4986-a861-fbd4e48b45e1",
   "metadata": {
    "slideshow": {
     "slide_type": "slide"
    }
   },
   "source": [
    "## A regression model of body mass on longevity\n",
    "\n",
    "### Data\n",
    "\n",
    "- pantheria data contains data on longevity and body mass."
   ]
  },
  {
   "cell_type": "code",
   "execution_count": null,
   "id": "5fd1228a-08f3-4509-9785-27a9ed014879",
   "metadata": {},
   "outputs": [],
   "source": [
    "import pandas as pd\n",
    "import matplotlib.pyplot as plt \n",
    "import numpy as np\n",
    "import seaborn as sns\n",
    "\n",
    "pantheria = pd.read_csv('pantheria.txt',sep=\"\\t\")\n",
    "pantheria.head()"
   ]
  },
  {
   "cell_type": "markdown",
   "id": "cdbe6594-79e5-473c-af38-dd451460340f",
   "metadata": {
    "slideshow": {
     "slide_type": "slide"
    }
   },
   "source": [
    "We will be interested in the following columns."
   ]
  },
  {
   "cell_type": "code",
   "execution_count": null,
   "id": "e1410c4e-6640-466a-8fb5-24cdd3394242",
   "metadata": {},
   "outputs": [],
   "source": [
    "cols = ['5-1_AdultBodyMass_g', '17-1_MaxLongevity_m', '9-1_GestationLen_d', 'MSW05_Binomial']\n",
    "\n",
    "panthdat_trans = pantheria[cols]\n",
    "\n",
    "colnames = {cols[0] : 'bodymass',\n",
    "            cols[1] : 'longevity',\n",
    "            cols[2] : 'gestation',\n",
    "            cols[3] : 'name'}\n",
    "\n",
    "panthdat_trans = panthdat_trans.copy()\n",
    "\n",
    "panthdat_trans.rename(columns = colnames, inplace = True)\n",
    "\n",
    "panthdat_trans.head()"
   ]
  },
  {
   "cell_type": "markdown",
   "id": "49eab91e-8d22-4a40-b322-caa52d23781a",
   "metadata": {
    "slideshow": {
     "slide_type": "slide"
    }
   },
   "source": [
    "Let's look at the distribution of `'bodymass'`, `'longevity'`, and '`gestation`'."
   ]
  },
  {
   "cell_type": "code",
   "execution_count": null,
   "id": "d04d5716-1ff6-42d3-8b23-fbd0fa9d2019",
   "metadata": {},
   "outputs": [],
   "source": [
    "panthdat_trans.hist(column = ['bodymass', 'longevity', 'gestation'], bins = 4, color = 'grey', edgecolor = 'black', grid = False);"
   ]
  },
  {
   "cell_type": "code",
   "execution_count": null,
   "id": "f0cf0209-99a9-4de1-814c-9fea3e000196",
   "metadata": {
    "slideshow": {
     "slide_type": "slide"
    }
   },
   "outputs": [],
   "source": [
    "plt.scatter(panthdat_trans['bodymass'], panthdat_trans['longevity'], color = 'blue', label = 'bodymass');\n",
    "\n",
    "plt.scatter(panthdat_trans['gestation'], panthdat_trans['longevity'], color = 'red', label = 'gestation');\n",
    "\n",
    "plt.legend();"
   ]
  },
  {
   "cell_type": "markdown",
   "id": "894343af-85e1-4396-943a-135a48664bc8",
   "metadata": {
    "slideshow": {
     "slide_type": "slide"
    }
   },
   "source": [
    "### Transform the data\n",
    "\n",
    "- This is a bit hard to interpret.  \n",
    "\n",
    "- One way to deal with data that is clumped together is to trandform the values using $\\log_{e}(x)$. \n",
    "\n",
    "- The difference between 0.2 and 0.1 is 0.1, but the difference between $\\log_{e}(0.2)$ and $\\log_{e}(0.1)$ is 0.69. "
   ]
  },
  {
   "cell_type": "code",
   "execution_count": null,
   "id": "543488e9-3c41-4182-902f-4e57e8489f9f",
   "metadata": {},
   "outputs": [],
   "source": [
    "x = 0.2 - 0.1\n",
    "\n",
    "logx = np.log(0.2) - np.log(0.1)\n",
    "\n",
    "print('0.2 - 0.1 =', x,'\\n \\n','log(0.2) - log(0.1)=',logx.round(1))"
   ]
  },
  {
   "cell_type": "markdown",
   "id": "81039ba1-44fc-485f-bea6-c7dac63d1caf",
   "metadata": {},
   "source": [
    "We can compute $log(x)$ of each `'bodymass'` and `'longevity'` using the `pandas` function `apply` with the `numpy` function `log`."
   ]
  },
  {
   "cell_type": "code",
   "execution_count": null,
   "id": "a294d10d-ec6e-49da-bfd2-6bf3275460a5",
   "metadata": {},
   "outputs": [],
   "source": [
    "panthdat_trans[['bodymass', 'longevity', 'gestation']] = (panthdat_trans[['bodymass', 'longevity', 'gestation']].\n",
    "                                                          apply(np.log))"
   ]
  },
  {
   "cell_type": "markdown",
   "id": "d7a40f30-c685-4b85-ba21-29c9149ae5a5",
   "metadata": {
    "slideshow": {
     "slide_type": "fragment"
    }
   },
   "source": [
    "It will also be helpful to drop missing values.  This can be done using the `pandas` function `dropna` with the parameter `inplace = True`, so that it modifies the existing `DataFrame`."
   ]
  },
  {
   "cell_type": "code",
   "execution_count": null,
   "id": "2c8e6f44-00e7-4d65-9eb6-fb945ac99c9e",
   "metadata": {},
   "outputs": [],
   "source": [
    "panthdat_trans.dropna(inplace = True)\n",
    "\n",
    "print(panthdat_trans.isna().sum()) # check for missing values\n",
    "\n",
    "panthdat_trans.head()"
   ]
  },
  {
   "cell_type": "markdown",
   "id": "902c7dff-75e2-489c-8b28-914d4e994de6",
   "metadata": {
    "slideshow": {
     "slide_type": "slide"
    }
   },
   "source": [
    "### Plot the data"
   ]
  },
  {
   "cell_type": "code",
   "execution_count": null,
   "id": "4bb4a3b1-1052-4ab2-9245-7ed6baaa7353",
   "metadata": {},
   "outputs": [],
   "source": [
    "sns.pairplot(panthdat_trans);"
   ]
  },
  {
   "cell_type": "markdown",
   "id": "a83972c9-d6f4-47b5-b8bd-2a29981246d5",
   "metadata": {
    "slideshow": {
     "slide_type": "slide"
    }
   },
   "source": [
    "## A regression model of length of gestation on longevity\n",
    "\n",
    "### Fit the regression model"
   ]
  },
  {
   "cell_type": "code",
   "execution_count": null,
   "id": "2507a1b6-da71-4031-abf1-7bfc9c143dbb",
   "metadata": {},
   "outputs": [],
   "source": [
    "reg_longbmass = ols('longevity ~ bodymass', data = panthdat_trans) # setup the model\n",
    "\n",
    "reg_longbmass_fit = reg_longbmass.fit() # estimate/fit the model "
   ]
  },
  {
   "cell_type": "markdown",
   "id": "7d565005-6dc8-4bc9-a6e0-534e9843abcf",
   "metadata": {
    "slideshow": {
     "slide_type": "slide"
    }
   },
   "source": [
    "## Statistical summary of the regression model"
   ]
  },
  {
   "cell_type": "code",
   "execution_count": null,
   "id": "c13e81e3-8022-4899-b559-68a4afaae270",
   "metadata": {},
   "outputs": [],
   "source": [
    "reg_longbmass_summ = reg_longbmass_fit.summary()\n",
    "\n",
    "reg_longbmass_summ.tables[1]"
   ]
  },
  {
   "cell_type": "markdown",
   "id": "367b6917-af4c-4155-9192-febea1e05a19",
   "metadata": {},
   "source": [
    "- The regression equation is:\n",
    "\n",
    "$$\\texttt{longevity} = 3.4256 + 0.2012\\times \\texttt{bodymass}$$\n",
    "\n",
    "- The **slope** indicates that for a 1 gram **increase** in body mass longevity increases by 0.20 months.\n",
    "\n",
    "- The **y-intercept** indicates that when body mass is 0 then longevity is 3.4 months.\n",
    "\n",
    "- Are there any species with 0 gram body mass?\n",
    "\n",
    "- The **y-intercept** in regression models often doesn't have a sensible interpretation, but is often mathematically important for regression to work well."
   ]
  },
  {
   "cell_type": "markdown",
   "id": "bba4e57d-bcf1-4194-827c-e129c099fe39",
   "metadata": {
    "slideshow": {
     "slide_type": "slide"
    }
   },
   "source": [
    "### Accuracy of regression model"
   ]
  },
  {
   "cell_type": "code",
   "execution_count": null,
   "id": "8ce9e76f-55ff-4f72-abdc-60e37c6e40f9",
   "metadata": {},
   "outputs": [],
   "source": [
    "reg_longbmass_fit.rsquared"
   ]
  },
  {
   "cell_type": "code",
   "execution_count": null,
   "id": "42c7d9cc-54fd-4837-920b-d1e285195ef6",
   "metadata": {},
   "outputs": [],
   "source": [
    "plt.scatter(x = reg_longbmass_fit.fittedvalues , y = reg_longbmass_fit.resid)\n",
    "plt.axhline(y = 0)\n",
    "plt.xlabel('fitted values')\n",
    "plt.ylabel('residuals')"
   ]
  },
  {
   "cell_type": "markdown",
   "id": "e28ce151-d4b4-4cfe-a969-b25cf091d016",
   "metadata": {
    "slideshow": {
     "slide_type": "slide"
    }
   },
   "source": [
    "## Training and testing a model\n",
    "\n",
    "- Ideally we could assess the accuracy of this linear regression model on a new set of data (i.e., longevity in species from another study). \n",
    "\n",
    "- But, we don't have this data.\n",
    "\n",
    "- One trick that data scientists use to fit the model on part of the data (training data) and use the remaining part (testing data) to test the accuracy.\n",
    "\n",
    "- If we only have one data set then the training data can be obtained by randomly selecting rows from the data to fit the regression model, then the remaining rows can be used to test the accuracy of the model."
   ]
  },
  {
   "cell_type": "markdown",
   "id": "2faf31f9-ddbb-4c2e-a3b1-7d4cb9690781",
   "metadata": {
    "slideshow": {
     "slide_type": "slide"
    }
   },
   "source": [
    "### Splitting a `pandas` `DataFrame` by `index`"
   ]
  },
  {
   "cell_type": "code",
   "execution_count": null,
   "id": "c75e2ade-ec9b-4b16-a27d-1e70f864a39a",
   "metadata": {
    "slideshow": {
     "slide_type": "-"
    }
   },
   "outputs": [],
   "source": [
    "data = {'a' : [1, 2, 3, 4, 5]}\n",
    "\n",
    "df = pd.DataFrame(data)\n",
    "\n",
    "df.index"
   ]
  },
  {
   "cell_type": "markdown",
   "id": "8e86d666-0d79-47a2-b6d1-ae3e7967fefe",
   "metadata": {},
   "source": [
    "A Boolean array that is `True` if the index is `0` or `1` and `False` otherwise. "
   ]
  },
  {
   "cell_type": "code",
   "execution_count": null,
   "id": "ec39965d-6d0a-451f-9f22-68e51354bf3e",
   "metadata": {},
   "outputs": [],
   "source": [
    "df.index.isin([0,1])"
   ]
  },
  {
   "cell_type": "markdown",
   "id": "2b5a75c7-beb7-4a11-905a-efa60587fa78",
   "metadata": {},
   "source": [
    "To create a Boolean series that is `False` if the index is `0` or `1` and `True` otherwise we can negate `df.index.isin([0,1])` this Boolean series using the `~` operator `~df.index.isin([0,1])`"
   ]
  },
  {
   "cell_type": "code",
   "execution_count": null,
   "id": "2b1d3cda-2450-44b3-a993-ec562cf0eeba",
   "metadata": {},
   "outputs": [],
   "source": [
    "~df.index.isin([0,1])"
   ]
  },
  {
   "cell_type": "code",
   "execution_count": null,
   "id": "85e10077-213d-4e0a-b998-71fe54be3961",
   "metadata": {},
   "outputs": [],
   "source": [
    "df[~df.index.isin([0,1])]"
   ]
  },
  {
   "cell_type": "markdown",
   "id": "3627dbf5-f59a-41fc-adaf-27ffb04baf80",
   "metadata": {
    "slideshow": {
     "slide_type": "slide"
    }
   },
   "source": [
    "### Creating training and test data sets from a single dataset"
   ]
  },
  {
   "cell_type": "markdown",
   "id": "fc7fa7be-34a4-4fba-b2df-7f0ced43585d",
   "metadata": {},
   "source": [
    "### Step 1: \n",
    "\n",
    "- split the data into a training set with 75% of the rows.\n",
    "\n",
    "- use the remaining 25% of the data for testing. "
   ]
  },
  {
   "cell_type": "code",
   "execution_count": null,
   "id": "013fd6bf-86e7-4838-881b-1b5c0bcc5bdd",
   "metadata": {},
   "outputs": [],
   "source": [
    "np.random.seed(11) # for reproducibility\n",
    "\n",
    "# randomly select 75% of neighbourhoods\n",
    "reg_df_train = panthdat_trans.sample(frac = 0.75, replace = False) \n",
    "\n",
    "# get index of training data\n",
    "train_index = reg_df_train.index"
   ]
  },
  {
   "cell_type": "markdown",
   "id": "5129398e-9425-4740-9598-763272cab59c",
   "metadata": {
    "tags": []
   },
   "source": [
    "- Exclude indicies from `reg_df_train` using `pandas` `isin` function. "
   ]
  },
  {
   "cell_type": "code",
   "execution_count": null,
   "id": "e09b3e18-2a8f-4e69-a824-18abee528dfb",
   "metadata": {},
   "outputs": [],
   "source": [
    "# exclude rows in training to define test data\n",
    "reg_df_test = panthdat_trans[~panthdat_trans.index.isin(train_index)]\n",
    "\n",
    "print(panthdat_trans.shape)\n",
    "\n",
    "print(reg_df_train.shape)\n",
    "\n",
    "print(reg_df_test.shape)"
   ]
  },
  {
   "cell_type": "markdown",
   "id": "7283d164-35dd-4ff0-859a-6069965e005f",
   "metadata": {
    "slideshow": {
     "slide_type": "slide"
    }
   },
   "source": [
    "### Step 2: Fit the regression model on the training data"
   ]
  },
  {
   "cell_type": "code",
   "execution_count": null,
   "id": "6cd9f0f2-cfdd-40f6-ad06-3c1ea6c04333",
   "metadata": {},
   "outputs": [],
   "source": [
    "reg_train = ols('longevity ~ bodymass', data = reg_df_train) # setup the model\n",
    "\n",
    "reg_train_fit = reg_train.fit() # estimate/fit the model "
   ]
  },
  {
   "cell_type": "markdown",
   "id": "fbe4959b-1f73-4482-941d-c48661a7a6c9",
   "metadata": {
    "slideshow": {
     "slide_type": "slide"
    }
   },
   "source": [
    "### Step 3: Compute predicted (fitted) values using training data "
   ]
  },
  {
   "cell_type": "code",
   "execution_count": null,
   "id": "066e306b-11cb-462a-999a-97347ebc0cb6",
   "metadata": {},
   "outputs": [],
   "source": [
    "# use the model fit on the training data to predict longevity rates\n",
    "# from the test set. \n",
    "\n",
    "predvalues_train = reg_train_fit.predict(reg_df_train['bodymass'])"
   ]
  },
  {
   "cell_type": "markdown",
   "id": "45f5882e-906d-4372-a7fa-1c974760ee07",
   "metadata": {
    "slideshow": {
     "slide_type": "slide"
    }
   },
   "source": [
    "### Step 4: Evaluate accuracy using root mean-squared error on training data\n",
    "\n",
    "- Another measure of accuracy of regression models.\n",
    "\n",
    "- Compares observed values of the dependent variable with the predicted values.\n",
    "\n",
    "- It can be computed using the `rmse` function from `statsmodels`."
   ]
  },
  {
   "cell_type": "markdown",
   "id": "56c553f1-ea9f-43e4-b38c-c481ea7dc9dc",
   "metadata": {},
   "source": [
    " Compute root mean-squared error for the training data."
   ]
  },
  {
   "cell_type": "code",
   "execution_count": null,
   "id": "7fa6b134-0065-4ba9-9751-4e4d21d73f6f",
   "metadata": {},
   "outputs": [],
   "source": [
    "from statsmodels.tools.eval_measures import rmse\n",
    "\n",
    "# compute the accuracy of these predictions\n",
    "\n",
    "rmse(predvalues_train, reg_df_train['bodymass'])"
   ]
  },
  {
   "cell_type": "markdown",
   "id": "b17559ca-38d5-4dac-b087-eaabd702c27f",
   "metadata": {},
   "source": [
    "- The observed longevity deviate from the predicted longevity for each species by 4 months in the training set.\n",
    "\n",
    "- Is this an acceptable prediction error?\n",
    "\n",
    "- Let's examine the accuracy of the linear regression model on the test set\n",
    "\n",
    "- First compute the predicted values using the training data."
   ]
  },
  {
   "cell_type": "markdown",
   "id": "8341aef6-6641-44b8-9d91-6d8ab1c5b962",
   "metadata": {
    "slideshow": {
     "slide_type": "slide"
    }
   },
   "source": [
    "### Step 5: Evaluate the accuracy of regression model on the test data using root mean-squared error\n",
    "\n",
    "- Compute predictions using test data"
   ]
  },
  {
   "cell_type": "code",
   "execution_count": null,
   "id": "c4268305-14d9-4982-bf34-966ca7255f73",
   "metadata": {},
   "outputs": [],
   "source": [
    "predvalues_test = reg_train_fit.predict(reg_df_test['bodymass'])"
   ]
  },
  {
   "cell_type": "markdown",
   "id": "a56afff4-e45d-4b37-a71b-beac10943604",
   "metadata": {},
   "source": [
    "- Now compute the root mean-squared error for the test data using the model fit on the training data."
   ]
  },
  {
   "cell_type": "code",
   "execution_count": null,
   "id": "48e6a1ff-54b0-4fd9-83b0-061aa50d2562",
   "metadata": {},
   "outputs": [],
   "source": [
    "rmse(predvalues_test, reg_df_test['bodymass'])"
   ]
  },
  {
   "cell_type": "markdown",
   "id": "d72ceb99-2e57-4e98-9ad8-d100a3a7c017",
   "metadata": {
    "slideshow": {
     "slide_type": "slide"
    }
   },
   "source": [
    "## Conclusion of data analysis using linear regression model\n",
    "\n",
    "- The regression model appears to provide an accurate fit the data, although both the scatter plot and plot of residuals indicate that there is a lot of variation in species with lower body masses.\n",
    "\n",
    "- As the body mass increase longevity increases. "
   ]
  },
  {
   "cell_type": "markdown",
   "id": "69358306-efd8-4e05-ba00-1be08aebaddd",
   "metadata": {
    "slideshow": {
     "slide_type": "slide"
    }
   },
   "source": [
    "## Are there other factors in our data that might effect longevity?"
   ]
  },
  {
   "cell_type": "code",
   "execution_count": null,
   "id": "d3cfaceb-4b0a-4c1d-b598-052771fd77f2",
   "metadata": {},
   "outputs": [],
   "source": [
    "sns.pairplot(panthdat_trans);"
   ]
  },
  {
   "cell_type": "markdown",
   "id": "3d5ca4b2-bcdb-424e-81b0-70607e11bef8",
   "metadata": {},
   "source": [
    "- Let's consider gestation.\n",
    "\n",
    "- Fit the regression model on all the data and produce a statistical summary."
   ]
  },
  {
   "cell_type": "code",
   "execution_count": null,
   "id": "60d05a00-934c-4f0c-b191-84353eb3412a",
   "metadata": {
    "slideshow": {
     "slide_type": "slide"
    }
   },
   "outputs": [],
   "source": [
    "reg_longbmassgest = ols('longevity ~ gestation + bodymass', data = panthdat_trans) # setup the model\n",
    "\n",
    "reg_longbmassgest_fit = reg_longbmassgest.fit() # estimate/fit the model \n",
    "\n",
    "reg_longbmassgest_summ = reg_longbmassgest_fit.summary()\n",
    "\n",
    "reg_longbmassgest_summ.tables[1]"
   ]
  },
  {
   "cell_type": "markdown",
   "id": "2c98d3d1-c652-414e-b87f-837b0c55e622",
   "metadata": {},
   "source": [
    "- We can see from the scatter plot that `gestation` and `bodymass` have a linear relationship.  When two variables have a linear relationship multiple linear regression models can sometimes produce strange results.\n",
    "\n",
    "- Although, in this case they seem reasonable.\n",
    "\n",
    "- It's important that independent variables in a multiple regression model are unrelated."
   ]
  }
 ],
 "metadata": {
  "celltoolbar": "Slideshow",
  "kernelspec": {
   "display_name": "Python 3 (ipykernel)",
   "language": "python",
   "name": "python3"
  },
  "language_info": {
   "codemirror_mode": {
    "name": "ipython",
    "version": 3
   },
   "file_extension": ".py",
   "mimetype": "text/x-python",
   "name": "python",
   "nbconvert_exporter": "python",
   "pygments_lexer": "ipython3",
   "version": "3.8.8"
  }
 },
 "nbformat": 4,
 "nbformat_minor": 5
}
