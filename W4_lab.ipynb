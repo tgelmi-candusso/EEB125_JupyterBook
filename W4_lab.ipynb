{
 "cells": [
  {
   "cell_type": "markdown",
   "id": "ff8d80d8",
   "metadata": {},
   "source": [
    "# Lab 4: Data Wrangling and Exploratory Data Analysis"
   ]
  },
  {
   "cell_type": "markdown",
   "id": "57b25030",
   "metadata": {},
   "source": [
    "## Lab Instructions and Learning Objectives\n",
    "\n",
    "Don't delete any of the cells in this notebook, and add markdown/code cells when asked."
   ]
  },
  {
   "cell_type": "markdown",
   "id": "0656e623",
   "metadata": {},
   "source": [
    "In this lab you will:\n",
    "\n",
    "  - merge datasets\n",
    "  - select subsets of rows using operators  `!=` , `>`,  `>=`, `<`, `<=`, `<`\n",
    "  - group by content\n",
    "  - drop NAs\n",
    "  - sort values\n",
    "  - create a barplot\n",
    "  - crosstab\n"
   ]
  },
  {
   "cell_type": "markdown",
   "id": "6b85eca5",
   "metadata": {},
   "source": [
    "## How to submit"
   ]
  },
  {
   "cell_type": "markdown",
   "id": "46726241",
   "metadata": {},
   "source": [
    "1. Download this notebook using menu item `File —> Download As —> Notebook (.ipynb)`. Save it as Lab_4.ipynb.\n",
    "2. Log in here: https://markus-ds.teach.cs.toronto.edu (Tip: Control/Command-click to open it in a new tab so you can still see these instructions.)\n",
    "3. Choose your course.\n",
    "4. Click the lab4: Lab week 4 assessment.\n",
    "5. Click the `Submissions` tab. The new page is `lab4: Submissions`.\n",
    "6. Click button `Upload File` on the bottom right.\n",
    "7. Click button `Choose Files`.\n",
    "8. Select the `Lab_4.ipynb` file that you downloaded, then click Save."
   ]
  },
  {
   "cell_type": "markdown",
   "id": "68a26b0a",
   "metadata": {},
   "source": [
    "## Due Date\n",
    "\n",
    "Friday, February 4 at 10:00."
   ]
  },
  {
   "cell_type": "markdown",
   "id": "f0fa4343",
   "metadata": {},
   "source": [
    "## Marking Rubric\n",
    "\n",
    "All questions will be autograded, 1 mark for each correct value."
   ]
  },
  {
   "cell_type": "markdown",
   "id": "fcf4c5bb",
   "metadata": {},
   "source": [
    "## Lab 4 Introduction"
   ]
  },
  {
   "cell_type": "markdown",
   "id": "a7172e85",
   "metadata": {},
   "source": [
    "In this lab, you will continue to work with data from week 4 class: Pantheria and IUCN. You will merge these two datasets and clean irrelevant rows in order to create subset data sets to visualize.\n",
    "\n",
    "As usual, these labs are meant to facilitate your understanding of the material from lectures in a low-stakes environment. Please feel free to refer to your lecture content, collaborate with your peers, and seek out help from your TAs."
   ]
  },
  {
   "cell_type": "markdown",
   "id": "351622c5",
   "metadata": {},
   "source": [
    "We have provided code to read and clean the datasets and name them `rn_pantheria` and `iucn`."
   ]
  },
  {
   "cell_type": "markdown",
   "id": "1bc7f2c4-9bea-4cc9-a0d7-624efb7f230c",
   "metadata": {
    "tags": []
   },
   "source": [
    "## Step 1 - Clean the Pantheria dataset\n",
    "\n",
    "We will start by importing and cleaning the datasets. \n",
    "\n",
    "Run the code cells below to read the data from file `pantheria.txt`, then clean it.\n",
    "\n",
    "The result will be a `DataFrame` named `rn_pantheria`."
   ]
  },
  {
   "cell_type": "code",
   "execution_count": null,
   "id": "6612fe07-0a4c-4081-a0c0-c3a6b341d148",
   "metadata": {
    "scrolled": true
   },
   "outputs": [],
   "source": [
    "import pandas as pd\n",
    "\n",
    "pantheria = pd.read_csv('pantheria.txt', sep=\"\\t\")\n",
    "pantheria_columns = [\"MSW05_Order\", \"MSW05_Binomial\", \"5-1_AdultBodyMass_g\",\n",
    "                     \"23-1_SexualMaturityAge_d\", \"14-1_InterbirthInterval_d\",\n",
    "                     '17-1_MaxLongevity_m', \"15-1_LitterSize\"]\n",
    "sub_pantheria = pantheria[pantheria_columns]\n",
    "\n",
    "columnnames = {'MSW05_Order': 'order',\n",
    "               'MSW05_Binomial': 'genus_species',\n",
    "               '5-1_AdultBodyMass_g': 'body_mass_g',\n",
    "               '23-1_SexualMaturityAge_d': 'maturity_d',\n",
    "               '14-1_InterbirthInterval_d': 'interbirth_d',\n",
    "               '17-1_MaxLongevity_m': 'longevity_m',\n",
    "               '15-1_LitterSize': 'litter_size_ind'}\n",
    "rn_pantheria = sub_pantheria.rename(columns=columnnames)\n",
    "\n",
    "# There is a lot going on in the next line.\n",
    "# We extract column 'genus_species' as a Series of strings, then\n",
    "# replace all spaces in every value in that Series with _'s.\n",
    "# For example, \"Canis lupus\" becomes \"Canis_lupus\".\n",
    "new_genus_species_col = rn_pantheria['genus_species'].str.replace(\" \", \"_\")\n",
    "\n",
    "# Then, in rn_pantheria, we replace the entire 'genus_species' column with the new Series.\n",
    "rn_pantheria['genus_species'] = new_genus_species_col\n",
    "rn_pantheria.head()"
   ]
  },
  {
   "cell_type": "markdown",
   "id": "d9fdbdee-090f-42d8-a0d0-c2c97f42c788",
   "metadata": {},
   "source": [
    "## Step 2 - Clean the IUCN dataset\n",
    "\n",
    "Run the code cells below to read and clean CSV file `phylacine.csv`. We name the resulting `DataFrame` `iucn`."
   ]
  },
  {
   "cell_type": "code",
   "execution_count": null,
   "id": "fa0ce459-1dbe-4482-b50a-9d3cf6fcf1ec",
   "metadata": {},
   "outputs": [],
   "source": [
    "phylacine = pd.read_csv(\"phylacine.csv\")\n",
    "\n",
    "phylacine_columns = [\"Binomial.1.2\", \"IUCN.Status.1.2\"]\n",
    "iucn = phylacine[phylacine_columns]\n",
    "\n",
    "columnnames = {\"Binomial.1.2\": \"genus_species\",\n",
    "               \"IUCN.Status.1.2\": \"iucn_status\"}\n",
    "iucn = iucn.rename(columns=columnnames)\n",
    "\n",
    "iucn.head()"
   ]
  },
  {
   "cell_type": "markdown",
   "id": "4b34fc34-70a6-4460-985b-dcf1e9f1d194",
   "metadata": {},
   "source": [
    "## Step 3 - Answer the following questions\n",
    "\n",
    "Answer the following Questions after completing Steps 1 and 2."
   ]
  },
  {
   "cell_type": "markdown",
   "id": "62a555ff",
   "metadata": {},
   "source": [
    "## Question 1"
   ]
  },
  {
   "cell_type": "markdown",
   "id": "f3eb63e3",
   "metadata": {},
   "source": [
    "Using `iucn` as the main (left) dataframe, create a new dataframe that merges the information from `iucn` and `rn_pantheria` using the pandas `merge` function. Name that new dataframe `pantheria_iucn`. We want to combine the information within each row by matching the values contained in each dataframe's `'genus_species'` column."
   ]
  },
  {
   "cell_type": "code",
   "execution_count": null,
   "id": "80a85be3-23da-401e-9987-2b0d55026b1b",
   "metadata": {},
   "outputs": [],
   "source": [
    "# put your answer in this cell"
   ]
  },
  {
   "cell_type": "code",
   "execution_count": null,
   "id": "f6f8da17-8656-44a9-aa9a-56a65084409f",
   "metadata": {},
   "outputs": [],
   "source": [
    "# Q1 check: do you have the right columns in the right order?\n",
    "\n",
    "expected_pantheria_iucn_cols = ['genus_species', 'iucn_status', 'order', 'body_mass_g',\n",
    "                        'maturity_d', 'interbirth_d', 'longevity_m', 'litter_size_ind']\n",
    "\n",
    "msg = '''The columns in pantheria_iucn are incorrect, check that you specified\n",
    "the merge function correctly.'''\n",
    "\n",
    "# Here's something cool: the Python assert statement asserts that an expression evaluates\n",
    "# to True. If so, good, and there is no output. But if the expression doesn't evaluate to\n",
    "# True, Python raises an error.\n",
    "# Programmers use assert statements to check that they're on the right track so that they\n",
    "# only have to read the output carefully when there's an error. You can do this too any\n",
    "# time you like!\n",
    "actual_pantheria_iucn_cols = list(pantheria_iucn.columns)\n",
    "assert (actual_pantheria_iucn_cols == expected_pantheria_iucn_cols), msg\n"
   ]
  },
  {
   "cell_type": "markdown",
   "id": "00edd0bb",
   "metadata": {},
   "source": [
    "## Question 2"
   ]
  },
  {
   "cell_type": "markdown",
   "id": "1f284325",
   "metadata": {},
   "source": [
    "Column `'iucn_status'`  in `pantheria_iucn` contains values `'DD'` and `'EP'`. `'DD'` should be considered to be missing data, while we concluded in lecture that `'EP'` is likely an erroneous category. Create a dataframe named `pantheria_iucn_nomiss` that does not contain the missing or erroneous values from column `'iucn_status'`.\n",
    "\n",
    "Use function `len` on both `pantheria_iucn` and `pantheria_iucn_nomiss` to calculate how many rows were removed from `pantheria_iucn`. Name this value `num_rows_removed`."
   ]
  },
  {
   "cell_type": "code",
   "execution_count": null,
   "id": "63cec4de",
   "metadata": {},
   "outputs": [],
   "source": [
    "# put your answer in this cell"
   ]
  },
  {
   "cell_type": "code",
   "execution_count": null,
   "id": "e4ed2c07",
   "metadata": {},
   "outputs": [],
   "source": [
    "# Q2 check: we expect 635 rows removed. Notice that we don't need to supply an error msg.\n",
    "assert num_rows_removed == 635"
   ]
  },
  {
   "cell_type": "markdown",
   "id": "25e7513d",
   "metadata": {},
   "source": [
    "## Question 3"
   ]
  },
  {
   "cell_type": "markdown",
   "id": "f2a8e806",
   "metadata": {},
   "source": [
    "Are larger-sized animals at higher risk for extinction? Let´s start answering this question by extracting the data we need and converting the units to make them more interpretable.\n",
    "\n",
    "1. Create a new dataframe that contains only columns `'iucn_status'` and `'body_mass_g'` from `pantheria_iucn_nomiss`, and use function `dropna` to remove the NA values. Name the resulting dataframe `iucn_bmass_df`.\n",
    "3. Convert column `'body_mass_g'` from grams to kilograms (divide by 1000) and create a new column named `'bmass_kg'` in `iucn_bmass_df`."
   ]
  },
  {
   "cell_type": "code",
   "execution_count": null,
   "id": "76114035",
   "metadata": {},
   "outputs": [],
   "source": [
    "# put your answer in this cell"
   ]
  },
  {
   "cell_type": "code",
   "execution_count": null,
   "id": "c929eafe-b9c4-49a1-8807-326938cbdd79",
   "metadata": {},
   "outputs": [],
   "source": [
    "# Q3 check\n",
    "assert len(iucn_bmass_df) == 3056"
   ]
  },
  {
   "cell_type": "markdown",
   "id": "2996cea2",
   "metadata": {},
   "source": [
    "## Question 4"
   ]
  },
  {
   "cell_type": "markdown",
   "id": "66be3254",
   "metadata": {},
   "source": [
    "Group the dataframe by column `'iucn_status'` using function `groupby` then calculate the mean for body mass (kg) for each IUCN category. Name this grouped means `DataFrame` `bmass_df_iucn_grouped_means`."
   ]
  },
  {
   "cell_type": "code",
   "execution_count": null,
   "id": "33edb8c3",
   "metadata": {},
   "outputs": [],
   "source": [
    "# put your answer in this cell"
   ]
  },
  {
   "cell_type": "code",
   "execution_count": null,
   "id": "0b99f4e3",
   "metadata": {},
   "outputs": [],
   "source": [
    "# Q4 check\n",
    "bmass_df_iucn_grouped_means"
   ]
  },
  {
   "cell_type": "markdown",
   "id": "87798d66",
   "metadata": {},
   "source": [
    "## Question 5"
   ]
  },
  {
   "cell_type": "markdown",
   "id": "50f3fd1a",
   "metadata": {},
   "source": [
    "Create a bar plot of the mean body mass (kg) for species within each IUCN category.  Name the plot `iucn_mean_bmass_plot`."
   ]
  },
  {
   "cell_type": "markdown",
   "id": "794a4fd3",
   "metadata": {},
   "source": [
    "Visualize the mean body mass (in kilograms) for species within each IUCN category using the new dataframe you created in the previous question."
   ]
  },
  {
   "cell_type": "code",
   "execution_count": null,
   "id": "5e3bef3b",
   "metadata": {},
   "outputs": [],
   "source": [
    "# put your answer in this cell"
   ]
  },
  {
   "cell_type": "code",
   "execution_count": null,
   "id": "e5cb3607",
   "metadata": {},
   "outputs": [],
   "source": [
    "# Q5 check\n",
    "iucn_mean_bmass_plot # Should display <AxesSubplot:xlabel='iucn_status'>"
   ]
  }
 ],
 "metadata": {
  "kernelspec": {
   "display_name": "Python 3 (ipykernel)",
   "language": "python",
   "name": "python3"
  },
  "language_info": {
   "codemirror_mode": {
    "name": "ipython",
    "version": 3
   },
   "file_extension": ".py",
   "mimetype": "text/x-python",
   "name": "python",
   "nbconvert_exporter": "python",
   "pygments_lexer": "ipython3",
   "version": "3.9.9"
  }
 },
 "nbformat": 4,
 "nbformat_minor": 5
}
