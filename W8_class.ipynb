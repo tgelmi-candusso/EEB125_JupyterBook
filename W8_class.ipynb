{
 "cells": [
  {
   "cell_type": "markdown",
   "id": "e7dfaecc",
   "metadata": {
    "slideshow": {
     "slide_type": "slide"
    }
   },
   "source": [
    "# Class 7\n",
    "\n",
    "- Models\n",
    "\n",
    "- Comparing two samples\n",
    "\n",
    "- Causality\n"
   ]
  },
  {
   "cell_type": "markdown",
   "id": "3cc19a0e",
   "metadata": {
    "slideshow": {
     "slide_type": "slide"
    }
   },
   "source": [
    "# Models\n",
    "\n",
    "- A model is a set of assumptions about the data.  In many cases models include assumptions about random (stochastic) processes used to generate the data.\n",
    "\n",
    "- Data scientists are often in a position of formulating and assessing models."
   ]
  },
  {
   "cell_type": "markdown",
   "id": "e8b9cc78",
   "metadata": {
    "slideshow": {
     "slide_type": "slide"
    }
   },
   "source": [
    "## Goals of Data Science\n",
    "\n",
    "- Deeper understanding of the world.\n",
    "\n",
    "- Make the world a better place to live.\n",
    "\n",
    "- For example, help expose injustice.\n",
    "\n",
    "- The skills you are learning help empower you to do this."
   ]
  },
  {
   "cell_type": "markdown",
   "id": "e4b31173-640c-4206-802f-882c1bfbd0ed",
   "metadata": {
    "slideshow": {
     "slide_type": "slide"
    }
   },
   "source": [
    "## Jury Selection\n",
    "\n",
    "- U.S. Constitution grants equal protection under the law"
   ]
  },
  {
   "cell_type": "markdown",
   "id": "7e2cf99a-2aa8-4b14-9c23-b8e78a8d9790",
   "metadata": {
    "slideshow": {
     "slide_type": "fragment"
    }
   },
   "source": [
    "- All defendants have the right to due process "
   ]
  },
  {
   "cell_type": "markdown",
   "id": "6cbd9e27-efe0-4b74-839b-25ca515452c2",
   "metadata": {
    "slideshow": {
     "slide_type": "fragment"
    }
   },
   "source": [
    "- Robert Swain, a Black man, was convicted in Talladega County, AL"
   ]
  },
  {
   "cell_type": "markdown",
   "id": "ad8ca92f-3521-4ff7-b6ab-fbca2f61d6ab",
   "metadata": {
    "slideshow": {
     "slide_type": "fragment"
    }
   },
   "source": [
    "- He appealed to the U.S. Supreme Court"
   ]
  },
  {
   "cell_type": "markdown",
   "id": "95c8d14b-3610-4b27-a505-892dbbf05c7f",
   "metadata": {
    "slideshow": {
     "slide_type": "fragment"
    }
   },
   "source": [
    "- Main reason: Unfair jury selection in the County’s trials"
   ]
  },
  {
   "cell_type": "markdown",
   "id": "c0182cde-45c3-4a51-af3e-f7c0de116345",
   "metadata": {
    "slideshow": {
     "slide_type": "fragment"
    }
   },
   "source": [
    "- At the time of the trial, only men aged 21 or more were eligible to serve on juries in Talladega County. In that population, 26% of the men were Black. "
   ]
  },
  {
   "cell_type": "markdown",
   "id": "783143cf-5965-4021-a415-d3ea85e5fd29",
   "metadata": {
    "slideshow": {
     "slide_type": "fragment"
    }
   },
   "source": [
    "- But only eight men among the panel of 100 men (that is, 8%) were Black."
   ]
  },
  {
   "cell_type": "markdown",
   "id": "b41d10c9-b10f-469b-b9be-925f3891c364",
   "metadata": {
    "slideshow": {
     "slide_type": "fragment"
    }
   },
   "source": [
    "- The U.S. Supreme Court reviewed the appeal and concluded, “the overall percentage disparity has been small.” But was this assertion reasonable? "
   ]
  },
  {
   "cell_type": "markdown",
   "id": "cbee0229-eb35-4e88-bcb9-0835a162a6e2",
   "metadata": {
    "slideshow": {
     "slide_type": "fragment"
    }
   },
   "source": [
    "- If jury panelists were selected at random from the county’s eligible population, there would be some chance variation. We wouldn’t get exactly 26 Black panelists on every 100-person panel. But would we expect as few as eight?"
   ]
  },
  {
   "cell_type": "markdown",
   "id": "8db4e297",
   "metadata": {
    "slideshow": {
     "slide_type": "slide"
    }
   },
   "source": [
    "# A model of random selection\n",
    "\n",
    "- A model of the data is that the panel was selected at random and ended up with a small number of Black panelists just due to chance.\n",
    "\n",
    "- Since the panel was supposed to resemble the population of all eligible jurors, the model of random selection is important to assess. Let’s see if it stands up to scrutiny.\n",
    "\n",
    "- The `numpy.random` function `multinomial(n, pvals, size)` can be used to simulate sample proportions or counts with two or more categories."
   ]
  },
  {
   "cell_type": "markdown",
   "id": "ad2501ff",
   "metadata": {
    "slideshow": {
     "slide_type": "slide"
    }
   },
   "source": [
    "## Example 1: rolling a six-sided die 20 times"
   ]
  },
  {
   "cell_type": "code",
   "execution_count": null,
   "id": "9591aa67",
   "metadata": {},
   "outputs": [],
   "source": [
    "import numpy as np\n",
    "\n",
    "sample_size = 20\n",
    "\n",
    "num_simulations = 1\n",
    "\n",
    "true_probabilities = [1/6]*6\n",
    "\n",
    "counts = np.random.multinomial(sample_size, true_probabilities, size = num_simulations)\n",
    "\n",
    "proportions = counts / sample_size\n",
    "\n",
    "print('Sample counts: \\n', counts) \n",
    "print('Sample proportions: \\n', proportions)"
   ]
  },
  {
   "cell_type": "markdown",
   "id": "1c44a31d",
   "metadata": {
    "slideshow": {
     "slide_type": "slide"
    }
   },
   "source": [
    "## Example 2: rolling a loaded six-side 100 times more likely to land on 6 - repeated 3 times"
   ]
  },
  {
   "cell_type": "code",
   "execution_count": null,
   "id": "b12853f1",
   "metadata": {},
   "outputs": [],
   "source": [
    "sample_size = 100\n",
    "\n",
    "num_simulations = 3\n",
    "\n",
    "true_probabilities = [1/7]*5 + [2/7]\n",
    "\n",
    "counts = np.random.multinomial(sample_size, true_probabilities, size = num_simulations)\n",
    "\n",
    "proportions = counts / sample_size\n",
    "\n",
    "print('Sample counts:\\n', counts) \n",
    "print('Sample proportions: \\n', proportions)"
   ]
  },
  {
   "cell_type": "markdown",
   "id": "dd5d4d57",
   "metadata": {
    "slideshow": {
     "slide_type": "slide"
    }
   },
   "source": [
    "- Let's use this to simulate the jury selection process.\n",
    "\n",
    "- The size of the jury panel is 100, so `sample_size` is 100. \n",
    "\n",
    "- The distribution from which we will draw the sample is the distribution in the population of eligible jurors: 26% of them were Black, so 100% - 26% = 74% are white (very simplistic assumption, but let's go with it for now). \n",
    "\n",
    "- This mean `true_proportions` is `[0.26, 0.74]`.\n",
    "\n",
    "- One simulation is below."
   ]
  },
  {
   "cell_type": "code",
   "execution_count": null,
   "id": "2baab484",
   "metadata": {},
   "outputs": [],
   "source": [
    "import numpy as np\n",
    "import pandas as pd\n",
    "\n",
    "sample_size = 100\n",
    "\n",
    "true_probabilities = [0.26, 0.74]\n",
    "\n",
    "num_simulations = 1\n",
    "\n",
    "counts = np.random.multinomial(sample_size, true_probabilities, size = num_simulations)\n",
    "\n",
    "proportions = counts / sample_size\n",
    "\n",
    "sim_counts = pd.DataFrame(proportions, columns = ['Black', 'White'])\n",
    "\n",
    "print(sim_counts)\n",
    "\n",
    "sim_counts.iloc[0,0]\n"
   ]
  },
  {
   "cell_type": "markdown",
   "id": "d9dfe4d7",
   "metadata": {
    "slideshow": {
     "slide_type": "slide"
    }
   },
   "source": [
    "## Simulate one value"
   ]
  },
  {
   "cell_type": "code",
   "execution_count": null,
   "id": "221a2bc9",
   "metadata": {},
   "outputs": [],
   "source": [
    "def simulate_one_count():\n",
    "    sample_size = 100\n",
    "    true_probabilities = [0.26, 0.74]\n",
    "    num_simulations = 1\n",
    "    counts = np.random.multinomial(sample_size, true_probabilities, size = num_simulations)\n",
    "    sim_counts = pd.DataFrame(counts, columns = ['Black', 'White'])\n",
    "    return sim_counts.iloc[0,0]\n"
   ]
  },
  {
   "cell_type": "code",
   "execution_count": null,
   "id": "5f0bc688",
   "metadata": {},
   "outputs": [],
   "source": [
    "simulate_one_count()"
   ]
  },
  {
   "cell_type": "markdown",
   "id": "043afceb",
   "metadata": {
    "slideshow": {
     "slide_type": "slide"
    }
   },
   "source": [
    "## Simulate multiple values\n",
    "\n",
    "-  Our analysis is focused on the variability in the counts. \n",
    "\n",
    "- Let’s generate 10,000 simulated values of the count and see how they vary.\n",
    "\n",
    "- We will do this by using a for loop and collecting all the simulated counts in a list."
   ]
  },
  {
   "cell_type": "code",
   "execution_count": null,
   "id": "2f8af087",
   "metadata": {},
   "outputs": [],
   "source": [
    "sim_counts = []\n",
    "for _ in np.arange(10000):\n",
    "    sim_counts.append(simulate_one_count())"
   ]
  },
  {
   "cell_type": "code",
   "execution_count": null,
   "id": "a9663f95",
   "metadata": {},
   "outputs": [],
   "source": [
    "import matplotlib.pyplot as plt\n",
    "\n",
    "plt.hist(sim_counts, bins = np.arange(5.5, 50, 1), edgecolor = 'black', color = 'grey', density = True);\n",
    "plt.xlabel('Count in random sample')\n",
    "plt.ylabel('Frequency')\n",
    "plt.scatter(8, 0, color = 'red', s =50);"
   ]
  },
  {
   "cell_type": "markdown",
   "id": "e2e62748",
   "metadata": {
    "slideshow": {
     "slide_type": "slide"
    }
   },
   "source": [
    "- The simulation also could have been done using `np.random.multinomial`.\n",
    "\n",
    "- This is an example of a 'vectorized' computation, and are usually faster than non-vectorized computations."
   ]
  },
  {
   "cell_type": "code",
   "execution_count": null,
   "id": "e14e687f",
   "metadata": {},
   "outputs": [],
   "source": [
    "sample_size = 100\n",
    "\n",
    "true_probabilities = [0.26, 0.74]\n",
    "\n",
    "num_simulations = 10000\n",
    "\n",
    "counts = np.random.multinomial(sample_size, true_probabilities, size = num_simulations)\n",
    "\n",
    "counts"
   ]
  },
  {
   "cell_type": "markdown",
   "id": "049e6d0e",
   "metadata": {
    "slideshow": {
     "slide_type": "slide"
    }
   },
   "source": [
    "## Conclusion of the data analysis\n",
    "\n",
    "- The histogram shows that if we select a panel of size 100 at random from the eligible population, we are very unlikely to get counts of Black panelists that are as low as the eight that were observed on the panel in the trial.\n",
    "\n",
    "- This is evidence that the model of random selection of the jurors in the panel is not consistent with the data from the panel. While it is possible that the panel could have been generated by chance, our simulation demonstrates that it is hugely unlikely.\n",
    "\n",
    "- Therefore the most *reasonable* conclusion is that the assumption of random selection is unjustified for this jury panel."
   ]
  },
  {
   "cell_type": "markdown",
   "id": "a876da65-7cbb-4197-ae3c-f6855f23b27f",
   "metadata": {
    "slideshow": {
     "slide_type": "slide"
    }
   },
   "source": [
    "# Comparing two samples\n",
    "\n",
    "## Comparing plant fertilizers\n",
    "\n",
    "- A gardener wanted to discover whether a change in fertilizer mixture applied to her tomato plants would result in improved yield.\n",
    "\n",
    "- She had 11 plants set out in a single row:\n",
    "   + 5 were given standard fertilizer mixture A\n",
    "   + 6 were given a supposedly improved mixture B\n",
    "\n",
    "- The A's and B's were randomly applied to positions along the row to give the following data:\n",
    "\n",
    "|                |  |   |   |   |   |   |   |   |   |   |   |\n",
    "|----------------|---|---|---|---|---|---|---|---|---|---|---|\n",
    "|Position in row | 1 | 2 | 3 | 4 | 5 | 6 | 7 | 8 | 9 | 10| 11 |\n",
    "|Fertilizer      | A | A | B | B | A | B |B  |B  | A | A | B  |\n",
    "|Pounds of tomatoes | 29.2 | 11.4 | 26.6 | 23.7 | 25.3 | 28.5 | 14.2 | 17.9 | 16.5 | 21.1 | 24.3 |\n",
    "\n",
    "\n",
    "- The random arrangement was arrived at by taking 11 playing cards, 5 marked A, and 6 marked B.\n",
    "\n",
    "- Thoroughly shuffling the cards once the gardener arrived at the arrangement above. \n"
   ]
  },
  {
   "cell_type": "code",
   "execution_count": null,
   "id": "aa1ad9ba-973e-445d-82b0-b5677254b037",
   "metadata": {
    "slideshow": {
     "slide_type": "slide"
    }
   },
   "outputs": [],
   "source": [
    "import pandas as pd\n",
    "\n",
    "fertilizer = ['A', 'A', 'B', 'B', 'A', 'B', 'B', 'B', 'A', 'A', 'B']\n",
    "\n",
    "tomatoes = [29.2, 11.4, 26.6, 23.7, 25.3, 28.5, 14.2, 17.9, 16.5, 21.1, 24.3]\n",
    "\n",
    "data = {'fert' : fertilizer,\n",
    "        'tomatoes' : tomatoes}\n",
    "\n",
    "plant_df = pd.DataFrame(data)"
   ]
  },
  {
   "cell_type": "markdown",
   "id": "3fa5bd3a-dbd5-45d7-a5f4-c751486e4282",
   "metadata": {},
   "source": [
    "The (observed) mean difference is computed below."
   ]
  },
  {
   "cell_type": "code",
   "execution_count": null,
   "id": "8e341866-3f2f-4f4e-b231-6972044f0376",
   "metadata": {},
   "outputs": [],
   "source": [
    "# mean of plants assigned fert A\n",
    "mean_A_obs = plant_df.loc[plant_df['fert'] == 'A', 'tomatoes'].mean() \n",
    "\n",
    "# mean of plants assigned fert B\n",
    "mean_B_obs = plant_df.loc[plant_df['fert'] == 'B', 'tomatoes'].mean()\n",
    "\n",
    "# mean difference\n",
    "obs_diff =  mean_B_obs - mean_A_obs\n",
    "\n",
    "obs_diff"
   ]
  },
  {
   "cell_type": "markdown",
   "id": "ef1612ac-9289-476e-8924-60f9fe167851",
   "metadata": {
    "slideshow": {
     "slide_type": "slide"
    }
   },
   "source": [
    "- Since the assignment of fertilizers to plants is random it could have happened another way.\n",
    "\n",
    "- We can use the `pandas` `sample` function with `frac` and `replace` parameters to simulate these other potential assignments of fertilizers to plants.\n",
    "\n",
    "    + `frac = 1` - specifies the fraction of rows to return (1 means return all the rows)\n",
    "    + `replace = False` - specifies to sample without replacement"
   ]
  },
  {
   "cell_type": "code",
   "execution_count": null,
   "id": "f6598bf1-e89d-4f1c-920a-41e67d82fdd2",
   "metadata": {},
   "outputs": [],
   "source": [
    "plant_df['fert'].sample(frac=1, replace = False)"
   ]
  },
  {
   "cell_type": "markdown",
   "id": "067fc15b-afde-43c3-8900-4d7af636ffa3",
   "metadata": {},
   "source": [
    "- Notice that the index is out of order.\n",
    "\n",
    "- We are going to want to have an ordered index later on.  \n",
    "\n",
    "- To do this we can use the `pandas` function `reset_index(drop = True)`. \n",
    "\n",
    "- `drop = True` indicates that we don't want to keep the previous index. "
   ]
  },
  {
   "cell_type": "code",
   "execution_count": null,
   "id": "8971c69e-aee5-4f6b-981a-c3bb9f257148",
   "metadata": {
    "slideshow": {
     "slide_type": "slide"
    }
   },
   "outputs": [],
   "source": [
    "plant_df['fert'].sample(frac=1, replace = False).reset_index(drop = True)"
   ]
  },
  {
   "cell_type": "markdown",
   "id": "c8bc0791-a51a-45f8-a58a-c4327dfed0d9",
   "metadata": {
    "slideshow": {
     "slide_type": "slide"
    }
   },
   "source": [
    "## The Logic of Hypothesis Testing\n",
    "\n",
    "### 1. Hypotheses\n",
    "\n",
    "Two claims:\n",
    "\n",
    "1. There is no difference in the mean weight between fertilizers A and B.  This is called the null hypothesis.\n",
    "\n",
    "2. There is no difference in the mean weight between fertilizers A and B.  This is called the alternative hypothesis."
   ]
  },
  {
   "cell_type": "markdown",
   "id": "6b8e2ad1-1fc5-4c4f-b9e7-f38f51063918",
   "metadata": {
    "slideshow": {
     "slide_type": "slide"
    }
   },
   "source": [
    "### 2. Test statistic\n",
    "\n",
    "The test statistic is a number, calculated from the data, that captures what we're interested in.\n",
    "\n",
    "What would be a useful test statistic for this study?"
   ]
  },
  {
   "cell_type": "markdown",
   "id": "a08b2dc4-437f-48af-a5f7-9e50bb5fad52",
   "metadata": {
    "slideshow": {
     "slide_type": "slide"
    }
   },
   "source": [
    "### 3. Simulate what the null hypothesis predicts will happen\n",
    "\n",
    "- If the null hypothesis is true then the weight of tomatoes for each plant will be the same regardless of how they are labeled. That means we can randomly shuffle the labels and the mean difference should be close to 0.\n",
    "\n",
    "Assume that there is no difference in mean weight between A and B (i.e., the null hypothesis is true).  Now, consider the following **thought experiment (we don't actually do this, this is a model for the data)**:\n",
    "\n",
    "- Imagine we have 5 playing cards labelled `A` and 6 cards labelled `B`.\n",
    "\n",
    "\n",
    "- Shuffle the cards ...\n",
    "\n",
    "\n",
    "- Assign the cards to the 11 plants then calculate the mean weight difference between `A` and `B`.  This is one simulated value of the test statistic. \n",
    "\n",
    "\n",
    "- Shuffle the cards again ...\n",
    "\n",
    "\n",
    "- Assign the cards to the 11 plants then calculate the mean weight difference between `A` and `B`.  This is second simulated value of the test statistic. \n",
    "\n",
    "\n",
    "- Continue shuffling, assigning , and computing the mean difference."
   ]
  },
  {
   "cell_type": "markdown",
   "id": "87a36f01-5c5c-4728-9e7c-24300b228469",
   "metadata": {
    "slideshow": {
     "slide_type": "slide"
    }
   },
   "source": [
    "## Simulating what the null hypothesis predicts\n",
    "\n",
    "Let's assume the null hypothesis is true and simulate what the null hypothesis predicts.\n",
    "\n",
    "### Step 1\n",
    "\n",
    "Randomly shuffle the assignment of fertilizers to plants. "
   ]
  },
  {
   "cell_type": "code",
   "execution_count": null,
   "id": "b733b0c9-feaf-423d-a3c1-cf1113ad7c50",
   "metadata": {},
   "outputs": [],
   "source": [
    "fert_sim = plant_df['fert'].sample(frac=1, replace = False).reset_index(drop = True)"
   ]
  },
  {
   "cell_type": "markdown",
   "id": "3faf11f1-c8af-4570-969b-808060aa3447",
   "metadata": {
    "slideshow": {
     "slide_type": "slide"
    }
   },
   "source": [
    "### Step 2\n",
    "\n",
    "Compute the mean difference between fertilizers A and B."
   ]
  },
  {
   "cell_type": "code",
   "execution_count": null,
   "id": "1fd7abbc-a219-48b9-9b24-db9a74445cbe",
   "metadata": {},
   "outputs": [],
   "source": [
    "mean_A = plant_df.loc[fert_sim == 'A', 'tomatoes'].mean()\n",
    "\n",
    "mean_B = plant_df.loc[fert_sim == 'B', 'tomatoes'].mean()\n",
    "\n",
    "sim_diff = mean_B - mean_A\n",
    "\n",
    "sim_diff"
   ]
  },
  {
   "cell_type": "markdown",
   "id": "5928541e-659b-4c9e-b296-cbea290f1715",
   "metadata": {
    "slideshow": {
     "slide_type": "slide"
    },
    "tags": []
   },
   "source": [
    "### Step 3\n",
    "\n",
    "Repeat Steps 1 and 2 a large number of times (e.g., 5000) to get the distribution of mean differences. "
   ]
  },
  {
   "cell_type": "code",
   "execution_count": null,
   "id": "15509508-7971-4415-b675-239cb4640000",
   "metadata": {},
   "outputs": [],
   "source": [
    "simulated_diffs = []\n",
    "\n",
    "for _ in range(5000):\n",
    "    fert_sim = plant_df['fert'].sample(frac=1, replace = False).reset_index(drop = True)\n",
    "    mean_A = plant_df.loc[fert_sim == 'A', 'tomatoes'].mean()\n",
    "    mean_B = plant_df.loc[fert_sim == 'B', 'tomatoes'].mean()\n",
    "    sim_diff = mean_B - mean_A\n",
    "    simulated_diffs.append(sim_diff)\n",
    "    "
   ]
  },
  {
   "cell_type": "code",
   "execution_count": null,
   "id": "df3ba009-63bc-4533-8742-d16e3c02e502",
   "metadata": {
    "slideshow": {
     "slide_type": "slide"
    }
   },
   "outputs": [],
   "source": [
    "import matplotlib.pyplot as plt\n",
    "\n",
    "plt.hist(simulated_diffs, edgecolor = 'black', color = 'lightgrey')\n",
    "#plt.vlines(x = obs_diff, ymin = 0, ymax = 1000, color = 'black', linewidth = 5);"
   ]
  },
  {
   "cell_type": "markdown",
   "id": "fdcfcc68-03ae-4cb4-beb7-1673250a22f7",
   "metadata": {
    "slideshow": {
     "slide_type": "slide"
    }
   },
   "source": [
    "- The histogram above shows the randomization distribution with the observed difference as the black line.\n",
    "\n",
    "- What proportion of the simulated differences are larger than the observed mean difference of 1.83?  This is known as the **p-value**."
   ]
  },
  {
   "cell_type": "code",
   "execution_count": null,
   "id": "795b3655-300b-4a47-9e71-89c9ea6e69a4",
   "metadata": {},
   "outputs": [],
   "source": [
    "simulated_diffs_df = pd.DataFrame({'sim_diffs' : simulated_diffs})\n",
    "\n",
    "numgreater = (simulated_diffs_df['sim_diffs'] >= obs_diff).sum()\n",
    "\n",
    "print('The number of simulated differences greater than the observed difference is:', numgreater)\n",
    "\n",
    "pvalue = numgreater / 5000\n",
    "\n",
    "print('The p-value is:', pvalue)"
   ]
  },
  {
   "cell_type": "markdown",
   "id": "110a4d83-0946-471d-95c1-f2a9653b6582",
   "metadata": {
    "jp-MarkdownHeadingCollapsed": true,
    "slideshow": {
     "slide_type": "slide"
    },
    "tags": []
   },
   "source": [
    "### Step 4\n",
    "\n",
    "Interpret the results.  \n",
    "\n",
    "Assuming that there is no difference in the mean tomato plant weights between A and B, 31% of simulations had as large or larger value than the observed mean difference of 1.83.  Therefore, there is little reason to doubt the null hypothesis that one fertilizer is better than another."
   ]
  },
  {
   "cell_type": "markdown",
   "id": "e2f64210-5934-4e65-9284-45fcef90e577",
   "metadata": {
    "slideshow": {
     "slide_type": "slide"
    }
   },
   "source": [
    "## Quiz\n",
    "\n",
    "Suppose that in a similar study of two fertilizers effect on yield of tomatoes a similar simulation of 5000 yielded that 10 simulated differences were greater than the observed difference.  Interpret the results?"
   ]
  },
  {
   "cell_type": "markdown",
   "id": "b3c07957-582e-42ac-85d2-3b1b2dda866b",
   "metadata": {
    "slideshow": {
     "slide_type": "slide"
    }
   },
   "source": [
    "## In-class exercise\n",
    "\n",
    "modify the simulation so that you compare the difference in medians."
   ]
  },
  {
   "cell_type": "code",
   "execution_count": null,
   "id": "44f70aaf-fb9b-4632-891f-d13237185a5d",
   "metadata": {},
   "outputs": [],
   "source": [
    "# code goes here"
   ]
  },
  {
   "cell_type": "markdown",
   "id": "e600855b",
   "metadata": {
    "slideshow": {
     "slide_type": "slide"
    }
   },
   "source": [
    "# Are mammals are larger or smaller than birds?\n",
    "\n",
    "<mark> Caroline describe data </mark>"
   ]
  },
  {
   "cell_type": "markdown",
   "id": "65ab6620-6b81-489a-9b4c-992392199aeb",
   "metadata": {},
   "source": [
    "## Read in IUCN and Amniote Data files"
   ]
  },
  {
   "cell_type": "code",
   "execution_count": null,
   "id": "0c8e601d",
   "metadata": {},
   "outputs": [],
   "source": [
    "import pandas as pd\n",
    "animal_iucn = pd.read_csv('animal_iucn.csv')\n",
    "Amniote_db = pd.read_csv('Amniote_Database_Aug_2015.csv')"
   ]
  },
  {
   "cell_type": "code",
   "execution_count": null,
   "id": "3b5b3c2f-ce31-40b2-8e72-6d24b6fc65d3",
   "metadata": {
    "slideshow": {
     "slide_type": "slide"
    }
   },
   "outputs": [],
   "source": [
    "print(animal_iucn.columns)\n",
    "animal_iucn.shape"
   ]
  },
  {
   "cell_type": "code",
   "execution_count": null,
   "id": "ee557db4",
   "metadata": {
    "slideshow": {
     "slide_type": "slide"
    }
   },
   "outputs": [],
   "source": [
    "print(Amniote_db.columns)\n",
    "Amniote_db.shape"
   ]
  },
  {
   "cell_type": "markdown",
   "id": "ea9ad66e-8de6-49f8-9955-409b92a498c6",
   "metadata": {
    "slideshow": {
     "slide_type": "slide"
    }
   },
   "source": [
    "## Merge IUCN and Amniote DataFrames\n",
    "\n",
    "- We want to merge `Amniote_db` and `animal_iucn`\n",
    "- What column can we merge on?\n",
    "- The `'scientificName'` column in `animal_iucn` can be found in `Amniote_db` if we concatenate `'genus'`, `' '`, and `'species'`.\n",
    "- `+` concatenates (links) strings together in python. "
   ]
  },
  {
   "cell_type": "code",
   "execution_count": null,
   "id": "65488213-4487-4858-bb8f-975ebcf1c81c",
   "metadata": {},
   "outputs": [],
   "source": [
    "# an example of of concatenation\n",
    "\n",
    "string1 = 'IUCN'\n",
    "\n",
    "string3 = 'is an interesting'\n",
    "\n",
    "string4 = 'dataset.'\n",
    "\n",
    "space = ' '\n",
    "\n",
    "string1 + space + string3 + space + string4"
   ]
  },
  {
   "cell_type": "markdown",
   "id": "1ff38c46-12f4-4a88-bec0-33360b10987c",
   "metadata": {
    "slideshow": {
     "slide_type": "slide"
    }
   },
   "source": [
    "Let's create a column called `'sciname'` in `Amniote_db`."
   ]
  },
  {
   "cell_type": "code",
   "execution_count": null,
   "id": "e8c4a86d",
   "metadata": {},
   "outputs": [],
   "source": [
    "sciname = Amniote_db['genus'] + ' ' + Amniote_db['species']\n",
    "Amniote_db['sciname'] = sciname"
   ]
  },
  {
   "cell_type": "code",
   "execution_count": null,
   "id": "6e8ac227",
   "metadata": {},
   "outputs": [],
   "source": [
    "Amniote_db['sciname']"
   ]
  },
  {
   "cell_type": "markdown",
   "id": "64385256-29a4-478e-957c-85c41c2ca3c4",
   "metadata": {
    "slideshow": {
     "slide_type": "slide"
    }
   },
   "source": [
    "### `merge`\n",
    "\n",
    "use the `pandas` `merge` function to join `Amniote_iucn` and `animal_iucn`."
   ]
  },
  {
   "cell_type": "code",
   "execution_count": null,
   "id": "b4e8d4de",
   "metadata": {},
   "outputs": [],
   "source": [
    "Amniote_iucn = Amniote_db.merge(animal_iucn, left_on='sciname', right_on='scientificName')\n",
    "Amniote_iucn[['scientificName', 'sciname']].head()"
   ]
  },
  {
   "cell_type": "markdown",
   "id": "952d1ef4-6978-493b-92fe-b3af0160591e",
   "metadata": {
    "slideshow": {
     "slide_type": "slide"
    }
   },
   "source": [
    "- We want to compare body mass between `'Aves'` and `'Mammalia'`. \n",
    "\n",
    "- So, let's create a DataFrame with only these two classes."
   ]
  },
  {
   "cell_type": "code",
   "execution_count": null,
   "id": "8966cfab-945b-489d-a786-ffdc346f33de",
   "metadata": {},
   "outputs": [],
   "source": [
    "aves = Amniote_iucn['class'] == \"Aves\" \n",
    "\n",
    "mam = Amniote_iucn['class']==\"Mammalia\"\n",
    "\n",
    "# select aves or mammals\n",
    "Amniote_iucn_aves_mam = Amniote_iucn[aves | mam]"
   ]
  },
  {
   "cell_type": "code",
   "execution_count": null,
   "id": "2a9d09c0-107a-4dc9-81eb-2539bb38584a",
   "metadata": {},
   "outputs": [],
   "source": [
    "Amniote_iucn_aves_mam['class'].value_counts()"
   ]
  },
  {
   "cell_type": "markdown",
   "id": "57ae9df1-cc1f-4817-b0c3-59c1405c1d3a",
   "metadata": {
    "slideshow": {
     "slide_type": "slide"
    }
   },
   "source": [
    "The observed weight distributions in the two groups is:"
   ]
  },
  {
   "cell_type": "code",
   "execution_count": null,
   "id": "69807bdd",
   "metadata": {},
   "outputs": [],
   "source": [
    "Amniote_iucn_aves_mam.groupby('class')['adult_body_mass_g'].describe()"
   ]
  },
  {
   "cell_type": "markdown",
   "id": "19cd05c9-f47d-45f5-8a6c-bd9b3f664471",
   "metadata": {
    "slideshow": {
     "slide_type": "slide"
    }
   },
   "source": [
    "Extract the group means."
   ]
  },
  {
   "cell_type": "code",
   "execution_count": null,
   "id": "01993697",
   "metadata": {},
   "outputs": [],
   "source": [
    "mean_table = Amniote_iucn_aves_mam.groupby('class')['adult_body_mass_g'].mean()\n",
    "mean_table"
   ]
  },
  {
   "cell_type": "markdown",
   "id": "f7c61cec-e969-4e1d-9b1f-2f366c4e59e4",
   "metadata": {
    "slideshow": {
     "slide_type": "slide"
    }
   },
   "source": [
    "Compute the observed difference."
   ]
  },
  {
   "cell_type": "code",
   "execution_count": null,
   "id": "d6c11d48",
   "metadata": {},
   "outputs": [],
   "source": [
    "observed_mean_difference = mean_table.iloc[1] - mean_table.iloc[0]\n",
    "observed_mean_difference "
   ]
  },
  {
   "cell_type": "markdown",
   "id": "ec40cb28-774d-4a75-ba09-43c7c454ba59",
   "metadata": {},
   "source": [
    "- So, mammals are on average 132,658 grams larger than aves.\n",
    "\n",
    "- Could this difference be due to the sample of mammmals and aves in our data?  In other words, is this due to chance? "
   ]
  },
  {
   "cell_type": "markdown",
   "id": "25437607",
   "metadata": {
    "slideshow": {
     "slide_type": "slide"
    }
   },
   "source": [
    "## The Logic of Hypothesis Testing\n",
    "\n",
    "### 1. Hypotheses\n",
    "\n",
    "Two claims:\n",
    "\n",
    "1. There is no difference in the mean body weight between mammals and Aves.  This is called the null hypothesis.\n",
    "\n",
    "2. There is a difference in the mean body weight between mammals and Aves.  This is called the alternative hypothesis."
   ]
  },
  {
   "cell_type": "markdown",
   "id": "e2d2caf0",
   "metadata": {
    "slideshow": {
     "slide_type": "slide"
    }
   },
   "source": [
    "### 2. Test statistic\n",
    "\n",
    "The test statistic is a number, calculated from the data, that captures what we're interested in.\n",
    "\n",
    "What would be a useful test statistic for this study?"
   ]
  },
  {
   "cell_type": "markdown",
   "id": "81f65603",
   "metadata": {
    "slideshow": {
     "slide_type": "slide"
    }
   },
   "source": [
    "### 3. Simulate what the null hypothesis predicts will happen\n",
    "\n",
    "- If the null hypothesis is true then the mean weight in mammals should be the same as aves.  This implies that we can randomly shuffle the labels and the mean difference should be close to 0.\n",
    "\n",
    "\n",
    "- Imagine we have 8644 playing cards labelled `Aves` and 4490 cards labelled `Mammalia`.\n",
    "\n",
    "\n",
    "- Shuffle the cards ...\n",
    "\n",
    "\n",
    "- Assign the cards to the 13,134 animals then calculate the mean difference between `Aves` and `Mammalia`.  This is one simulated value of the test statistic. \n",
    "\n",
    "\n",
    "- Shuffle the cards again ...\n",
    "\n",
    "\n",
    "- Assign the cards to the 13,134 animals then calculate the mean difference between `Aves` and `Mammalia`.  This is one simulated value of the test statistic. \n",
    "\n",
    "\n",
    "- Continue shuffling, assigning to neigbourhoods, and computing the mean difference."
   ]
  },
  {
   "cell_type": "markdown",
   "id": "eb46f23f-ab2d-4987-a622-21b2948077c6",
   "metadata": {
    "slideshow": {
     "slide_type": "slide"
    }
   },
   "source": [
    "## Simulating what the null hypothesis predicts\n",
    "\n",
    "### Step 1\n",
    "\n",
    "Randomly shuffle the assignment of `Aves` and `Mammalia` to animals"
   ]
  },
  {
   "cell_type": "code",
   "execution_count": null,
   "id": "82151d2a-85e2-47fc-a33f-0f081706ebd8",
   "metadata": {},
   "outputs": [],
   "source": [
    "avemam_sim = Amniote_iucn_aves_mam['class'].sample(frac = 1, replace = True).reset_index(drop = True)\n",
    "avemam_sim"
   ]
  },
  {
   "cell_type": "markdown",
   "id": "1e8b8e76-bc0d-4094-a9e4-f43ef779d2c4",
   "metadata": {
    "slideshow": {
     "slide_type": "slide"
    }
   },
   "source": [
    "## Step 2\n",
    "\n",
    "Calculate the mean difference for the shuffled labels."
   ]
  },
  {
   "cell_type": "code",
   "execution_count": null,
   "id": "a2e3dd85-5a90-483c-ac5f-6411656973ab",
   "metadata": {},
   "outputs": [],
   "source": [
    "Ave_mean_sim = Amniote_iucn_aves_mam.loc[avemam_sim == 'Aves', 'adult_body_mass_g'].mean()\n",
    "\n",
    "Mam_mean_sim = Amniote_iucn_aves_mam.loc[avemam_sim == 'Mammalia', 'adult_body_mass_g'].mean()\n",
    "\n",
    "sim_diff = Mam_mean_sim - Ave_mean_sim\n",
    "\n",
    "sim_diff"
   ]
  },
  {
   "cell_type": "markdown",
   "id": "ead47d19-38d0-4467-9396-d004c9c4abb3",
   "metadata": {
    "slideshow": {
     "slide_type": "slide"
    },
    "tags": []
   },
   "source": [
    "### Step 3\n",
    "\n",
    "Repeat Steps 1 and 2 a large number of times (e.g., 5000) to get the distribution of mean differences. "
   ]
  },
  {
   "cell_type": "code",
   "execution_count": null,
   "id": "42a0069c-3e04-4142-acda-5f6282b64eed",
   "metadata": {},
   "outputs": [],
   "source": [
    "simulated_diffs = []\n",
    "\n",
    "for _ in range(5000):\n",
    "    avemam_sim = Amniote_iucn_aves_mam['class'].sample(frac = 1, replace = True).reset_index(drop = True)\n",
    "    Ave_mean_sim = Amniote_iucn_aves_mam.loc[avemam_sim == 'Aves', 'adult_body_mass_g'].mean()\n",
    "    Mam_mean_sim = Amniote_iucn_aves_mam.loc[avemam_sim == 'Mammalia', 'adult_body_mass_g'].mean()\n",
    "    sim_diff = Mam_mean_sim - Ave_mean_sim\n",
    "    simulated_diffs.append(sim_diff)\n",
    "    "
   ]
  },
  {
   "cell_type": "code",
   "execution_count": null,
   "id": "2e7f435d-ea99-4d5e-9cb0-955d55375983",
   "metadata": {
    "slideshow": {
     "slide_type": "slide"
    }
   },
   "outputs": [],
   "source": [
    "import matplotlib.pyplot as plt\n",
    "\n",
    "plt.hist(simulated_diffs, edgecolor = 'black', color = 'lightgrey')\n",
    "plt.vlines(x = observed_mean_difference , ymin = 0, ymax = 1000, color = 'black', linewidth = 5);"
   ]
  },
  {
   "cell_type": "markdown",
   "id": "ad395309-b6af-457a-a650-9e9162513015",
   "metadata": {},
   "source": [
    "- The histogram above shows the randomization distribution with the observed difference as the black line.\n",
    "\n",
    "- What proportion of the simulated differences are larger than the observed mean difference of 35829.4?  This is known as the **p-value**."
   ]
  },
  {
   "cell_type": "code",
   "execution_count": null,
   "id": "50974999-7730-4aec-a3d8-a40fdbc441f6",
   "metadata": {
    "slideshow": {
     "slide_type": "slide"
    }
   },
   "outputs": [],
   "source": [
    "simulated_diffs_df = pd.DataFrame({'sim_diffs' : simulated_diffs})\n",
    "\n",
    "numgreater = (simulated_diffs_df['sim_diffs'] >= observed_mean_difference).sum()\n",
    "\n",
    "print('The number of simulated differences greater than the observed difference is:', numgreater)\n",
    "\n",
    "pvalue = numgreater / 5000\n",
    "\n",
    "print('The p-value is:', pvalue)"
   ]
  },
  {
   "cell_type": "markdown",
   "id": "707231f5-2491-4f34-b486-bd7a5be5602e",
   "metadata": {
    "tags": []
   },
   "source": [
    "### Step 4\n",
    "\n",
    "Interpret the results.  \n",
    "\n",
    "Assuming that there is no difference in the mean weights between Aves and Mammalia, 0% of simulations had as large or larger value than the observed mean difference of 35829.4.  Therefore, there is little reason to doubt the null hypothesis that one fertilizer is better than another."
   ]
  },
  {
   "cell_type": "markdown",
   "id": "b48d13f2",
   "metadata": {
    "slideshow": {
     "slide_type": "slide"
    }
   },
   "source": [
    "# Causality\n",
    "\n",
    "Imagine the following hypothetical scenario:\n",
    "\n",
    "- you have a headache \n",
    "\n",
    "- you take an Aspirin at 11:00 to relieve your pain. your pain goes away after 30 minutes.\n",
    "\n",
    "Now, you go back in time to 11:00 ...\n",
    "\n",
    "- you don't take an Aspirin at 11:00 to relieve your pain. your pain goes away after 48 minutes.\n",
    "\n",
    "The **causal effect** of taking an Aspirin is 18 minutes (48 minutes - 30 minutes).\n"
   ]
  },
  {
   "cell_type": "markdown",
   "id": "c3593c79",
   "metadata": {
    "slideshow": {
     "slide_type": "slide"
    }
   },
   "source": [
    "## Potential outcomes and randomized control trials\n",
    "\n",
    "- Establishing causality involves comparing these **potential outcomes**.  \n",
    "\n",
    "- The problem is that we can never observe both taking an Aspirin and not taking as Aspirin (in the same person at the same time under the same conditions).\n",
    "\n",
    "- A close approximation to comparing potential outcomes is to compare two groups of people that are similar on average (age, sex, income, etc.) except one group is allowed to take Aspirin after a headache and the other group takes a fake Aspirin (sugar pill/placebo) after a headache.  This is an example of a randomized control trial.\n",
    "\n",
    "- Then the mean difference between time to pain relief should be due to Aspirin and not other factors related to why people may or may not take an Aspirin.  \n",
    "\n"
   ]
  },
  {
   "cell_type": "markdown",
   "id": "4c51a434-a072-4b75-940e-2718a103f660",
   "metadata": {
    "slideshow": {
     "slide_type": "slide"
    }
   },
   "source": [
    "## Review\n",
    "\n",
    "- The tomato plant example is an example of a test where the conclusion is indeterminate. The observed difference between groups is plausible under the model that the fertilizer had no effect on the weight of tomatoes. \n",
    "\n",
    "- If the null hypothesis is true then the two results from each particular pot will be exchangeable.  But, this hypothesis could be false if, say, some of the plants were diseased.\n",
    "\n",
    "- Does it make sense that biological class (i.e., Aves or Mammalia) *causes* a higher weight in Mammalia?"
   ]
  }
 ],
 "metadata": {
  "celltoolbar": "Slideshow",
  "kernelspec": {
   "display_name": "Python 3 (ipykernel)",
   "language": "python",
   "name": "python3"
  },
  "language_info": {
   "codemirror_mode": {
    "name": "ipython",
    "version": 3
   },
   "file_extension": ".py",
   "mimetype": "text/x-python",
   "name": "python",
   "nbconvert_exporter": "python",
   "pygments_lexer": "ipython3",
   "version": "3.8.8"
  }
 },
 "nbformat": 4,
 "nbformat_minor": 5
}
