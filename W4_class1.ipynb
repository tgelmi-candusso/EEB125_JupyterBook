{
 "cells": [
  {
   "cell_type": "markdown",
   "id": "978bc258",
   "metadata": {
    "slideshow": {
     "slide_type": "slide"
    }
   },
   "source": [
    "# Class 4: Life history and conservation status\n",
    "## EEB 125 | 2 February 2022\n",
    "### Profs. Caroline Parins-Fukuchi, Paul Gries, and Nathan Taback"
   ]
  },
  {
   "cell_type": "markdown",
   "id": "8adde374",
   "metadata": {
    "slideshow": {
     "slide_type": "slide"
    }
   },
   "source": [
    "#### Class 4: Data Wrangling and Exploratory Data Analysis \n",
    "\n",
    "## Learning Objectives\n",
    "\n",
    "By the end of today's class you will be able to:\n",
    "\n",
    "- select subsets of rows using operators `!=`, `>`, `>=`, `<`, `<=`\n",
    "\n",
    "- operations on `pandas` `Series` and `DataFrames`.\n",
    "\n",
    "- join two data frames\n",
    "\n",
    "- Grouped summaries of data\n",
    "\n",
    "- Define statistical variables from data using Python.\n",
    "\n",
    "<!--\n",
    "- Understand the difference between categorical (nominal and ordered) , and interval variables.\n",
    "\n",
    "- Create numerical and visual data summaries of categorical variables using Python.\n",
    "\n",
    "- Understand how to interpret categorical variables and bar charts in context.\n",
    "\n",
    "- Create numerical and visual data summaries of categorical variables using Python.\n",
    "\n",
    "- Understand how to compute and interpret frequency and cumulative frequency distributions.\n",
    "\n",
    "- Understand strategies on managing missing values and the implications on data interpretations.\n",
    "-->"
   ]
  },
  {
   "cell_type": "markdown",
   "id": "bba97c79",
   "metadata": {
    "slideshow": {
     "slide_type": "slide"
    }
   },
   "source": [
    "# Today's data story:\n",
    "## Are mammals that take longer go grow up at greater risk of extinction?"
   ]
  },
  {
   "cell_type": "markdown",
   "id": "ea3091f8",
   "metadata": {
    "slideshow": {
     "slide_type": "slide"
    }
   },
   "source": [
    "# How long do individuals take to grow up?\n",
    "\n",
    "- Different lineages reach maturity at different ages\n",
    "\n",
    "- **Does this variation contribute to differences in extinction risk?**\n",
    "\n",
    "![](images/growup.svg)"
   ]
  },
  {
   "cell_type": "markdown",
   "id": "6548c6f6",
   "metadata": {
    "slideshow": {
     "slide_type": "slide"
    }
   },
   "source": [
    "First, let's review some Booleans."
   ]
  },
  {
   "cell_type": "markdown",
   "id": "f3c06aad",
   "metadata": {
    "slideshow": {
     "slide_type": "slide"
    }
   },
   "source": [
    "# More on Selecting Rows/Selecting Subsets/Filtering Rows\n",
    "\n",
    "- Last week we discussed how to select rows using `&`, `|` by creating Boolean variables that correspond to creating subsets of a data frame (e.g., urban and middle age).\n",
    "\n",
    "- This week we will review how to select subsets using:\n",
    "  + `!=` - not equal\n",
    "  + `>` - greater than\n",
    "  + `>=` - greater than or equal to\n",
    "  + `<` - less than\n",
    "  + `<=` - less than or equal to"
   ]
  },
  {
   "cell_type": "code",
   "execution_count": 1,
   "id": "a9d02adc",
   "metadata": {
    "slideshow": {
     "slide_type": "notes"
    }
   },
   "outputs": [],
   "source": [
    "import matplotlib as plt\n",
    "import matplotlib.style\n",
    "plt.style.use('dark_background')"
   ]
  },
  {
   "cell_type": "code",
   "execution_count": 2,
   "id": "ff0b0504",
   "metadata": {
    "slideshow": {
     "slide_type": "slide"
    }
   },
   "outputs": [
    {
     "data": {
      "text/html": [
       "<div>\n",
       "<style scoped>\n",
       "    .dataframe tbody tr th:only-of-type {\n",
       "        vertical-align: middle;\n",
       "    }\n",
       "\n",
       "    .dataframe tbody tr th {\n",
       "        vertical-align: top;\n",
       "    }\n",
       "\n",
       "    .dataframe thead th {\n",
       "        text-align: right;\n",
       "    }\n",
       "</style>\n",
       "<table border=\"1\" class=\"dataframe\">\n",
       "  <thead>\n",
       "    <tr style=\"text-align: right;\">\n",
       "      <th></th>\n",
       "      <th>MSW05_Order</th>\n",
       "      <th>MSW05_Family</th>\n",
       "      <th>MSW05_Genus</th>\n",
       "      <th>MSW05_Species</th>\n",
       "      <th>MSW05_Binomial</th>\n",
       "      <th>1-1_ActivityCycle</th>\n",
       "      <th>5-1_AdultBodyMass_g</th>\n",
       "      <th>8-1_AdultForearmLen_mm</th>\n",
       "      <th>13-1_AdultHeadBodyLen_mm</th>\n",
       "      <th>2-1_AgeatEyeOpening_d</th>\n",
       "      <th>...</th>\n",
       "      <th>26-6_GR_MinLong_dd</th>\n",
       "      <th>26-7_GR_MidRangeLong_dd</th>\n",
       "      <th>27-1_HuPopDen_Min_n/km2</th>\n",
       "      <th>27-2_HuPopDen_Mean_n/km2</th>\n",
       "      <th>27-3_HuPopDen_5p_n/km2</th>\n",
       "      <th>27-4_HuPopDen_Change</th>\n",
       "      <th>28-1_Precip_Mean_mm</th>\n",
       "      <th>28-2_Temp_Mean_01degC</th>\n",
       "      <th>30-1_AET_Mean_mm</th>\n",
       "      <th>30-2_PET_Mean_mm</th>\n",
       "    </tr>\n",
       "  </thead>\n",
       "  <tbody>\n",
       "    <tr>\n",
       "      <th>0</th>\n",
       "      <td>Artiodactyla</td>\n",
       "      <td>Camelidae</td>\n",
       "      <td>Camelus</td>\n",
       "      <td>dromedarius</td>\n",
       "      <td>Camelus dromedarius</td>\n",
       "      <td>3.0</td>\n",
       "      <td>492714.47</td>\n",
       "      <td>NaN</td>\n",
       "      <td>NaN</td>\n",
       "      <td>NaN</td>\n",
       "      <td>...</td>\n",
       "      <td>NaN</td>\n",
       "      <td>NaN</td>\n",
       "      <td>NaN</td>\n",
       "      <td>NaN</td>\n",
       "      <td>NaN</td>\n",
       "      <td>NaN</td>\n",
       "      <td>NaN</td>\n",
       "      <td>NaN</td>\n",
       "      <td>NaN</td>\n",
       "      <td>NaN</td>\n",
       "    </tr>\n",
       "    <tr>\n",
       "      <th>1</th>\n",
       "      <td>Carnivora</td>\n",
       "      <td>Canidae</td>\n",
       "      <td>Canis</td>\n",
       "      <td>adustus</td>\n",
       "      <td>Canis adustus</td>\n",
       "      <td>1.0</td>\n",
       "      <td>10392.49</td>\n",
       "      <td>NaN</td>\n",
       "      <td>745.32</td>\n",
       "      <td>NaN</td>\n",
       "      <td>...</td>\n",
       "      <td>-17.53</td>\n",
       "      <td>13.00</td>\n",
       "      <td>0.0</td>\n",
       "      <td>35.20</td>\n",
       "      <td>1.0</td>\n",
       "      <td>0.14</td>\n",
       "      <td>90.75</td>\n",
       "      <td>236.51</td>\n",
       "      <td>922.90</td>\n",
       "      <td>1534.40</td>\n",
       "    </tr>\n",
       "    <tr>\n",
       "      <th>2</th>\n",
       "      <td>Carnivora</td>\n",
       "      <td>Canidae</td>\n",
       "      <td>Canis</td>\n",
       "      <td>aureus</td>\n",
       "      <td>Canis aureus</td>\n",
       "      <td>2.0</td>\n",
       "      <td>9658.70</td>\n",
       "      <td>NaN</td>\n",
       "      <td>827.53</td>\n",
       "      <td>7.50</td>\n",
       "      <td>...</td>\n",
       "      <td>-17.05</td>\n",
       "      <td>45.74</td>\n",
       "      <td>0.0</td>\n",
       "      <td>79.29</td>\n",
       "      <td>0.0</td>\n",
       "      <td>0.10</td>\n",
       "      <td>44.61</td>\n",
       "      <td>217.23</td>\n",
       "      <td>438.02</td>\n",
       "      <td>1358.98</td>\n",
       "    </tr>\n",
       "    <tr>\n",
       "      <th>3</th>\n",
       "      <td>Carnivora</td>\n",
       "      <td>Canidae</td>\n",
       "      <td>Canis</td>\n",
       "      <td>latrans</td>\n",
       "      <td>Canis latrans</td>\n",
       "      <td>2.0</td>\n",
       "      <td>11989.10</td>\n",
       "      <td>NaN</td>\n",
       "      <td>872.39</td>\n",
       "      <td>11.94</td>\n",
       "      <td>...</td>\n",
       "      <td>-168.12</td>\n",
       "      <td>-117.60</td>\n",
       "      <td>0.0</td>\n",
       "      <td>27.27</td>\n",
       "      <td>0.0</td>\n",
       "      <td>0.06</td>\n",
       "      <td>53.03</td>\n",
       "      <td>58.18</td>\n",
       "      <td>503.02</td>\n",
       "      <td>728.37</td>\n",
       "    </tr>\n",
       "    <tr>\n",
       "      <th>4</th>\n",
       "      <td>Carnivora</td>\n",
       "      <td>Canidae</td>\n",
       "      <td>Canis</td>\n",
       "      <td>lupus</td>\n",
       "      <td>Canis lupus</td>\n",
       "      <td>2.0</td>\n",
       "      <td>31756.51</td>\n",
       "      <td>NaN</td>\n",
       "      <td>1055.00</td>\n",
       "      <td>14.01</td>\n",
       "      <td>...</td>\n",
       "      <td>-171.84</td>\n",
       "      <td>3.90</td>\n",
       "      <td>0.0</td>\n",
       "      <td>37.87</td>\n",
       "      <td>0.0</td>\n",
       "      <td>0.04</td>\n",
       "      <td>34.79</td>\n",
       "      <td>4.82</td>\n",
       "      <td>313.33</td>\n",
       "      <td>561.11</td>\n",
       "    </tr>\n",
       "  </tbody>\n",
       "</table>\n",
       "<p>5 rows × 55 columns</p>\n",
       "</div>"
      ],
      "text/plain": [
       "    MSW05_Order MSW05_Family MSW05_Genus MSW05_Species       MSW05_Binomial  \\\n",
       "0  Artiodactyla    Camelidae     Camelus   dromedarius  Camelus dromedarius   \n",
       "1     Carnivora      Canidae       Canis       adustus        Canis adustus   \n",
       "2     Carnivora      Canidae       Canis        aureus         Canis aureus   \n",
       "3     Carnivora      Canidae       Canis       latrans        Canis latrans   \n",
       "4     Carnivora      Canidae       Canis         lupus          Canis lupus   \n",
       "\n",
       "   1-1_ActivityCycle  5-1_AdultBodyMass_g  8-1_AdultForearmLen_mm  \\\n",
       "0                3.0            492714.47                     NaN   \n",
       "1                1.0             10392.49                     NaN   \n",
       "2                2.0              9658.70                     NaN   \n",
       "3                2.0             11989.10                     NaN   \n",
       "4                2.0             31756.51                     NaN   \n",
       "\n",
       "   13-1_AdultHeadBodyLen_mm  2-1_AgeatEyeOpening_d  ...  26-6_GR_MinLong_dd  \\\n",
       "0                       NaN                    NaN  ...                 NaN   \n",
       "1                    745.32                    NaN  ...              -17.53   \n",
       "2                    827.53                   7.50  ...              -17.05   \n",
       "3                    872.39                  11.94  ...             -168.12   \n",
       "4                   1055.00                  14.01  ...             -171.84   \n",
       "\n",
       "   26-7_GR_MidRangeLong_dd  27-1_HuPopDen_Min_n/km2  27-2_HuPopDen_Mean_n/km2  \\\n",
       "0                      NaN                      NaN                       NaN   \n",
       "1                    13.00                      0.0                     35.20   \n",
       "2                    45.74                      0.0                     79.29   \n",
       "3                  -117.60                      0.0                     27.27   \n",
       "4                     3.90                      0.0                     37.87   \n",
       "\n",
       "   27-3_HuPopDen_5p_n/km2  27-4_HuPopDen_Change  28-1_Precip_Mean_mm  \\\n",
       "0                     NaN                   NaN                  NaN   \n",
       "1                     1.0                  0.14                90.75   \n",
       "2                     0.0                  0.10                44.61   \n",
       "3                     0.0                  0.06                53.03   \n",
       "4                     0.0                  0.04                34.79   \n",
       "\n",
       "   28-2_Temp_Mean_01degC  30-1_AET_Mean_mm  30-2_PET_Mean_mm  \n",
       "0                    NaN               NaN               NaN  \n",
       "1                 236.51            922.90           1534.40  \n",
       "2                 217.23            438.02           1358.98  \n",
       "3                  58.18            503.02            728.37  \n",
       "4                   4.82            313.33            561.11  \n",
       "\n",
       "[5 rows x 55 columns]"
      ]
     },
     "execution_count": 2,
     "metadata": {},
     "output_type": "execute_result"
    }
   ],
   "source": [
    "# we'll start by reading in and prepping our data\n",
    "\n",
    "import pandas as pd\n",
    "\n",
    "pantheria = pd.read_csv('pantheria.txt',sep=\"\\t\")\n",
    "pantheria.head()"
   ]
  },
  {
   "cell_type": "code",
   "execution_count": 3,
   "id": "4cffb19d",
   "metadata": {},
   "outputs": [
    {
     "data": {
      "text/plain": [
       "Index(['MSW05_Order', 'MSW05_Family', 'MSW05_Genus', 'MSW05_Species',\n",
       "       'MSW05_Binomial', '1-1_ActivityCycle', '5-1_AdultBodyMass_g',\n",
       "       '8-1_AdultForearmLen_mm', '13-1_AdultHeadBodyLen_mm',\n",
       "       '2-1_AgeatEyeOpening_d', '3-1_AgeatFirstBirth_d',\n",
       "       '18-1_BasalMetRate_mLO2hr', '5-2_BasalMetRateMass_g', '6-1_DietBreadth',\n",
       "       '7-1_DispersalAge_d', '9-1_GestationLen_d', '12-1_HabitatBreadth',\n",
       "       '22-1_HomeRange_km2', '22-2_HomeRange_Indiv_km2',\n",
       "       '14-1_InterbirthInterval_d', '15-1_LitterSize', '16-1_LittersPerYear',\n",
       "       '17-1_MaxLongevity_m', '5-3_NeonateBodyMass_g',\n",
       "       '13-2_NeonateHeadBodyLen_mm', '21-1_PopulationDensity_n/km2',\n",
       "       '10-1_PopulationGrpSize', '23-1_SexualMaturityAge_d',\n",
       "       '10-2_SocialGrpSize', '24-1_TeatNumber', '12-2_Terrestriality',\n",
       "       '6-2_TrophicLevel', '25-1_WeaningAge_d', '5-4_WeaningBodyMass_g',\n",
       "       '13-3_WeaningHeadBodyLen_mm', 'References', '5-5_AdultBodyMass_g_EXT',\n",
       "       '16-2_LittersPerYear_EXT', '5-6_NeonateBodyMass_g_EXT',\n",
       "       '5-7_WeaningBodyMass_g_EXT', '26-1_GR_Area_km2', '26-2_GR_MaxLat_dd',\n",
       "       '26-3_GR_MinLat_dd', '26-4_GR_MidRangeLat_dd', '26-5_GR_MaxLong_dd',\n",
       "       '26-6_GR_MinLong_dd', '26-7_GR_MidRangeLong_dd',\n",
       "       '27-1_HuPopDen_Min_n/km2', '27-2_HuPopDen_Mean_n/km2',\n",
       "       '27-3_HuPopDen_5p_n/km2', '27-4_HuPopDen_Change', '28-1_Precip_Mean_mm',\n",
       "       '28-2_Temp_Mean_01degC', '30-1_AET_Mean_mm', '30-2_PET_Mean_mm'],\n",
       "      dtype='object')"
      ]
     },
     "execution_count": 3,
     "metadata": {},
     "output_type": "execute_result"
    }
   ],
   "source": [
    "pantheria.columns"
   ]
  },
  {
   "cell_type": "code",
   "execution_count": 4,
   "id": "4350b28a",
   "metadata": {},
   "outputs": [
    {
     "data": {
      "text/html": [
       "<div>\n",
       "<style scoped>\n",
       "    .dataframe tbody tr th:only-of-type {\n",
       "        vertical-align: middle;\n",
       "    }\n",
       "\n",
       "    .dataframe tbody tr th {\n",
       "        vertical-align: top;\n",
       "    }\n",
       "\n",
       "    .dataframe thead th {\n",
       "        text-align: right;\n",
       "    }\n",
       "</style>\n",
       "<table border=\"1\" class=\"dataframe\">\n",
       "  <thead>\n",
       "    <tr style=\"text-align: right;\">\n",
       "      <th></th>\n",
       "      <th>MSW05_Order</th>\n",
       "      <th>MSW05_Binomial</th>\n",
       "      <th>5-1_AdultBodyMass_g</th>\n",
       "      <th>23-1_SexualMaturityAge_d</th>\n",
       "      <th>14-1_InterbirthInterval_d</th>\n",
       "      <th>17-1_MaxLongevity_m</th>\n",
       "      <th>15-1_LitterSize</th>\n",
       "    </tr>\n",
       "  </thead>\n",
       "  <tbody>\n",
       "    <tr>\n",
       "      <th>0</th>\n",
       "      <td>Artiodactyla</td>\n",
       "      <td>Camelus dromedarius</td>\n",
       "      <td>492714.47</td>\n",
       "      <td>1947.94</td>\n",
       "      <td>614.41</td>\n",
       "      <td>480.0</td>\n",
       "      <td>0.98</td>\n",
       "    </tr>\n",
       "    <tr>\n",
       "      <th>1</th>\n",
       "      <td>Carnivora</td>\n",
       "      <td>Canis adustus</td>\n",
       "      <td>10392.49</td>\n",
       "      <td>249.88</td>\n",
       "      <td>NaN</td>\n",
       "      <td>137.0</td>\n",
       "      <td>4.50</td>\n",
       "    </tr>\n",
       "    <tr>\n",
       "      <th>2</th>\n",
       "      <td>Carnivora</td>\n",
       "      <td>Canis aureus</td>\n",
       "      <td>9658.70</td>\n",
       "      <td>371.23</td>\n",
       "      <td>365.00</td>\n",
       "      <td>192.0</td>\n",
       "      <td>3.74</td>\n",
       "    </tr>\n",
       "    <tr>\n",
       "      <th>3</th>\n",
       "      <td>Carnivora</td>\n",
       "      <td>Canis latrans</td>\n",
       "      <td>11989.10</td>\n",
       "      <td>372.90</td>\n",
       "      <td>365.00</td>\n",
       "      <td>262.0</td>\n",
       "      <td>5.72</td>\n",
       "    </tr>\n",
       "    <tr>\n",
       "      <th>4</th>\n",
       "      <td>Carnivora</td>\n",
       "      <td>Canis lupus</td>\n",
       "      <td>31756.51</td>\n",
       "      <td>679.37</td>\n",
       "      <td>365.00</td>\n",
       "      <td>354.0</td>\n",
       "      <td>4.98</td>\n",
       "    </tr>\n",
       "  </tbody>\n",
       "</table>\n",
       "</div>"
      ],
      "text/plain": [
       "    MSW05_Order       MSW05_Binomial  5-1_AdultBodyMass_g  \\\n",
       "0  Artiodactyla  Camelus dromedarius            492714.47   \n",
       "1     Carnivora        Canis adustus             10392.49   \n",
       "2     Carnivora         Canis aureus              9658.70   \n",
       "3     Carnivora        Canis latrans             11989.10   \n",
       "4     Carnivora          Canis lupus             31756.51   \n",
       "\n",
       "   23-1_SexualMaturityAge_d  14-1_InterbirthInterval_d  17-1_MaxLongevity_m  \\\n",
       "0                   1947.94                     614.41                480.0   \n",
       "1                    249.88                        NaN                137.0   \n",
       "2                    371.23                     365.00                192.0   \n",
       "3                    372.90                     365.00                262.0   \n",
       "4                    679.37                     365.00                354.0   \n",
       "\n",
       "   15-1_LitterSize  \n",
       "0             0.98  \n",
       "1             4.50  \n",
       "2             3.74  \n",
       "3             5.72  \n",
       "4             4.98  "
      ]
     },
     "execution_count": 4,
     "metadata": {},
     "output_type": "execute_result"
    }
   ],
   "source": [
    "important_columns = [\"MSW05_Order\",\"MSW05_Binomial\",\"5-1_AdultBodyMass_g\",\"23-1_SexualMaturityAge_d\",\"14-1_InterbirthInterval_d\",'17-1_MaxLongevity_m',\"15-1_LitterSize\"]\n",
    "\n",
    "sub_pantheria = pantheria[important_columns]\n",
    "sub_pantheria.head()"
   ]
  },
  {
   "cell_type": "code",
   "execution_count": 5,
   "id": "2be27e7c",
   "metadata": {},
   "outputs": [],
   "source": [
    "# rename columns so they are more human-friendly\n",
    "\n",
    "columnnames = {'MSW05_Order': 'order',\n",
    "               'MSW05_Binomial': 'genus_species',\n",
    "               '5-1_AdultBodyMass_g': 'body_mass_g',\n",
    "               '23-1_SexualMaturityAge_d': 'maturity_d',\n",
    "               '14-1_InterbirthInterval_d': 'interbirth_d',\n",
    "               '17-1_MaxLongevity_m': 'longevity_m',\n",
    "               '15-1_LitterSize': 'litter_size_ind'}\n",
    "\n",
    "rn_pantheria = sub_pantheria.rename(columns=columnnames)"
   ]
  },
  {
   "cell_type": "code",
   "execution_count": 6,
   "id": "ac2fc463",
   "metadata": {},
   "outputs": [
    {
     "data": {
      "text/html": [
       "<div>\n",
       "<style scoped>\n",
       "    .dataframe tbody tr th:only-of-type {\n",
       "        vertical-align: middle;\n",
       "    }\n",
       "\n",
       "    .dataframe tbody tr th {\n",
       "        vertical-align: top;\n",
       "    }\n",
       "\n",
       "    .dataframe thead th {\n",
       "        text-align: right;\n",
       "    }\n",
       "</style>\n",
       "<table border=\"1\" class=\"dataframe\">\n",
       "  <thead>\n",
       "    <tr style=\"text-align: right;\">\n",
       "      <th></th>\n",
       "      <th>order</th>\n",
       "      <th>genus_species</th>\n",
       "      <th>body_mass_g</th>\n",
       "      <th>maturity_d</th>\n",
       "      <th>interbirth_d</th>\n",
       "      <th>longevity_m</th>\n",
       "      <th>litter_size_ind</th>\n",
       "    </tr>\n",
       "  </thead>\n",
       "  <tbody>\n",
       "    <tr>\n",
       "      <th>0</th>\n",
       "      <td>Artiodactyla</td>\n",
       "      <td>Camelus dromedarius</td>\n",
       "      <td>492714.47</td>\n",
       "      <td>1947.94</td>\n",
       "      <td>614.41</td>\n",
       "      <td>480.0</td>\n",
       "      <td>0.98</td>\n",
       "    </tr>\n",
       "    <tr>\n",
       "      <th>1</th>\n",
       "      <td>Carnivora</td>\n",
       "      <td>Canis adustus</td>\n",
       "      <td>10392.49</td>\n",
       "      <td>249.88</td>\n",
       "      <td>NaN</td>\n",
       "      <td>137.0</td>\n",
       "      <td>4.50</td>\n",
       "    </tr>\n",
       "    <tr>\n",
       "      <th>2</th>\n",
       "      <td>Carnivora</td>\n",
       "      <td>Canis aureus</td>\n",
       "      <td>9658.70</td>\n",
       "      <td>371.23</td>\n",
       "      <td>365.00</td>\n",
       "      <td>192.0</td>\n",
       "      <td>3.74</td>\n",
       "    </tr>\n",
       "    <tr>\n",
       "      <th>3</th>\n",
       "      <td>Carnivora</td>\n",
       "      <td>Canis latrans</td>\n",
       "      <td>11989.10</td>\n",
       "      <td>372.90</td>\n",
       "      <td>365.00</td>\n",
       "      <td>262.0</td>\n",
       "      <td>5.72</td>\n",
       "    </tr>\n",
       "    <tr>\n",
       "      <th>4</th>\n",
       "      <td>Carnivora</td>\n",
       "      <td>Canis lupus</td>\n",
       "      <td>31756.51</td>\n",
       "      <td>679.37</td>\n",
       "      <td>365.00</td>\n",
       "      <td>354.0</td>\n",
       "      <td>4.98</td>\n",
       "    </tr>\n",
       "  </tbody>\n",
       "</table>\n",
       "</div>"
      ],
      "text/plain": [
       "          order        genus_species  body_mass_g  maturity_d  interbirth_d  \\\n",
       "0  Artiodactyla  Camelus dromedarius    492714.47     1947.94        614.41   \n",
       "1     Carnivora        Canis adustus     10392.49      249.88           NaN   \n",
       "2     Carnivora         Canis aureus      9658.70      371.23        365.00   \n",
       "3     Carnivora        Canis latrans     11989.10      372.90        365.00   \n",
       "4     Carnivora          Canis lupus     31756.51      679.37        365.00   \n",
       "\n",
       "   longevity_m  litter_size_ind  \n",
       "0        480.0             0.98  \n",
       "1        137.0             4.50  \n",
       "2        192.0             3.74  \n",
       "3        262.0             5.72  \n",
       "4        354.0             4.98  "
      ]
     },
     "execution_count": 6,
     "metadata": {},
     "output_type": "execute_result"
    }
   ],
   "source": [
    "rn_pantheria.head()"
   ]
  },
  {
   "cell_type": "markdown",
   "id": "b84a799a",
   "metadata": {
    "slideshow": {
     "slide_type": "slide"
    }
   },
   "source": [
    "## How many days does the average mammal take from birth to be biologically mature?\n"
   ]
  },
  {
   "cell_type": "markdown",
   "id": "d94e7903",
   "metadata": {
    "slideshow": {
     "slide_type": "slide"
    }
   },
   "source": [
    "## Use not-equal to operator `>` \n",
    "\n",
    "A Boolean series that is `True` when `maturity_d` is greater than `X` and `False` otherwise."
   ]
  },
  {
   "cell_type": "code",
   "execution_count": 7,
   "id": "8c060f3e",
   "metadata": {
    "slideshow": {
     "slide_type": "slide"
    }
   },
   "outputs": [],
   "source": [
    "maturity_series = rn_pantheria['maturity_d']"
   ]
  },
  {
   "cell_type": "code",
   "execution_count": 8,
   "id": "60ae93e5",
   "metadata": {
    "slideshow": {
     "slide_type": "slide"
    }
   },
   "outputs": [
    {
     "data": {
      "text/plain": [
       "False    4925\n",
       "True      491\n",
       "Name: maturity_d, dtype: int64"
      ]
     },
     "execution_count": 8,
     "metadata": {},
     "output_type": "execute_result"
    }
   ],
   "source": [
    "grow1yr = (maturity_series<(365))\n",
    "grow1yr.value_counts()"
   ]
  },
  {
   "cell_type": "code",
   "execution_count": 9,
   "id": "1b70cb04",
   "metadata": {
    "slideshow": {
     "slide_type": "slide"
    }
   },
   "outputs": [
    {
     "data": {
      "text/plain": [
       "False    4874\n",
       "True      542\n",
       "Name: maturity_d, dtype: int64"
      ]
     },
     "execution_count": 9,
     "metadata": {},
     "output_type": "execute_result"
    }
   ],
   "source": [
    "grow110yr = (maturity_series>=365) & (maturity_series<(365*10))\n",
    "grow110yr.value_counts()"
   ]
  },
  {
   "cell_type": "code",
   "execution_count": 10,
   "id": "7fb24955",
   "metadata": {
    "slideshow": {
     "slide_type": "slide"
    }
   },
   "outputs": [
    {
     "data": {
      "text/plain": [
       "False    5398\n",
       "True       18\n",
       "Name: maturity_d, dtype: int64"
      ]
     },
     "execution_count": 10,
     "metadata": {},
     "output_type": "execute_result"
    }
   ],
   "source": [
    "grow10yr = (maturity_series>(365*10))\n",
    "grow10yr.value_counts()"
   ]
  },
  {
   "cell_type": "markdown",
   "id": "03f57815",
   "metadata": {
    "slideshow": {
     "slide_type": "slide"
    }
   },
   "source": [
    "# Does anyone notice a problem here??"
   ]
  },
  {
   "cell_type": "code",
   "execution_count": 11,
   "id": "29fef553",
   "metadata": {
    "slideshow": {
     "slide_type": "slide"
    }
   },
   "outputs": [
    {
     "data": {
      "text/plain": [
       "True     4365\n",
       "False    1051\n",
       "Name: maturity_d, dtype: int64"
      ]
     },
     "execution_count": 11,
     "metadata": {},
     "output_type": "execute_result"
    }
   ],
   "source": [
    "maturity_seriesMIS = maturity_series.isna()\n",
    "maturity_seriesMIS.value_counts()\n",
    "\n"
   ]
  },
  {
   "cell_type": "markdown",
   "id": "23971a52",
   "metadata": {
    "slideshow": {
     "slide_type": "slide"
    }
   },
   "source": [
    "### uff da!! we've got some missing data\n",
    "\n",
    "- we can perform calculations with missing values removed using the `dropna()` function in pandas"
   ]
  },
  {
   "cell_type": "code",
   "execution_count": 12,
   "id": "1dac2dba",
   "metadata": {
    "slideshow": {
     "slide_type": "slide"
    }
   },
   "outputs": [
    {
     "data": {
      "text/plain": [
       "False    560\n",
       "True     491\n",
       "Name: maturity_d, dtype: int64"
      ]
     },
     "execution_count": 12,
     "metadata": {},
     "output_type": "execute_result"
    }
   ],
   "source": [
    "grow1yr = (maturity_series.dropna()<(365))\n",
    "grow1yr.value_counts()"
   ]
  },
  {
   "cell_type": "code",
   "execution_count": 13,
   "id": "5ba1007d",
   "metadata": {},
   "outputs": [
    {
     "data": {
      "text/plain": [
       "True     542\n",
       "False    509\n",
       "Name: maturity_d, dtype: int64"
      ]
     },
     "execution_count": 13,
     "metadata": {},
     "output_type": "execute_result"
    }
   ],
   "source": [
    "grow110yr = (maturity_series.dropna()>=365) & (maturity_series.dropna()<(365*10))\n",
    "grow110yr.value_counts()"
   ]
  },
  {
   "cell_type": "code",
   "execution_count": 14,
   "id": "b16e8cd6",
   "metadata": {},
   "outputs": [
    {
     "data": {
      "text/plain": [
       "False    1033\n",
       "True       18\n",
       "Name: maturity_d, dtype: int64"
      ]
     },
     "execution_count": 14,
     "metadata": {},
     "output_type": "execute_result"
    }
   ],
   "source": [
    "grow10yr = (maturity_series.dropna()>(365*10))\n",
    "grow10yr.value_counts()"
   ]
  },
  {
   "cell_type": "markdown",
   "id": "b08567e3",
   "metadata": {
    "slideshow": {
     "slide_type": "slide"
    }
   },
   "source": [
    "## little better. but what if we want measurements in years?"
   ]
  },
  {
   "cell_type": "code",
   "execution_count": 15,
   "id": "f6681c54",
   "metadata": {
    "slideshow": {
     "slide_type": "slide"
    }
   },
   "outputs": [
    {
     "data": {
      "text/plain": [
       "0       5.336822\n",
       "1       0.684603\n",
       "2       1.017068\n",
       "3       1.021644\n",
       "4       1.861288\n",
       "          ...   \n",
       "5411    0.424822\n",
       "5412         NaN\n",
       "5413         NaN\n",
       "5414         NaN\n",
       "5415    0.424822\n",
       "Name: maturity_d, Length: 5416, dtype: float64"
      ]
     },
     "execution_count": 15,
     "metadata": {},
     "output_type": "execute_result"
    }
   ],
   "source": [
    "maturity_series_yr = maturity_series/365.\n",
    "maturity_series_yr"
   ]
  },
  {
   "cell_type": "code",
   "execution_count": 16,
   "id": "4ba7817d",
   "metadata": {
    "slideshow": {
     "slide_type": "slide"
    }
   },
   "outputs": [
    {
     "data": {
      "text/plain": [
       "False    560\n",
       "True     491\n",
       "Name: maturity_d, dtype: int64"
      ]
     },
     "execution_count": 16,
     "metadata": {},
     "output_type": "execute_result"
    }
   ],
   "source": [
    "grow1yr = (maturity_series_yr.dropna()<(1))\n",
    "grow1yr.value_counts()"
   ]
  },
  {
   "cell_type": "code",
   "execution_count": 17,
   "id": "b5e519ac",
   "metadata": {
    "slideshow": {
     "slide_type": "slide"
    }
   },
   "outputs": [
    {
     "data": {
      "text/plain": [
       "True     542\n",
       "False    509\n",
       "Name: maturity_d, dtype: int64"
      ]
     },
     "execution_count": 17,
     "metadata": {},
     "output_type": "execute_result"
    }
   ],
   "source": [
    "grow110yr = (maturity_series_yr.dropna()>=1) & (maturity_series_yr.dropna()<(10))\n",
    "grow110yr.value_counts()"
   ]
  },
  {
   "cell_type": "code",
   "execution_count": 18,
   "id": "989d6f17",
   "metadata": {
    "slideshow": {
     "slide_type": "slide"
    }
   },
   "outputs": [
    {
     "data": {
      "text/plain": [
       "False    1033\n",
       "True       18\n",
       "Name: maturity_d, dtype: int64"
      ]
     },
     "execution_count": 18,
     "metadata": {},
     "output_type": "execute_result"
    }
   ],
   "source": [
    "grow10yr = (maturity_series_yr.dropna()>(10))\n",
    "grow10yr.value_counts()"
   ]
  },
  {
   "cell_type": "markdown",
   "id": "609a3040",
   "metadata": {
    "slideshow": {
     "slide_type": "slide"
    }
   },
   "source": [
    "# What if we want proportions?\n",
    "\n",
    "- We can use `.sum()` to calculate the denominator and divide our values by that"
   ]
  },
  {
   "cell_type": "code",
   "execution_count": 19,
   "id": "85a230d4",
   "metadata": {
    "slideshow": {
     "slide_type": "slide"
    }
   },
   "outputs": [
    {
     "data": {
      "text/plain": [
       "46.7174119885823"
      ]
     },
     "execution_count": 19,
     "metadata": {},
     "output_type": "execute_result"
    }
   ],
   "source": [
    "counts = grow1yr.value_counts()\n",
    "prop_short = counts[1]/counts.sum()\n",
    "prop_short * 100"
   ]
  },
  {
   "cell_type": "code",
   "execution_count": 20,
   "id": "900bd39b",
   "metadata": {
    "slideshow": {
     "slide_type": "slide"
    }
   },
   "outputs": [
    {
     "data": {
      "text/plain": [
       "51.56993339676499"
      ]
     },
     "execution_count": 20,
     "metadata": {},
     "output_type": "execute_result"
    }
   ],
   "source": [
    "counts = grow110yr.value_counts()\n",
    "prop_med = counts[1]/counts.sum()\n",
    "prop_med * 100"
   ]
  },
  {
   "cell_type": "code",
   "execution_count": 21,
   "id": "01366fb1",
   "metadata": {
    "slideshow": {
     "slide_type": "slide"
    }
   },
   "outputs": [
    {
     "data": {
      "text/plain": [
       "1.7126546146527115"
      ]
     },
     "execution_count": 21,
     "metadata": {},
     "output_type": "execute_result"
    }
   ],
   "source": [
    "counts = grow10yr.value_counts()\n",
    "prop_long = counts[1]/counts.sum()\n",
    "prop_long * 100"
   ]
  },
  {
   "cell_type": "markdown",
   "id": "4335c55c",
   "metadata": {
    "slideshow": {
     "slide_type": "slide"
    }
   },
   "source": [
    "# Data transformations with `pandas` series and DataFrames\n",
    "\n",
    "- The important thing here is that Series containing numeric variables (floats and ints) can be multiplied, divided, added, subtracted."
   ]
  },
  {
   "cell_type": "markdown",
   "id": "c4cff021",
   "metadata": {
    "slideshow": {
     "slide_type": "slide"
    }
   },
   "source": [
    "# Joining Tables\n",
    "\n",
    "- What is the relationship between how long it takes for a species to grow up and its risk of going extinct?\n"
   ]
  },
  {
   "cell_type": "code",
   "execution_count": 22,
   "id": "2c390e29",
   "metadata": {
    "slideshow": {
     "slide_type": "slide"
    }
   },
   "outputs": [
    {
     "data": {
      "text/html": [
       "<div>\n",
       "<style scoped>\n",
       "    .dataframe tbody tr th:only-of-type {\n",
       "        vertical-align: middle;\n",
       "    }\n",
       "\n",
       "    .dataframe tbody tr th {\n",
       "        vertical-align: top;\n",
       "    }\n",
       "\n",
       "    .dataframe thead th {\n",
       "        text-align: right;\n",
       "    }\n",
       "</style>\n",
       "<table border=\"1\" class=\"dataframe\">\n",
       "  <thead>\n",
       "    <tr style=\"text-align: right;\">\n",
       "      <th></th>\n",
       "      <th>MSW05_Order</th>\n",
       "      <th>MSW05_Family</th>\n",
       "      <th>MSW05_Genus</th>\n",
       "      <th>MSW05_Species</th>\n",
       "      <th>MSW05_Binomial</th>\n",
       "      <th>1-1_ActivityCycle</th>\n",
       "      <th>5-1_AdultBodyMass_g</th>\n",
       "      <th>8-1_AdultForearmLen_mm</th>\n",
       "      <th>13-1_AdultHeadBodyLen_mm</th>\n",
       "      <th>2-1_AgeatEyeOpening_d</th>\n",
       "      <th>...</th>\n",
       "      <th>26-6_GR_MinLong_dd</th>\n",
       "      <th>26-7_GR_MidRangeLong_dd</th>\n",
       "      <th>27-1_HuPopDen_Min_n/km2</th>\n",
       "      <th>27-2_HuPopDen_Mean_n/km2</th>\n",
       "      <th>27-3_HuPopDen_5p_n/km2</th>\n",
       "      <th>27-4_HuPopDen_Change</th>\n",
       "      <th>28-1_Precip_Mean_mm</th>\n",
       "      <th>28-2_Temp_Mean_01degC</th>\n",
       "      <th>30-1_AET_Mean_mm</th>\n",
       "      <th>30-2_PET_Mean_mm</th>\n",
       "    </tr>\n",
       "  </thead>\n",
       "  <tbody>\n",
       "    <tr>\n",
       "      <th>0</th>\n",
       "      <td>Artiodactyla</td>\n",
       "      <td>Camelidae</td>\n",
       "      <td>Camelus</td>\n",
       "      <td>dromedarius</td>\n",
       "      <td>Camelus dromedarius</td>\n",
       "      <td>3.0</td>\n",
       "      <td>492714.47</td>\n",
       "      <td>NaN</td>\n",
       "      <td>NaN</td>\n",
       "      <td>NaN</td>\n",
       "      <td>...</td>\n",
       "      <td>NaN</td>\n",
       "      <td>NaN</td>\n",
       "      <td>NaN</td>\n",
       "      <td>NaN</td>\n",
       "      <td>NaN</td>\n",
       "      <td>NaN</td>\n",
       "      <td>NaN</td>\n",
       "      <td>NaN</td>\n",
       "      <td>NaN</td>\n",
       "      <td>NaN</td>\n",
       "    </tr>\n",
       "    <tr>\n",
       "      <th>1</th>\n",
       "      <td>Carnivora</td>\n",
       "      <td>Canidae</td>\n",
       "      <td>Canis</td>\n",
       "      <td>adustus</td>\n",
       "      <td>Canis adustus</td>\n",
       "      <td>1.0</td>\n",
       "      <td>10392.49</td>\n",
       "      <td>NaN</td>\n",
       "      <td>745.32</td>\n",
       "      <td>NaN</td>\n",
       "      <td>...</td>\n",
       "      <td>-17.53</td>\n",
       "      <td>13.00</td>\n",
       "      <td>0.0</td>\n",
       "      <td>35.20</td>\n",
       "      <td>1.0</td>\n",
       "      <td>0.14</td>\n",
       "      <td>90.75</td>\n",
       "      <td>236.51</td>\n",
       "      <td>922.90</td>\n",
       "      <td>1534.40</td>\n",
       "    </tr>\n",
       "    <tr>\n",
       "      <th>2</th>\n",
       "      <td>Carnivora</td>\n",
       "      <td>Canidae</td>\n",
       "      <td>Canis</td>\n",
       "      <td>aureus</td>\n",
       "      <td>Canis aureus</td>\n",
       "      <td>2.0</td>\n",
       "      <td>9658.70</td>\n",
       "      <td>NaN</td>\n",
       "      <td>827.53</td>\n",
       "      <td>7.50</td>\n",
       "      <td>...</td>\n",
       "      <td>-17.05</td>\n",
       "      <td>45.74</td>\n",
       "      <td>0.0</td>\n",
       "      <td>79.29</td>\n",
       "      <td>0.0</td>\n",
       "      <td>0.10</td>\n",
       "      <td>44.61</td>\n",
       "      <td>217.23</td>\n",
       "      <td>438.02</td>\n",
       "      <td>1358.98</td>\n",
       "    </tr>\n",
       "    <tr>\n",
       "      <th>3</th>\n",
       "      <td>Carnivora</td>\n",
       "      <td>Canidae</td>\n",
       "      <td>Canis</td>\n",
       "      <td>latrans</td>\n",
       "      <td>Canis latrans</td>\n",
       "      <td>2.0</td>\n",
       "      <td>11989.10</td>\n",
       "      <td>NaN</td>\n",
       "      <td>872.39</td>\n",
       "      <td>11.94</td>\n",
       "      <td>...</td>\n",
       "      <td>-168.12</td>\n",
       "      <td>-117.60</td>\n",
       "      <td>0.0</td>\n",
       "      <td>27.27</td>\n",
       "      <td>0.0</td>\n",
       "      <td>0.06</td>\n",
       "      <td>53.03</td>\n",
       "      <td>58.18</td>\n",
       "      <td>503.02</td>\n",
       "      <td>728.37</td>\n",
       "    </tr>\n",
       "    <tr>\n",
       "      <th>4</th>\n",
       "      <td>Carnivora</td>\n",
       "      <td>Canidae</td>\n",
       "      <td>Canis</td>\n",
       "      <td>lupus</td>\n",
       "      <td>Canis lupus</td>\n",
       "      <td>2.0</td>\n",
       "      <td>31756.51</td>\n",
       "      <td>NaN</td>\n",
       "      <td>1055.00</td>\n",
       "      <td>14.01</td>\n",
       "      <td>...</td>\n",
       "      <td>-171.84</td>\n",
       "      <td>3.90</td>\n",
       "      <td>0.0</td>\n",
       "      <td>37.87</td>\n",
       "      <td>0.0</td>\n",
       "      <td>0.04</td>\n",
       "      <td>34.79</td>\n",
       "      <td>4.82</td>\n",
       "      <td>313.33</td>\n",
       "      <td>561.11</td>\n",
       "    </tr>\n",
       "  </tbody>\n",
       "</table>\n",
       "<p>5 rows × 55 columns</p>\n",
       "</div>"
      ],
      "text/plain": [
       "    MSW05_Order MSW05_Family MSW05_Genus MSW05_Species       MSW05_Binomial  \\\n",
       "0  Artiodactyla    Camelidae     Camelus   dromedarius  Camelus dromedarius   \n",
       "1     Carnivora      Canidae       Canis       adustus        Canis adustus   \n",
       "2     Carnivora      Canidae       Canis        aureus         Canis aureus   \n",
       "3     Carnivora      Canidae       Canis       latrans        Canis latrans   \n",
       "4     Carnivora      Canidae       Canis         lupus          Canis lupus   \n",
       "\n",
       "   1-1_ActivityCycle  5-1_AdultBodyMass_g  8-1_AdultForearmLen_mm  \\\n",
       "0                3.0            492714.47                     NaN   \n",
       "1                1.0             10392.49                     NaN   \n",
       "2                2.0              9658.70                     NaN   \n",
       "3                2.0             11989.10                     NaN   \n",
       "4                2.0             31756.51                     NaN   \n",
       "\n",
       "   13-1_AdultHeadBodyLen_mm  2-1_AgeatEyeOpening_d  ...  26-6_GR_MinLong_dd  \\\n",
       "0                       NaN                    NaN  ...                 NaN   \n",
       "1                    745.32                    NaN  ...              -17.53   \n",
       "2                    827.53                   7.50  ...              -17.05   \n",
       "3                    872.39                  11.94  ...             -168.12   \n",
       "4                   1055.00                  14.01  ...             -171.84   \n",
       "\n",
       "   26-7_GR_MidRangeLong_dd  27-1_HuPopDen_Min_n/km2  27-2_HuPopDen_Mean_n/km2  \\\n",
       "0                      NaN                      NaN                       NaN   \n",
       "1                    13.00                      0.0                     35.20   \n",
       "2                    45.74                      0.0                     79.29   \n",
       "3                  -117.60                      0.0                     27.27   \n",
       "4                     3.90                      0.0                     37.87   \n",
       "\n",
       "   27-3_HuPopDen_5p_n/km2  27-4_HuPopDen_Change  28-1_Precip_Mean_mm  \\\n",
       "0                     NaN                   NaN                  NaN   \n",
       "1                     1.0                  0.14                90.75   \n",
       "2                     0.0                  0.10                44.61   \n",
       "3                     0.0                  0.06                53.03   \n",
       "4                     0.0                  0.04                34.79   \n",
       "\n",
       "   28-2_Temp_Mean_01degC  30-1_AET_Mean_mm  30-2_PET_Mean_mm  \n",
       "0                    NaN               NaN               NaN  \n",
       "1                 236.51            922.90           1534.40  \n",
       "2                 217.23            438.02           1358.98  \n",
       "3                  58.18            503.02            728.37  \n",
       "4                   4.82            313.33            561.11  \n",
       "\n",
       "[5 rows x 55 columns]"
      ]
     },
     "execution_count": 22,
     "metadata": {},
     "output_type": "execute_result"
    }
   ],
   "source": [
    "pantheria.head()"
   ]
  },
  {
   "cell_type": "code",
   "execution_count": 23,
   "id": "7d859e22",
   "metadata": {
    "slideshow": {
     "slide_type": "slide"
    }
   },
   "outputs": [
    {
     "data": {
      "text/html": [
       "<div>\n",
       "<style scoped>\n",
       "    .dataframe tbody tr th:only-of-type {\n",
       "        vertical-align: middle;\n",
       "    }\n",
       "\n",
       "    .dataframe tbody tr th {\n",
       "        vertical-align: top;\n",
       "    }\n",
       "\n",
       "    .dataframe thead th {\n",
       "        text-align: right;\n",
       "    }\n",
       "</style>\n",
       "<table border=\"1\" class=\"dataframe\">\n",
       "  <thead>\n",
       "    <tr style=\"text-align: right;\">\n",
       "      <th></th>\n",
       "      <th>Binomial.1.2</th>\n",
       "      <th>Order.1.2</th>\n",
       "      <th>Family.1.2</th>\n",
       "      <th>Genus.1.2</th>\n",
       "      <th>Species.1.2</th>\n",
       "      <th>Terrestrial</th>\n",
       "      <th>Marine</th>\n",
       "      <th>Freshwater</th>\n",
       "      <th>Aerial</th>\n",
       "      <th>Life.Habit.Method</th>\n",
       "      <th>...</th>\n",
       "      <th>Mass.Comparison</th>\n",
       "      <th>Mass.Comparison.Source</th>\n",
       "      <th>Island.Endemicity</th>\n",
       "      <th>IUCN.Status.1.2</th>\n",
       "      <th>Added.IUCN.Status.1.2</th>\n",
       "      <th>Diet.Plant</th>\n",
       "      <th>Diet.Vertebrate</th>\n",
       "      <th>Diet.Invertebrate</th>\n",
       "      <th>Diet.Method</th>\n",
       "      <th>Diet.Source</th>\n",
       "    </tr>\n",
       "  </thead>\n",
       "  <tbody>\n",
       "    <tr>\n",
       "      <th>0</th>\n",
       "      <td>Abditomys_latidens</td>\n",
       "      <td>Rodentia</td>\n",
       "      <td>Muridae</td>\n",
       "      <td>Abditomys</td>\n",
       "      <td>latidens</td>\n",
       "      <td>1</td>\n",
       "      <td>0</td>\n",
       "      <td>0</td>\n",
       "      <td>0</td>\n",
       "      <td>Reported</td>\n",
       "      <td>...</td>\n",
       "      <td>NaN</td>\n",
       "      <td>NaN</td>\n",
       "      <td>Occurs only on isolated islands</td>\n",
       "      <td>DD</td>\n",
       "      <td>No</td>\n",
       "      <td>100</td>\n",
       "      <td>0</td>\n",
       "      <td>0</td>\n",
       "      <td>Reported 000 Species</td>\n",
       "      <td>Wilman, H., et al. 2014. EltonTraits 1.0: spec...</td>\n",
       "    </tr>\n",
       "    <tr>\n",
       "      <th>1</th>\n",
       "      <td>Abeomelomys_sevia</td>\n",
       "      <td>Rodentia</td>\n",
       "      <td>Muridae</td>\n",
       "      <td>Abeomelomys</td>\n",
       "      <td>sevia</td>\n",
       "      <td>1</td>\n",
       "      <td>0</td>\n",
       "      <td>0</td>\n",
       "      <td>0</td>\n",
       "      <td>Reported</td>\n",
       "      <td>...</td>\n",
       "      <td>NaN</td>\n",
       "      <td>NaN</td>\n",
       "      <td>Occurs on large land bridge islands</td>\n",
       "      <td>LC</td>\n",
       "      <td>No</td>\n",
       "      <td>78</td>\n",
       "      <td>3</td>\n",
       "      <td>19</td>\n",
       "      <td>Imputed 000 Species</td>\n",
       "      <td>PHYLACINE 1.2</td>\n",
       "    </tr>\n",
       "    <tr>\n",
       "      <th>2</th>\n",
       "      <td>Abrawayaomys_ruschii</td>\n",
       "      <td>Rodentia</td>\n",
       "      <td>Cricetidae</td>\n",
       "      <td>Abrawayaomys</td>\n",
       "      <td>ruschii</td>\n",
       "      <td>1</td>\n",
       "      <td>0</td>\n",
       "      <td>0</td>\n",
       "      <td>0</td>\n",
       "      <td>Reported</td>\n",
       "      <td>...</td>\n",
       "      <td>NaN</td>\n",
       "      <td>NaN</td>\n",
       "      <td>Occurs on mainland</td>\n",
       "      <td>LC</td>\n",
       "      <td>No</td>\n",
       "      <td>88</td>\n",
       "      <td>1</td>\n",
       "      <td>11</td>\n",
       "      <td>Imputed 000 Species</td>\n",
       "      <td>PHYLACINE 1.2</td>\n",
       "    </tr>\n",
       "    <tr>\n",
       "      <th>3</th>\n",
       "      <td>Abrocoma_bennettii</td>\n",
       "      <td>Rodentia</td>\n",
       "      <td>Abrocomidae</td>\n",
       "      <td>Abrocoma</td>\n",
       "      <td>bennettii</td>\n",
       "      <td>1</td>\n",
       "      <td>0</td>\n",
       "      <td>0</td>\n",
       "      <td>0</td>\n",
       "      <td>Reported</td>\n",
       "      <td>...</td>\n",
       "      <td>NaN</td>\n",
       "      <td>NaN</td>\n",
       "      <td>Occurs on mainland</td>\n",
       "      <td>LC</td>\n",
       "      <td>No</td>\n",
       "      <td>100</td>\n",
       "      <td>0</td>\n",
       "      <td>0</td>\n",
       "      <td>Reported 000 Species</td>\n",
       "      <td>Wilman, H., et al. 2014. EltonTraits 1.0: spec...</td>\n",
       "    </tr>\n",
       "    <tr>\n",
       "      <th>4</th>\n",
       "      <td>Abrocoma_boliviensis</td>\n",
       "      <td>Rodentia</td>\n",
       "      <td>Abrocomidae</td>\n",
       "      <td>Abrocoma</td>\n",
       "      <td>boliviensis</td>\n",
       "      <td>1</td>\n",
       "      <td>0</td>\n",
       "      <td>0</td>\n",
       "      <td>0</td>\n",
       "      <td>Reported</td>\n",
       "      <td>...</td>\n",
       "      <td>NaN</td>\n",
       "      <td>NaN</td>\n",
       "      <td>Occurs on mainland</td>\n",
       "      <td>CR</td>\n",
       "      <td>No</td>\n",
       "      <td>100</td>\n",
       "      <td>0</td>\n",
       "      <td>0</td>\n",
       "      <td>Reported 000 Species</td>\n",
       "      <td>Wilman, H., et al. 2014. EltonTraits 1.0: spec...</td>\n",
       "    </tr>\n",
       "  </tbody>\n",
       "</table>\n",
       "<p>5 rows × 24 columns</p>\n",
       "</div>"
      ],
      "text/plain": [
       "           Binomial.1.2 Order.1.2   Family.1.2     Genus.1.2  Species.1.2  \\\n",
       "0    Abditomys_latidens  Rodentia      Muridae     Abditomys     latidens   \n",
       "1     Abeomelomys_sevia  Rodentia      Muridae   Abeomelomys        sevia   \n",
       "2  Abrawayaomys_ruschii  Rodentia   Cricetidae  Abrawayaomys      ruschii   \n",
       "3    Abrocoma_bennettii  Rodentia  Abrocomidae      Abrocoma    bennettii   \n",
       "4  Abrocoma_boliviensis  Rodentia  Abrocomidae      Abrocoma  boliviensis   \n",
       "\n",
       "   Terrestrial  Marine  Freshwater  Aerial Life.Habit.Method  ...  \\\n",
       "0            1       0           0       0          Reported  ...   \n",
       "1            1       0           0       0          Reported  ...   \n",
       "2            1       0           0       0          Reported  ...   \n",
       "3            1       0           0       0          Reported  ...   \n",
       "4            1       0           0       0          Reported  ...   \n",
       "\n",
       "  Mass.Comparison  Mass.Comparison.Source  \\\n",
       "0             NaN                     NaN   \n",
       "1             NaN                     NaN   \n",
       "2             NaN                     NaN   \n",
       "3             NaN                     NaN   \n",
       "4             NaN                     NaN   \n",
       "\n",
       "                     Island.Endemicity IUCN.Status.1.2 Added.IUCN.Status.1.2  \\\n",
       "0      Occurs only on isolated islands              DD                    No   \n",
       "1  Occurs on large land bridge islands              LC                    No   \n",
       "2                   Occurs on mainland              LC                    No   \n",
       "3                   Occurs on mainland              LC                    No   \n",
       "4                   Occurs on mainland              CR                    No   \n",
       "\n",
       "  Diet.Plant Diet.Vertebrate Diet.Invertebrate           Diet.Method  \\\n",
       "0        100               0                 0  Reported 000 Species   \n",
       "1         78               3                19   Imputed 000 Species   \n",
       "2         88               1                11   Imputed 000 Species   \n",
       "3        100               0                 0  Reported 000 Species   \n",
       "4        100               0                 0  Reported 000 Species   \n",
       "\n",
       "                                         Diet.Source  \n",
       "0  Wilman, H., et al. 2014. EltonTraits 1.0: spec...  \n",
       "1                                      PHYLACINE 1.2  \n",
       "2                                      PHYLACINE 1.2  \n",
       "3  Wilman, H., et al. 2014. EltonTraits 1.0: spec...  \n",
       "4  Wilman, H., et al. 2014. EltonTraits 1.0: spec...  \n",
       "\n",
       "[5 rows x 24 columns]"
      ]
     },
     "execution_count": 23,
     "metadata": {},
     "output_type": "execute_result"
    }
   ],
   "source": [
    "phylacine = pd.read_csv(\"phylacine.csv\")\n",
    "phylacine.head()"
   ]
  },
  {
   "cell_type": "code",
   "execution_count": 24,
   "id": "974b5a60",
   "metadata": {
    "slideshow": {
     "slide_type": "slide"
    }
   },
   "outputs": [
    {
     "data": {
      "text/plain": [
       "Index(['Binomial.1.2', 'Order.1.2', 'Family.1.2', 'Genus.1.2', 'Species.1.2',\n",
       "       'Terrestrial', 'Marine', 'Freshwater', 'Aerial', 'Life.Habit.Method',\n",
       "       'Life.Habit.Source', 'Mass.g', 'Mass.Method', 'Mass.Source',\n",
       "       'Mass.Comparison', 'Mass.Comparison.Source', 'Island.Endemicity',\n",
       "       'IUCN.Status.1.2', 'Added.IUCN.Status.1.2', 'Diet.Plant',\n",
       "       'Diet.Vertebrate', 'Diet.Invertebrate', 'Diet.Method', 'Diet.Source'],\n",
       "      dtype='object')"
      ]
     },
     "execution_count": 24,
     "metadata": {},
     "output_type": "execute_result"
    }
   ],
   "source": [
    "phylacine.columns"
   ]
  },
  {
   "cell_type": "markdown",
   "id": "59175020",
   "metadata": {
    "slideshow": {
     "slide_type": "slide"
    }
   },
   "source": [
    "## IUCN Red List\n",
    "\n",
    "- To assess extinction risk, we will use IUCN status\n",
    "- IUCN is a conservation organization that manages information on threats to wild animals\n",
    " - https://www.iucnredlist.org/"
   ]
  },
  {
   "cell_type": "code",
   "execution_count": 25,
   "id": "bceb0ba7",
   "metadata": {
    "slideshow": {
     "slide_type": "notes"
    }
   },
   "outputs": [],
   "source": [
    "# CPF: remember to click on iucn page and go through risk categories"
   ]
  },
  {
   "cell_type": "code",
   "execution_count": 26,
   "id": "c18209bc",
   "metadata": {
    "slideshow": {
     "slide_type": "slide"
    }
   },
   "outputs": [
    {
     "data": {
      "text/html": [
       "<div>\n",
       "<style scoped>\n",
       "    .dataframe tbody tr th:only-of-type {\n",
       "        vertical-align: middle;\n",
       "    }\n",
       "\n",
       "    .dataframe tbody tr th {\n",
       "        vertical-align: top;\n",
       "    }\n",
       "\n",
       "    .dataframe thead th {\n",
       "        text-align: right;\n",
       "    }\n",
       "</style>\n",
       "<table border=\"1\" class=\"dataframe\">\n",
       "  <thead>\n",
       "    <tr style=\"text-align: right;\">\n",
       "      <th></th>\n",
       "      <th>Binomial.1.2</th>\n",
       "      <th>IUCN.Status.1.2</th>\n",
       "    </tr>\n",
       "  </thead>\n",
       "  <tbody>\n",
       "    <tr>\n",
       "      <th>0</th>\n",
       "      <td>Abditomys_latidens</td>\n",
       "      <td>DD</td>\n",
       "    </tr>\n",
       "    <tr>\n",
       "      <th>1</th>\n",
       "      <td>Abeomelomys_sevia</td>\n",
       "      <td>LC</td>\n",
       "    </tr>\n",
       "    <tr>\n",
       "      <th>2</th>\n",
       "      <td>Abrawayaomys_ruschii</td>\n",
       "      <td>LC</td>\n",
       "    </tr>\n",
       "    <tr>\n",
       "      <th>3</th>\n",
       "      <td>Abrocoma_bennettii</td>\n",
       "      <td>LC</td>\n",
       "    </tr>\n",
       "    <tr>\n",
       "      <th>4</th>\n",
       "      <td>Abrocoma_boliviensis</td>\n",
       "      <td>CR</td>\n",
       "    </tr>\n",
       "  </tbody>\n",
       "</table>\n",
       "</div>"
      ],
      "text/plain": [
       "           Binomial.1.2 IUCN.Status.1.2\n",
       "0    Abditomys_latidens              DD\n",
       "1     Abeomelomys_sevia              LC\n",
       "2  Abrawayaomys_ruschii              LC\n",
       "3    Abrocoma_bennettii              LC\n",
       "4  Abrocoma_boliviensis              CR"
      ]
     },
     "execution_count": 26,
     "metadata": {},
     "output_type": "execute_result"
    }
   ],
   "source": [
    "important_columns = [\"Binomial.1.2\",\"IUCN.Status.1.2\"]\n",
    "\n",
    "iucn = phylacine[important_columns]\n",
    "iucn.head()"
   ]
  },
  {
   "cell_type": "code",
   "execution_count": 27,
   "id": "0408e0e5",
   "metadata": {
    "slideshow": {
     "slide_type": "slide"
    }
   },
   "outputs": [
    {
     "name": "stderr",
     "output_type": "stream",
     "text": [
      "/home/tomo/.local/lib/python3.8/site-packages/pandas/core/frame.py:4438: SettingWithCopyWarning: \n",
      "A value is trying to be set on a copy of a slice from a DataFrame\n",
      "\n",
      "See the caveats in the documentation: https://pandas.pydata.org/pandas-docs/stable/user_guide/indexing.html#returning-a-view-versus-a-copy\n",
      "  return super().rename(\n"
     ]
    },
    {
     "data": {
      "text/html": [
       "<div>\n",
       "<style scoped>\n",
       "    .dataframe tbody tr th:only-of-type {\n",
       "        vertical-align: middle;\n",
       "    }\n",
       "\n",
       "    .dataframe tbody tr th {\n",
       "        vertical-align: top;\n",
       "    }\n",
       "\n",
       "    .dataframe thead th {\n",
       "        text-align: right;\n",
       "    }\n",
       "</style>\n",
       "<table border=\"1\" class=\"dataframe\">\n",
       "  <thead>\n",
       "    <tr style=\"text-align: right;\">\n",
       "      <th></th>\n",
       "      <th>genus_species</th>\n",
       "      <th>iucn_status</th>\n",
       "    </tr>\n",
       "  </thead>\n",
       "  <tbody>\n",
       "    <tr>\n",
       "      <th>0</th>\n",
       "      <td>Abditomys_latidens</td>\n",
       "      <td>DD</td>\n",
       "    </tr>\n",
       "    <tr>\n",
       "      <th>1</th>\n",
       "      <td>Abeomelomys_sevia</td>\n",
       "      <td>LC</td>\n",
       "    </tr>\n",
       "    <tr>\n",
       "      <th>2</th>\n",
       "      <td>Abrawayaomys_ruschii</td>\n",
       "      <td>LC</td>\n",
       "    </tr>\n",
       "    <tr>\n",
       "      <th>3</th>\n",
       "      <td>Abrocoma_bennettii</td>\n",
       "      <td>LC</td>\n",
       "    </tr>\n",
       "    <tr>\n",
       "      <th>4</th>\n",
       "      <td>Abrocoma_boliviensis</td>\n",
       "      <td>CR</td>\n",
       "    </tr>\n",
       "  </tbody>\n",
       "</table>\n",
       "</div>"
      ],
      "text/plain": [
       "          genus_species iucn_status\n",
       "0    Abditomys_latidens          DD\n",
       "1     Abeomelomys_sevia          LC\n",
       "2  Abrawayaomys_ruschii          LC\n",
       "3    Abrocoma_bennettii          LC\n",
       "4  Abrocoma_boliviensis          CR"
      ]
     },
     "execution_count": 27,
     "metadata": {},
     "output_type": "execute_result"
    }
   ],
   "source": [
    "colnames = {'Binomial.1.2':'genus_species', \n",
    "            'IUCN.Status.1.2':'iucn_status'}\n",
    "\n",
    "iucn.rename(columns = colnames, inplace=True)\n",
    "iucn.head()"
   ]
  },
  {
   "cell_type": "markdown",
   "id": "4223c565",
   "metadata": {
    "slideshow": {
     "slide_type": "slide"
    }
   },
   "source": [
    "Now, we are ready to use the `merge` function in `pandas`. "
   ]
  },
  {
   "cell_type": "code",
   "execution_count": 28,
   "id": "ba593acb",
   "metadata": {
    "slideshow": {
     "slide_type": "subslide"
    }
   },
   "outputs": [
    {
     "data": {
      "text/html": [
       "<div>\n",
       "<style scoped>\n",
       "    .dataframe tbody tr th:only-of-type {\n",
       "        vertical-align: middle;\n",
       "    }\n",
       "\n",
       "    .dataframe tbody tr th {\n",
       "        vertical-align: top;\n",
       "    }\n",
       "\n",
       "    .dataframe thead th {\n",
       "        text-align: right;\n",
       "    }\n",
       "</style>\n",
       "<table border=\"1\" class=\"dataframe\">\n",
       "  <thead>\n",
       "    <tr style=\"text-align: right;\">\n",
       "      <th></th>\n",
       "      <th>order</th>\n",
       "      <th>genus_species</th>\n",
       "      <th>body_mass_g</th>\n",
       "      <th>maturity_d</th>\n",
       "      <th>interbirth_d</th>\n",
       "      <th>longevity_m</th>\n",
       "      <th>litter_size_ind</th>\n",
       "      <th>iucn_status</th>\n",
       "    </tr>\n",
       "  </thead>\n",
       "  <tbody>\n",
       "  </tbody>\n",
       "</table>\n",
       "</div>"
      ],
      "text/plain": [
       "Empty DataFrame\n",
       "Columns: [order, genus_species, body_mass_g, maturity_d, interbirth_d, longevity_m, litter_size_ind, iucn_status]\n",
       "Index: []"
      ]
     },
     "execution_count": 28,
     "metadata": {},
     "output_type": "execute_result"
    }
   ],
   "source": [
    "pantheria_iucn = rn_pantheria.merge(iucn, \n",
    "                                  right_on= 'genus_species', # the right data frame is iucn \n",
    "                                  left_on='genus_species')   # the left data frame is pantheria \n",
    "\n",
    "pantheria_iucn"
   ]
  },
  {
   "cell_type": "markdown",
   "id": "bb96ec93",
   "metadata": {
    "slideshow": {
     "slide_type": "subslide"
    }
   },
   "source": [
    "**WTH(eck)** is going on here??"
   ]
  },
  {
   "cell_type": "code",
   "execution_count": 29,
   "id": "6a0008d3",
   "metadata": {
    "slideshow": {
     "slide_type": "slide"
    }
   },
   "outputs": [
    {
     "name": "stdout",
     "output_type": "stream",
     "text": [
      "          order        genus_species  body_mass_g  maturity_d  interbirth_d  \\\n",
      "0  Artiodactyla  Camelus dromedarius    492714.47     1947.94        614.41   \n",
      "1     Carnivora        Canis adustus     10392.49      249.88           NaN   \n",
      "2     Carnivora         Canis aureus      9658.70      371.23        365.00   \n",
      "3     Carnivora        Canis latrans     11989.10      372.90        365.00   \n",
      "4     Carnivora          Canis lupus     31756.51      679.37        365.00   \n",
      "\n",
      "   longevity_m  litter_size_ind  \n",
      "0        480.0             0.98  \n",
      "1        137.0             4.50  \n",
      "2        192.0             3.74  \n",
      "3        262.0             5.72  \n",
      "4        354.0             4.98  \n",
      "             genus_species iucn_status\n",
      "0       Abditomys_latidens          DD\n",
      "1        Abeomelomys_sevia          LC\n",
      "2     Abrawayaomys_ruschii          LC\n",
      "3       Abrocoma_bennettii          LC\n",
      "4     Abrocoma_boliviensis          CR\n",
      "...                    ...         ...\n",
      "5826       Zyzomys_argurus          LC\n",
      "5827         Zyzomys_maini          VU\n",
      "5828     Zyzomys_palatalis          CR\n",
      "5829  Zyzomys_pedunculatus          CR\n",
      "5830     Zyzomys_woodwardi          LC\n",
      "\n",
      "[5831 rows x 2 columns]\n"
     ]
    }
   ],
   "source": [
    "print(rn_pantheria.head())\n",
    "print(iucn)"
   ]
  },
  {
   "cell_type": "code",
   "execution_count": 30,
   "id": "d32edd87",
   "metadata": {
    "slideshow": {
     "slide_type": "slide"
    }
   },
   "outputs": [
    {
     "data": {
      "text/html": [
       "<div>\n",
       "<style scoped>\n",
       "    .dataframe tbody tr th:only-of-type {\n",
       "        vertical-align: middle;\n",
       "    }\n",
       "\n",
       "    .dataframe tbody tr th {\n",
       "        vertical-align: top;\n",
       "    }\n",
       "\n",
       "    .dataframe thead th {\n",
       "        text-align: right;\n",
       "    }\n",
       "</style>\n",
       "<table border=\"1\" class=\"dataframe\">\n",
       "  <thead>\n",
       "    <tr style=\"text-align: right;\">\n",
       "      <th></th>\n",
       "      <th>order</th>\n",
       "      <th>genus_species</th>\n",
       "      <th>body_mass_g</th>\n",
       "      <th>maturity_d</th>\n",
       "      <th>interbirth_d</th>\n",
       "      <th>longevity_m</th>\n",
       "      <th>litter_size_ind</th>\n",
       "    </tr>\n",
       "  </thead>\n",
       "  <tbody>\n",
       "    <tr>\n",
       "      <th>0</th>\n",
       "      <td>Artiodactyla</td>\n",
       "      <td>Camelus_dromedarius</td>\n",
       "      <td>492714.47</td>\n",
       "      <td>1947.94</td>\n",
       "      <td>614.41</td>\n",
       "      <td>480.0</td>\n",
       "      <td>0.98</td>\n",
       "    </tr>\n",
       "    <tr>\n",
       "      <th>1</th>\n",
       "      <td>Carnivora</td>\n",
       "      <td>Canis_adustus</td>\n",
       "      <td>10392.49</td>\n",
       "      <td>249.88</td>\n",
       "      <td>NaN</td>\n",
       "      <td>137.0</td>\n",
       "      <td>4.50</td>\n",
       "    </tr>\n",
       "    <tr>\n",
       "      <th>2</th>\n",
       "      <td>Carnivora</td>\n",
       "      <td>Canis_aureus</td>\n",
       "      <td>9658.70</td>\n",
       "      <td>371.23</td>\n",
       "      <td>365.00</td>\n",
       "      <td>192.0</td>\n",
       "      <td>3.74</td>\n",
       "    </tr>\n",
       "    <tr>\n",
       "      <th>3</th>\n",
       "      <td>Carnivora</td>\n",
       "      <td>Canis_latrans</td>\n",
       "      <td>11989.10</td>\n",
       "      <td>372.90</td>\n",
       "      <td>365.00</td>\n",
       "      <td>262.0</td>\n",
       "      <td>5.72</td>\n",
       "    </tr>\n",
       "    <tr>\n",
       "      <th>4</th>\n",
       "      <td>Carnivora</td>\n",
       "      <td>Canis_lupus</td>\n",
       "      <td>31756.51</td>\n",
       "      <td>679.37</td>\n",
       "      <td>365.00</td>\n",
       "      <td>354.0</td>\n",
       "      <td>4.98</td>\n",
       "    </tr>\n",
       "  </tbody>\n",
       "</table>\n",
       "</div>"
      ],
      "text/plain": [
       "          order        genus_species  body_mass_g  maturity_d  interbirth_d  \\\n",
       "0  Artiodactyla  Camelus_dromedarius    492714.47     1947.94        614.41   \n",
       "1     Carnivora        Canis_adustus     10392.49      249.88           NaN   \n",
       "2     Carnivora         Canis_aureus      9658.70      371.23        365.00   \n",
       "3     Carnivora        Canis_latrans     11989.10      372.90        365.00   \n",
       "4     Carnivora          Canis_lupus     31756.51      679.37        365.00   \n",
       "\n",
       "   longevity_m  litter_size_ind  \n",
       "0        480.0             0.98  \n",
       "1        137.0             4.50  \n",
       "2        192.0             3.74  \n",
       "3        262.0             5.72  \n",
       "4        354.0             4.98  "
      ]
     },
     "execution_count": 30,
     "metadata": {},
     "output_type": "execute_result"
    }
   ],
   "source": [
    "# oof! it is because we have underscores separating genus and species in iucn \n",
    "# and spaces in rn_pantheria\n",
    "\n",
    "# we can replace the spaces in rn_pantheria with underscores so that they match\n",
    "rn_pantheria['genus_species'] = rn_pantheria['genus_species'].str.replace(\" \",\"_\")\n",
    "rn_pantheria.head()"
   ]
  },
  {
   "cell_type": "code",
   "execution_count": 31,
   "id": "1855475d",
   "metadata": {
    "slideshow": {
     "slide_type": "slide"
    }
   },
   "outputs": [
    {
     "name": "stdout",
     "output_type": "stream",
     "text": [
      "          order        genus_species  body_mass_g  maturity_d  interbirth_d  \\\n",
      "0  Artiodactyla  Camelus_dromedarius    492714.47     1947.94        614.41   \n",
      "1     Carnivora        Canis_adustus     10392.49      249.88           NaN   \n",
      "2     Carnivora         Canis_aureus      9658.70      371.23        365.00   \n",
      "3     Carnivora        Canis_latrans     11989.10      372.90        365.00   \n",
      "4     Carnivora          Canis_lupus     31756.51      679.37        365.00   \n",
      "\n",
      "   longevity_m  litter_size_ind iucn_status  \n",
      "0        480.0             0.98          EP  \n",
      "1        137.0             4.50          LC  \n",
      "2        192.0             3.74          LC  \n",
      "3        262.0             5.72          LC  \n",
      "4        354.0             4.98          LC  \n",
      "(4946, 8)\n"
     ]
    }
   ],
   "source": [
    "pantheria_iucn = rn_pantheria.merge(iucn, \n",
    "                                  right_on= 'genus_species', # the right data frame is iucn \n",
    "                                  left_on='genus_species')   # the left data frame is pantheria \n",
    "\n",
    "print(pantheria_iucn.head())\n",
    "print(pantheria_iucn.shape)\n",
    "# success!"
   ]
  },
  {
   "cell_type": "code",
   "execution_count": 32,
   "id": "867ee8b4",
   "metadata": {
    "slideshow": {
     "slide_type": "slide"
    }
   },
   "outputs": [
    {
     "data": {
      "text/html": [
       "<div>\n",
       "<style scoped>\n",
       "    .dataframe tbody tr th:only-of-type {\n",
       "        vertical-align: middle;\n",
       "    }\n",
       "\n",
       "    .dataframe tbody tr th {\n",
       "        vertical-align: top;\n",
       "    }\n",
       "\n",
       "    .dataframe thead th {\n",
       "        text-align: right;\n",
       "    }\n",
       "</style>\n",
       "<table border=\"1\" class=\"dataframe\">\n",
       "  <thead>\n",
       "    <tr style=\"text-align: right;\">\n",
       "      <th></th>\n",
       "      <th>order</th>\n",
       "      <th>genus_species</th>\n",
       "      <th>body_mass_g</th>\n",
       "      <th>maturity_d</th>\n",
       "      <th>interbirth_d</th>\n",
       "      <th>longevity_m</th>\n",
       "      <th>litter_size_ind</th>\n",
       "      <th>iucn_status</th>\n",
       "    </tr>\n",
       "  </thead>\n",
       "  <tbody>\n",
       "    <tr>\n",
       "      <th>0</th>\n",
       "      <td>Artiodactyla</td>\n",
       "      <td>Camelus_dromedarius</td>\n",
       "      <td>492714.47</td>\n",
       "      <td>1947.94</td>\n",
       "      <td>614.41</td>\n",
       "      <td>480.0</td>\n",
       "      <td>0.98</td>\n",
       "      <td>EP</td>\n",
       "    </tr>\n",
       "    <tr>\n",
       "      <th>1</th>\n",
       "      <td>Carnivora</td>\n",
       "      <td>Canis_adustus</td>\n",
       "      <td>10392.49</td>\n",
       "      <td>249.88</td>\n",
       "      <td>NaN</td>\n",
       "      <td>137.0</td>\n",
       "      <td>4.50</td>\n",
       "      <td>LC</td>\n",
       "    </tr>\n",
       "    <tr>\n",
       "      <th>2</th>\n",
       "      <td>Carnivora</td>\n",
       "      <td>Canis_aureus</td>\n",
       "      <td>9658.70</td>\n",
       "      <td>371.23</td>\n",
       "      <td>365.00</td>\n",
       "      <td>192.0</td>\n",
       "      <td>3.74</td>\n",
       "      <td>LC</td>\n",
       "    </tr>\n",
       "    <tr>\n",
       "      <th>3</th>\n",
       "      <td>Carnivora</td>\n",
       "      <td>Canis_latrans</td>\n",
       "      <td>11989.10</td>\n",
       "      <td>372.90</td>\n",
       "      <td>365.00</td>\n",
       "      <td>262.0</td>\n",
       "      <td>5.72</td>\n",
       "      <td>LC</td>\n",
       "    </tr>\n",
       "    <tr>\n",
       "      <th>4</th>\n",
       "      <td>Carnivora</td>\n",
       "      <td>Canis_lupus</td>\n",
       "      <td>31756.51</td>\n",
       "      <td>679.37</td>\n",
       "      <td>365.00</td>\n",
       "      <td>354.0</td>\n",
       "      <td>4.98</td>\n",
       "      <td>LC</td>\n",
       "    </tr>\n",
       "    <tr>\n",
       "      <th>...</th>\n",
       "      <td>...</td>\n",
       "      <td>...</td>\n",
       "      <td>...</td>\n",
       "      <td>...</td>\n",
       "      <td>...</td>\n",
       "      <td>...</td>\n",
       "      <td>...</td>\n",
       "      <td>...</td>\n",
       "    </tr>\n",
       "    <tr>\n",
       "      <th>4941</th>\n",
       "      <td>Rodentia</td>\n",
       "      <td>Zygogeomys_trichopus</td>\n",
       "      <td>473.54</td>\n",
       "      <td>NaN</td>\n",
       "      <td>NaN</td>\n",
       "      <td>NaN</td>\n",
       "      <td>NaN</td>\n",
       "      <td>EN</td>\n",
       "    </tr>\n",
       "    <tr>\n",
       "      <th>4942</th>\n",
       "      <td>Rodentia</td>\n",
       "      <td>Zyzomys_argurus</td>\n",
       "      <td>40.42</td>\n",
       "      <td>155.06</td>\n",
       "      <td>219.00</td>\n",
       "      <td>NaN</td>\n",
       "      <td>2.76</td>\n",
       "      <td>LC</td>\n",
       "    </tr>\n",
       "    <tr>\n",
       "      <th>4943</th>\n",
       "      <td>Rodentia</td>\n",
       "      <td>Zyzomys_maini</td>\n",
       "      <td>93.99</td>\n",
       "      <td>NaN</td>\n",
       "      <td>NaN</td>\n",
       "      <td>NaN</td>\n",
       "      <td>NaN</td>\n",
       "      <td>VU</td>\n",
       "    </tr>\n",
       "    <tr>\n",
       "      <th>4944</th>\n",
       "      <td>Rodentia</td>\n",
       "      <td>Zyzomys_pedunculatus</td>\n",
       "      <td>100.00</td>\n",
       "      <td>NaN</td>\n",
       "      <td>NaN</td>\n",
       "      <td>NaN</td>\n",
       "      <td>NaN</td>\n",
       "      <td>CR</td>\n",
       "    </tr>\n",
       "    <tr>\n",
       "      <th>4945</th>\n",
       "      <td>Rodentia</td>\n",
       "      <td>Zyzomys_woodwardi</td>\n",
       "      <td>95.02</td>\n",
       "      <td>155.06</td>\n",
       "      <td>231.16</td>\n",
       "      <td>NaN</td>\n",
       "      <td>2.23</td>\n",
       "      <td>LC</td>\n",
       "    </tr>\n",
       "  </tbody>\n",
       "</table>\n",
       "<p>4946 rows × 8 columns</p>\n",
       "</div>"
      ],
      "text/plain": [
       "             order         genus_species  body_mass_g  maturity_d  \\\n",
       "0     Artiodactyla   Camelus_dromedarius    492714.47     1947.94   \n",
       "1        Carnivora         Canis_adustus     10392.49      249.88   \n",
       "2        Carnivora          Canis_aureus      9658.70      371.23   \n",
       "3        Carnivora         Canis_latrans     11989.10      372.90   \n",
       "4        Carnivora           Canis_lupus     31756.51      679.37   \n",
       "...            ...                   ...          ...         ...   \n",
       "4941      Rodentia  Zygogeomys_trichopus       473.54         NaN   \n",
       "4942      Rodentia       Zyzomys_argurus        40.42      155.06   \n",
       "4943      Rodentia         Zyzomys_maini        93.99         NaN   \n",
       "4944      Rodentia  Zyzomys_pedunculatus       100.00         NaN   \n",
       "4945      Rodentia     Zyzomys_woodwardi        95.02      155.06   \n",
       "\n",
       "      interbirth_d  longevity_m  litter_size_ind iucn_status  \n",
       "0           614.41        480.0             0.98          EP  \n",
       "1              NaN        137.0             4.50          LC  \n",
       "2           365.00        192.0             3.74          LC  \n",
       "3           365.00        262.0             5.72          LC  \n",
       "4           365.00        354.0             4.98          LC  \n",
       "...            ...          ...              ...         ...  \n",
       "4941           NaN          NaN              NaN          EN  \n",
       "4942        219.00          NaN             2.76          LC  \n",
       "4943           NaN          NaN              NaN          VU  \n",
       "4944           NaN          NaN              NaN          CR  \n",
       "4945        231.16          NaN             2.23          LC  \n",
       "\n",
       "[4946 rows x 8 columns]"
      ]
     },
     "execution_count": 32,
     "metadata": {},
     "output_type": "execute_result"
    }
   ],
   "source": [
    "pantheria_iucn_orig=pantheria_iucn.copy()\n",
    "pantheria_iucn_orig"
   ]
  },
  {
   "cell_type": "markdown",
   "id": "05786aed",
   "metadata": {
    "slideshow": {
     "slide_type": "slide"
    }
   },
   "source": [
    "## Do different orders of mammals grow up according to different schedules?\n",
    "\n",
    "### Grouped summaries of data \n",
    "\n",
    "- Many times we will want to calculate means, proportions, and other statistics by group membership.\n",
    "\n",
    "- This is so common that `pandas` has a built-in function called `groupby` that groups a data frame by another variable."
   ]
  },
  {
   "cell_type": "markdown",
   "id": "558e21a9",
   "metadata": {
    "slideshow": {
     "slide_type": "slide"
    }
   },
   "source": [
    "### Preliminary question: how long do different mammals take to grow up?\n",
    "\n",
    "- Do different groups follow different timelines?\n",
    "- Let's compare maturation times across orders"
   ]
  },
  {
   "cell_type": "code",
   "execution_count": 74,
   "id": "05a5886c",
   "metadata": {
    "slideshow": {
     "slide_type": "slide"
    }
   },
   "outputs": [
    {
     "data": {
      "text/html": [
       "<div>\n",
       "<style scoped>\n",
       "    .dataframe tbody tr th:only-of-type {\n",
       "        vertical-align: middle;\n",
       "    }\n",
       "\n",
       "    .dataframe tbody tr th {\n",
       "        vertical-align: top;\n",
       "    }\n",
       "\n",
       "    .dataframe thead th {\n",
       "        text-align: right;\n",
       "    }\n",
       "</style>\n",
       "<table border=\"1\" class=\"dataframe\">\n",
       "  <thead>\n",
       "    <tr style=\"text-align: right;\">\n",
       "      <th></th>\n",
       "      <th>order</th>\n",
       "      <th>maturity_d</th>\n",
       "    </tr>\n",
       "  </thead>\n",
       "  <tbody>\n",
       "    <tr>\n",
       "      <th>1</th>\n",
       "      <td>Carnivora</td>\n",
       "      <td>249.88</td>\n",
       "    </tr>\n",
       "    <tr>\n",
       "      <th>2</th>\n",
       "      <td>Carnivora</td>\n",
       "      <td>371.23</td>\n",
       "    </tr>\n",
       "    <tr>\n",
       "      <th>3</th>\n",
       "      <td>Carnivora</td>\n",
       "      <td>372.90</td>\n",
       "    </tr>\n",
       "    <tr>\n",
       "      <th>4</th>\n",
       "      <td>Carnivora</td>\n",
       "      <td>679.37</td>\n",
       "    </tr>\n",
       "    <tr>\n",
       "      <th>5</th>\n",
       "      <td>Artiodactyla</td>\n",
       "      <td>797.31</td>\n",
       "    </tr>\n",
       "  </tbody>\n",
       "</table>\n",
       "</div>"
      ],
      "text/plain": [
       "          order  maturity_d\n",
       "1     Carnivora      249.88\n",
       "2     Carnivora      371.23\n",
       "3     Carnivora      372.90\n",
       "4     Carnivora      679.37\n",
       "5  Artiodactyla      797.31"
      ]
     },
     "execution_count": 74,
     "metadata": {},
     "output_type": "execute_result"
    }
   ],
   "source": [
    "# create a new dataframe from the order and maturity_d columns and assign it to new variable\n",
    "\n",
    "maturity_df_ord = pantheria_iucn[['order','maturity_d']]\n",
    "maturity_df_ord.head()"
   ]
  },
  {
   "cell_type": "code",
   "execution_count": 77,
   "id": "78c2b262",
   "metadata": {
    "slideshow": {
     "slide_type": "slide"
    }
   },
   "outputs": [
    {
     "name": "stdout",
     "output_type": "stream",
     "text": [
      "<pandas.core.groupby.generic.DataFrameGroupBy object at 0x7fd04bf37850>\n"
     ]
    }
   ],
   "source": [
    "# use .groupby() to group together all of the rows that share an order and assign it to a variable\n",
    "\n",
    "maturity_df_grouped_ord = maturity_df_ord.groupby('order')\n",
    "print(maturity_df_grouped_ord) # what does this output mean?"
   ]
  },
  {
   "cell_type": "code",
   "execution_count": 79,
   "id": "53fa1249",
   "metadata": {
    "slideshow": {
     "slide_type": "slide"
    }
   },
   "outputs": [
    {
     "data": {
      "text/html": [
       "<div>\n",
       "<style scoped>\n",
       "    .dataframe tbody tr th:only-of-type {\n",
       "        vertical-align: middle;\n",
       "    }\n",
       "\n",
       "    .dataframe tbody tr th {\n",
       "        vertical-align: top;\n",
       "    }\n",
       "\n",
       "    .dataframe thead th {\n",
       "        text-align: right;\n",
       "    }\n",
       "</style>\n",
       "<table border=\"1\" class=\"dataframe\">\n",
       "  <thead>\n",
       "    <tr style=\"text-align: right;\">\n",
       "      <th></th>\n",
       "      <th>maturity_d</th>\n",
       "    </tr>\n",
       "    <tr>\n",
       "      <th>order</th>\n",
       "      <th></th>\n",
       "    </tr>\n",
       "  </thead>\n",
       "  <tbody>\n",
       "    <tr>\n",
       "      <th>Afrosoricida</th>\n",
       "      <td>269.641429</td>\n",
       "    </tr>\n",
       "    <tr>\n",
       "      <th>Artiodactyla</th>\n",
       "      <td>647.691712</td>\n",
       "    </tr>\n",
       "    <tr>\n",
       "      <th>Carnivora</th>\n",
       "      <td>884.049416</td>\n",
       "    </tr>\n",
       "    <tr>\n",
       "      <th>Cetacea</th>\n",
       "      <td>2760.430000</td>\n",
       "    </tr>\n",
       "    <tr>\n",
       "      <th>Chiroptera</th>\n",
       "      <td>371.109080</td>\n",
       "    </tr>\n",
       "    <tr>\n",
       "      <th>Cingulata</th>\n",
       "      <td>339.396667</td>\n",
       "    </tr>\n",
       "    <tr>\n",
       "      <th>Dasyuromorphia</th>\n",
       "      <td>340.916286</td>\n",
       "    </tr>\n",
       "    <tr>\n",
       "      <th>Dermoptera</th>\n",
       "      <td>NaN</td>\n",
       "    </tr>\n",
       "    <tr>\n",
       "      <th>Didelphimorphia</th>\n",
       "      <td>242.665455</td>\n",
       "    </tr>\n",
       "    <tr>\n",
       "      <th>Diprotodontia</th>\n",
       "      <td>531.242069</td>\n",
       "    </tr>\n",
       "    <tr>\n",
       "      <th>Erinaceomorpha</th>\n",
       "      <td>248.257500</td>\n",
       "    </tr>\n",
       "    <tr>\n",
       "      <th>Hyracoidea</th>\n",
       "      <td>486.740000</td>\n",
       "    </tr>\n",
       "    <tr>\n",
       "      <th>Lagomorpha</th>\n",
       "      <td>226.520769</td>\n",
       "    </tr>\n",
       "    <tr>\n",
       "      <th>Macroscelidea</th>\n",
       "      <td>117.626667</td>\n",
       "    </tr>\n",
       "    <tr>\n",
       "      <th>Microbiotheria</th>\n",
       "      <td>556.850000</td>\n",
       "    </tr>\n",
       "    <tr>\n",
       "      <th>Monotremata</th>\n",
       "      <td>649.655000</td>\n",
       "    </tr>\n",
       "    <tr>\n",
       "      <th>Notoryctemorphia</th>\n",
       "      <td>NaN</td>\n",
       "    </tr>\n",
       "    <tr>\n",
       "      <th>Paucituberculata</th>\n",
       "      <td>NaN</td>\n",
       "    </tr>\n",
       "    <tr>\n",
       "      <th>Peramelemorphia</th>\n",
       "      <td>152.738333</td>\n",
       "    </tr>\n",
       "    <tr>\n",
       "      <th>Perissodactyla</th>\n",
       "      <td>1554.743636</td>\n",
       "    </tr>\n",
       "    <tr>\n",
       "      <th>Pholidota</th>\n",
       "      <td>755.150000</td>\n",
       "    </tr>\n",
       "    <tr>\n",
       "      <th>Pilosa</th>\n",
       "      <td>1321.020000</td>\n",
       "    </tr>\n",
       "    <tr>\n",
       "      <th>Primates</th>\n",
       "      <td>1507.296465</td>\n",
       "    </tr>\n",
       "    <tr>\n",
       "      <th>Proboscidea</th>\n",
       "      <td>4496.035000</td>\n",
       "    </tr>\n",
       "    <tr>\n",
       "      <th>Rodentia</th>\n",
       "      <td>182.623345</td>\n",
       "    </tr>\n",
       "    <tr>\n",
       "      <th>Scandentia</th>\n",
       "      <td>122.770000</td>\n",
       "    </tr>\n",
       "    <tr>\n",
       "      <th>Sirenia</th>\n",
       "      <td>2394.806667</td>\n",
       "    </tr>\n",
       "    <tr>\n",
       "      <th>Soricomorpha</th>\n",
       "      <td>260.230000</td>\n",
       "    </tr>\n",
       "    <tr>\n",
       "      <th>Tubulidentata</th>\n",
       "      <td>755.150000</td>\n",
       "    </tr>\n",
       "  </tbody>\n",
       "</table>\n",
       "</div>"
      ],
      "text/plain": [
       "                   maturity_d\n",
       "order                        \n",
       "Afrosoricida       269.641429\n",
       "Artiodactyla       647.691712\n",
       "Carnivora          884.049416\n",
       "Cetacea           2760.430000\n",
       "Chiroptera         371.109080\n",
       "Cingulata          339.396667\n",
       "Dasyuromorphia     340.916286\n",
       "Dermoptera                NaN\n",
       "Didelphimorphia    242.665455\n",
       "Diprotodontia      531.242069\n",
       "Erinaceomorpha     248.257500\n",
       "Hyracoidea         486.740000\n",
       "Lagomorpha         226.520769\n",
       "Macroscelidea      117.626667\n",
       "Microbiotheria     556.850000\n",
       "Monotremata        649.655000\n",
       "Notoryctemorphia          NaN\n",
       "Paucituberculata          NaN\n",
       "Peramelemorphia    152.738333\n",
       "Perissodactyla    1554.743636\n",
       "Pholidota          755.150000\n",
       "Pilosa            1321.020000\n",
       "Primates          1507.296465\n",
       "Proboscidea       4496.035000\n",
       "Rodentia           182.623345\n",
       "Scandentia         122.770000\n",
       "Sirenia           2394.806667\n",
       "Soricomorpha       260.230000\n",
       "Tubulidentata      755.150000"
      ]
     },
     "execution_count": 79,
     "metadata": {},
     "output_type": "execute_result"
    }
   ],
   "source": [
    "maturity_df_grouped_ord.mean()  # calc the mean for each order"
   ]
  },
  {
   "cell_type": "markdown",
   "id": "69ae0d43",
   "metadata": {
    "slideshow": {
     "slide_type": "slide"
    }
   },
   "source": [
    "## That is a lot of orders!\n",
    "\n",
    "- Are all of them really worthy of our attention?\n",
    "- Let's pause a moment to see how many species belong to each order\n"
   ]
  },
  {
   "cell_type": "code",
   "execution_count": 35,
   "id": "b410249c",
   "metadata": {
    "slideshow": {
     "slide_type": "subslide"
    }
   },
   "outputs": [
    {
     "data": {
      "text/plain": [
       "<AxesSubplot:xlabel='order'>"
      ]
     },
     "execution_count": 35,
     "metadata": {},
     "output_type": "execute_result"
    },
    {
     "data": {
      "image/png": "[encoded data removed]",
      "text/plain": [
       "<Figure size 432x288 with 1 Axes>"
      ]
     },
     "metadata": {
      "needs_background": "dark"
     },
     "output_type": "display_data"
    }
   ],
   "source": [
    "maturity_df_grouped_ord.size().plot.bar() "
   ]
  },
  {
   "cell_type": "markdown",
   "id": "847aea61",
   "metadata": {
    "slideshow": {
     "slide_type": "subslide"
    }
   },
   "source": [
    "- This is a bit hard to interpret. We might want to look at a plot like this in order of size."
   ]
  },
  {
   "cell_type": "markdown",
   "id": "97b2dbdd",
   "metadata": {
    "slideshow": {
     "slide_type": "slide"
    }
   },
   "source": [
    "## Sorting\n",
    "\n",
    "\\<insert obligatory_sorting_hat.gif\\\\>\n",
    "\n",
    "- We can order things in ascending or descending order using `sort_values()`\n",
    "- This is a fun programming task that you can implement yourself if you hate free time"
   ]
  },
  {
   "cell_type": "code",
   "execution_count": 36,
   "id": "86862bc6",
   "metadata": {
    "slideshow": {
     "slide_type": "subslide"
    }
   },
   "outputs": [
    {
     "data": {
      "text/plain": [
       "<AxesSubplot:xlabel='order'>"
      ]
     },
     "execution_count": 36,
     "metadata": {},
     "output_type": "execute_result"
    },
    {
     "data": {
      "image/png": "[encoded data removed]",
      "text/plain": [
       "<Figure size 432x288 with 1 Axes>"
      ]
     },
     "metadata": {
      "needs_background": "dark"
     },
     "output_type": "display_data"
    }
   ],
   "source": [
    "ord_sizes = maturity_df_grouped_ord.size()\n",
    "ord_sizes_sorted = ord_sizes.sort_values(ascending=False) # <-- right here\n",
    "ord_sizes_sorted.plot.bar()"
   ]
  },
  {
   "cell_type": "markdown",
   "id": "3f9ab5db",
   "metadata": {
    "slideshow": {
     "slide_type": "slide"
    }
   },
   "source": [
    "## We can probably just do away with any order without enough members"
   ]
  },
  {
   "cell_type": "code",
   "execution_count": 37,
   "id": "4dfd6907",
   "metadata": {
    "slideshow": {
     "slide_type": "slide"
    }
   },
   "outputs": [
    {
     "data": {
      "text/plain": [
       "order\n",
       "Afrosoricida          50\n",
       "Artiodactyla         212\n",
       "Carnivora            262\n",
       "Cetacea               82\n",
       "Chiroptera          1048\n",
       "Cingulata             20\n",
       "Dasyuromorphia        63\n",
       "Dermoptera             1\n",
       "Didelphimorphia       71\n",
       "Diprotodontia        140\n",
       "Erinaceomorpha        24\n",
       "Hyracoidea             4\n",
       "Lagomorpha            85\n",
       "Macroscelidea         14\n",
       "Microbiotheria         1\n",
       "Monotremata            4\n",
       "Notoryctemorphia       2\n",
       "Paucituberculata       6\n",
       "Peramelemorphia       21\n",
       "Perissodactyla        14\n",
       "Pholidota              4\n",
       "Pilosa                10\n",
       "Primates             321\n",
       "Proboscidea            2\n",
       "Rodentia            2039\n",
       "Scandentia            20\n",
       "Sirenia                5\n",
       "Soricomorpha         420\n",
       "Tubulidentata          1\n",
       "dtype: int64"
      ]
     },
     "execution_count": 37,
     "metadata": {},
     "output_type": "execute_result"
    }
   ],
   "source": [
    "sizeseries=maturity_df_grouped_ord.size()\n",
    "sizeseries"
   ]
  },
  {
   "cell_type": "markdown",
   "id": "c5a27f28",
   "metadata": {
    "slideshow": {
     "slide_type": "slide"
    }
   },
   "source": [
    "## Let's get rid of any order that has fewer than 10 species"
   ]
  },
  {
   "cell_type": "code",
   "execution_count": 38,
   "id": "00a10366",
   "metadata": {
    "slideshow": {
     "slide_type": "subslide"
    }
   },
   "outputs": [
    {
     "name": "stdout",
     "output_type": "stream",
     "text": [
      "                  maturity_d\n",
      "order                       \n",
      "Afrosoricida      269.641429\n",
      "Artiodactyla      651.322368\n",
      "Carnivora         884.049416\n",
      "Cetacea          3036.481212\n",
      "Chiroptera        371.109080\n",
      "Cingulata         339.396667\n",
      "Dasyuromorphia    340.916286\n",
      "Didelphimorphia   237.910833\n",
      "Diprotodontia     531.242069\n",
      "Erinaceomorpha    248.257500\n",
      "Lagomorpha        226.520769\n",
      "Macroscelidea     117.626667\n",
      "Peramelemorphia   152.738333\n",
      "Perissodactyla   1554.743636\n",
      "Primates         1496.432600\n",
      "Rodentia          182.731696\n",
      "Scandentia        122.770000\n",
      "Soricomorpha      262.990690\n"
     ]
    }
   ],
   "source": [
    "ord_mean_maturity = maturity_df_grouped_ord.mean()\n",
    "big_enough = ord_mean_maturity[sizeseries>10]\n",
    "print(big_enough)"
   ]
  },
  {
   "cell_type": "code",
   "execution_count": 39,
   "id": "17032489",
   "metadata": {
    "slideshow": {
     "slide_type": "slide"
    }
   },
   "outputs": [],
   "source": [
    "# sort the values in big_enough\n",
    "\n",
    "big_enough_sorted = big_enough.sort_values(by='maturity_d',ascending=False)\n",
    "\n",
    "#CPF: explain 'by=' argument"
   ]
  },
  {
   "cell_type": "code",
   "execution_count": 40,
   "id": "d3acbe25",
   "metadata": {
    "scrolled": true,
    "slideshow": {
     "slide_type": "subslide"
    }
   },
   "outputs": [
    {
     "data": {
      "text/plain": [
       "<AxesSubplot:xlabel='order'>"
      ]
     },
     "execution_count": 40,
     "metadata": {},
     "output_type": "execute_result"
    },
    {
     "data": {
      "image/png": "[encoded data removed]",
      "text/plain": [
       "<Figure size 432x288 with 1 Axes>"
      ]
     },
     "metadata": {
      "needs_background": "dark"
     },
     "output_type": "display_data"
    }
   ],
   "source": [
    "big_enough_sorted.plot.bar(rot=70)"
   ]
  },
  {
   "cell_type": "markdown",
   "id": "e2f6c25d",
   "metadata": {
    "slideshow": {
     "slide_type": "slide"
    }
   },
   "source": [
    "## Question: Are some orders at greater risk of extinction?\n",
    "\n",
    "- Let's see if our trusty crosstab can help us out"
   ]
  },
  {
   "cell_type": "code",
   "execution_count": 41,
   "id": "def007d8",
   "metadata": {
    "slideshow": {
     "slide_type": "slide"
    }
   },
   "outputs": [
    {
     "data": {
      "text/plain": [
       "LC    2891\n",
       "DD     621\n",
       "VU     465\n",
       "EN     402\n",
       "NT     321\n",
       "CR     165\n",
       "EX      65\n",
       "EP      14\n",
       "EW       2\n",
       "Name: iucn_status, dtype: int64"
      ]
     },
     "execution_count": 41,
     "metadata": {},
     "output_type": "execute_result"
    }
   ],
   "source": [
    "pantheria_iucn['iucn_status'].value_counts()"
   ]
  },
  {
   "cell_type": "markdown",
   "id": "6987c2f5",
   "metadata": {
    "slideshow": {
     "slide_type": "slide"
    }
   },
   "source": [
    "## Okay this is kinda hard to interpret:\n",
    "\n",
    "- let's instead create a column to say whether a species is at risk or not as a bool"
   ]
  },
  {
   "cell_type": "code",
   "execution_count": 42,
   "id": "13eecbca",
   "metadata": {
    "slideshow": {
     "slide_type": "subslide"
    }
   },
   "outputs": [
    {
     "data": {
      "text/html": [
       "<div>\n",
       "<style scoped>\n",
       "    .dataframe tbody tr th:only-of-type {\n",
       "        vertical-align: middle;\n",
       "    }\n",
       "\n",
       "    .dataframe tbody tr th {\n",
       "        vertical-align: top;\n",
       "    }\n",
       "\n",
       "    .dataframe thead th {\n",
       "        text-align: right;\n",
       "    }\n",
       "</style>\n",
       "<table border=\"1\" class=\"dataframe\">\n",
       "  <thead>\n",
       "    <tr style=\"text-align: right;\">\n",
       "      <th>iucn_status</th>\n",
       "      <th>CR</th>\n",
       "      <th>DD</th>\n",
       "      <th>EN</th>\n",
       "      <th>EP</th>\n",
       "      <th>EW</th>\n",
       "      <th>EX</th>\n",
       "      <th>LC</th>\n",
       "      <th>NT</th>\n",
       "      <th>VU</th>\n",
       "    </tr>\n",
       "    <tr>\n",
       "      <th>order</th>\n",
       "      <th></th>\n",
       "      <th></th>\n",
       "      <th></th>\n",
       "      <th></th>\n",
       "      <th></th>\n",
       "      <th></th>\n",
       "      <th></th>\n",
       "      <th></th>\n",
       "      <th></th>\n",
       "    </tr>\n",
       "  </thead>\n",
       "  <tbody>\n",
       "    <tr>\n",
       "      <th>Afrosoricida</th>\n",
       "      <td>0.000202</td>\n",
       "      <td>0.000607</td>\n",
       "      <td>0.001011</td>\n",
       "      <td>0.000000</td>\n",
       "      <td>0.000000</td>\n",
       "      <td>0.000000</td>\n",
       "      <td>0.006066</td>\n",
       "      <td>0.000607</td>\n",
       "      <td>0.001617</td>\n",
       "    </tr>\n",
       "    <tr>\n",
       "      <th>Artiodactyla</th>\n",
       "      <td>0.002224</td>\n",
       "      <td>0.002426</td>\n",
       "      <td>0.005661</td>\n",
       "      <td>0.000202</td>\n",
       "      <td>0.000404</td>\n",
       "      <td>0.000809</td>\n",
       "      <td>0.016983</td>\n",
       "      <td>0.005055</td>\n",
       "      <td>0.009098</td>\n",
       "    </tr>\n",
       "    <tr>\n",
       "      <th>Carnivora</th>\n",
       "      <td>0.000607</td>\n",
       "      <td>0.000607</td>\n",
       "      <td>0.005459</td>\n",
       "      <td>0.000000</td>\n",
       "      <td>0.000000</td>\n",
       "      <td>0.000607</td>\n",
       "      <td>0.032956</td>\n",
       "      <td>0.005257</td>\n",
       "      <td>0.007481</td>\n",
       "    </tr>\n",
       "    <tr>\n",
       "      <th>Cetacea</th>\n",
       "      <td>0.000404</td>\n",
       "      <td>0.008694</td>\n",
       "      <td>0.001415</td>\n",
       "      <td>0.000000</td>\n",
       "      <td>0.000000</td>\n",
       "      <td>0.000000</td>\n",
       "      <td>0.004448</td>\n",
       "      <td>0.000809</td>\n",
       "      <td>0.000809</td>\n",
       "    </tr>\n",
       "    <tr>\n",
       "      <th>Chiroptera</th>\n",
       "      <td>0.004246</td>\n",
       "      <td>0.031743</td>\n",
       "      <td>0.009098</td>\n",
       "      <td>0.000404</td>\n",
       "      <td>0.000000</td>\n",
       "      <td>0.000809</td>\n",
       "      <td>0.130813</td>\n",
       "      <td>0.014962</td>\n",
       "      <td>0.019814</td>\n",
       "    </tr>\n",
       "    <tr>\n",
       "      <th>Cingulata</th>\n",
       "      <td>0.000000</td>\n",
       "      <td>0.001011</td>\n",
       "      <td>0.000000</td>\n",
       "      <td>0.000000</td>\n",
       "      <td>0.000000</td>\n",
       "      <td>0.000000</td>\n",
       "      <td>0.001617</td>\n",
       "      <td>0.001011</td>\n",
       "      <td>0.000404</td>\n",
       "    </tr>\n",
       "    <tr>\n",
       "      <th>Dasyuromorphia</th>\n",
       "      <td>0.000202</td>\n",
       "      <td>0.000404</td>\n",
       "      <td>0.001011</td>\n",
       "      <td>0.000000</td>\n",
       "      <td>0.000000</td>\n",
       "      <td>0.000202</td>\n",
       "      <td>0.007885</td>\n",
       "      <td>0.002224</td>\n",
       "      <td>0.000809</td>\n",
       "    </tr>\n",
       "    <tr>\n",
       "      <th>Dermoptera</th>\n",
       "      <td>0.000000</td>\n",
       "      <td>0.000000</td>\n",
       "      <td>0.000000</td>\n",
       "      <td>0.000000</td>\n",
       "      <td>0.000000</td>\n",
       "      <td>0.000000</td>\n",
       "      <td>0.000202</td>\n",
       "      <td>0.000000</td>\n",
       "      <td>0.000000</td>\n",
       "    </tr>\n",
       "    <tr>\n",
       "      <th>Didelphimorphia</th>\n",
       "      <td>0.000404</td>\n",
       "      <td>0.001820</td>\n",
       "      <td>0.000000</td>\n",
       "      <td>0.000000</td>\n",
       "      <td>0.000000</td>\n",
       "      <td>0.000000</td>\n",
       "      <td>0.011120</td>\n",
       "      <td>0.000404</td>\n",
       "      <td>0.000607</td>\n",
       "    </tr>\n",
       "    <tr>\n",
       "      <th>Diprotodontia</th>\n",
       "      <td>0.002426</td>\n",
       "      <td>0.000000</td>\n",
       "      <td>0.002426</td>\n",
       "      <td>0.000000</td>\n",
       "      <td>0.000000</td>\n",
       "      <td>0.001213</td>\n",
       "      <td>0.012940</td>\n",
       "      <td>0.004448</td>\n",
       "      <td>0.004852</td>\n",
       "    </tr>\n",
       "    <tr>\n",
       "      <th>Erinaceomorpha</th>\n",
       "      <td>0.000000</td>\n",
       "      <td>0.000202</td>\n",
       "      <td>0.000404</td>\n",
       "      <td>0.000000</td>\n",
       "      <td>0.000000</td>\n",
       "      <td>0.000000</td>\n",
       "      <td>0.004044</td>\n",
       "      <td>0.000000</td>\n",
       "      <td>0.000202</td>\n",
       "    </tr>\n",
       "    <tr>\n",
       "      <th>Hyracoidea</th>\n",
       "      <td>0.000000</td>\n",
       "      <td>0.000000</td>\n",
       "      <td>0.000000</td>\n",
       "      <td>0.000000</td>\n",
       "      <td>0.000000</td>\n",
       "      <td>0.000000</td>\n",
       "      <td>0.000809</td>\n",
       "      <td>0.000000</td>\n",
       "      <td>0.000000</td>\n",
       "    </tr>\n",
       "    <tr>\n",
       "      <th>Lagomorpha</th>\n",
       "      <td>0.000404</td>\n",
       "      <td>0.000607</td>\n",
       "      <td>0.002628</td>\n",
       "      <td>0.000000</td>\n",
       "      <td>0.000000</td>\n",
       "      <td>0.000202</td>\n",
       "      <td>0.011322</td>\n",
       "      <td>0.001011</td>\n",
       "      <td>0.001011</td>\n",
       "    </tr>\n",
       "    <tr>\n",
       "      <th>Macroscelidea</th>\n",
       "      <td>0.000000</td>\n",
       "      <td>0.000404</td>\n",
       "      <td>0.000202</td>\n",
       "      <td>0.000000</td>\n",
       "      <td>0.000000</td>\n",
       "      <td>0.000000</td>\n",
       "      <td>0.002022</td>\n",
       "      <td>0.000202</td>\n",
       "      <td>0.000000</td>\n",
       "    </tr>\n",
       "    <tr>\n",
       "      <th>Microbiotheria</th>\n",
       "      <td>0.000000</td>\n",
       "      <td>0.000000</td>\n",
       "      <td>0.000000</td>\n",
       "      <td>0.000000</td>\n",
       "      <td>0.000000</td>\n",
       "      <td>0.000000</td>\n",
       "      <td>0.000000</td>\n",
       "      <td>0.000202</td>\n",
       "      <td>0.000000</td>\n",
       "    </tr>\n",
       "    <tr>\n",
       "      <th>Monotremata</th>\n",
       "      <td>0.000202</td>\n",
       "      <td>0.000000</td>\n",
       "      <td>0.000000</td>\n",
       "      <td>0.000000</td>\n",
       "      <td>0.000000</td>\n",
       "      <td>0.000000</td>\n",
       "      <td>0.000202</td>\n",
       "      <td>0.000202</td>\n",
       "      <td>0.000202</td>\n",
       "    </tr>\n",
       "    <tr>\n",
       "      <th>Notoryctemorphia</th>\n",
       "      <td>0.000000</td>\n",
       "      <td>0.000000</td>\n",
       "      <td>0.000000</td>\n",
       "      <td>0.000000</td>\n",
       "      <td>0.000000</td>\n",
       "      <td>0.000000</td>\n",
       "      <td>0.000404</td>\n",
       "      <td>0.000000</td>\n",
       "      <td>0.000000</td>\n",
       "    </tr>\n",
       "    <tr>\n",
       "      <th>Paucituberculata</th>\n",
       "      <td>0.000000</td>\n",
       "      <td>0.000000</td>\n",
       "      <td>0.000000</td>\n",
       "      <td>0.000000</td>\n",
       "      <td>0.000000</td>\n",
       "      <td>0.000000</td>\n",
       "      <td>0.000404</td>\n",
       "      <td>0.000404</td>\n",
       "      <td>0.000404</td>\n",
       "    </tr>\n",
       "    <tr>\n",
       "      <th>Peramelemorphia</th>\n",
       "      <td>0.000000</td>\n",
       "      <td>0.000404</td>\n",
       "      <td>0.000607</td>\n",
       "      <td>0.000000</td>\n",
       "      <td>0.000000</td>\n",
       "      <td>0.000607</td>\n",
       "      <td>0.001820</td>\n",
       "      <td>0.000000</td>\n",
       "      <td>0.000809</td>\n",
       "    </tr>\n",
       "    <tr>\n",
       "      <th>Perissodactyla</th>\n",
       "      <td>0.000607</td>\n",
       "      <td>0.000000</td>\n",
       "      <td>0.000809</td>\n",
       "      <td>0.000000</td>\n",
       "      <td>0.000000</td>\n",
       "      <td>0.000000</td>\n",
       "      <td>0.000202</td>\n",
       "      <td>0.000607</td>\n",
       "      <td>0.000607</td>\n",
       "    </tr>\n",
       "    <tr>\n",
       "      <th>Pholidota</th>\n",
       "      <td>0.000404</td>\n",
       "      <td>0.000000</td>\n",
       "      <td>0.000404</td>\n",
       "      <td>0.000000</td>\n",
       "      <td>0.000000</td>\n",
       "      <td>0.000000</td>\n",
       "      <td>0.000000</td>\n",
       "      <td>0.000000</td>\n",
       "      <td>0.000000</td>\n",
       "    </tr>\n",
       "    <tr>\n",
       "      <th>Pilosa</th>\n",
       "      <td>0.000202</td>\n",
       "      <td>0.000000</td>\n",
       "      <td>0.000000</td>\n",
       "      <td>0.000000</td>\n",
       "      <td>0.000000</td>\n",
       "      <td>0.000000</td>\n",
       "      <td>0.001415</td>\n",
       "      <td>0.000000</td>\n",
       "      <td>0.000404</td>\n",
       "    </tr>\n",
       "    <tr>\n",
       "      <th>Primates</th>\n",
       "      <td>0.008290</td>\n",
       "      <td>0.001415</td>\n",
       "      <td>0.017590</td>\n",
       "      <td>0.000000</td>\n",
       "      <td>0.000000</td>\n",
       "      <td>0.000000</td>\n",
       "      <td>0.020623</td>\n",
       "      <td>0.004044</td>\n",
       "      <td>0.012940</td>\n",
       "    </tr>\n",
       "    <tr>\n",
       "      <th>Proboscidea</th>\n",
       "      <td>0.000000</td>\n",
       "      <td>0.000000</td>\n",
       "      <td>0.000202</td>\n",
       "      <td>0.000000</td>\n",
       "      <td>0.000000</td>\n",
       "      <td>0.000000</td>\n",
       "      <td>0.000000</td>\n",
       "      <td>0.000000</td>\n",
       "      <td>0.000202</td>\n",
       "    </tr>\n",
       "    <tr>\n",
       "      <th>Rodentia</th>\n",
       "      <td>0.010514</td>\n",
       "      <td>0.060049</td>\n",
       "      <td>0.025071</td>\n",
       "      <td>0.001820</td>\n",
       "      <td>0.000000</td>\n",
       "      <td>0.007076</td>\n",
       "      <td>0.261221</td>\n",
       "      <td>0.020218</td>\n",
       "      <td>0.026284</td>\n",
       "    </tr>\n",
       "    <tr>\n",
       "      <th>Scandentia</th>\n",
       "      <td>0.000000</td>\n",
       "      <td>0.000607</td>\n",
       "      <td>0.000404</td>\n",
       "      <td>0.000000</td>\n",
       "      <td>0.000000</td>\n",
       "      <td>0.000000</td>\n",
       "      <td>0.003033</td>\n",
       "      <td>0.000000</td>\n",
       "      <td>0.000000</td>\n",
       "    </tr>\n",
       "    <tr>\n",
       "      <th>Sirenia</th>\n",
       "      <td>0.000000</td>\n",
       "      <td>0.000000</td>\n",
       "      <td>0.000000</td>\n",
       "      <td>0.000000</td>\n",
       "      <td>0.000000</td>\n",
       "      <td>0.000202</td>\n",
       "      <td>0.000000</td>\n",
       "      <td>0.000000</td>\n",
       "      <td>0.000809</td>\n",
       "    </tr>\n",
       "    <tr>\n",
       "      <th>Soricomorpha</th>\n",
       "      <td>0.002022</td>\n",
       "      <td>0.014557</td>\n",
       "      <td>0.006874</td>\n",
       "      <td>0.000404</td>\n",
       "      <td>0.000000</td>\n",
       "      <td>0.001415</td>\n",
       "      <td>0.051759</td>\n",
       "      <td>0.003235</td>\n",
       "      <td>0.004650</td>\n",
       "    </tr>\n",
       "    <tr>\n",
       "      <th>Tubulidentata</th>\n",
       "      <td>0.000000</td>\n",
       "      <td>0.000000</td>\n",
       "      <td>0.000000</td>\n",
       "      <td>0.000000</td>\n",
       "      <td>0.000000</td>\n",
       "      <td>0.000000</td>\n",
       "      <td>0.000202</td>\n",
       "      <td>0.000000</td>\n",
       "      <td>0.000000</td>\n",
       "    </tr>\n",
       "  </tbody>\n",
       "</table>\n",
       "</div>"
      ],
      "text/plain": [
       "iucn_status             CR        DD        EN        EP        EW        EX  \\\n",
       "order                                                                          \n",
       "Afrosoricida      0.000202  0.000607  0.001011  0.000000  0.000000  0.000000   \n",
       "Artiodactyla      0.002224  0.002426  0.005661  0.000202  0.000404  0.000809   \n",
       "Carnivora         0.000607  0.000607  0.005459  0.000000  0.000000  0.000607   \n",
       "Cetacea           0.000404  0.008694  0.001415  0.000000  0.000000  0.000000   \n",
       "Chiroptera        0.004246  0.031743  0.009098  0.000404  0.000000  0.000809   \n",
       "Cingulata         0.000000  0.001011  0.000000  0.000000  0.000000  0.000000   \n",
       "Dasyuromorphia    0.000202  0.000404  0.001011  0.000000  0.000000  0.000202   \n",
       "Dermoptera        0.000000  0.000000  0.000000  0.000000  0.000000  0.000000   \n",
       "Didelphimorphia   0.000404  0.001820  0.000000  0.000000  0.000000  0.000000   \n",
       "Diprotodontia     0.002426  0.000000  0.002426  0.000000  0.000000  0.001213   \n",
       "Erinaceomorpha    0.000000  0.000202  0.000404  0.000000  0.000000  0.000000   \n",
       "Hyracoidea        0.000000  0.000000  0.000000  0.000000  0.000000  0.000000   \n",
       "Lagomorpha        0.000404  0.000607  0.002628  0.000000  0.000000  0.000202   \n",
       "Macroscelidea     0.000000  0.000404  0.000202  0.000000  0.000000  0.000000   \n",
       "Microbiotheria    0.000000  0.000000  0.000000  0.000000  0.000000  0.000000   \n",
       "Monotremata       0.000202  0.000000  0.000000  0.000000  0.000000  0.000000   \n",
       "Notoryctemorphia  0.000000  0.000000  0.000000  0.000000  0.000000  0.000000   \n",
       "Paucituberculata  0.000000  0.000000  0.000000  0.000000  0.000000  0.000000   \n",
       "Peramelemorphia   0.000000  0.000404  0.000607  0.000000  0.000000  0.000607   \n",
       "Perissodactyla    0.000607  0.000000  0.000809  0.000000  0.000000  0.000000   \n",
       "Pholidota         0.000404  0.000000  0.000404  0.000000  0.000000  0.000000   \n",
       "Pilosa            0.000202  0.000000  0.000000  0.000000  0.000000  0.000000   \n",
       "Primates          0.008290  0.001415  0.017590  0.000000  0.000000  0.000000   \n",
       "Proboscidea       0.000000  0.000000  0.000202  0.000000  0.000000  0.000000   \n",
       "Rodentia          0.010514  0.060049  0.025071  0.001820  0.000000  0.007076   \n",
       "Scandentia        0.000000  0.000607  0.000404  0.000000  0.000000  0.000000   \n",
       "Sirenia           0.000000  0.000000  0.000000  0.000000  0.000000  0.000202   \n",
       "Soricomorpha      0.002022  0.014557  0.006874  0.000404  0.000000  0.001415   \n",
       "Tubulidentata     0.000000  0.000000  0.000000  0.000000  0.000000  0.000000   \n",
       "\n",
       "iucn_status             LC        NT        VU  \n",
       "order                                           \n",
       "Afrosoricida      0.006066  0.000607  0.001617  \n",
       "Artiodactyla      0.016983  0.005055  0.009098  \n",
       "Carnivora         0.032956  0.005257  0.007481  \n",
       "Cetacea           0.004448  0.000809  0.000809  \n",
       "Chiroptera        0.130813  0.014962  0.019814  \n",
       "Cingulata         0.001617  0.001011  0.000404  \n",
       "Dasyuromorphia    0.007885  0.002224  0.000809  \n",
       "Dermoptera        0.000202  0.000000  0.000000  \n",
       "Didelphimorphia   0.011120  0.000404  0.000607  \n",
       "Diprotodontia     0.012940  0.004448  0.004852  \n",
       "Erinaceomorpha    0.004044  0.000000  0.000202  \n",
       "Hyracoidea        0.000809  0.000000  0.000000  \n",
       "Lagomorpha        0.011322  0.001011  0.001011  \n",
       "Macroscelidea     0.002022  0.000202  0.000000  \n",
       "Microbiotheria    0.000000  0.000202  0.000000  \n",
       "Monotremata       0.000202  0.000202  0.000202  \n",
       "Notoryctemorphia  0.000404  0.000000  0.000000  \n",
       "Paucituberculata  0.000404  0.000404  0.000404  \n",
       "Peramelemorphia   0.001820  0.000000  0.000809  \n",
       "Perissodactyla    0.000202  0.000607  0.000607  \n",
       "Pholidota         0.000000  0.000000  0.000000  \n",
       "Pilosa            0.001415  0.000000  0.000404  \n",
       "Primates          0.020623  0.004044  0.012940  \n",
       "Proboscidea       0.000000  0.000000  0.000202  \n",
       "Rodentia          0.261221  0.020218  0.026284  \n",
       "Scandentia        0.003033  0.000000  0.000000  \n",
       "Sirenia           0.000000  0.000000  0.000809  \n",
       "Soricomorpha      0.051759  0.003235  0.004650  \n",
       "Tubulidentata     0.000202  0.000000  0.000000  "
      ]
     },
     "execution_count": 42,
     "metadata": {},
     "output_type": "execute_result"
    }
   ],
   "source": [
    "pd.crosstab(pantheria_iucn['order'],pantheria_iucn['iucn_status'],normalize=True)"
   ]
  },
  {
   "cell_type": "markdown",
   "id": "32ffb45b",
   "metadata": {
    "slideshow": {
     "slide_type": "slide"
    }
   },
   "source": [
    "## Ordering our IUCN categories\n",
    "\n",
    "- What type is our IUCN data currently stored as?\n",
    "- The categories are actually ordinal\n",
    "- We might define least concern (LC) to be the lowest level\n",
    "  - Define any species above this level as being 'at risk'\n",
    "\n",
    "![](images/iucn.png)"
   ]
  },
  {
   "cell_type": "code",
   "execution_count": 43,
   "id": "19a342ef",
   "metadata": {
    "slideshow": {
     "slide_type": "slide"
    }
   },
   "outputs": [
    {
     "data": {
      "text/plain": [
       "0       EP\n",
       "1        1\n",
       "2        1\n",
       "3        1\n",
       "4        1\n",
       "        ..\n",
       "4941     4\n",
       "4942     1\n",
       "4943     3\n",
       "4944     5\n",
       "4945     1\n",
       "Name: iucn_status, Length: 4946, dtype: object"
      ]
     },
     "execution_count": 43,
     "metadata": {},
     "output_type": "execute_result"
    }
   ],
   "source": [
    "# first, let's create levels for our IUCN statuses\n",
    "# range from 1 (least threatened) to 7 (most threatened) , with 0 == insufficient data\n",
    "\n",
    "iucn_map={'LC':1,'NT':2,'VU':3,'EN':4,'CR':5,'EW':6,'EX':7,'DD':0}\n",
    "pantheria_iucn['iucn_status'].replace(iucn_map)\n"
   ]
  },
  {
   "cell_type": "code",
   "execution_count": 44,
   "id": "627d73a2",
   "metadata": {},
   "outputs": [
    {
     "data": {
      "text/plain": [
       "1     2891\n",
       "0      621\n",
       "3      465\n",
       "4      402\n",
       "2      321\n",
       "5      165\n",
       "7       65\n",
       "EP      14\n",
       "6        2\n",
       "Name: iucn_status, dtype: int64"
      ]
     },
     "execution_count": 44,
     "metadata": {},
     "output_type": "execute_result"
    }
   ],
   "source": [
    "pantheria_iucn['iucn_status'].replace(iucn_map).value_counts()"
   ]
  },
  {
   "cell_type": "markdown",
   "id": "1d7ab820",
   "metadata": {},
   "source": [
    "### what is 'EP'?? \n",
    "\n",
    "- This does not appear to be a real category in the list\n",
    "\n",
    "<img style=\"float: right;\" src=\"myimage.png\">\n",
    "\n",
    "![](images/iucn.png)"
   ]
  },
  {
   "cell_type": "code",
   "execution_count": 45,
   "id": "92f60823",
   "metadata": {},
   "outputs": [
    {
     "data": {
      "text/plain": [
       "True     4932\n",
       "False      14\n",
       "Name: iucn_status, dtype: int64"
      ]
     },
     "execution_count": 45,
     "metadata": {},
     "output_type": "execute_result"
    }
   ],
   "source": [
    "iucn_series = pantheria_iucn['iucn_status']\n",
    "\n",
    "ep_series=iucn_series != \"EP\"\n",
    "ep_series.value_counts()"
   ]
  },
  {
   "cell_type": "code",
   "execution_count": 46,
   "id": "af74a8ab",
   "metadata": {
    "slideshow": {
     "slide_type": "slide"
    }
   },
   "outputs": [
    {
     "name": "stdout",
     "output_type": "stream",
     "text": [
      "(4932, 8) (4946, 8)\n"
     ]
    }
   ],
   "source": [
    "pantheria_iucn = pantheria_iucn[ep_series]\n",
    "print(pantheria_iucn.shape,pantheria_iucn_orig.shape)"
   ]
  },
  {
   "cell_type": "markdown",
   "id": "86cafbea",
   "metadata": {
    "slideshow": {
     "slide_type": "slide"
    }
   },
   "source": [
    "### what is 'DD'?? \n",
    "\n",
    "- Let's do away with all DD lineages, since they are essentially missing data\n",
    "\n",
    "<img style=\"float: right;\" src=\"myimage.png\">\n",
    "\n",
    "![](images/iucn.png)"
   ]
  },
  {
   "cell_type": "code",
   "execution_count": 47,
   "id": "9720de28",
   "metadata": {
    "slideshow": {
     "slide_type": "slide"
    }
   },
   "outputs": [
    {
     "data": {
      "text/plain": [
       "True     4325\n",
       "False     621\n",
       "Name: iucn_status, dtype: int64"
      ]
     },
     "execution_count": 47,
     "metadata": {},
     "output_type": "execute_result"
    }
   ],
   "source": [
    "dd_series=iucn_series != \"DD\"\n",
    "dd_series.value_counts()"
   ]
  },
  {
   "cell_type": "code",
   "execution_count": 48,
   "id": "b3c89392",
   "metadata": {
    "slideshow": {
     "slide_type": "slide"
    }
   },
   "outputs": [
    {
     "name": "stderr",
     "output_type": "stream",
     "text": [
      "<ipython-input-48-3c535bf9ba9e>:1: UserWarning: Boolean Series key will be reindexed to match DataFrame index.\n",
      "  pantheria_iucn = pantheria_iucn[dd_series]\n"
     ]
    },
    {
     "data": {
      "text/html": [
       "<div>\n",
       "<style scoped>\n",
       "    .dataframe tbody tr th:only-of-type {\n",
       "        vertical-align: middle;\n",
       "    }\n",
       "\n",
       "    .dataframe tbody tr th {\n",
       "        vertical-align: top;\n",
       "    }\n",
       "\n",
       "    .dataframe thead th {\n",
       "        text-align: right;\n",
       "    }\n",
       "</style>\n",
       "<table border=\"1\" class=\"dataframe\">\n",
       "  <thead>\n",
       "    <tr style=\"text-align: right;\">\n",
       "      <th></th>\n",
       "      <th>order</th>\n",
       "      <th>genus_species</th>\n",
       "      <th>body_mass_g</th>\n",
       "      <th>maturity_d</th>\n",
       "      <th>interbirth_d</th>\n",
       "      <th>longevity_m</th>\n",
       "      <th>litter_size_ind</th>\n",
       "      <th>iucn_status</th>\n",
       "    </tr>\n",
       "  </thead>\n",
       "  <tbody>\n",
       "    <tr>\n",
       "      <th>1</th>\n",
       "      <td>Carnivora</td>\n",
       "      <td>Canis_adustus</td>\n",
       "      <td>10392.49</td>\n",
       "      <td>249.88</td>\n",
       "      <td>NaN</td>\n",
       "      <td>137.00</td>\n",
       "      <td>4.50</td>\n",
       "      <td>LC</td>\n",
       "    </tr>\n",
       "    <tr>\n",
       "      <th>2</th>\n",
       "      <td>Carnivora</td>\n",
       "      <td>Canis_aureus</td>\n",
       "      <td>9658.70</td>\n",
       "      <td>371.23</td>\n",
       "      <td>365.00</td>\n",
       "      <td>192.00</td>\n",
       "      <td>3.74</td>\n",
       "      <td>LC</td>\n",
       "    </tr>\n",
       "    <tr>\n",
       "      <th>3</th>\n",
       "      <td>Carnivora</td>\n",
       "      <td>Canis_latrans</td>\n",
       "      <td>11989.10</td>\n",
       "      <td>372.90</td>\n",
       "      <td>365.00</td>\n",
       "      <td>262.00</td>\n",
       "      <td>5.72</td>\n",
       "      <td>LC</td>\n",
       "    </tr>\n",
       "    <tr>\n",
       "      <th>4</th>\n",
       "      <td>Carnivora</td>\n",
       "      <td>Canis_lupus</td>\n",
       "      <td>31756.51</td>\n",
       "      <td>679.37</td>\n",
       "      <td>365.00</td>\n",
       "      <td>354.00</td>\n",
       "      <td>4.98</td>\n",
       "      <td>LC</td>\n",
       "    </tr>\n",
       "    <tr>\n",
       "      <th>5</th>\n",
       "      <td>Artiodactyla</td>\n",
       "      <td>Bos_javanicus</td>\n",
       "      <td>635974.34</td>\n",
       "      <td>797.31</td>\n",
       "      <td>NaN</td>\n",
       "      <td>318.96</td>\n",
       "      <td>1.22</td>\n",
       "      <td>EN</td>\n",
       "    </tr>\n",
       "    <tr>\n",
       "      <th>...</th>\n",
       "      <td>...</td>\n",
       "      <td>...</td>\n",
       "      <td>...</td>\n",
       "      <td>...</td>\n",
       "      <td>...</td>\n",
       "      <td>...</td>\n",
       "      <td>...</td>\n",
       "      <td>...</td>\n",
       "    </tr>\n",
       "    <tr>\n",
       "      <th>4941</th>\n",
       "      <td>Rodentia</td>\n",
       "      <td>Zygogeomys_trichopus</td>\n",
       "      <td>473.54</td>\n",
       "      <td>NaN</td>\n",
       "      <td>NaN</td>\n",
       "      <td>NaN</td>\n",
       "      <td>NaN</td>\n",
       "      <td>EN</td>\n",
       "    </tr>\n",
       "    <tr>\n",
       "      <th>4942</th>\n",
       "      <td>Rodentia</td>\n",
       "      <td>Zyzomys_argurus</td>\n",
       "      <td>40.42</td>\n",
       "      <td>155.06</td>\n",
       "      <td>219.00</td>\n",
       "      <td>NaN</td>\n",
       "      <td>2.76</td>\n",
       "      <td>LC</td>\n",
       "    </tr>\n",
       "    <tr>\n",
       "      <th>4943</th>\n",
       "      <td>Rodentia</td>\n",
       "      <td>Zyzomys_maini</td>\n",
       "      <td>93.99</td>\n",
       "      <td>NaN</td>\n",
       "      <td>NaN</td>\n",
       "      <td>NaN</td>\n",
       "      <td>NaN</td>\n",
       "      <td>VU</td>\n",
       "    </tr>\n",
       "    <tr>\n",
       "      <th>4944</th>\n",
       "      <td>Rodentia</td>\n",
       "      <td>Zyzomys_pedunculatus</td>\n",
       "      <td>100.00</td>\n",
       "      <td>NaN</td>\n",
       "      <td>NaN</td>\n",
       "      <td>NaN</td>\n",
       "      <td>NaN</td>\n",
       "      <td>CR</td>\n",
       "    </tr>\n",
       "    <tr>\n",
       "      <th>4945</th>\n",
       "      <td>Rodentia</td>\n",
       "      <td>Zyzomys_woodwardi</td>\n",
       "      <td>95.02</td>\n",
       "      <td>155.06</td>\n",
       "      <td>231.16</td>\n",
       "      <td>NaN</td>\n",
       "      <td>2.23</td>\n",
       "      <td>LC</td>\n",
       "    </tr>\n",
       "  </tbody>\n",
       "</table>\n",
       "<p>4311 rows × 8 columns</p>\n",
       "</div>"
      ],
      "text/plain": [
       "             order         genus_species  body_mass_g  maturity_d  \\\n",
       "1        Carnivora         Canis_adustus     10392.49      249.88   \n",
       "2        Carnivora          Canis_aureus      9658.70      371.23   \n",
       "3        Carnivora         Canis_latrans     11989.10      372.90   \n",
       "4        Carnivora           Canis_lupus     31756.51      679.37   \n",
       "5     Artiodactyla         Bos_javanicus    635974.34      797.31   \n",
       "...            ...                   ...          ...         ...   \n",
       "4941      Rodentia  Zygogeomys_trichopus       473.54         NaN   \n",
       "4942      Rodentia       Zyzomys_argurus        40.42      155.06   \n",
       "4943      Rodentia         Zyzomys_maini        93.99         NaN   \n",
       "4944      Rodentia  Zyzomys_pedunculatus       100.00         NaN   \n",
       "4945      Rodentia     Zyzomys_woodwardi        95.02      155.06   \n",
       "\n",
       "      interbirth_d  longevity_m  litter_size_ind iucn_status  \n",
       "1              NaN       137.00             4.50          LC  \n",
       "2           365.00       192.00             3.74          LC  \n",
       "3           365.00       262.00             5.72          LC  \n",
       "4           365.00       354.00             4.98          LC  \n",
       "5              NaN       318.96             1.22          EN  \n",
       "...            ...          ...              ...         ...  \n",
       "4941           NaN          NaN              NaN          EN  \n",
       "4942        219.00          NaN             2.76          LC  \n",
       "4943           NaN          NaN              NaN          VU  \n",
       "4944           NaN          NaN              NaN          CR  \n",
       "4945        231.16          NaN             2.23          LC  \n",
       "\n",
       "[4311 rows x 8 columns]"
      ]
     },
     "execution_count": 48,
     "metadata": {},
     "output_type": "execute_result"
    }
   ],
   "source": [
    "pantheria_iucn = pantheria_iucn[dd_series]\n",
    "pantheria_iucn"
   ]
  },
  {
   "cell_type": "markdown",
   "id": "f6356d1c",
   "metadata": {
    "slideshow": {
     "slide_type": "slide"
    }
   },
   "source": [
    "## LOGICAL MELTDOWN\n",
    "\n",
    "- We just removed all columns != to 'EP' plus all columns != to 'DD' in two operations. \n",
    "- Exercise: how could we do this using one line of code?"
   ]
  },
  {
   "cell_type": "code",
   "execution_count": 49,
   "id": "785ef6a2",
   "metadata": {
    "slideshow": {
     "slide_type": "subslide"
    }
   },
   "outputs": [
    {
     "name": "stdout",
     "output_type": "stream",
     "text": [
      "before:  4946\n",
      "after:  4946\n"
     ]
    }
   ],
   "source": [
    "# we want to remove all rows where iucn_status is either 'EP' or 'DD'\n",
    "\n",
    "keep_rows = (pantheria_iucn_orig['iucn_status'] != 'EP') | (pantheria_iucn_orig['iucn_status'] != 'DD')\n",
    "print(\"before: \",pantheria_iucn_orig.shape[0])\n",
    "print(\"after: \",pantheria_iucn_orig[keep_rows].shape[0])"
   ]
  },
  {
   "cell_type": "markdown",
   "id": "6ded7d84",
   "metadata": {
    "slideshow": {
     "slide_type": "slide"
    }
   },
   "source": [
    "## Logic\n",
    "\n",
    "not (A **or** B) = (not A) **and** (not B)\n"
   ]
  },
  {
   "cell_type": "markdown",
   "id": "4df4788e",
   "metadata": {
    "slideshow": {
     "slide_type": "subslide"
    }
   },
   "source": [
    "not (A **and** B) = (not A) **or** (not B)"
   ]
  },
  {
   "cell_type": "code",
   "execution_count": 50,
   "id": "4a349015",
   "metadata": {
    "slideshow": {
     "slide_type": "subslide"
    }
   },
   "outputs": [
    {
     "name": "stdout",
     "output_type": "stream",
     "text": [
      "before:  4946\n",
      "after:  4311\n"
     ]
    }
   ],
   "source": [
    "# we want to remove all rows where iucn_status is either 'EP' or 'DD'\n",
    "\n",
    "keep_rows = (pantheria_iucn_orig['iucn_status'] != 'EP') & (pantheria_iucn_orig['iucn_status'] != 'DD')\n",
    "print(\"before: \",pantheria_iucn_orig.shape[0])\n",
    "print(\"after: \",pantheria_iucn_orig[keep_rows].shape[0])"
   ]
  },
  {
   "cell_type": "code",
   "execution_count": 51,
   "id": "7ed8ee73",
   "metadata": {
    "slideshow": {
     "slide_type": "skip"
    }
   },
   "outputs": [],
   "source": [
    "#iucn_map={1:'LC',2:'NT',3:'VU',4:'EN',5:'CR',6:'EW':,7:'EX',0:'DD':}\n",
    "#iucn_map"
   ]
  },
  {
   "cell_type": "code",
   "execution_count": 52,
   "id": "6d6b7367",
   "metadata": {
    "slideshow": {
     "slide_type": "slide"
    }
   },
   "outputs": [
    {
     "data": {
      "text/plain": [
       "1       1\n",
       "2       1\n",
       "3       1\n",
       "4       1\n",
       "5       4\n",
       "       ..\n",
       "4941    4\n",
       "4942    1\n",
       "4943    3\n",
       "4944    5\n",
       "4945    1\n",
       "Name: iucn_status, Length: 4311, dtype: int64"
      ]
     },
     "execution_count": 52,
     "metadata": {},
     "output_type": "execute_result"
    }
   ],
   "source": [
    "# represent iucn status as int\n",
    "\n",
    "iucn_status_int=pantheria_iucn['iucn_status'].replace(iucn_map)\n",
    "iucn_status_int"
   ]
  },
  {
   "cell_type": "code",
   "execution_count": 53,
   "id": "427592ce",
   "metadata": {
    "slideshow": {
     "slide_type": "slide"
    }
   },
   "outputs": [
    {
     "data": {
      "text/plain": [
       "<bound method IndexOpsMixin.value_counts of 1       1\n",
       "2       1\n",
       "3       1\n",
       "4       1\n",
       "5       4\n",
       "       ..\n",
       "4941    4\n",
       "4942    1\n",
       "4943    3\n",
       "4944    5\n",
       "4945    1\n",
       "Name: iucn_status, Length: 4311, dtype: int64>"
      ]
     },
     "execution_count": 53,
     "metadata": {},
     "output_type": "execute_result"
    }
   ],
   "source": [
    "iucn_status_int.value_counts"
   ]
  },
  {
   "cell_type": "markdown",
   "id": "c9348783",
   "metadata": {
    "slideshow": {
     "slide_type": "slide"
    }
   },
   "source": [
    "## What categories should we consider 'at risk'?\n",
    "\n",
    "![](images/iucn_list.png)"
   ]
  },
  {
   "cell_type": "code",
   "execution_count": 66,
   "id": "f62a8356",
   "metadata": {
    "slideshow": {
     "slide_type": "slide"
    }
   },
   "outputs": [
    {
     "data": {
      "text/plain": [
       "{'LC': 1, 'NT': 2, 'VU': 3, 'EN': 4, 'CR': 5, 'EW': 6, 'EX': 7, 'DD': 0}"
      ]
     },
     "execution_count": 66,
     "metadata": {},
     "output_type": "execute_result"
    }
   ],
   "source": [
    "iucn_map"
   ]
  },
  {
   "cell_type": "code",
   "execution_count": 67,
   "id": "b3a00831",
   "metadata": {
    "slideshow": {
     "slide_type": "slide"
    }
   },
   "outputs": [
    {
     "data": {
      "text/plain": [
       "False    3212\n",
       "True     1099\n",
       "Name: iucn_status, dtype: int64"
      ]
     },
     "execution_count": 67,
     "metadata": {},
     "output_type": "execute_result"
    }
   ],
   "source": [
    "atrisk = iucn_status_int > 2\n",
    "atrisk.value_counts()"
   ]
  },
  {
   "cell_type": "code",
   "execution_count": 68,
   "id": "6f644b44",
   "metadata": {
    "slideshow": {
     "slide_type": "slide"
    }
   },
   "outputs": [
    {
     "data": {
      "text/html": [
       "<div>\n",
       "<style scoped>\n",
       "    .dataframe tbody tr th:only-of-type {\n",
       "        vertical-align: middle;\n",
       "    }\n",
       "\n",
       "    .dataframe tbody tr th {\n",
       "        vertical-align: top;\n",
       "    }\n",
       "\n",
       "    .dataframe thead th {\n",
       "        text-align: right;\n",
       "    }\n",
       "</style>\n",
       "<table border=\"1\" class=\"dataframe\">\n",
       "  <thead>\n",
       "    <tr style=\"text-align: right;\">\n",
       "      <th></th>\n",
       "      <th>order</th>\n",
       "      <th>genus_species</th>\n",
       "      <th>body_mass_g</th>\n",
       "      <th>maturity_d</th>\n",
       "      <th>interbirth_d</th>\n",
       "      <th>longevity_m</th>\n",
       "      <th>litter_size_ind</th>\n",
       "      <th>iucn_status</th>\n",
       "      <th>at_risk</th>\n",
       "    </tr>\n",
       "  </thead>\n",
       "  <tbody>\n",
       "    <tr>\n",
       "      <th>1</th>\n",
       "      <td>Carnivora</td>\n",
       "      <td>Canis_adustus</td>\n",
       "      <td>10392.49</td>\n",
       "      <td>249.88</td>\n",
       "      <td>NaN</td>\n",
       "      <td>137.00</td>\n",
       "      <td>4.50</td>\n",
       "      <td>LC</td>\n",
       "      <td>False</td>\n",
       "    </tr>\n",
       "    <tr>\n",
       "      <th>2</th>\n",
       "      <td>Carnivora</td>\n",
       "      <td>Canis_aureus</td>\n",
       "      <td>9658.70</td>\n",
       "      <td>371.23</td>\n",
       "      <td>365.00</td>\n",
       "      <td>192.00</td>\n",
       "      <td>3.74</td>\n",
       "      <td>LC</td>\n",
       "      <td>False</td>\n",
       "    </tr>\n",
       "    <tr>\n",
       "      <th>3</th>\n",
       "      <td>Carnivora</td>\n",
       "      <td>Canis_latrans</td>\n",
       "      <td>11989.10</td>\n",
       "      <td>372.90</td>\n",
       "      <td>365.00</td>\n",
       "      <td>262.00</td>\n",
       "      <td>5.72</td>\n",
       "      <td>LC</td>\n",
       "      <td>False</td>\n",
       "    </tr>\n",
       "    <tr>\n",
       "      <th>4</th>\n",
       "      <td>Carnivora</td>\n",
       "      <td>Canis_lupus</td>\n",
       "      <td>31756.51</td>\n",
       "      <td>679.37</td>\n",
       "      <td>365.00</td>\n",
       "      <td>354.00</td>\n",
       "      <td>4.98</td>\n",
       "      <td>LC</td>\n",
       "      <td>False</td>\n",
       "    </tr>\n",
       "    <tr>\n",
       "      <th>5</th>\n",
       "      <td>Artiodactyla</td>\n",
       "      <td>Bos_javanicus</td>\n",
       "      <td>635974.34</td>\n",
       "      <td>797.31</td>\n",
       "      <td>NaN</td>\n",
       "      <td>318.96</td>\n",
       "      <td>1.22</td>\n",
       "      <td>EN</td>\n",
       "      <td>True</td>\n",
       "    </tr>\n",
       "    <tr>\n",
       "      <th>...</th>\n",
       "      <td>...</td>\n",
       "      <td>...</td>\n",
       "      <td>...</td>\n",
       "      <td>...</td>\n",
       "      <td>...</td>\n",
       "      <td>...</td>\n",
       "      <td>...</td>\n",
       "      <td>...</td>\n",
       "      <td>...</td>\n",
       "    </tr>\n",
       "    <tr>\n",
       "      <th>4941</th>\n",
       "      <td>Rodentia</td>\n",
       "      <td>Zygogeomys_trichopus</td>\n",
       "      <td>473.54</td>\n",
       "      <td>NaN</td>\n",
       "      <td>NaN</td>\n",
       "      <td>NaN</td>\n",
       "      <td>NaN</td>\n",
       "      <td>EN</td>\n",
       "      <td>True</td>\n",
       "    </tr>\n",
       "    <tr>\n",
       "      <th>4942</th>\n",
       "      <td>Rodentia</td>\n",
       "      <td>Zyzomys_argurus</td>\n",
       "      <td>40.42</td>\n",
       "      <td>155.06</td>\n",
       "      <td>219.00</td>\n",
       "      <td>NaN</td>\n",
       "      <td>2.76</td>\n",
       "      <td>LC</td>\n",
       "      <td>False</td>\n",
       "    </tr>\n",
       "    <tr>\n",
       "      <th>4943</th>\n",
       "      <td>Rodentia</td>\n",
       "      <td>Zyzomys_maini</td>\n",
       "      <td>93.99</td>\n",
       "      <td>NaN</td>\n",
       "      <td>NaN</td>\n",
       "      <td>NaN</td>\n",
       "      <td>NaN</td>\n",
       "      <td>VU</td>\n",
       "      <td>True</td>\n",
       "    </tr>\n",
       "    <tr>\n",
       "      <th>4944</th>\n",
       "      <td>Rodentia</td>\n",
       "      <td>Zyzomys_pedunculatus</td>\n",
       "      <td>100.00</td>\n",
       "      <td>NaN</td>\n",
       "      <td>NaN</td>\n",
       "      <td>NaN</td>\n",
       "      <td>NaN</td>\n",
       "      <td>CR</td>\n",
       "      <td>True</td>\n",
       "    </tr>\n",
       "    <tr>\n",
       "      <th>4945</th>\n",
       "      <td>Rodentia</td>\n",
       "      <td>Zyzomys_woodwardi</td>\n",
       "      <td>95.02</td>\n",
       "      <td>155.06</td>\n",
       "      <td>231.16</td>\n",
       "      <td>NaN</td>\n",
       "      <td>2.23</td>\n",
       "      <td>LC</td>\n",
       "      <td>False</td>\n",
       "    </tr>\n",
       "  </tbody>\n",
       "</table>\n",
       "<p>4311 rows × 9 columns</p>\n",
       "</div>"
      ],
      "text/plain": [
       "             order         genus_species  body_mass_g  maturity_d  \\\n",
       "1        Carnivora         Canis_adustus     10392.49      249.88   \n",
       "2        Carnivora          Canis_aureus      9658.70      371.23   \n",
       "3        Carnivora         Canis_latrans     11989.10      372.90   \n",
       "4        Carnivora           Canis_lupus     31756.51      679.37   \n",
       "5     Artiodactyla         Bos_javanicus    635974.34      797.31   \n",
       "...            ...                   ...          ...         ...   \n",
       "4941      Rodentia  Zygogeomys_trichopus       473.54         NaN   \n",
       "4942      Rodentia       Zyzomys_argurus        40.42      155.06   \n",
       "4943      Rodentia         Zyzomys_maini        93.99         NaN   \n",
       "4944      Rodentia  Zyzomys_pedunculatus       100.00         NaN   \n",
       "4945      Rodentia     Zyzomys_woodwardi        95.02      155.06   \n",
       "\n",
       "      interbirth_d  longevity_m  litter_size_ind iucn_status  at_risk  \n",
       "1              NaN       137.00             4.50          LC    False  \n",
       "2           365.00       192.00             3.74          LC    False  \n",
       "3           365.00       262.00             5.72          LC    False  \n",
       "4           365.00       354.00             4.98          LC    False  \n",
       "5              NaN       318.96             1.22          EN     True  \n",
       "...            ...          ...              ...         ...      ...  \n",
       "4941           NaN          NaN              NaN          EN     True  \n",
       "4942        219.00          NaN             2.76          LC    False  \n",
       "4943           NaN          NaN              NaN          VU     True  \n",
       "4944           NaN          NaN              NaN          CR     True  \n",
       "4945        231.16          NaN             2.23          LC    False  \n",
       "\n",
       "[4311 rows x 9 columns]"
      ]
     },
     "execution_count": 68,
     "metadata": {},
     "output_type": "execute_result"
    }
   ],
   "source": [
    "pantheria_iucn['at_risk'] = atrisk\n",
    "pantheria_iucn"
   ]
  },
  {
   "cell_type": "code",
   "execution_count": 69,
   "id": "d9d58ee0",
   "metadata": {
    "slideshow": {
     "slide_type": "slide"
    }
   },
   "outputs": [
    {
     "data": {
      "text/html": [
       "<div>\n",
       "<style scoped>\n",
       "    .dataframe tbody tr th:only-of-type {\n",
       "        vertical-align: middle;\n",
       "    }\n",
       "\n",
       "    .dataframe tbody tr th {\n",
       "        vertical-align: top;\n",
       "    }\n",
       "\n",
       "    .dataframe thead th {\n",
       "        text-align: right;\n",
       "    }\n",
       "</style>\n",
       "<table border=\"1\" class=\"dataframe\">\n",
       "  <thead>\n",
       "    <tr style=\"text-align: right;\">\n",
       "      <th>at_risk</th>\n",
       "      <th>False</th>\n",
       "      <th>True</th>\n",
       "    </tr>\n",
       "    <tr>\n",
       "      <th>order</th>\n",
       "      <th></th>\n",
       "      <th></th>\n",
       "    </tr>\n",
       "  </thead>\n",
       "  <tbody>\n",
       "    <tr>\n",
       "      <th>Afrosoricida</th>\n",
       "      <td>33</td>\n",
       "      <td>14</td>\n",
       "    </tr>\n",
       "    <tr>\n",
       "      <th>Artiodactyla</th>\n",
       "      <td>109</td>\n",
       "      <td>90</td>\n",
       "    </tr>\n",
       "    <tr>\n",
       "      <th>Carnivora</th>\n",
       "      <td>189</td>\n",
       "      <td>70</td>\n",
       "    </tr>\n",
       "    <tr>\n",
       "      <th>Cetacea</th>\n",
       "      <td>26</td>\n",
       "      <td>13</td>\n",
       "    </tr>\n",
       "    <tr>\n",
       "      <th>Chiroptera</th>\n",
       "      <td>721</td>\n",
       "      <td>168</td>\n",
       "    </tr>\n",
       "    <tr>\n",
       "      <th>Cingulata</th>\n",
       "      <td>13</td>\n",
       "      <td>2</td>\n",
       "    </tr>\n",
       "    <tr>\n",
       "      <th>Dasyuromorphia</th>\n",
       "      <td>50</td>\n",
       "      <td>11</td>\n",
       "    </tr>\n",
       "    <tr>\n",
       "      <th>Dermoptera</th>\n",
       "      <td>1</td>\n",
       "      <td>0</td>\n",
       "    </tr>\n",
       "    <tr>\n",
       "      <th>Didelphimorphia</th>\n",
       "      <td>57</td>\n",
       "      <td>5</td>\n",
       "    </tr>\n",
       "    <tr>\n",
       "      <th>Diprotodontia</th>\n",
       "      <td>86</td>\n",
       "      <td>54</td>\n",
       "    </tr>\n",
       "    <tr>\n",
       "      <th>Erinaceomorpha</th>\n",
       "      <td>20</td>\n",
       "      <td>3</td>\n",
       "    </tr>\n",
       "    <tr>\n",
       "      <th>Hyracoidea</th>\n",
       "      <td>4</td>\n",
       "      <td>0</td>\n",
       "    </tr>\n",
       "    <tr>\n",
       "      <th>Lagomorpha</th>\n",
       "      <td>61</td>\n",
       "      <td>21</td>\n",
       "    </tr>\n",
       "    <tr>\n",
       "      <th>Macroscelidea</th>\n",
       "      <td>11</td>\n",
       "      <td>1</td>\n",
       "    </tr>\n",
       "    <tr>\n",
       "      <th>Microbiotheria</th>\n",
       "      <td>1</td>\n",
       "      <td>0</td>\n",
       "    </tr>\n",
       "    <tr>\n",
       "      <th>Monotremata</th>\n",
       "      <td>2</td>\n",
       "      <td>2</td>\n",
       "    </tr>\n",
       "    <tr>\n",
       "      <th>Notoryctemorphia</th>\n",
       "      <td>2</td>\n",
       "      <td>0</td>\n",
       "    </tr>\n",
       "    <tr>\n",
       "      <th>Paucituberculata</th>\n",
       "      <td>4</td>\n",
       "      <td>2</td>\n",
       "    </tr>\n",
       "    <tr>\n",
       "      <th>Peramelemorphia</th>\n",
       "      <td>9</td>\n",
       "      <td>10</td>\n",
       "    </tr>\n",
       "    <tr>\n",
       "      <th>Perissodactyla</th>\n",
       "      <td>4</td>\n",
       "      <td>10</td>\n",
       "    </tr>\n",
       "    <tr>\n",
       "      <th>Pholidota</th>\n",
       "      <td>0</td>\n",
       "      <td>4</td>\n",
       "    </tr>\n",
       "    <tr>\n",
       "      <th>Pilosa</th>\n",
       "      <td>7</td>\n",
       "      <td>3</td>\n",
       "    </tr>\n",
       "    <tr>\n",
       "      <th>Primates</th>\n",
       "      <td>122</td>\n",
       "      <td>192</td>\n",
       "    </tr>\n",
       "    <tr>\n",
       "      <th>Proboscidea</th>\n",
       "      <td>0</td>\n",
       "      <td>2</td>\n",
       "    </tr>\n",
       "    <tr>\n",
       "      <th>Rodentia</th>\n",
       "      <td>1392</td>\n",
       "      <td>341</td>\n",
       "    </tr>\n",
       "    <tr>\n",
       "      <th>Scandentia</th>\n",
       "      <td>15</td>\n",
       "      <td>2</td>\n",
       "    </tr>\n",
       "    <tr>\n",
       "      <th>Sirenia</th>\n",
       "      <td>0</td>\n",
       "      <td>5</td>\n",
       "    </tr>\n",
       "    <tr>\n",
       "      <th>Soricomorpha</th>\n",
       "      <td>272</td>\n",
       "      <td>74</td>\n",
       "    </tr>\n",
       "    <tr>\n",
       "      <th>Tubulidentata</th>\n",
       "      <td>1</td>\n",
       "      <td>0</td>\n",
       "    </tr>\n",
       "  </tbody>\n",
       "</table>\n",
       "</div>"
      ],
      "text/plain": [
       "at_risk           False  True \n",
       "order                         \n",
       "Afrosoricida         33     14\n",
       "Artiodactyla        109     90\n",
       "Carnivora           189     70\n",
       "Cetacea              26     13\n",
       "Chiroptera          721    168\n",
       "Cingulata            13      2\n",
       "Dasyuromorphia       50     11\n",
       "Dermoptera            1      0\n",
       "Didelphimorphia      57      5\n",
       "Diprotodontia        86     54\n",
       "Erinaceomorpha       20      3\n",
       "Hyracoidea            4      0\n",
       "Lagomorpha           61     21\n",
       "Macroscelidea        11      1\n",
       "Microbiotheria        1      0\n",
       "Monotremata           2      2\n",
       "Notoryctemorphia      2      0\n",
       "Paucituberculata      4      2\n",
       "Peramelemorphia       9     10\n",
       "Perissodactyla        4     10\n",
       "Pholidota             0      4\n",
       "Pilosa                7      3\n",
       "Primates            122    192\n",
       "Proboscidea           0      2\n",
       "Rodentia           1392    341\n",
       "Scandentia           15      2\n",
       "Sirenia               0      5\n",
       "Soricomorpha        272     74\n",
       "Tubulidentata         1      0"
      ]
     },
     "execution_count": 69,
     "metadata": {},
     "output_type": "execute_result"
    }
   ],
   "source": [
    "iucn_ord_cross = pd.crosstab(pantheria_iucn['order'],pantheria_iucn['at_risk'])\n",
    "iucn_ord_cross"
   ]
  },
  {
   "cell_type": "markdown",
   "id": "5d6648c2",
   "metadata": {
    "slideshow": {
     "slide_type": "slide"
    }
   },
   "source": [
    "### Let's remove orders with <10 species again"
   ]
  },
  {
   "cell_type": "code",
   "execution_count": 70,
   "id": "335f7575",
   "metadata": {
    "slideshow": {
     "slide_type": "slide"
    }
   },
   "outputs": [
    {
     "data": {
      "text/plain": [
       "order\n",
       "Afrosoricida          47\n",
       "Artiodactyla         199\n",
       "Carnivora            259\n",
       "Cetacea               39\n",
       "Chiroptera           889\n",
       "Cingulata             15\n",
       "Dasyuromorphia        61\n",
       "Dermoptera             1\n",
       "Didelphimorphia       62\n",
       "Diprotodontia        140\n",
       "Erinaceomorpha        23\n",
       "Hyracoidea             4\n",
       "Lagomorpha            82\n",
       "Macroscelidea         12\n",
       "Microbiotheria         1\n",
       "Monotremata            4\n",
       "Notoryctemorphia       2\n",
       "Paucituberculata       6\n",
       "Peramelemorphia       19\n",
       "Perissodactyla        14\n",
       "Pholidota              4\n",
       "Pilosa                10\n",
       "Primates             314\n",
       "Proboscidea            2\n",
       "Rodentia            1733\n",
       "Scandentia            17\n",
       "Sirenia                5\n",
       "Soricomorpha         346\n",
       "Tubulidentata          1\n",
       "dtype: int64"
      ]
     },
     "execution_count": 70,
     "metadata": {},
     "output_type": "execute_result"
    }
   ],
   "source": [
    "sizeseries=iucn_ord_cross.sum(axis=1)\n",
    "sizeseries"
   ]
  },
  {
   "cell_type": "code",
   "execution_count": 71,
   "id": "dde2eceb",
   "metadata": {
    "slideshow": {
     "slide_type": "slide"
    }
   },
   "outputs": [
    {
     "data": {
      "text/html": [
       "<div>\n",
       "<style scoped>\n",
       "    .dataframe tbody tr th:only-of-type {\n",
       "        vertical-align: middle;\n",
       "    }\n",
       "\n",
       "    .dataframe tbody tr th {\n",
       "        vertical-align: top;\n",
       "    }\n",
       "\n",
       "    .dataframe thead th {\n",
       "        text-align: right;\n",
       "    }\n",
       "</style>\n",
       "<table border=\"1\" class=\"dataframe\">\n",
       "  <thead>\n",
       "    <tr style=\"text-align: right;\">\n",
       "      <th>at_risk</th>\n",
       "      <th>False</th>\n",
       "      <th>True</th>\n",
       "    </tr>\n",
       "    <tr>\n",
       "      <th>order</th>\n",
       "      <th></th>\n",
       "      <th></th>\n",
       "    </tr>\n",
       "  </thead>\n",
       "  <tbody>\n",
       "    <tr>\n",
       "      <th>Afrosoricida</th>\n",
       "      <td>33</td>\n",
       "      <td>14</td>\n",
       "    </tr>\n",
       "    <tr>\n",
       "      <th>Artiodactyla</th>\n",
       "      <td>109</td>\n",
       "      <td>90</td>\n",
       "    </tr>\n",
       "    <tr>\n",
       "      <th>Carnivora</th>\n",
       "      <td>189</td>\n",
       "      <td>70</td>\n",
       "    </tr>\n",
       "    <tr>\n",
       "      <th>Cetacea</th>\n",
       "      <td>26</td>\n",
       "      <td>13</td>\n",
       "    </tr>\n",
       "    <tr>\n",
       "      <th>Chiroptera</th>\n",
       "      <td>721</td>\n",
       "      <td>168</td>\n",
       "    </tr>\n",
       "    <tr>\n",
       "      <th>Cingulata</th>\n",
       "      <td>13</td>\n",
       "      <td>2</td>\n",
       "    </tr>\n",
       "    <tr>\n",
       "      <th>Dasyuromorphia</th>\n",
       "      <td>50</td>\n",
       "      <td>11</td>\n",
       "    </tr>\n",
       "    <tr>\n",
       "      <th>Didelphimorphia</th>\n",
       "      <td>57</td>\n",
       "      <td>5</td>\n",
       "    </tr>\n",
       "    <tr>\n",
       "      <th>Diprotodontia</th>\n",
       "      <td>86</td>\n",
       "      <td>54</td>\n",
       "    </tr>\n",
       "    <tr>\n",
       "      <th>Erinaceomorpha</th>\n",
       "      <td>20</td>\n",
       "      <td>3</td>\n",
       "    </tr>\n",
       "    <tr>\n",
       "      <th>Lagomorpha</th>\n",
       "      <td>61</td>\n",
       "      <td>21</td>\n",
       "    </tr>\n",
       "    <tr>\n",
       "      <th>Macroscelidea</th>\n",
       "      <td>11</td>\n",
       "      <td>1</td>\n",
       "    </tr>\n",
       "    <tr>\n",
       "      <th>Peramelemorphia</th>\n",
       "      <td>9</td>\n",
       "      <td>10</td>\n",
       "    </tr>\n",
       "    <tr>\n",
       "      <th>Perissodactyla</th>\n",
       "      <td>4</td>\n",
       "      <td>10</td>\n",
       "    </tr>\n",
       "    <tr>\n",
       "      <th>Primates</th>\n",
       "      <td>122</td>\n",
       "      <td>192</td>\n",
       "    </tr>\n",
       "    <tr>\n",
       "      <th>Rodentia</th>\n",
       "      <td>1392</td>\n",
       "      <td>341</td>\n",
       "    </tr>\n",
       "    <tr>\n",
       "      <th>Scandentia</th>\n",
       "      <td>15</td>\n",
       "      <td>2</td>\n",
       "    </tr>\n",
       "    <tr>\n",
       "      <th>Soricomorpha</th>\n",
       "      <td>272</td>\n",
       "      <td>74</td>\n",
       "    </tr>\n",
       "  </tbody>\n",
       "</table>\n",
       "</div>"
      ],
      "text/plain": [
       "at_risk          False  True \n",
       "order                        \n",
       "Afrosoricida        33     14\n",
       "Artiodactyla       109     90\n",
       "Carnivora          189     70\n",
       "Cetacea             26     13\n",
       "Chiroptera         721    168\n",
       "Cingulata           13      2\n",
       "Dasyuromorphia      50     11\n",
       "Didelphimorphia     57      5\n",
       "Diprotodontia       86     54\n",
       "Erinaceomorpha      20      3\n",
       "Lagomorpha          61     21\n",
       "Macroscelidea       11      1\n",
       "Peramelemorphia      9     10\n",
       "Perissodactyla       4     10\n",
       "Primates           122    192\n",
       "Rodentia          1392    341\n",
       "Scandentia          15      2\n",
       "Soricomorpha       272     74"
      ]
     },
     "execution_count": 71,
     "metadata": {},
     "output_type": "execute_result"
    }
   ],
   "source": [
    "iucn_ord_cross = iucn_ord_cross[sizeseries>10]\n",
    "iucn_ord_cross"
   ]
  },
  {
   "cell_type": "markdown",
   "id": "b646a9e3",
   "metadata": {
    "slideshow": {
     "slide_type": "slide"
    }
   },
   "source": [
    "## Let's convert these raw counts to proportions\n",
    "\n",
    "- we can use the `.div()` and `.sum()` functions to do this."
   ]
  },
  {
   "cell_type": "code",
   "execution_count": 72,
   "id": "645c6191",
   "metadata": {
    "slideshow": {
     "slide_type": "slide"
    }
   },
   "outputs": [
    {
     "data": {
      "text/html": [
       "<div>\n",
       "<style scoped>\n",
       "    .dataframe tbody tr th:only-of-type {\n",
       "        vertical-align: middle;\n",
       "    }\n",
       "\n",
       "    .dataframe tbody tr th {\n",
       "        vertical-align: top;\n",
       "    }\n",
       "\n",
       "    .dataframe thead th {\n",
       "        text-align: right;\n",
       "    }\n",
       "</style>\n",
       "<table border=\"1\" class=\"dataframe\">\n",
       "  <thead>\n",
       "    <tr style=\"text-align: right;\">\n",
       "      <th>at_risk</th>\n",
       "      <th>False</th>\n",
       "      <th>True</th>\n",
       "    </tr>\n",
       "    <tr>\n",
       "      <th>order</th>\n",
       "      <th></th>\n",
       "      <th></th>\n",
       "    </tr>\n",
       "  </thead>\n",
       "  <tbody>\n",
       "    <tr>\n",
       "      <th>Afrosoricida</th>\n",
       "      <td>0.702128</td>\n",
       "      <td>0.297872</td>\n",
       "    </tr>\n",
       "    <tr>\n",
       "      <th>Artiodactyla</th>\n",
       "      <td>0.547739</td>\n",
       "      <td>0.452261</td>\n",
       "    </tr>\n",
       "    <tr>\n",
       "      <th>Carnivora</th>\n",
       "      <td>0.729730</td>\n",
       "      <td>0.270270</td>\n",
       "    </tr>\n",
       "    <tr>\n",
       "      <th>Cetacea</th>\n",
       "      <td>0.666667</td>\n",
       "      <td>0.333333</td>\n",
       "    </tr>\n",
       "    <tr>\n",
       "      <th>Chiroptera</th>\n",
       "      <td>0.811024</td>\n",
       "      <td>0.188976</td>\n",
       "    </tr>\n",
       "    <tr>\n",
       "      <th>Cingulata</th>\n",
       "      <td>0.866667</td>\n",
       "      <td>0.133333</td>\n",
       "    </tr>\n",
       "    <tr>\n",
       "      <th>Dasyuromorphia</th>\n",
       "      <td>0.819672</td>\n",
       "      <td>0.180328</td>\n",
       "    </tr>\n",
       "    <tr>\n",
       "      <th>Didelphimorphia</th>\n",
       "      <td>0.919355</td>\n",
       "      <td>0.080645</td>\n",
       "    </tr>\n",
       "    <tr>\n",
       "      <th>Diprotodontia</th>\n",
       "      <td>0.614286</td>\n",
       "      <td>0.385714</td>\n",
       "    </tr>\n",
       "    <tr>\n",
       "      <th>Erinaceomorpha</th>\n",
       "      <td>0.869565</td>\n",
       "      <td>0.130435</td>\n",
       "    </tr>\n",
       "    <tr>\n",
       "      <th>Lagomorpha</th>\n",
       "      <td>0.743902</td>\n",
       "      <td>0.256098</td>\n",
       "    </tr>\n",
       "    <tr>\n",
       "      <th>Macroscelidea</th>\n",
       "      <td>0.916667</td>\n",
       "      <td>0.083333</td>\n",
       "    </tr>\n",
       "    <tr>\n",
       "      <th>Peramelemorphia</th>\n",
       "      <td>0.473684</td>\n",
       "      <td>0.526316</td>\n",
       "    </tr>\n",
       "    <tr>\n",
       "      <th>Perissodactyla</th>\n",
       "      <td>0.285714</td>\n",
       "      <td>0.714286</td>\n",
       "    </tr>\n",
       "    <tr>\n",
       "      <th>Primates</th>\n",
       "      <td>0.388535</td>\n",
       "      <td>0.611465</td>\n",
       "    </tr>\n",
       "    <tr>\n",
       "      <th>Rodentia</th>\n",
       "      <td>0.803231</td>\n",
       "      <td>0.196769</td>\n",
       "    </tr>\n",
       "    <tr>\n",
       "      <th>Scandentia</th>\n",
       "      <td>0.882353</td>\n",
       "      <td>0.117647</td>\n",
       "    </tr>\n",
       "    <tr>\n",
       "      <th>Soricomorpha</th>\n",
       "      <td>0.786127</td>\n",
       "      <td>0.213873</td>\n",
       "    </tr>\n",
       "  </tbody>\n",
       "</table>\n",
       "</div>"
      ],
      "text/plain": [
       "at_risk             False     True \n",
       "order                              \n",
       "Afrosoricida     0.702128  0.297872\n",
       "Artiodactyla     0.547739  0.452261\n",
       "Carnivora        0.729730  0.270270\n",
       "Cetacea          0.666667  0.333333\n",
       "Chiroptera       0.811024  0.188976\n",
       "Cingulata        0.866667  0.133333\n",
       "Dasyuromorphia   0.819672  0.180328\n",
       "Didelphimorphia  0.919355  0.080645\n",
       "Diprotodontia    0.614286  0.385714\n",
       "Erinaceomorpha   0.869565  0.130435\n",
       "Lagomorpha       0.743902  0.256098\n",
       "Macroscelidea    0.916667  0.083333\n",
       "Peramelemorphia  0.473684  0.526316\n",
       "Perissodactyla   0.285714  0.714286\n",
       "Primates         0.388535  0.611465\n",
       "Rodentia         0.803231  0.196769\n",
       "Scandentia       0.882353  0.117647\n",
       "Soricomorpha     0.786127  0.213873"
      ]
     },
     "execution_count": 72,
     "metadata": {},
     "output_type": "execute_result"
    }
   ],
   "source": [
    "iucn_ord_freq = iucn_ord_cross.div(iucn_ord_cross.sum(axis=1),axis=0)\n",
    "iucn_ord_freq"
   ]
  },
  {
   "cell_type": "code",
   "execution_count": 73,
   "id": "b65a5ffe",
   "metadata": {
    "slideshow": {
     "slide_type": "slide"
    }
   },
   "outputs": [
    {
     "data": {
      "text/plain": [
       "<AxesSubplot:xlabel='order'>"
      ]
     },
     "execution_count": 73,
     "metadata": {},
     "output_type": "execute_result"
    },
    {
     "data": {
      "image/png": "[encoded data removed]",
      "text/plain": [
       "<Figure size 432x288 with 1 Axes>"
      ]
     },
     "metadata": {
      "needs_background": "dark"
     },
     "output_type": "display_data"
    }
   ],
   "source": [
    "iucn_ord_freq.sort_values(by=True,ascending=False).plot.bar(y=True,rot=70)"
   ]
  },
  {
   "cell_type": "markdown",
   "id": "4d219dc6",
   "metadata": {
    "slideshow": {
     "slide_type": "slide"
    }
   },
   "source": [
    "## Are mammals that take longer to develop at higher risk of extinction?\n",
    "\n",
    "- We can survey across all IUCN categories"
   ]
  },
  {
   "cell_type": "code",
   "execution_count": 61,
   "id": "1b582434",
   "metadata": {
    "scrolled": true,
    "slideshow": {
     "slide_type": "subslide"
    }
   },
   "outputs": [
    {
     "name": "stdout",
     "output_type": "stream",
     "text": [
      "<pandas.core.groupby.generic.DataFrameGroupBy object at 0x7fd04a33f1c0>\n"
     ]
    }
   ],
   "source": [
    "maturity_df = pantheria_iucn[['iucn_status','maturity_d']]\n",
    "\n",
    "maturity_df_grouped = maturity_df.groupby('iucn_status') #group the dataframe by iucn_status\n",
    "\n",
    "print(maturity_df_grouped)"
   ]
  },
  {
   "cell_type": "code",
   "execution_count": 62,
   "id": "8aef3141",
   "metadata": {
    "slideshow": {
     "slide_type": "slide"
    }
   },
   "outputs": [
    {
     "data": {
      "text/html": [
       "<div>\n",
       "<style scoped>\n",
       "    .dataframe tbody tr th:only-of-type {\n",
       "        vertical-align: middle;\n",
       "    }\n",
       "\n",
       "    .dataframe tbody tr th {\n",
       "        vertical-align: top;\n",
       "    }\n",
       "\n",
       "    .dataframe thead th {\n",
       "        text-align: right;\n",
       "    }\n",
       "</style>\n",
       "<table border=\"1\" class=\"dataframe\">\n",
       "  <thead>\n",
       "    <tr style=\"text-align: right;\">\n",
       "      <th></th>\n",
       "      <th>maturity_d</th>\n",
       "    </tr>\n",
       "    <tr>\n",
       "      <th>iucn_status</th>\n",
       "      <th></th>\n",
       "    </tr>\n",
       "  </thead>\n",
       "  <tbody>\n",
       "    <tr>\n",
       "      <th>CR</th>\n",
       "      <td>1214.404063</td>\n",
       "    </tr>\n",
       "    <tr>\n",
       "      <th>EN</th>\n",
       "      <td>1256.740750</td>\n",
       "    </tr>\n",
       "    <tr>\n",
       "      <th>EW</th>\n",
       "      <td>NaN</td>\n",
       "    </tr>\n",
       "    <tr>\n",
       "      <th>EX</th>\n",
       "      <td>NaN</td>\n",
       "    </tr>\n",
       "    <tr>\n",
       "      <th>LC</th>\n",
       "      <td>477.072049</td>\n",
       "    </tr>\n",
       "    <tr>\n",
       "      <th>NT</th>\n",
       "      <td>702.058485</td>\n",
       "    </tr>\n",
       "    <tr>\n",
       "      <th>VU</th>\n",
       "      <td>898.499674</td>\n",
       "    </tr>\n",
       "  </tbody>\n",
       "</table>\n",
       "</div>"
      ],
      "text/plain": [
       "              maturity_d\n",
       "iucn_status             \n",
       "CR           1214.404063\n",
       "EN           1256.740750\n",
       "EW                   NaN\n",
       "EX                   NaN\n",
       "LC            477.072049\n",
       "NT            702.058485\n",
       "VU            898.499674"
      ]
     },
     "execution_count": 62,
     "metadata": {},
     "output_type": "execute_result"
    }
   ],
   "source": [
    "maturity_df_grouped.mean()  # calc the mean maturation time for each iucn_status"
   ]
  },
  {
   "cell_type": "code",
   "execution_count": 63,
   "id": "3b0fbcb0",
   "metadata": {},
   "outputs": [
    {
     "data": {
      "text/plain": [
       "<AxesSubplot:xlabel='iucn_status'>"
      ]
     },
     "execution_count": 63,
     "metadata": {},
     "output_type": "execute_result"
    },
    {
     "data": {
      "image/png": "[encoded data removed]",
      "text/plain": [
       "<Figure size 432x288 with 1 Axes>"
      ]
     },
     "metadata": {
      "needs_background": "dark"
     },
     "output_type": "display_data"
    }
   ],
   "source": [
    "# what is the average maturation time within each category?\n",
    "maturity_df_grouped.mean().sort_values(by='maturity_d',ascending=False).plot.bar()  \n"
   ]
  },
  {
   "cell_type": "markdown",
   "id": "5b4c1f9a",
   "metadata": {
    "slideshow": {
     "slide_type": "slide"
    }
   },
   "source": [
    "## Are mammals that take longer to develop at higher risk of extinction?\n",
    "\n",
    "- Let's try it now comparing just at risk vs not at risk"
   ]
  },
  {
   "cell_type": "code",
   "execution_count": 64,
   "id": "8e9a6030",
   "metadata": {
    "slideshow": {
     "slide_type": "subslide"
    }
   },
   "outputs": [
    {
     "data": {
      "text/html": [
       "<div>\n",
       "<style scoped>\n",
       "    .dataframe tbody tr th:only-of-type {\n",
       "        vertical-align: middle;\n",
       "    }\n",
       "\n",
       "    .dataframe tbody tr th {\n",
       "        vertical-align: top;\n",
       "    }\n",
       "\n",
       "    .dataframe thead th {\n",
       "        text-align: right;\n",
       "    }\n",
       "</style>\n",
       "<table border=\"1\" class=\"dataframe\">\n",
       "  <thead>\n",
       "    <tr style=\"text-align: right;\">\n",
       "      <th></th>\n",
       "      <th>body_mass_g</th>\n",
       "      <th>maturity_d</th>\n",
       "      <th>interbirth_d</th>\n",
       "      <th>longevity_m</th>\n",
       "      <th>litter_size_ind</th>\n",
       "    </tr>\n",
       "    <tr>\n",
       "      <th>at_risk</th>\n",
       "      <th></th>\n",
       "      <th></th>\n",
       "      <th></th>\n",
       "      <th></th>\n",
       "      <th></th>\n",
       "    </tr>\n",
       "  </thead>\n",
       "  <tbody>\n",
       "    <tr>\n",
       "      <th>False</th>\n",
       "      <td>87404.866879</td>\n",
       "      <td>477.072049</td>\n",
       "      <td>261.944046</td>\n",
       "      <td>161.751565</td>\n",
       "      <td>2.747457</td>\n",
       "    </tr>\n",
       "    <tr>\n",
       "      <th>True</th>\n",
       "      <td>332282.391813</td>\n",
       "      <td>994.066741</td>\n",
       "      <td>480.114429</td>\n",
       "      <td>246.214085</td>\n",
       "      <td>1.870843</td>\n",
       "    </tr>\n",
       "  </tbody>\n",
       "</table>\n",
       "</div>"
      ],
      "text/plain": [
       "           body_mass_g  maturity_d  interbirth_d  longevity_m  litter_size_ind\n",
       "at_risk                                                                       \n",
       "False     87404.866879  477.072049    261.944046   161.751565         2.747457\n",
       "True     332282.391813  994.066741    480.114429   246.214085         1.870843"
      ]
     },
     "execution_count": 64,
     "metadata": {},
     "output_type": "execute_result"
    }
   ],
   "source": [
    "#maturity_df = pantheria_iucn[['iucn_status','maturity_d']]\n",
    "\n",
    "#maturity_df_grouped = maturity_df.groupby('iucn_status') #group the dataframe by iucn_status\n",
    "\n",
    "risk_group = pantheria_iucn.groupby(\"at_risk\")\n",
    "\n",
    "risk_group.mean()"
   ]
  },
  {
   "cell_type": "markdown",
   "id": "bb44f976",
   "metadata": {
    "slideshow": {
     "slide_type": "slide"
    }
   },
   "source": [
    "## Species that are at risk take twice as long to grow up on average!"
   ]
  },
  {
   "cell_type": "code",
   "execution_count": 65,
   "id": "f01ec92b",
   "metadata": {
    "slideshow": {
     "slide_type": "subslide"
    }
   },
   "outputs": [
    {
     "data": {
      "text/plain": [
       "<AxesSubplot:xlabel='at_risk'>"
      ]
     },
     "execution_count": 65,
     "metadata": {},
     "output_type": "execute_result"
    },
    {
     "data": {
      "image/png": "[encoded data removed]",
      "text/plain": [
       "<Figure size 432x288 with 1 Axes>"
      ]
     },
     "metadata": {
      "needs_background": "dark"
     },
     "output_type": "display_data"
    }
   ],
   "source": [
    "risk_group.mean().plot.bar(y='maturity_d')"
   ]
  }
 ],
 "metadata": {
  "celltoolbar": "Slideshow",
  "kernelspec": {
   "display_name": "Python 3",
   "language": "python",
   "name": "python3"
  },
  "language_info": {
   "codemirror_mode": {
    "name": "ipython",
    "version": 3
   },
   "file_extension": ".py",
   "mimetype": "text/x-python",
   "name": "python",
   "nbconvert_exporter": "python",
   "pygments_lexer": "ipython3",
   "version": "3.8.10"
  }
 },
 "nbformat": 4,
 "nbformat_minor": 5
}
