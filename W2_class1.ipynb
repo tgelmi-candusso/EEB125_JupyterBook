{
 "cells": [
  {
   "cell_type": "markdown",
   "id": "abbafe88",
   "metadata": {},
   "source": [
    "# Stuff we want to do to `DataFrame`s\n",
    "\n",
    "+ Extract a column\n",
    "+ Extract a subset of the columns\n",
    "+ Extract particular rows by index\n",
    "+ Extract rows that match a criterion in a column\n",
    "  - \"I want all the rows where the `shoe_size` column has value > `7.5`.\"\n",
    "  \n",
    "This gets confusing if we're not careful. We'll explore a few concepts that will help us."
   ]
  },
  {
   "cell_type": "markdown",
   "id": "75946ed4",
   "metadata": {},
   "source": [
    "# `print` oddities\n",
    "\n",
    "Two ways to display values in a notebook:\n",
    "+ Last expression in a Code cell, which is displayed by JupyterHub\n",
    "+ Using function `print`, which prints a string representation of the value"
   ]
  },
  {
   "cell_type": "markdown",
   "id": "1b69ffd5",
   "metadata": {},
   "source": [
    "### Printing strings: there's a difference!"
   ]
  },
  {
   "cell_type": "code",
   "execution_count": null,
   "id": "62686b2a",
   "metadata": {},
   "outputs": [],
   "source": [
    "habitat = 'forest'"
   ]
  },
  {
   "cell_type": "code",
   "execution_count": null,
   "id": "563a6d3d",
   "metadata": {},
   "outputs": [],
   "source": [
    "habitat"
   ]
  },
  {
   "cell_type": "code",
   "execution_count": null,
   "id": "7bd7040f",
   "metadata": {},
   "outputs": [],
   "source": [
    "print(habitat)"
   ]
  },
  {
   "cell_type": "markdown",
   "id": "c6cdf51d",
   "metadata": {},
   "source": [
    "Built-in function `print` doesn't include the quotes."
   ]
  },
  {
   "cell_type": "markdown",
   "id": "67543e78",
   "metadata": {},
   "source": [
    "### Printing lists: no difference in how it looks"
   ]
  },
  {
   "cell_type": "code",
   "execution_count": null,
   "id": "becdd135",
   "metadata": {},
   "outputs": [],
   "source": [
    "habitats = ['forest', 'park', 'street']"
   ]
  },
  {
   "cell_type": "code",
   "execution_count": null,
   "id": "2904ef09",
   "metadata": {},
   "outputs": [],
   "source": [
    "habitats"
   ]
  },
  {
   "cell_type": "code",
   "execution_count": null,
   "id": "2e61e0cf",
   "metadata": {},
   "outputs": [],
   "source": [
    "print(habitats)"
   ]
  },
  {
   "cell_type": "markdown",
   "id": "22e60012",
   "metadata": {},
   "source": [
    "### Printing DataFrames: big difference!"
   ]
  },
  {
   "cell_type": "code",
   "execution_count": null,
   "id": "94b301b0",
   "metadata": {},
   "outputs": [],
   "source": [
    "import pandas as df\n",
    "faithful_df = df.read_csv('faithful.csv')\n",
    "faithful_head_df = faithful_df.head() # Just keep the top few lines to save vertical space"
   ]
  },
  {
   "cell_type": "code",
   "execution_count": null,
   "id": "c51f88b4",
   "metadata": {},
   "outputs": [],
   "source": [
    "faithful_head_df"
   ]
  },
  {
   "cell_type": "code",
   "execution_count": null,
   "id": "3b48d4b4",
   "metadata": {},
   "outputs": [],
   "source": [
    "print(faithful_head_df)"
   ]
  },
  {
   "cell_type": "markdown",
   "id": "109b7910",
   "metadata": {},
   "source": [
    "So: to show the contents of a `DataFrame` or a `Series`, it's nicer to use an expression as the last thing in a cell rather than calling `print`."
   ]
  },
  {
   "cell_type": "markdown",
   "id": "a7433d04",
   "metadata": {},
   "source": [
    "# Python type `list`\n",
    "\n",
    "+ A list begins with `[` and ends with `]`.\n",
    "+ In between are a comma-separated list of values.\n",
    "+ Each value has an _index_, starting at `0`."
   ]
  },
  {
   "cell_type": "markdown",
   "id": "9a766ad9",
   "metadata": {},
   "source": [
    "### Indexing"
   ]
  },
  {
   "cell_type": "code",
   "execution_count": null,
   "id": "eb7b4ca3",
   "metadata": {},
   "outputs": [],
   "source": [
    "habitats = ['forest', 'park', 'street']\n",
    "habitats[0]"
   ]
  },
  {
   "cell_type": "code",
   "execution_count": null,
   "id": "a8adbf78",
   "metadata": {},
   "outputs": [],
   "source": [
    "# Here is nicer output.\n",
    "print(f'There are {len(habitats)} items in the habitats list.')\n",
    "print(f'0: {habitats[0]}')\n",
    "print(f'1: {habitats[1]}')\n",
    "print(f'2: {habitats[2]}')"
   ]
  },
  {
   "cell_type": "code",
   "execution_count": null,
   "id": "e904de75",
   "metadata": {
    "scrolled": true
   },
   "outputs": [],
   "source": [
    "print(f'3: {habitats[3]}') # This will result in an error."
   ]
  },
  {
   "cell_type": "markdown",
   "id": "89164b92",
   "metadata": {},
   "source": [
    "You can also count from the end, which starts at index `-1`."
   ]
  },
  {
   "cell_type": "code",
   "execution_count": null,
   "id": "24852546",
   "metadata": {},
   "outputs": [],
   "source": [
    "print(habitats[-1])\n",
    "print(habitats[-2])\n",
    "print(habitats[-3])"
   ]
  },
  {
   "cell_type": "code",
   "execution_count": null,
   "id": "bfb6f268",
   "metadata": {},
   "outputs": [],
   "source": [
    "print(habitats[-4]) # Another error"
   ]
  },
  {
   "cell_type": "markdown",
   "id": "99da8857",
   "metadata": {},
   "source": [
    "### Adding lists\n",
    "\n",
    "You can add `list`s together. This makes a new `list`."
   ]
  },
  {
   "cell_type": "code",
   "execution_count": null,
   "id": "d589bac5",
   "metadata": {},
   "outputs": [],
   "source": [
    "habitats + habitats"
   ]
  },
  {
   "cell_type": "code",
   "execution_count": null,
   "id": "a43dddc0",
   "metadata": {},
   "outputs": [],
   "source": [
    "[1, 3, 5] + [2, 4, 6]"
   ]
  },
  {
   "cell_type": "markdown",
   "id": "a89bffec",
   "metadata": {},
   "source": [
    "### I'll have a slice of that, please\n",
    "\n",
    "You can extract a sublist like this:"
   ]
  },
  {
   "cell_type": "code",
   "execution_count": null,
   "id": "e00bc521",
   "metadata": {},
   "outputs": [],
   "source": [
    "coyote_counts = [59, 9, 10, 89, 19, 23, 54, 12, 0, 29, 8, 23, 30, 30]\n",
    "coyote_counts[0:3]"
   ]
  },
  {
   "cell_type": "markdown",
   "id": "2f6135d5",
   "metadata": {},
   "source": [
    "Slicing: start at the first index, and go up to but not including the second index."
   ]
  },
  {
   "cell_type": "markdown",
   "id": "829e0c48",
   "metadata": {},
   "source": [
    "### Slicing tricks\n",
    "\n",
    "You can omit one or both of the indexes:"
   ]
  },
  {
   "cell_type": "code",
   "execution_count": null,
   "id": "6b1c37ed",
   "metadata": {},
   "outputs": [],
   "source": [
    "coyote_counts[:3] # Up to but not including index 3"
   ]
  },
  {
   "cell_type": "code",
   "execution_count": null,
   "id": "6ab8141c",
   "metadata": {},
   "outputs": [],
   "source": [
    "coyote_counts[3:] # Everything from index three to the end"
   ]
  },
  {
   "cell_type": "code",
   "execution_count": null,
   "id": "d0d83c39",
   "metadata": {},
   "outputs": [],
   "source": [
    "coyote_counts[:] # Creates a copy of the whole list"
   ]
  },
  {
   "cell_type": "markdown",
   "id": "88e3a3e3",
   "metadata": {},
   "source": [
    "This `[:]` syntax and concept will be important when we get to `DataFrame`s in a bit."
   ]
  },
  {
   "cell_type": "code",
   "execution_count": null,
   "id": "744f185d",
   "metadata": {},
   "outputs": [],
   "source": [
    "# Challenge: how to extract [9, 10, 89, 19]?\n",
    "coyote_counts[1:5]\n",
    "coyote_counts"
   ]
  },
  {
   "cell_type": "code",
   "execution_count": null,
   "id": "cf4b866c",
   "metadata": {
    "scrolled": true
   },
   "outputs": [],
   "source": [
    "# How do we extract the last 4 numbers, [8, 23, 30, 30]?\n",
    "coyote_counts[-4:]"
   ]
  },
  {
   "cell_type": "markdown",
   "id": "d478b558",
   "metadata": {},
   "source": [
    "### Heterogeneous lists\n",
    "\n",
    "Lists can contain a mix of types."
   ]
  },
  {
   "cell_type": "code",
   "execution_count": null,
   "id": "e68ce9f5",
   "metadata": {
    "scrolled": true
   },
   "outputs": [],
   "source": [
    "list1 = ['A', 1, 'B', 2]\n",
    "list2 = ['C', 3.14159]\n",
    "list1 + list2"
   ]
  },
  {
   "cell_type": "markdown",
   "id": "50aea3bd",
   "metadata": {},
   "source": [
    "### Some functions that use `list`s"
   ]
  },
  {
   "cell_type": "code",
   "execution_count": null,
   "id": "fc944443",
   "metadata": {},
   "outputs": [],
   "source": [
    "print(len(coyote_counts))\n",
    "print(sum(coyote_counts))\n",
    "print(min(coyote_counts))\n",
    "print(max(coyote_counts))"
   ]
  },
  {
   "cell_type": "markdown",
   "id": "57324efb",
   "metadata": {},
   "source": [
    "### Getting every other item"
   ]
  },
  {
   "cell_type": "code",
   "execution_count": null,
   "id": "8364ebac",
   "metadata": {},
   "outputs": [],
   "source": [
    "coyote_counts"
   ]
  },
  {
   "cell_type": "code",
   "execution_count": null,
   "id": "32dd6f31",
   "metadata": {},
   "outputs": [],
   "source": [
    "coyote_counts[::3]"
   ]
  },
  {
   "cell_type": "code",
   "execution_count": null,
   "id": "009ad90b",
   "metadata": {},
   "outputs": [],
   "source": [
    "coyote_counts[::-1]"
   ]
  },
  {
   "cell_type": "markdown",
   "id": "8b3e65f7",
   "metadata": {},
   "source": [
    "# Dictionaries: type `dict`"
   ]
  },
  {
   "cell_type": "markdown",
   "id": "9f026a69",
   "metadata": {},
   "source": [
    "Dictionaries map keys to values. In human dictionaries, the keys are words and the values are their definitions."
   ]
  },
  {
   "cell_type": "code",
   "execution_count": null,
   "id": "ef68c18e",
   "metadata": {},
   "outputs": [],
   "source": [
    "# Here's a dictionary!\n",
    "urbanwildlife = {\n",
    "  'habitat': ['forest', 'park', 'street', 'forest', 'street', 'park', 'forest', 'park', 'street', 'forest', 'street', 'park', 'street', 'park'],\n",
    "  'coyote': [59, 9, 10, 89, 19, 23, 54, 12, 0, 29, 8, 23, 30, 30],\n",
    "  'dog': [72, 197, 8811, 3, 555, 374, 1535, 101, 2216, 23, 1082, 35, 1635, 1469],\n",
    "  'fox': [3, 10, 63, 54, 251, 43, 69, 57, 4, 6, 0, 6, 10, 3],\n",
    "  'raccoon': [986, 64, 129, 213, 221, 73, 135, 24, 17, 528, 25, 106, 140, 114], \n",
    "  'site' : ['A', 'B', 'C', 'D', 'E', 'F', 'G', 'H', 'I', 'J', 'K', 'L', 'M', 'N'],\n",
    "}"
   ]
  },
  {
   "cell_type": "markdown",
   "id": "5916d86e",
   "metadata": {},
   "source": [
    "* Each line inside a dictionary contains a _key_ then a `:` then a _value_.\n",
    "* In the example dictionary above, each value is a list.\n",
    "* The lines end with commas `,` (and it's okay if the last line has a comma, Python ignores it).\n",
    "* Indentation!"
   ]
  },
  {
   "cell_type": "markdown",
   "id": "a0f9f5b6",
   "metadata": {},
   "source": [
    "### Looking up keys to get values"
   ]
  },
  {
   "cell_type": "markdown",
   "id": "ec09aa9e",
   "metadata": {},
   "source": [
    "Given a key, we can look up its value:"
   ]
  },
  {
   "cell_type": "code",
   "execution_count": null,
   "id": "e4fbc65f",
   "metadata": {},
   "outputs": [],
   "source": [
    " urbanwildlife['fox']"
   ]
  },
  {
   "cell_type": "markdown",
   "id": "323a772b",
   "metadata": {},
   "source": [
    "What is `urbanwildlife['fox'][-1]`?"
   ]
  },
  {
   "cell_type": "code",
   "execution_count": null,
   "id": "ddc48b08",
   "metadata": {},
   "outputs": [],
   "source": [
    " urbanwildlife['fox'][-1]"
   ]
  },
  {
   "cell_type": "markdown",
   "id": "21f66ca3",
   "metadata": {},
   "source": [
    "What is `urbanwildlife['habitat'][:3]`?"
   ]
  },
  {
   "cell_type": "code",
   "execution_count": null,
   "id": "4e1216f9",
   "metadata": {},
   "outputs": [],
   "source": [
    " urbanwildlife['habitat'][:3]"
   ]
  },
  {
   "cell_type": "markdown",
   "id": "f06d8b2d",
   "metadata": {},
   "source": [
    "### Making your own `DataFrame`s\n",
    "\n",
    "You can use dictionaries to make `DataFrame`s!"
   ]
  },
  {
   "cell_type": "code",
   "execution_count": null,
   "id": "1f23f00e",
   "metadata": {
    "scrolled": true
   },
   "outputs": [],
   "source": [
    "import pandas as pd   # Hey, that's different!\n",
    "\n",
    "df = pd.DataFrame(urbanwildlife)\n",
    "df"
   ]
  }
 ],
 "metadata": {
  "kernelspec": {
   "display_name": "Python 3 (ipykernel)",
   "language": "python",
   "name": "python3"
  },
  "language_info": {
   "codemirror_mode": {
    "name": "ipython",
    "version": 3
   },
   "file_extension": ".py",
   "mimetype": "text/x-python",
   "name": "python",
   "nbconvert_exporter": "python",
   "pygments_lexer": "ipython3",
   "version": "3.8.12"
  }
 },
 "nbformat": 4,
 "nbformat_minor": 5
}
