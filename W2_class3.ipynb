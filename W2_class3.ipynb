{
 "cells": [
  {
   "cell_type": "markdown",
   "id": "d17ef1b5-c178-4cc2-89ed-42fc3d4ad454",
   "metadata": {},
   "source": [
    "# Tidy Data\n",
    "\n",
    "Consider the two imaginary datasets below.  The DataFrame below shows data on the time until relief of a headache after taking Aspirin (`AspTime`) and Tylenol (`TyTime`)."
   ]
  },
  {
   "cell_type": "code",
   "execution_count": 43,
   "id": "373ce4d5-2b7c-4098-9a50-d96e282f5b80",
   "metadata": {},
   "outputs": [
    {
     "data": {
      "text/html": [
       "<div>\n",
       "<style scoped>\n",
       "    .dataframe tbody tr th:only-of-type {\n",
       "        vertical-align: middle;\n",
       "    }\n",
       "\n",
       "    .dataframe tbody tr th {\n",
       "        vertical-align: top;\n",
       "    }\n",
       "\n",
       "    .dataframe thead th {\n",
       "        text-align: right;\n",
       "    }\n",
       "</style>\n",
       "<table border=\"1\" class=\"dataframe\">\n",
       "  <thead>\n",
       "    <tr style=\"text-align: right;\">\n",
       "      <th></th>\n",
       "      <th>Subject</th>\n",
       "      <th>AspTime</th>\n",
       "      <th>TylTime</th>\n",
       "    </tr>\n",
       "  </thead>\n",
       "  <tbody>\n",
       "    <tr>\n",
       "      <th>0</th>\n",
       "      <td>Nathan</td>\n",
       "      <td>NaN</td>\n",
       "      <td>2</td>\n",
       "    </tr>\n",
       "    <tr>\n",
       "      <th>1</th>\n",
       "      <td>Paul</td>\n",
       "      <td>16.0</td>\n",
       "      <td>11</td>\n",
       "    </tr>\n",
       "    <tr>\n",
       "      <th>2</th>\n",
       "      <td>Caroline</td>\n",
       "      <td>3.0</td>\n",
       "      <td>1</td>\n",
       "    </tr>\n",
       "  </tbody>\n",
       "</table>\n",
       "</div>"
      ],
      "text/plain": [
       "    Subject  AspTime  TylTime\n",
       "0    Nathan      NaN        2\n",
       "1      Paul     16.0       11\n",
       "2  Caroline      3.0        1"
      ]
     },
     "execution_count": 43,
     "metadata": {},
     "output_type": "execute_result"
    }
   ],
   "source": [
    "import pandas as pd\n",
    "\n",
    "df1 = pd.DataFrame({'Subject': ['Nathan', 'Paul', 'Caroline'],\n",
    "                    'AspTime': [None, 16, 3], \n",
    "                    'TylTime': [2,11,1]})\n",
    "\n",
    "df1"
   ]
  },
  {
   "cell_type": "markdown",
   "id": "f1fc3b61-2a6d-463b-917c-3688e46c6989",
   "metadata": {},
   "source": [
    "NB: `None` is the python value null value and `NaN` is the default missing value in pandas.  We will learn more about this later on."
   ]
  },
  {
   "cell_type": "markdown",
   "id": "1877792f-c34c-4525-ad20-59118a0cf135",
   "metadata": {},
   "source": [
    "The same data is shown in the DataFrame below."
   ]
  },
  {
   "cell_type": "code",
   "execution_count": 44,
   "id": "64167329-b993-4229-9b5b-9edc37beefb7",
   "metadata": {},
   "outputs": [
    {
     "data": {
      "text/html": [
       "<div>\n",
       "<style scoped>\n",
       "    .dataframe tbody tr th:only-of-type {\n",
       "        vertical-align: middle;\n",
       "    }\n",
       "\n",
       "    .dataframe tbody tr th {\n",
       "        vertical-align: top;\n",
       "    }\n",
       "\n",
       "    .dataframe thead th {\n",
       "        text-align: right;\n",
       "    }\n",
       "</style>\n",
       "<table border=\"1\" class=\"dataframe\">\n",
       "  <thead>\n",
       "    <tr style=\"text-align: right;\">\n",
       "      <th></th>\n",
       "      <th>Treatment</th>\n",
       "      <th>Nathan</th>\n",
       "      <th>Paul</th>\n",
       "      <th>Caroline</th>\n",
       "    </tr>\n",
       "  </thead>\n",
       "  <tbody>\n",
       "    <tr>\n",
       "      <th>0</th>\n",
       "      <td>Aspirin</td>\n",
       "      <td>NaN</td>\n",
       "      <td>16</td>\n",
       "      <td>3</td>\n",
       "    </tr>\n",
       "    <tr>\n",
       "      <th>1</th>\n",
       "      <td>Tylenol</td>\n",
       "      <td>2.0</td>\n",
       "      <td>11</td>\n",
       "      <td>1</td>\n",
       "    </tr>\n",
       "  </tbody>\n",
       "</table>\n",
       "</div>"
      ],
      "text/plain": [
       "  Treatment  Nathan  Paul  Caroline\n",
       "0   Aspirin     NaN    16         3\n",
       "1   Tylenol     2.0    11         1"
      ]
     },
     "execution_count": 44,
     "metadata": {},
     "output_type": "execute_result"
    }
   ],
   "source": [
    "df2 = pd.DataFrame({'Treatment': ['Aspirin', 'Tylenol'], \n",
    "                    'Nathan': [None, 2], \n",
    "                    'Paul': [16,11], \n",
    "                    'Caroline': [3, 1]})\n",
    "\n",
    "df2"
   ]
  },
  {
   "cell_type": "markdown",
   "id": "99618c9b-f663-4a89-a909-626d9ceef4ef",
   "metadata": {},
   "source": [
    "What's the difference?"
   ]
  },
  {
   "cell_type": "markdown",
   "id": "5b8a43e0-8445-47b5-9654-12ff323f5fa9",
   "metadata": {},
   "source": [
    "# Data structure\n",
    "\n",
    "- A dataset is a collection of values, usually either numbers (if quantitative) or strings (if qualitative). \n",
    "\n",
    "- Values are organized in two ways. Every **value** belongs to a **variable** and an **observation**. \n",
    "\n",
    "- A **variable** contains all **values** that measure the same underlying attribute (like height, temperature, duration) across units. \n",
    "\n",
    "- An **observation** contains all values measured on the same unit (like a person, or a day, or a race) across attributes."
   ]
  },
  {
   "cell_type": "markdown",
   "id": "55c9355e-9dee-432d-ad06-459ab6ea93cb",
   "metadata": {},
   "source": [
    "Let's reorganize `df1` into `df3`."
   ]
  },
  {
   "cell_type": "code",
   "execution_count": 45,
   "id": "f21d5448-a4d1-4758-bf66-9d2c11a17190",
   "metadata": {},
   "outputs": [
    {
     "data": {
      "text/html": [
       "<div>\n",
       "<style scoped>\n",
       "    .dataframe tbody tr th:only-of-type {\n",
       "        vertical-align: middle;\n",
       "    }\n",
       "\n",
       "    .dataframe tbody tr th {\n",
       "        vertical-align: top;\n",
       "    }\n",
       "\n",
       "    .dataframe thead th {\n",
       "        text-align: right;\n",
       "    }\n",
       "</style>\n",
       "<table border=\"1\" class=\"dataframe\">\n",
       "  <thead>\n",
       "    <tr style=\"text-align: right;\">\n",
       "      <th></th>\n",
       "      <th>Subject</th>\n",
       "      <th>Treatment</th>\n",
       "      <th>Headache Duration</th>\n",
       "    </tr>\n",
       "  </thead>\n",
       "  <tbody>\n",
       "    <tr>\n",
       "      <th>0</th>\n",
       "      <td>Nathan</td>\n",
       "      <td>Aspirin</td>\n",
       "      <td>NaN</td>\n",
       "    </tr>\n",
       "    <tr>\n",
       "      <th>1</th>\n",
       "      <td>Paul</td>\n",
       "      <td>Aspirin</td>\n",
       "      <td>16.0</td>\n",
       "    </tr>\n",
       "    <tr>\n",
       "      <th>2</th>\n",
       "      <td>Caroline</td>\n",
       "      <td>Aspirin</td>\n",
       "      <td>3.0</td>\n",
       "    </tr>\n",
       "    <tr>\n",
       "      <th>3</th>\n",
       "      <td>Nathan</td>\n",
       "      <td>Tylenol</td>\n",
       "      <td>2.0</td>\n",
       "    </tr>\n",
       "    <tr>\n",
       "      <th>4</th>\n",
       "      <td>Paul</td>\n",
       "      <td>Tylenol</td>\n",
       "      <td>11.0</td>\n",
       "    </tr>\n",
       "    <tr>\n",
       "      <th>5</th>\n",
       "      <td>Caroline</td>\n",
       "      <td>Tylenol</td>\n",
       "      <td>1.0</td>\n",
       "    </tr>\n",
       "  </tbody>\n",
       "</table>\n",
       "</div>"
      ],
      "text/plain": [
       "    Subject Treatment  Headache Duration\n",
       "0    Nathan   Aspirin                NaN\n",
       "1      Paul   Aspirin               16.0\n",
       "2  Caroline   Aspirin                3.0\n",
       "3    Nathan   Tylenol                2.0\n",
       "4      Paul   Tylenol               11.0\n",
       "5  Caroline   Tylenol                1.0"
      ]
     },
     "execution_count": 45,
     "metadata": {},
     "output_type": "execute_result"
    }
   ],
   "source": [
    "df3 = pd.DataFrame({'Subject': ['Nathan', 'Paul', 'Caroline', 'Nathan', 'Paul', 'Caroline'],\n",
    "                    'Treatment':['Aspirin', 'Aspirin', 'Aspirin', \n",
    "                                 'Tylenol', 'Tylenol','Tylenol'],\n",
    "                   'Headache Duration': [None, 16, 3, 2, 11, 1]})\n",
    "df3"
   ]
  },
  {
   "cell_type": "markdown",
   "id": "15add83c-d1fc-4766-b796-872712b3b41c",
   "metadata": {},
   "source": [
    "- In this **experiment** every combination of `Subject` and `Treament` was measured.  \n",
    "\n",
    "- For a given data set, it is usually easy to figure out what are observations and what are variables, but it is surprisingly difficult to precisely define variables and observations in general. \n",
    "\n",
    "- For example, \n",
    "\n",
    "   + if the columns in `df1` were `height` and `weight` we would have been happy to call them variables.\n",
    "   \n",
    "   + If the columns were `height` and `width`, it would be less clear cut, as we might think of `height` and `width` as values of a `dimension` variable. \n",
    "   \n",
    "   + If the columns were `home phone` and `work phone`, we could treat these as two variables, but in a fraud detection environment we might want variables `phone number` and `number type` because the use of one phone number for multiple people might suggest fraud.\n",
    "\n",
    "\n",
    "- A *general rule of thumb* is that it is easier to describe relationships between variables (e.g., z is the sum of x and y, density is the ratio of weight to volume) than between rows, and it is easier to make comparisons between groups of observations (e.g., average of group a vs. average of group b) than between groups of columns.\n",
    "\n",
    "- In a given analysis, there may be multiple levels of observations. For example (GGR), in the Statistics Canada General Social Survey demographic data is collected from each person(age,sex,race), and time use data collected from each person each day(time spent working, time spent sleeping). (EEB) in a trial of new allergy medication we might have three observational types: demographic data collected from each person(`age`,`sex`,`race`),medical data collected from each person on each day(`number of sneezes`, `redness of eyes`), and meteorological data collected on each day (`temperature`, `pollen count`)."
   ]
  },
  {
   "cell_type": "markdown",
   "id": "dfbdeae1-51ce-4fd6-8aac-a2595cf9cd3a",
   "metadata": {},
   "source": [
    "# Tidy Data\n",
    "\n",
    "**Tidy data** is a standard way of mapping the meaning of a data set to its structure. A data set is **messy** or **tidy** depending on how rows, columns and tables are matched up with observations, variables and types. In tidy data:\n",
    "\n",
    "1. Each **variable** forms a column.\n",
    "2. Each **observation** forms a row.\n",
    "3. Each type of **observational unit** forms a table.\n",
    "\n",
    "**Messy data** is any other arrangement of the data.\n",
    "\n",
    "- Tidy data makes it easy for a data scientist or a computer to extract needed variables because it provides a standard way of structuring a data set. Compare `df3` to `df1`: in `df1` you need to use different strategies to extract different variables.\n",
    "\n",
    "- Many data analysis operations involve all of the values in a variable (e.g., `sum`, `len`), you can see how important it is to extract these values in a simple, standard way. \n",
    "\n",
    "- The order of variables and observations does not affect analysis, although a good ordering makes it easier to scan the raw values. "
   ]
  },
  {
   "cell_type": "markdown",
   "id": "c70071f6-aed1-483f-82db-4bc42c5aa046",
   "metadata": {},
   "source": [
    "# Tidying Messy Data\n",
    "\n",
    "- We will be exploring tidying different types of messy data in the next few weeks. \n",
    "\n",
    "- Data comes in forms like `df1` and `df2` so often that pandas has created functions to help **transform** it into tidy data.  We will learn more about this later.  \n",
    "\n",
    "- Try to \"*read*\" the two pieces of code below and guess what it's doing.  Ask yourself:\n",
    "    + Does `id_vars` represent a variable, or observation?\n",
    "    + Does `value_vars` represent a variable, or observation?"
   ]
  },
  {
   "cell_type": "code",
   "execution_count": 46,
   "id": "e3006782-15e3-445a-b472-e0a959628135",
   "metadata": {},
   "outputs": [
    {
     "data": {
      "text/html": [
       "<div>\n",
       "<style scoped>\n",
       "    .dataframe tbody tr th:only-of-type {\n",
       "        vertical-align: middle;\n",
       "    }\n",
       "\n",
       "    .dataframe tbody tr th {\n",
       "        vertical-align: top;\n",
       "    }\n",
       "\n",
       "    .dataframe thead th {\n",
       "        text-align: right;\n",
       "    }\n",
       "</style>\n",
       "<table border=\"1\" class=\"dataframe\">\n",
       "  <thead>\n",
       "    <tr style=\"text-align: right;\">\n",
       "      <th></th>\n",
       "      <th>Subject</th>\n",
       "      <th>AspTime</th>\n",
       "      <th>TylTime</th>\n",
       "    </tr>\n",
       "  </thead>\n",
       "  <tbody>\n",
       "    <tr>\n",
       "      <th>0</th>\n",
       "      <td>Nathan</td>\n",
       "      <td>NaN</td>\n",
       "      <td>2</td>\n",
       "    </tr>\n",
       "    <tr>\n",
       "      <th>1</th>\n",
       "      <td>Paul</td>\n",
       "      <td>16.0</td>\n",
       "      <td>11</td>\n",
       "    </tr>\n",
       "    <tr>\n",
       "      <th>2</th>\n",
       "      <td>Caroline</td>\n",
       "      <td>3.0</td>\n",
       "      <td>1</td>\n",
       "    </tr>\n",
       "  </tbody>\n",
       "</table>\n",
       "</div>"
      ],
      "text/plain": [
       "    Subject  AspTime  TylTime\n",
       "0    Nathan      NaN        2\n",
       "1      Paul     16.0       11\n",
       "2  Caroline      3.0        1"
      ]
     },
     "execution_count": 46,
     "metadata": {},
     "output_type": "execute_result"
    }
   ],
   "source": [
    "df1"
   ]
  },
  {
   "cell_type": "code",
   "execution_count": 47,
   "id": "aa63483d-5b0c-4388-ad17-d2d1efaafcd6",
   "metadata": {},
   "outputs": [
    {
     "data": {
      "text/html": [
       "<div>\n",
       "<style scoped>\n",
       "    .dataframe tbody tr th:only-of-type {\n",
       "        vertical-align: middle;\n",
       "    }\n",
       "\n",
       "    .dataframe tbody tr th {\n",
       "        vertical-align: top;\n",
       "    }\n",
       "\n",
       "    .dataframe thead th {\n",
       "        text-align: right;\n",
       "    }\n",
       "</style>\n",
       "<table border=\"1\" class=\"dataframe\">\n",
       "  <thead>\n",
       "    <tr style=\"text-align: right;\">\n",
       "      <th></th>\n",
       "      <th>Subject</th>\n",
       "      <th>variable</th>\n",
       "      <th>value</th>\n",
       "    </tr>\n",
       "  </thead>\n",
       "  <tbody>\n",
       "    <tr>\n",
       "      <th>0</th>\n",
       "      <td>Nathan</td>\n",
       "      <td>AspTime</td>\n",
       "      <td>NaN</td>\n",
       "    </tr>\n",
       "    <tr>\n",
       "      <th>1</th>\n",
       "      <td>Paul</td>\n",
       "      <td>AspTime</td>\n",
       "      <td>16.0</td>\n",
       "    </tr>\n",
       "    <tr>\n",
       "      <th>2</th>\n",
       "      <td>Caroline</td>\n",
       "      <td>AspTime</td>\n",
       "      <td>3.0</td>\n",
       "    </tr>\n",
       "    <tr>\n",
       "      <th>3</th>\n",
       "      <td>Nathan</td>\n",
       "      <td>TylTime</td>\n",
       "      <td>2.0</td>\n",
       "    </tr>\n",
       "    <tr>\n",
       "      <th>4</th>\n",
       "      <td>Paul</td>\n",
       "      <td>TylTime</td>\n",
       "      <td>11.0</td>\n",
       "    </tr>\n",
       "    <tr>\n",
       "      <th>5</th>\n",
       "      <td>Caroline</td>\n",
       "      <td>TylTime</td>\n",
       "      <td>1.0</td>\n",
       "    </tr>\n",
       "  </tbody>\n",
       "</table>\n",
       "</div>"
      ],
      "text/plain": [
       "    Subject variable  value\n",
       "0    Nathan  AspTime    NaN\n",
       "1      Paul  AspTime   16.0\n",
       "2  Caroline  AspTime    3.0\n",
       "3    Nathan  TylTime    2.0\n",
       "4      Paul  TylTime   11.0\n",
       "5  Caroline  TylTime    1.0"
      ]
     },
     "execution_count": 47,
     "metadata": {},
     "output_type": "execute_result"
    }
   ],
   "source": [
    "df1.melt(id_vars = ['Subject'], value_vars = ['AspTime', 'TylTime'])"
   ]
  },
  {
   "cell_type": "code",
   "execution_count": 48,
   "id": "33aa3f20-97ff-40c8-83a7-445e3345343a",
   "metadata": {},
   "outputs": [
    {
     "data": {
      "text/html": [
       "<div>\n",
       "<style scoped>\n",
       "    .dataframe tbody tr th:only-of-type {\n",
       "        vertical-align: middle;\n",
       "    }\n",
       "\n",
       "    .dataframe tbody tr th {\n",
       "        vertical-align: top;\n",
       "    }\n",
       "\n",
       "    .dataframe thead th {\n",
       "        text-align: right;\n",
       "    }\n",
       "</style>\n",
       "<table border=\"1\" class=\"dataframe\">\n",
       "  <thead>\n",
       "    <tr style=\"text-align: right;\">\n",
       "      <th></th>\n",
       "      <th>Treatment</th>\n",
       "      <th>Nathan</th>\n",
       "      <th>Paul</th>\n",
       "      <th>Caroline</th>\n",
       "    </tr>\n",
       "  </thead>\n",
       "  <tbody>\n",
       "    <tr>\n",
       "      <th>0</th>\n",
       "      <td>Aspirin</td>\n",
       "      <td>NaN</td>\n",
       "      <td>16</td>\n",
       "      <td>3</td>\n",
       "    </tr>\n",
       "    <tr>\n",
       "      <th>1</th>\n",
       "      <td>Tylenol</td>\n",
       "      <td>2.0</td>\n",
       "      <td>11</td>\n",
       "      <td>1</td>\n",
       "    </tr>\n",
       "  </tbody>\n",
       "</table>\n",
       "</div>"
      ],
      "text/plain": [
       "  Treatment  Nathan  Paul  Caroline\n",
       "0   Aspirin     NaN    16         3\n",
       "1   Tylenol     2.0    11         1"
      ]
     },
     "execution_count": 48,
     "metadata": {},
     "output_type": "execute_result"
    }
   ],
   "source": [
    "df2"
   ]
  },
  {
   "cell_type": "code",
   "execution_count": 49,
   "id": "a9cc3ef9-712e-4048-ba63-5fa0e3d5263a",
   "metadata": {},
   "outputs": [
    {
     "data": {
      "text/html": [
       "<div>\n",
       "<style scoped>\n",
       "    .dataframe tbody tr th:only-of-type {\n",
       "        vertical-align: middle;\n",
       "    }\n",
       "\n",
       "    .dataframe tbody tr th {\n",
       "        vertical-align: top;\n",
       "    }\n",
       "\n",
       "    .dataframe thead th {\n",
       "        text-align: right;\n",
       "    }\n",
       "</style>\n",
       "<table border=\"1\" class=\"dataframe\">\n",
       "  <thead>\n",
       "    <tr style=\"text-align: right;\">\n",
       "      <th></th>\n",
       "      <th>Treatment</th>\n",
       "      <th>variable</th>\n",
       "      <th>value</th>\n",
       "    </tr>\n",
       "  </thead>\n",
       "  <tbody>\n",
       "    <tr>\n",
       "      <th>0</th>\n",
       "      <td>Aspirin</td>\n",
       "      <td>Nathan</td>\n",
       "      <td>NaN</td>\n",
       "    </tr>\n",
       "    <tr>\n",
       "      <th>1</th>\n",
       "      <td>Tylenol</td>\n",
       "      <td>Nathan</td>\n",
       "      <td>2.0</td>\n",
       "    </tr>\n",
       "    <tr>\n",
       "      <th>2</th>\n",
       "      <td>Aspirin</td>\n",
       "      <td>Paul</td>\n",
       "      <td>16.0</td>\n",
       "    </tr>\n",
       "    <tr>\n",
       "      <th>3</th>\n",
       "      <td>Tylenol</td>\n",
       "      <td>Paul</td>\n",
       "      <td>11.0</td>\n",
       "    </tr>\n",
       "    <tr>\n",
       "      <th>4</th>\n",
       "      <td>Aspirin</td>\n",
       "      <td>Caroline</td>\n",
       "      <td>3.0</td>\n",
       "    </tr>\n",
       "    <tr>\n",
       "      <th>5</th>\n",
       "      <td>Tylenol</td>\n",
       "      <td>Caroline</td>\n",
       "      <td>1.0</td>\n",
       "    </tr>\n",
       "  </tbody>\n",
       "</table>\n",
       "</div>"
      ],
      "text/plain": [
       "  Treatment  variable  value\n",
       "0   Aspirin    Nathan    NaN\n",
       "1   Tylenol    Nathan    2.0\n",
       "2   Aspirin      Paul   16.0\n",
       "3   Tylenol      Paul   11.0\n",
       "4   Aspirin  Caroline    3.0\n",
       "5   Tylenol  Caroline    1.0"
      ]
     },
     "execution_count": 49,
     "metadata": {},
     "output_type": "execute_result"
    }
   ],
   "source": [
    "df2.melt(id_vars = ['Treatment'], value_vars = ['Nathan', 'Paul', 'Caroline'])"
   ]
  },
  {
   "cell_type": "code",
   "execution_count": null,
   "id": "e1df28a6-0e8e-4dc3-a996-63d8b87da581",
   "metadata": {},
   "outputs": [],
   "source": []
  }
 ],
 "metadata": {
  "kernelspec": {
   "display_name": "Python 3 (ipykernel)",
   "language": "python",
   "name": "python3"
  },
  "language_info": {
   "codemirror_mode": {
    "name": "ipython",
    "version": 3
   },
   "file_extension": ".py",
   "mimetype": "text/x-python",
   "name": "python",
   "nbconvert_exporter": "python",
   "pygments_lexer": "ipython3",
   "version": "3.8.8"
  }
 },
 "nbformat": 4,
 "nbformat_minor": 5
}
