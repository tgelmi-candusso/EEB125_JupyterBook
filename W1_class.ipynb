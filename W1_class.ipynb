{
 "cells": [
  {
   "cell_type": "markdown",
   "id": "2390202f",
   "metadata": {
    "slideshow": {
     "slide_type": "slide"
    }
   },
   "source": [
    "# What is computation?\n",
    "\n",
    "From [https://www.dictionary.com](https://www.dictionary.com):\n",
    "\n",
    "* *Computation*: an act, process, or method of computing; calculation.\n",
    "* *Computing*: the use of a computer to process data or perform calculations; the act of calculating or reckoning.\n",
    "\n",
    "In this course, a computation is a series of calculations that manipulates, analyzes, and derives information from data."
   ]
  },
  {
   "cell_type": "markdown",
   "id": "fc65f799",
   "metadata": {
    "slideshow": {
     "slide_type": "notes"
    }
   },
   "source": [
    "# What's a computer?\n",
    "\n",
    "Computation can be done by hand or it can be automated. In the 1940's, when computation became particularly important for war as technology advanced, the original modern \"computers\" were people."
   ]
  },
  {
   "cell_type": "markdown",
   "id": "3a6dff22",
   "metadata": {
    "slideshow": {
     "slide_type": "slide"
    }
   },
   "source": [
    "# Computational tools: Python and Pandas\n",
    "\n",
    "+ Python: a programming language\n",
    "+ Pandas: a set of data science tools written in Python"
   ]
  },
  {
   "cell_type": "markdown",
   "id": "9bd202c6",
   "metadata": {},
   "source": [
    "# Python expressions"
   ]
  },
  {
   "cell_type": "markdown",
   "id": "5a100d2a",
   "metadata": {},
   "source": [
    "Python as a calculator:"
   ]
  },
  {
   "cell_type": "code",
   "execution_count": 2,
   "id": "4f6794c8",
   "metadata": {
    "slideshow": {
     "slide_type": "slide"
    }
   },
   "outputs": [
    {
     "data": {
      "text/plain": [
       "8"
      ]
     },
     "execution_count": 2,
     "metadata": {},
     "output_type": "execute_result"
    }
   ],
   "source": [
    "3 + 5"
   ]
  },
  {
   "cell_type": "markdown",
   "id": "23d3d7d1",
   "metadata": {},
   "source": [
    "The _type_ of these numbers is integer. In Python, we say `int`."
   ]
  },
  {
   "cell_type": "code",
   "execution_count": 3,
   "id": "c4ca09e0",
   "metadata": {},
   "outputs": [
    {
     "data": {
      "text/plain": [
       "3.5"
      ]
     },
     "execution_count": 3,
     "metadata": {},
     "output_type": "execute_result"
    }
   ],
   "source": [
    "2 + 3 / 2"
   ]
  },
  {
   "cell_type": "markdown",
   "id": "89bd96d3",
   "metadata": {},
   "source": [
    "Those are called *expression*s. They can get pretty complex. Remember BEDMAS?"
   ]
  },
  {
   "cell_type": "code",
   "execution_count": 4,
   "id": "dca2f739",
   "metadata": {
    "scrolled": true
   },
   "outputs": [
    {
     "data": {
      "text/plain": [
       "-11.666666666666666"
      ]
     },
     "execution_count": 4,
     "metadata": {},
     "output_type": "execute_result"
    }
   ],
   "source": [
    "4 / 3 + (9 - 2 * (8 + 3))"
   ]
  },
  {
   "cell_type": "markdown",
   "id": "8c582a5c",
   "metadata": {},
   "source": [
    "| Precedence | Operator | Operation |\n",
    "| :- | :- | :- |\n",
    "| Highest | () | Grouping |\n",
    "|  | ** | Exponentiation |\n",
    "|  | - | Negation |\n",
    "|  | *, / //, % | Multiplication, division, integer division, remainder |\n",
    "| Lowest | +, - | Addition and substraction |"
   ]
  },
  {
   "cell_type": "markdown",
   "id": "52f2bbb8",
   "metadata": {},
   "source": [
    "Technically called \"double-precision floating-point numbers\".\n",
    "\n",
    "Python just calls them `float`s.\n",
    "\n",
    "You can use them just like you use real numbers, but they are very slightly inaccurate."
   ]
  },
  {
   "cell_type": "code",
   "execution_count": 5,
   "id": "062af984",
   "metadata": {},
   "outputs": [
    {
     "data": {
      "text/plain": [
       "float"
      ]
     },
     "execution_count": 5,
     "metadata": {},
     "output_type": "execute_result"
    }
   ],
   "source": [
    "type(2.3)"
   ]
  },
  {
   "cell_type": "code",
   "execution_count": 6,
   "id": "7da12516",
   "metadata": {},
   "outputs": [
    {
     "data": {
      "text/plain": [
       "int"
      ]
     },
     "execution_count": 6,
     "metadata": {},
     "output_type": "execute_result"
    }
   ],
   "source": [
    "type(2)"
   ]
  },
  {
   "cell_type": "markdown",
   "id": "c3032799",
   "metadata": {},
   "source": [
    "# Naming things\n",
    "\n",
    "Just like in math, we often want to give names to values.\n",
    "\n",
    "Python: *assignment statement*\n",
    "\n",
    "Assignment statement assign a value to a *variable*."
   ]
  },
  {
   "cell_type": "code",
   "execution_count": 7,
   "id": "656f3bec",
   "metadata": {},
   "outputs": [],
   "source": [
    "x = 3 + 2"
   ]
  },
  {
   "cell_type": "markdown",
   "id": "0da01cbb",
   "metadata": {},
   "source": [
    "No \"Out\" box!\n",
    "\n",
    "Python only creates a box if there is a result from evaluating an expression. \n",
    "\n",
    "Assignment statements are not expressions, they are *statements*.\n",
    "\n",
    "All assignment statements use the `=` symbol.\n",
    "\n",
    "We can use `x` in later calculations.\n",
    "\n",
    "We're going to use assignment statements to name values a *lot* in the course."
   ]
  },
  {
   "cell_type": "code",
   "execution_count": 8,
   "id": "771a1419",
   "metadata": {},
   "outputs": [
    {
     "data": {
      "text/plain": [
       "5"
      ]
     },
     "execution_count": 8,
     "metadata": {},
     "output_type": "execute_result"
    }
   ],
   "source": [
    "x"
   ]
  },
  {
   "cell_type": "code",
   "execution_count": 9,
   "id": "dcf2b710",
   "metadata": {},
   "outputs": [
    {
     "data": {
      "text/plain": [
       "25"
      ]
     },
     "execution_count": 9,
     "metadata": {},
     "output_type": "execute_result"
    }
   ],
   "source": [
    "x * x"
   ]
  },
  {
   "cell_type": "code",
   "execution_count": 10,
   "id": "a9276449",
   "metadata": {},
   "outputs": [
    {
     "data": {
      "text/plain": [
       "6.0"
      ]
     },
     "execution_count": 10,
     "metadata": {},
     "output_type": "execute_result"
    }
   ],
   "source": [
    "x / x + x"
   ]
  },
  {
   "cell_type": "code",
   "execution_count": 11,
   "id": "e2e3915c",
   "metadata": {},
   "outputs": [
    {
     "data": {
      "text/plain": [
       "4"
      ]
     },
     "execution_count": 11,
     "metadata": {},
     "output_type": "execute_result"
    }
   ],
   "source": [
    "# max is a built-in function.\n",
    "# This is a comment, and Python ignores it.\n",
    "max(3, 4)  # What's the maximum of 3 and 4?"
   ]
  },
  {
   "cell_type": "code",
   "execution_count": 12,
   "id": "69856008",
   "metadata": {
    "scrolled": true
   },
   "outputs": [
    {
     "data": {
      "text/plain": [
       "2.23606797749979"
      ]
     },
     "execution_count": 12,
     "metadata": {},
     "output_type": "execute_result"
    }
   ],
   "source": [
    "import math\n",
    "math.sqrt(x)"
   ]
  },
  {
   "cell_type": "markdown",
   "id": "d2f17575",
   "metadata": {},
   "source": [
    "Python rule: Whenever there is a division using `/`, the result is a `float`.\n",
    "\n",
    "Python rule: Whenever a real number is involved in an expression, the result is a `float`."
   ]
  },
  {
   "cell_type": "code",
   "execution_count": 13,
   "id": "c97a68a0",
   "metadata": {},
   "outputs": [
    {
     "data": {
      "text/plain": [
       "7.1"
      ]
     },
     "execution_count": 13,
     "metadata": {},
     "output_type": "execute_result"
    }
   ],
   "source": [
    "4.1 + 3"
   ]
  },
  {
   "cell_type": "code",
   "execution_count": 14,
   "id": "a54abe22",
   "metadata": {},
   "outputs": [
    {
     "data": {
      "text/plain": [
       "8"
      ]
     },
     "execution_count": 14,
     "metadata": {},
     "output_type": "execute_result"
    }
   ],
   "source": [
    "2 ** 3"
   ]
  },
  {
   "cell_type": "code",
   "execution_count": 15,
   "id": "45c95076",
   "metadata": {},
   "outputs": [
    {
     "data": {
      "text/plain": [
       "0.2"
      ]
     },
     "execution_count": 15,
     "metadata": {},
     "output_type": "execute_result"
    }
   ],
   "source": [
    "x ** -1"
   ]
  },
  {
   "cell_type": "code",
   "execution_count": 16,
   "id": "0ab59321",
   "metadata": {},
   "outputs": [
    {
     "data": {
      "text/plain": [
       "1.0"
      ]
     },
     "execution_count": 16,
     "metadata": {},
     "output_type": "execute_result"
    }
   ],
   "source": [
    "x * (x ** -1)"
   ]
  },
  {
   "cell_type": "markdown",
   "id": "de1804b6",
   "metadata": {},
   "source": [
    "## Algorithm definition\n",
    "\n",
    "_Algorithm_: a finite sequence of well-defined instructions ([Wikipedia](https://en.wikipedia.org/wiki/Algorithm))"
   ]
  },
  {
   "cell_type": "markdown",
   "id": "fc01783c",
   "metadata": {},
   "source": [
    "# Python's assignment statement algorithm\n",
    "\n",
    "`var = expr`\n",
    "\n",
    "1. Evaluate the expression to the right of the `=`. That produces a value.\n",
    "2. Label the produced value with the variable name.\n",
    "\n",
    "It works right to left. The variable is not created until *after* the expression is fully evaluated."
   ]
  },
  {
   "cell_type": "markdown",
   "id": "ca7dd465",
   "metadata": {
    "slideshow": {
     "slide_type": "slide"
    }
   },
   "source": [
    "\n",
    "# Algorithm: compute the average\n",
    "\n",
    "An algorithm is a program written for humans to read and follow. The average of a list of numbers is the sum divided by the count.\n",
    "\n",
    "1. Sum the numbers.\n",
    "1. Count the numbers.\n",
    "1. Divide the sum by the count."
   ]
  },
  {
   "cell_type": "markdown",
   "id": "f02af4a2",
   "metadata": {
    "slideshow": {
     "slide_type": "slide"
    }
   },
   "source": [
    "What is the average of the list `1, 2, 3, 4, 5`?\n",
    "\n",
    "1. Sum: the sum of `1, 2, 3, 4, 5` is `15`\n",
    "1. Count: there are `5` numbers in the list\n",
    "1. `15 / 5` is `3`"
   ]
  },
  {
   "cell_type": "markdown",
   "id": "61eea0c6",
   "metadata": {
    "slideshow": {
     "slide_type": "notes"
    }
   },
   "source": [
    "# Python version\n",
    "\n",
    "We can use built-in functions `sum` and `len` to implement the algorithm in Python:"
   ]
  },
  {
   "cell_type": "code",
   "execution_count": 17,
   "id": "8339d7ee",
   "metadata": {
    "slideshow": {
     "slide_type": "fragment"
    }
   },
   "outputs": [],
   "source": [
    "numbers = [1, 2, 3, 4, 5]  # That's a list"
   ]
  },
  {
   "cell_type": "code",
   "execution_count": 18,
   "id": "1a58465d",
   "metadata": {},
   "outputs": [
    {
     "data": {
      "text/plain": [
       "15"
      ]
     },
     "execution_count": 18,
     "metadata": {},
     "output_type": "execute_result"
    }
   ],
   "source": [
    "sum(numbers)"
   ]
  },
  {
   "cell_type": "code",
   "execution_count": 19,
   "id": "ae165f9f",
   "metadata": {},
   "outputs": [
    {
     "data": {
      "text/plain": [
       "list"
      ]
     },
     "execution_count": 19,
     "metadata": {},
     "output_type": "execute_result"
    }
   ],
   "source": [
    "type(numbers)"
   ]
  },
  {
   "cell_type": "code",
   "execution_count": 20,
   "id": "78792c1f",
   "metadata": {},
   "outputs": [
    {
     "data": {
      "text/plain": [
       "5"
      ]
     },
     "execution_count": 20,
     "metadata": {},
     "output_type": "execute_result"
    }
   ],
   "source": [
    "len(numbers)"
   ]
  },
  {
   "cell_type": "code",
   "execution_count": 21,
   "id": "a21da53c",
   "metadata": {
    "slideshow": {
     "slide_type": "fragment"
    }
   },
   "outputs": [
    {
     "data": {
      "text/plain": [
       "3.0"
      ]
     },
     "execution_count": 21,
     "metadata": {},
     "output_type": "execute_result"
    }
   ],
   "source": [
    "total = sum(numbers)\n",
    "count = len(numbers)\n",
    "avg = total / count\n",
    "avg"
   ]
  },
  {
   "cell_type": "markdown",
   "id": "63862d4a",
   "metadata": {
    "slideshow": {
     "slide_type": "slide"
    }
   },
   "source": [
    "## Python syntax and grammar\n",
    "\n",
    "Python has a grammar and a syntax just like human languages do\n",
    "\n",
    "Example: lists need square brackets and commas in between items in the list.\n",
    "\n",
    "+ English essay with typos and grammatical errors? Still mostly readable.\n",
    "+ Python program with typos and other errors? It can't be run."
   ]
  },
  {
   "cell_type": "markdown",
   "id": "8f8554f1",
   "metadata": {
    "slideshow": {
     "slide_type": "slide"
    }
   },
   "source": [
    "# Common errors\n",
    "\n",
    "+ Missing comma\n",
    "+ Mismatched bracket such as `(` and `]`\n",
    "+ Typo in a function or variable name\n",
    "+ Incorrect calculation\n",
    "\n",
    "You'll find lots more.  :-)"
   ]
  },
  {
   "cell_type": "code",
   "execution_count": 22,
   "id": "33cf9d15",
   "metadata": {},
   "outputs": [
    {
     "ename": "ZeroDivisionError",
     "evalue": "division by zero",
     "output_type": "error",
     "traceback": [
      "\u001b[0;31m---------------------------------------------------------------------------\u001b[0m",
      "\u001b[0;31mZeroDivisionError\u001b[0m                         Traceback (most recent call last)",
      "\u001b[0;32m/tmp/ipykernel_47/2590971583.py\u001b[0m in \u001b[0;36m<module>\u001b[0;34m\u001b[0m\n\u001b[0;32m----> 1\u001b[0;31m \u001b[0msum\u001b[0m\u001b[0;34m(\u001b[0m\u001b[0mnumbers\u001b[0m\u001b[0;34m)\u001b[0m \u001b[0;34m/\u001b[0m \u001b[0;36m0\u001b[0m\u001b[0;34m\u001b[0m\u001b[0;34m\u001b[0m\u001b[0m\n\u001b[0m",
      "\u001b[0;31mZeroDivisionError\u001b[0m: division by zero"
     ]
    }
   ],
   "source": [
    "sum(numbers) / 0"
   ]
  },
  {
   "cell_type": "markdown",
   "id": "d393e594",
   "metadata": {
    "slideshow": {
     "slide_type": "slide"
    }
   },
   "source": [
    "# A data story\n",
    "\n",
    "Over the next while, we'll explore the kinds of computation you'll learn how to do in this course in the context of a _data story_."
   ]
  },
  {
   "cell_type": "markdown",
   "id": "3a2031da",
   "metadata": {
    "slideshow": {
     "slide_type": "slide"
    }
   },
   "source": [
    "## Old Faithful\n",
    "\n",
    "Old Faithful is a geyser in Yellowstone National Park in the state of Wyoming. It erupts pretty regularly, hence the name.\n",
    "\n",
    "![Alt Text](https://i.makeagif.com/media/3-30-2015/B6WEUM.gif)"
   ]
  },
  {
   "cell_type": "markdown",
   "id": "8c8661c0",
   "metadata": {
    "slideshow": {
     "slide_type": "slide"
    }
   },
   "source": [
    "## Old Faithful eruption information\n",
    "\n",
    "Comma-separated-value (CSV) files: plain-text files that have rows of data separated by commas.\n",
    "\n",
    "```\n",
    "\"Index\", \"Eruption length (mins)\",\"Eruption wait (mins)\"\n",
    "  1, 3.600, 79\n",
    "  2, 1.800, 54\n",
    "  3, 3.333, 74\n",
    "  4, 2.283, 62\n",
    "  5, 4.533, 85\n",
    "```\n",
    "[https://people.sc.fsu.edu/~jburkardt/data/csv/csv.html](https://people.sc.fsu.edu/~jburkardt/data/csv/csv.html)\n",
    "\n",
    "Research question: what's the average wait time?"
   ]
  },
  {
   "cell_type": "markdown",
   "id": "0502926d",
   "metadata": {},
   "source": [
    "## What programming tools do we have?\n",
    "\n",
    "+ The Python language comes with\n",
    "  - [built-in functions](https://docs.python.org/3/library/functions.html) like `sum` and `len`\n",
    "  - A large set of _modules_, which are collections of useful functions.\n",
    "+ JupyterHub adds\n",
    "  - The Pandas module to Python\n",
    "  - A file system\n",
    "  - The Jupyter notebook software that interacts with Python"
   ]
  },
  {
   "cell_type": "markdown",
   "id": "bf4f54a3",
   "metadata": {},
   "source": [
    "\n",
    "# `pandas`\n",
    "\n",
    "We can read a CSV using module `pandas`."
   ]
  },
  {
   "cell_type": "code",
   "execution_count": 2,
   "id": "28b2f83a",
   "metadata": {},
   "outputs": [
    {
     "data": {
      "text/html": [
       "<div>\n",
       "<style scoped>\n",
       "    .dataframe tbody tr th:only-of-type {\n",
       "        vertical-align: middle;\n",
       "    }\n",
       "\n",
       "    .dataframe tbody tr th {\n",
       "        vertical-align: top;\n",
       "    }\n",
       "\n",
       "    .dataframe thead th {\n",
       "        text-align: right;\n",
       "    }\n",
       "</style>\n",
       "<table border=\"1\" class=\"dataframe\">\n",
       "  <thead>\n",
       "    <tr style=\"text-align: right;\">\n",
       "      <th></th>\n",
       "      <th>Index</th>\n",
       "      <th>\"Eruption length (mins)\"</th>\n",
       "      <th>Eruption wait (mins)</th>\n",
       "    </tr>\n",
       "  </thead>\n",
       "  <tbody>\n",
       "    <tr>\n",
       "      <th>0</th>\n",
       "      <td>1</td>\n",
       "      <td>3.600</td>\n",
       "      <td>79</td>\n",
       "    </tr>\n",
       "    <tr>\n",
       "      <th>1</th>\n",
       "      <td>2</td>\n",
       "      <td>1.800</td>\n",
       "      <td>54</td>\n",
       "    </tr>\n",
       "    <tr>\n",
       "      <th>2</th>\n",
       "      <td>3</td>\n",
       "      <td>3.333</td>\n",
       "      <td>74</td>\n",
       "    </tr>\n",
       "    <tr>\n",
       "      <th>3</th>\n",
       "      <td>4</td>\n",
       "      <td>2.283</td>\n",
       "      <td>62</td>\n",
       "    </tr>\n",
       "    <tr>\n",
       "      <th>4</th>\n",
       "      <td>5</td>\n",
       "      <td>4.533</td>\n",
       "      <td>85</td>\n",
       "    </tr>\n",
       "    <tr>\n",
       "      <th>...</th>\n",
       "      <td>...</td>\n",
       "      <td>...</td>\n",
       "      <td>...</td>\n",
       "    </tr>\n",
       "    <tr>\n",
       "      <th>267</th>\n",
       "      <td>268</td>\n",
       "      <td>4.117</td>\n",
       "      <td>81</td>\n",
       "    </tr>\n",
       "    <tr>\n",
       "      <th>268</th>\n",
       "      <td>269</td>\n",
       "      <td>2.150</td>\n",
       "      <td>46</td>\n",
       "    </tr>\n",
       "    <tr>\n",
       "      <th>269</th>\n",
       "      <td>270</td>\n",
       "      <td>4.417</td>\n",
       "      <td>90</td>\n",
       "    </tr>\n",
       "    <tr>\n",
       "      <th>270</th>\n",
       "      <td>271</td>\n",
       "      <td>1.817</td>\n",
       "      <td>46</td>\n",
       "    </tr>\n",
       "    <tr>\n",
       "      <th>271</th>\n",
       "      <td>272</td>\n",
       "      <td>4.467</td>\n",
       "      <td>74</td>\n",
       "    </tr>\n",
       "  </tbody>\n",
       "</table>\n",
       "<p>272 rows × 3 columns</p>\n",
       "</div>"
      ],
      "text/plain": [
       "     Index   \"Eruption length (mins)\"  Eruption wait (mins)\n",
       "0        1                      3.600                    79\n",
       "1        2                      1.800                    54\n",
       "2        3                      3.333                    74\n",
       "3        4                      2.283                    62\n",
       "4        5                      4.533                    85\n",
       "..     ...                        ...                   ...\n",
       "267    268                      4.117                    81\n",
       "268    269                      2.150                    46\n",
       "269    270                      4.417                    90\n",
       "270    271                      1.817                    46\n",
       "271    272                      4.467                    74\n",
       "\n",
       "[272 rows x 3 columns]"
      ]
     },
     "execution_count": 2,
     "metadata": {},
     "output_type": "execute_result"
    }
   ],
   "source": [
    "import pandas\n",
    "pandas.read_csv('data//faithful.csv')"
   ]
  },
  {
   "cell_type": "markdown",
   "id": "0b42ba82",
   "metadata": {},
   "source": [
    "## Naming data\n",
    "\n",
    "File operations are slow, and we don't want to repeat ourselves.\n",
    "\n",
    "Read once and assign to a variable."
   ]
  },
  {
   "cell_type": "code",
   "execution_count": 3,
   "id": "2ffe71a6",
   "metadata": {},
   "outputs": [
    {
     "data": {
      "text/plain": [
       "pandas.core.indexes.base.Index"
      ]
     },
     "execution_count": 3,
     "metadata": {},
     "output_type": "execute_result"
    }
   ],
   "source": [
    "faithful_eruptions = pandas.read_csv('data//faithful.csv')\n",
    "type(faithful_eruptions.columns)"
   ]
  },
  {
   "cell_type": "markdown",
   "id": "ef69648e",
   "metadata": {},
   "source": [
    "## What's in a name?\n",
    "\n",
    "`faithful_eruptions` is now the name of the table of information we just read.\n",
    "\n",
    "What's its value?\n"
   ]
  },
  {
   "cell_type": "code",
   "execution_count": 26,
   "id": "6a092a2d",
   "metadata": {},
   "outputs": [
    {
     "data": {
      "text/html": [
       "<div>\n",
       "<style scoped>\n",
       "    .dataframe tbody tr th:only-of-type {\n",
       "        vertical-align: middle;\n",
       "    }\n",
       "\n",
       "    .dataframe tbody tr th {\n",
       "        vertical-align: top;\n",
       "    }\n",
       "\n",
       "    .dataframe thead th {\n",
       "        text-align: right;\n",
       "    }\n",
       "</style>\n",
       "<table border=\"1\" class=\"dataframe\">\n",
       "  <thead>\n",
       "    <tr style=\"text-align: right;\">\n",
       "      <th></th>\n",
       "      <th>Index</th>\n",
       "      <th>\"Eruption length (mins)\"</th>\n",
       "      <th>Eruption wait (mins)</th>\n",
       "    </tr>\n",
       "  </thead>\n",
       "  <tbody>\n",
       "    <tr>\n",
       "      <th>0</th>\n",
       "      <td>1</td>\n",
       "      <td>3.600</td>\n",
       "      <td>79</td>\n",
       "    </tr>\n",
       "    <tr>\n",
       "      <th>1</th>\n",
       "      <td>2</td>\n",
       "      <td>1.800</td>\n",
       "      <td>54</td>\n",
       "    </tr>\n",
       "    <tr>\n",
       "      <th>2</th>\n",
       "      <td>3</td>\n",
       "      <td>3.333</td>\n",
       "      <td>74</td>\n",
       "    </tr>\n",
       "    <tr>\n",
       "      <th>3</th>\n",
       "      <td>4</td>\n",
       "      <td>2.283</td>\n",
       "      <td>62</td>\n",
       "    </tr>\n",
       "    <tr>\n",
       "      <th>4</th>\n",
       "      <td>5</td>\n",
       "      <td>4.533</td>\n",
       "      <td>85</td>\n",
       "    </tr>\n",
       "    <tr>\n",
       "      <th>...</th>\n",
       "      <td>...</td>\n",
       "      <td>...</td>\n",
       "      <td>...</td>\n",
       "    </tr>\n",
       "    <tr>\n",
       "      <th>267</th>\n",
       "      <td>268</td>\n",
       "      <td>4.117</td>\n",
       "      <td>81</td>\n",
       "    </tr>\n",
       "    <tr>\n",
       "      <th>268</th>\n",
       "      <td>269</td>\n",
       "      <td>2.150</td>\n",
       "      <td>46</td>\n",
       "    </tr>\n",
       "    <tr>\n",
       "      <th>269</th>\n",
       "      <td>270</td>\n",
       "      <td>4.417</td>\n",
       "      <td>90</td>\n",
       "    </tr>\n",
       "    <tr>\n",
       "      <th>270</th>\n",
       "      <td>271</td>\n",
       "      <td>1.817</td>\n",
       "      <td>46</td>\n",
       "    </tr>\n",
       "    <tr>\n",
       "      <th>271</th>\n",
       "      <td>272</td>\n",
       "      <td>4.467</td>\n",
       "      <td>74</td>\n",
       "    </tr>\n",
       "  </tbody>\n",
       "</table>\n",
       "<p>272 rows × 3 columns</p>\n",
       "</div>"
      ],
      "text/plain": [
       "     Index   \"Eruption length (mins)\"  Eruption wait (mins)\n",
       "0        1                      3.600                    79\n",
       "1        2                      1.800                    54\n",
       "2        3                      3.333                    74\n",
       "3        4                      2.283                    62\n",
       "4        5                      4.533                    85\n",
       "..     ...                        ...                   ...\n",
       "267    268                      4.117                    81\n",
       "268    269                      2.150                    46\n",
       "269    270                      4.417                    90\n",
       "270    271                      1.817                    46\n",
       "271    272                      4.467                    74\n",
       "\n",
       "[272 rows x 3 columns]"
      ]
     },
     "execution_count": 26,
     "metadata": {},
     "output_type": "execute_result"
    }
   ],
   "source": [
    "faithful_eruptions"
   ]
  },
  {
   "cell_type": "markdown",
   "id": "f571349a",
   "metadata": {},
   "source": [
    "## `DataFrame`s: manipulating and examining data\n",
    "\n",
    "Remember how computations manipulate, analyze, and derive information from data? Here are a few things we can do with the information once we've read it.\n",
    "\n",
    "We call that table of information a `DataFrame`. The `pandas` module has a function, `read_csv`, that opens and reads a CSV file and produces a `DataFrame`.\n",
    "\n",
    "Much like `pandas` has data science code that we can use, like `read_csv`, `DataFrame`s have code that we can use that operate on the data inside the `DataFrame`."
   ]
  },
  {
   "cell_type": "markdown",
   "id": "3af6047f",
   "metadata": {},
   "source": [
    "### Examine the top few rows of a `DataFrame`\n",
    "\n",
    "`head` is a function that produces a `DataFrame` containing o\n",
    "nly the top five rows of data."
   ]
  },
  {
   "cell_type": "code",
   "execution_count": 29,
   "id": "9fa9f58e",
   "metadata": {},
   "outputs": [
    {
     "data": {
      "text/html": [
       "<div>\n",
       "<style scoped>\n",
       "    .dataframe tbody tr th:only-of-type {\n",
       "        vertical-align: middle;\n",
       "    }\n",
       "\n",
       "    .dataframe tbody tr th {\n",
       "        vertical-align: top;\n",
       "    }\n",
       "\n",
       "    .dataframe thead th {\n",
       "        text-align: right;\n",
       "    }\n",
       "</style>\n",
       "<table border=\"1\" class=\"dataframe\">\n",
       "  <thead>\n",
       "    <tr style=\"text-align: right;\">\n",
       "      <th></th>\n",
       "      <th>Index</th>\n",
       "      <th>\"Eruption length (mins)\"</th>\n",
       "      <th>Eruption wait (mins)</th>\n",
       "    </tr>\n",
       "  </thead>\n",
       "  <tbody>\n",
       "    <tr>\n",
       "      <th>0</th>\n",
       "      <td>1</td>\n",
       "      <td>3.600</td>\n",
       "      <td>79</td>\n",
       "    </tr>\n",
       "    <tr>\n",
       "      <th>1</th>\n",
       "      <td>2</td>\n",
       "      <td>1.800</td>\n",
       "      <td>54</td>\n",
       "    </tr>\n",
       "    <tr>\n",
       "      <th>2</th>\n",
       "      <td>3</td>\n",
       "      <td>3.333</td>\n",
       "      <td>74</td>\n",
       "    </tr>\n",
       "    <tr>\n",
       "      <th>3</th>\n",
       "      <td>4</td>\n",
       "      <td>2.283</td>\n",
       "      <td>62</td>\n",
       "    </tr>\n",
       "    <tr>\n",
       "      <th>4</th>\n",
       "      <td>5</td>\n",
       "      <td>4.533</td>\n",
       "      <td>85</td>\n",
       "    </tr>\n",
       "  </tbody>\n",
       "</table>\n",
       "</div>"
      ],
      "text/plain": [
       "   Index   \"Eruption length (mins)\"  Eruption wait (mins)\n",
       "0      1                      3.600                    79\n",
       "1      2                      1.800                    54\n",
       "2      3                      3.333                    74\n",
       "3      4                      2.283                    62\n",
       "4      5                      4.533                    85"
      ]
     },
     "execution_count": 29,
     "metadata": {},
     "output_type": "execute_result"
    }
   ],
   "source": [
    "faithful_eruptions.head()"
   ]
  },
  {
   "cell_type": "markdown",
   "id": "7dcd7532",
   "metadata": {},
   "source": [
    "## Accessing a column\n",
    "\n",
    "Sometimes we want to look at only a single column. For example, we might want to know the average wait time in minutes, and we'll want to isolate the last column. We can use the name of the column to get it:"
   ]
  },
  {
   "cell_type": "code",
   "execution_count": 46,
   "id": "77c7b756",
   "metadata": {},
   "outputs": [
    {
     "data": {
      "text/plain": [
       "0      79\n",
       "1      54\n",
       "2      74\n",
       "3      62\n",
       "4      85\n",
       "       ..\n",
       "267    81\n",
       "268    46\n",
       "269    90\n",
       "270    46\n",
       "271    74\n",
       "Name: Eruption wait (mins), Length: 272, dtype: int64"
      ]
     },
     "execution_count": 46,
     "metadata": {},
     "output_type": "execute_result"
    }
   ],
   "source": [
    "faithful_eruptions['Eruption wait (mins)']"
   ]
  },
  {
   "cell_type": "markdown",
   "id": "668e20c3",
   "metadata": {},
   "source": [
    "Let's name the column data:"
   ]
  },
  {
   "cell_type": "code",
   "execution_count": 5,
   "id": "52bd46b4",
   "metadata": {},
   "outputs": [
    {
     "data": {
      "text/plain": [
       "0      79\n",
       "1      54\n",
       "2      74\n",
       "3      62\n",
       "4      85\n",
       "       ..\n",
       "267    81\n",
       "268    46\n",
       "269    90\n",
       "270    46\n",
       "271    74\n",
       "Name: Eruption wait (mins), Length: 272, dtype: int64"
      ]
     },
     "execution_count": 5,
     "metadata": {},
     "output_type": "execute_result"
    }
   ],
   "source": [
    "wait_numbers = faithful_eruptions['Eruption wait (mins)']\n",
    "wait_numbers"
   ]
  },
  {
   "cell_type": "markdown",
   "id": "813f3b97",
   "metadata": {},
   "source": [
    "## Displaying multiple values in a computation\n",
    "\n",
    "The result of a computation is displayed below the code cell containing the computation. But what if we want to show more information?\n",
    "\n",
    "Here, we use built-in function `print`, along with built-in functions `min` and `max`, to print both the minimum and maximum values."
   ]
  },
  {
   "cell_type": "code",
   "execution_count": 48,
   "id": "5dcefcf0",
   "metadata": {},
   "outputs": [
    {
     "name": "stdout",
     "output_type": "stream",
     "text": [
      "96\n",
      "43\n"
     ]
    }
   ],
   "source": [
    "max_wait = max(wait_numbers)\n",
    "min_wait = min(wait_numbers)\n",
    "print(max_wait)\n",
    "print(min_wait)"
   ]
  },
  {
   "cell_type": "markdown",
   "id": "5c43b35c",
   "metadata": {},
   "source": [
    "# Using the calculate-average algorithm\n",
    "\n",
    "Now that we have the column numbers saved in a variable, we can apply the algorithm:"
   ]
  },
  {
   "cell_type": "code",
   "execution_count": 51,
   "id": "9d232d9a",
   "metadata": {},
   "outputs": [
    {
     "name": "stdout",
     "output_type": "stream",
     "text": [
      "The average wait time is:\n",
      "70.8970588235294\n"
     ]
    }
   ],
   "source": [
    "total = sum(wait_numbers)\n",
    "count = len(wait_numbers)\n",
    "avg = total / count\n",
    "\n",
    "print(\"The average wait time is:\")\n",
    "print(avg)"
   ]
  },
  {
   "cell_type": "code",
   "execution_count": null,
   "id": "a7813103",
   "metadata": {},
   "outputs": [],
   "source": []
  }
 ],
 "metadata": {
  "kernelspec": {
   "display_name": "Python 3 (ipykernel)",
   "language": "python",
   "name": "python3"
  },
  "language_info": {
   "codemirror_mode": {
    "name": "ipython",
    "version": 3
   },
   "file_extension": ".py",
   "mimetype": "text/x-python",
   "name": "python",
   "nbconvert_exporter": "python",
   "pygments_lexer": "ipython3",
   "version": "3.10.2"
  }
 },
 "nbformat": 4,
 "nbformat_minor": 5
}
