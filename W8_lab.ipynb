{
 "cells": [
  {
   "cell_type": "markdown",
   "id": "9473bf19",
   "metadata": {},
   "source": [
    "# Lab 8: Models "
   ]
  },
  {
   "cell_type": "markdown",
   "id": "3f42861a",
   "metadata": {},
   "source": [
    "## Lab Instructions and Learning Objectives\n",
    "\n",
    "Don't delete any of the cells in this notebook, and add markdown/code cells when asked.\n",
    "\n",
    "In this lab you will perform a simulation exploring whether males and females have different body weights in different animal classes."
   ]
  },
  {
   "cell_type": "markdown",
   "id": "f926de9f",
   "metadata": {},
   "source": [
    "## How to submit"
   ]
  },
  {
   "cell_type": "markdown",
   "id": "ba2972ff",
   "metadata": {},
   "source": [
    "1. Download this notebook using menu item `File —> Download As —> Notebook (.ipynb)`. Save it as Lab_8.ipynb.\n",
    "\n",
    "\n",
    "2. Log in here: https://markus-ds.teach.cs.toronto.edu (Tip: Control/Command-click to open it in a new tab so you can still see these instructions.)\n",
    "\n",
    "\n",
    "3. Choose your course.\n",
    "\n",
    "\n",
    "4. Click the lab8: Lab week 8 assessment.\n",
    "\n",
    "\n",
    "5. Click the `Submissions` tab. The new page is `lab8: Submissions`.\n",
    "\n",
    "\n",
    "6. Click button `Upload File` on the bottom right.\n",
    "\n",
    "\n",
    "7. Click button `Choose Files`.\n",
    "\n",
    "\n",
    "8. Select the `Lab_8.ipynb` file that you downloaded, then click Save.\n",
    "\n"
   ]
  },
  {
   "cell_type": "markdown",
   "id": "4088aed4",
   "metadata": {},
   "source": [
    "## Due Date\n",
    "\n",
    "Submit your completed lab on MarkUs by Friday at 10am."
   ]
  },
  {
   "cell_type": "markdown",
   "id": "7c8afce9",
   "metadata": {},
   "source": [
    "## Marking Rubric\n",
    "\n",
    "1 mark per test case."
   ]
  },
  {
   "cell_type": "markdown",
   "id": "5999d568",
   "metadata": {},
   "source": [
    "## Lab 8 Introduction"
   ]
  },
  {
   "cell_type": "markdown",
   "id": "50beeaf8",
   "metadata": {},
   "source": [
    "In this lab, you will work with  a data set in a file named `Amniote_iucn_aves_mam.csv`. This data set is derived from in-class data sets:\n",
    "+ `animal_iucn.csv`: IUCN classes across species, including higher taxonomical order data for each species.\n",
    "+  `Amniote_Database_Aug_2015.csv`: phenotypical and reproductive characteristics across species.\n",
    "\n",
    "This week you will create simple for loops, run simulations and plot their distributions, and begin to develop the ideas of a two sample hypothesis test.\n",
    "\n",
    "As usual, these labs are meant to facilitate your understanding of the material from lectures in a low-stakes environment. Please feel free to refer to your lecture content, collaborate with your peers, and seek out help from your TAs."
   ]
  },
  {
   "cell_type": "code",
   "execution_count": null,
   "id": "9f03cbb4",
   "metadata": {},
   "outputs": [],
   "source": [
    "import pandas as pd \n",
    "\n",
    "Amniote_iucn_aves_mam = pd.read_csv('Amniote_iucn_aves_mam.csv')\n",
    "Amniote_iucn_aves_mam"
   ]
  },
  {
   "cell_type": "markdown",
   "id": "4610f309",
   "metadata": {},
   "source": [
    "## Question 1"
   ]
  },
  {
   "cell_type": "markdown",
   "id": "5ce1d423",
   "metadata": {},
   "source": [
    "\n",
    "Find the median value for column `'adult_body_mass_g'`, which is body mass across all species. Name it `median_bodymass`.\n",
    "\n",
    "Using that median, create a column named `'above_median_bodymass'` that is `False` when the `'adult_body_mass_g'` value is less than `median_bodymass`, and `True` when it is greater than or equal to `median_bodymass`.\n",
    "\n",
    "Thought question: compare the values in column `above_median_bodymass` to column `class`. What do you notice?"
   ]
  },
  {
   "cell_type": "code",
   "execution_count": null,
   "id": "3a238785",
   "metadata": {},
   "outputs": [],
   "source": [
    "# place your answer in this cell"
   ]
  },
  {
   "cell_type": "markdown",
   "id": "a41cb6dc",
   "metadata": {},
   "source": [
    "## Question 2"
   ]
  },
  {
   "cell_type": "markdown",
   "id": "0b4fbb04",
   "metadata": {},
   "source": [
    "Now we'll explore whether the mental health visits are significantly different for males versus females.\n",
    "\n",
    "Create a column called `'BM_diff'` by subtracting column `'female_body_mass_g'` from `'male_body_mass_g'`. This is the difference between male and female body weight in each species."
   ]
  },
  {
   "cell_type": "code",
   "execution_count": null,
   "id": "0bf3a59f",
   "metadata": {},
   "outputs": [],
   "source": [
    "# place your answer in this cell"
   ]
  },
  {
   "cell_type": "markdown",
   "id": "85a8bce4",
   "metadata": {},
   "source": [
    "## Question 3"
   ]
  },
  {
   "cell_type": "markdown",
   "id": "7c72eec9",
   "metadata": {},
   "source": [
    "Using `matplotlib.pyplot`, plot a histogram of column `'BM_diff'`. Thought question: what do you notice about the shape of the distribution?"
   ]
  },
  {
   "cell_type": "code",
   "execution_count": null,
   "id": "3dad93cb",
   "metadata": {},
   "outputs": [],
   "source": [
    "# place your answer in this cell"
   ]
  },
  {
   "cell_type": "markdown",
   "id": "456c8c51",
   "metadata": {},
   "source": [
    "## Question 4"
   ]
  },
  {
   "cell_type": "markdown",
   "id": "927db497",
   "metadata": {},
   "source": [
    "It is possible that the difference in the body weight for males versus females depends on which class each species belongs to.\n",
    "\n",
    "We will separate the dataset into the classes `Mammalia` and `Aves`, then examine the proportion of observations in each subset.\n",
    "\n",
    "First we'll explore the difference within mammals."
   ]
  },
  {
   "cell_type": "markdown",
   "id": "4b3b1ed4",
   "metadata": {},
   "source": [
    "### Q4a: preparation\n",
    "\n",
    "Find the median observation for column `'BM_diff'` and name it `median_diff`.\n",
    "\n",
    "Create a dataframe that contains only observations where column `'class'` has value `'Mammalia'`. Name that dataframe `mam_data`."
   ]
  },
  {
   "cell_type": "code",
   "execution_count": null,
   "id": "c5c25203",
   "metadata": {},
   "outputs": [],
   "source": [
    "# place your answer in this cell.\n"
   ]
  },
  {
   "cell_type": "markdown",
   "id": "d497ee65",
   "metadata": {},
   "source": [
    "### Q4b\n",
    "\n",
    "Find the proportion of observations in column `'BM_diff'` that are less than `median_diff`.\n",
    "\n",
    "+ Extract column `'BM_diff'` from `mam_data` and name it `BM_diff_mam`.\n",
    "+ Create a Boolean series that is `True` when `BM_diff_mam` is less than `median_diff`. Name it `mam_diff`.\n",
    "\n",
    "The `value_counts` should have 265 `False` and 117 `True` values."
   ]
  },
  {
   "cell_type": "code",
   "execution_count": null,
   "id": "03d67fcf",
   "metadata": {},
   "outputs": [],
   "source": [
    "# place your answer in this cell"
   ]
  },
  {
   "cell_type": "markdown",
   "id": "b216d6e8",
   "metadata": {},
   "source": [
    "### Q4c\n",
    "\n",
    "Calculate the proportion of `False` and `True` values by dividing `mam_diff.value_counts()` by `len(mam_diff)`. Name this `prop_m`."
   ]
  },
  {
   "cell_type": "code",
   "execution_count": null,
   "id": "87296274",
   "metadata": {},
   "outputs": [],
   "source": [
    "# place your answer in this cell"
   ]
  },
  {
   "cell_type": "markdown",
   "id": "1832e282",
   "metadata": {},
   "source": [
    "## Question 5"
   ]
  },
  {
   "cell_type": "markdown",
   "id": "0482c1f7",
   "metadata": {},
   "source": [
    "Perform the same steps for observations in the Aves class, finding the proportion of observations in column `'BM_diff'` that are less than `median_diff`.\n",
    "\n",
    "+ Create a dataframe that contains only observations where column `'class'` has value `'Aves'`. Name that dataframe `aves_data`.\n",
    "+ Extract column `'BM_diff'` from `aves_data` and name it `BM_diff_aves`.\n",
    "+ Create a Boolean series that is `True` when `BM_diff_aves` is less than `median_diff`. Name it `aves_diff`.\n",
    "+ Calculate the proportion of `False` and `True` values by dividing `aves_diff.value_counts()` by `len(aves_diff)`. Name this `prop_a`.\n",
    "\n",
    "Thought question: does their appear to be a difference with the proportion found in question 5?"
   ]
  },
  {
   "cell_type": "code",
   "execution_count": null,
   "id": "e150ce1a",
   "metadata": {},
   "outputs": [],
   "source": [
    "# place your answer in this cell"
   ]
  },
  {
   "cell_type": "markdown",
   "id": "dd8f42bd",
   "metadata": {},
   "source": [
    "## Question 6"
   ]
  },
  {
   "cell_type": "markdown",
   "id": "adb248c8",
   "metadata": {},
   "source": [
    "Use `matplotlib.pylab` in this question.\n",
    "\n",
    "In lecture, we developed a `simulate_one_count` function that simulated selecting a set of 100 jurors, then we used it to simulate 10000 sample proportions, then we plotted the result.\n",
    "\n",
    "Here, you will complete a similar function that simulates selecting a set of 100 mammal species. Calculate the proportion of those species with lower-than-median body weight difference between males and female individuals."
   ]
  },
  {
   "cell_type": "code",
   "execution_count": null,
   "id": "f7676360",
   "metadata": {},
   "outputs": [],
   "source": [
    "# place your answer in this cell\n",
    "import numpy as np \n",
    "import matplotlib.pyplot as plt\n",
    "\n",
    "def simulate_one_count():\n",
    "    sample_size = 100\n",
    "    true_probabilities = [???,  ???]\n",
    "    num_simulations = 1\n",
    "    counts = np.random.multinomial(sample_size, true_probabilities, size = num_simulations)\n",
    "    sim_counts = pd.DataFrame(counts, columns = ['Under', 'Over'])\n",
    "    return sim_counts.iloc[0,0]"
   ]
  },
  {
   "cell_type": "code",
   "execution_count": null,
   "id": "e089b34e",
   "metadata": {},
   "outputs": [],
   "source": [
    "# Try calling the function.\n",
    "simulate_one_count()"
   ]
  },
  {
   "cell_type": "markdown",
   "id": "430f7b73",
   "metadata": {},
   "source": [
    "## Question 7"
   ]
  },
  {
   "cell_type": "markdown",
   "id": "1a35621f",
   "metadata": {},
   "source": [
    "Let p be the probability of success of picking a mammals species that has lower than median male to female body weight difference.\n",
    "\n",
    "Using the observed proportions found in question 4, create a sampling distribution of the proportions found to be below the median of `'BM_diff'`.\n",
    "\n",
    "Repeat this simulation 10000 times, then plot the result.\n",
    "\n",
    "Display your graph within the range of 1 to 100."
   ]
  },
  {
   "cell_type": "code",
   "execution_count": null,
   "id": "269765b4",
   "metadata": {},
   "outputs": [],
   "source": [
    "# Fill in the value below.\n",
    "np.random.seed(0) # Set the random number seed.\n",
    "\n",
    "sim_counts = []\n",
    "for _ in np.arange(10000):\n",
    "    sim_counts.append(???) # Call your simulate_one_count function here.\n",
    "\n",
    "# Plot the results like we did in lecture.\n"
   ]
  }
 ],
 "metadata": {
  "kernelspec": {
   "display_name": "Python 3 (ipykernel)",
   "language": "python",
   "name": "python3"
  },
  "language_info": {
   "codemirror_mode": {
    "name": "ipython",
    "version": 3
   },
   "file_extension": ".py",
   "mimetype": "text/x-python",
   "name": "python",
   "nbconvert_exporter": "python",
   "pygments_lexer": "ipython3",
   "version": "3.9.9"
  }
 },
 "nbformat": 4,
 "nbformat_minor": 5
}
