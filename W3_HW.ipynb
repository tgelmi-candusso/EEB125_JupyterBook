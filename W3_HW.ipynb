{
 "cells": [
  {
   "cell_type": "markdown",
   "id": "a93f6e1f",
   "metadata": {},
   "source": [
    "# Homework 3 — Subsetting and Plotting Data: Understanding further the relationship between body size and trophic level\n",
    " \n"
   ]
  },
  {
   "cell_type": "markdown",
   "id": "ddbff80f",
   "metadata": {},
   "source": [
    "# Introduction\n",
    "\n",
    "For this homework we will further analyse the relationship between body size and trophic level in the Carnivora order, but in the nocturnal portion of carnivores. \n",
    "Animals belonging to the Carnivora order predominantly eat flesh, however, only some of them are true carnivores, eating only flesh from vertebrates or invertebrates.\n",
    "\n",
    "We want to know whether those species in the Carnivora order that have nocturnal activity and have a large body size are also true carnivores. The dataset contains:\n",
    "\n",
    "* a trophic level column (with the values `1`, `2`, and `3`) indicating whether the species is herbivore, omnivore or carnivore (eats only meat), respectively\n",
    "* an activity cycle variable (with the values `1`, `2`, and `3`) indicating whether the animals are mainly active during the night, crepuscular (active at twilight), or active during the day, respectively\n",
    "\n",
    "As in the lab, we will consider animals who are mainly active during the night, as well as the crepuscule (twilight) animals, as _nocturnal_.\n",
    "\n",
    "# Question\n",
    "\n",
    "The question you're answering in this homework:\n",
    "\n",
    "> Are large-body-sized nocturnal species from the order Carnivora predominantly true carnivores? "
   ]
  },
  {
   "cell_type": "markdown",
   "id": "17bacd9f",
   "metadata": {},
   "source": [
    "# Lab Instructions and Learning Objectives\n",
    "\n",
    "Just like in the previous homework, you will be creating and submitting a data story answering a data science question. You will be required to submit your work in the same format as last time, complete with sections for *Introduction*, *Data*, *Methods*, *Computation*, and *Conclusion*.\n",
    "\n",
    "In this lab, you will:\n",
    "* Create a data story in a notebook exploring the question.\n",
    "* Work with the Pantheria dataset from lecture to investigate if commuting with car affects feelings of being rushed.\n",
    "* Write and use boolean expressions to focus on specific observations (subsetting dataframe) in our dataset.\n",
    "* Create and name new columns, and use boolean expressions to assign new values based on values in existing columns.\n",
    "* Produce and interpret crosstabulation to compare respondent counts between different levels (values) of two boolean variables. \n",
    "* Plot the results of your crosstabulation, and use the visualization to describe general trends."
   ]
  },
  {
   "cell_type": "markdown",
   "id": "4a8c8fa4",
   "metadata": {},
   "source": [
    "# Due date \n",
    "\n",
    "You will submit your completed Homework 3 on MarkUs by *Tue, Feb 01 2021 at 11:59 PM EST*. We will send an announcement in a couple days when autotesting has been set up on MarkUs."
   ]
  },
  {
   "cell_type": "markdown",
   "id": "9370f5fc",
   "metadata": {},
   "source": [
    "# EEB: How to submit\n",
    "\n",
    "1. Download your homework to your local computer and save it as `EEB125_Homework_3.ipynb`.\n",
    "2. Log in here: https://markus-ds.teach.cs.toronto.edu.\n",
    "3. Submit your homework to `HW3: Homework 3`."
   ]
  },
  {
   "cell_type": "markdown",
   "id": "6e043cee",
   "metadata": {},
   "source": [
    "# Marking Rubric\n",
    "\n",
    "\n",
    "Section     | 0 | 1 | 2 | 3\n",
    "------------|---|---|---|---\n",
    "Introduction|The question is not stated correctly or left blank | The question is stated correctly | NA | NA \n",
    "Data (for each python variable)       |auto test fails | auto test passes | NA | NA \n",
    "Methods (for each part) | No answer | The data extracted is specified or a reasonable rationale is given, but not both | Both the data extracted is specified and a reasonable rationale is given | NA\n",
    "Computation |auto test fails | auto test passes | NA | NA \n",
    "Conclusion (for each part) | No answer | The question is answered but no explanation is given | The question is answered but the explanation is not supported or weakly supported by the data | The question is answered and the explanation is supported by the data \n",
    "\n",
    "Maximum grade: **35**\n"
   ]
  },
  {
   "cell_type": "markdown",
   "id": "0d99c073",
   "metadata": {},
   "source": [
    "# Introduction section\n",
    "\n",
    "This should introduce the question being explored in a sentence. __(1 mark)__"
   ]
  },
  {
   "cell_type": "markdown",
   "id": "3670ce77",
   "metadata": {},
   "source": [
    "# Data section\n",
    "\n",
    "The `Data` part of your notebook should read the raw data, extract a `DataFrame` containing the important columns, and present the overall data. Create at least these three variables.\n",
    "\n",
    "+ `pantheria_raw`: the `DataFrame` created by reading the `pantheria.csv` file. __(1 mark)__\n",
    "+ `pantheria_clean`: the `DataFrame` containing only the relevant columns from the raw data: the `'MSW05_Order'`,`'MSW05_Genus'`,`'MSW05_Species'`,`'5-1_AdultBodyMass_g'`,`'6-2_TrophicLevel'`,`'1-1_ActivityCycle'`  columns. __(1 mark)__\n",
    "+ `new_column_names`: the dictionary mapping the column names from `pantheria_clean` to the values `'order'`, `'genus'`, `'species'`, `'body_mass_g'`, `'trophic_level'` and `'activity_cycle'` , respectively. __(1 mark)__\n",
    "+ `pantheria_clean_data`: the `DataFrame` that is the result of renaming the columns in `pantheria`, using the dictionary `new_column_names`. (We will not autotest this `DataFrame` until after you have added columns, as described below.)\n",
    "\n",
    "(We will check the value of these variables in the autotester. You'll probably want to use a few other variables along the way for the intermediate steps, like naming a list of important columns, but we're not autotesting those.)\n",
    "\n",
    "The `Data` part of your notebook should read the raw data, extract a `DataFrame` containing the important columns, and present the overall data. Make sure to select the columns in the order as specified above.\n",
    "\n",
    "Here is some code for you to use to check your variable values. Copy and paste these cells into your notebook at the end of the appropriate section. For example, these print statements should go in a cell at the end of the Data section:"
   ]
  },
  {
   "cell_type": "code",
   "execution_count": null,
   "id": "1693af43",
   "metadata": {},
   "outputs": [],
   "source": [
    "# Data check\n",
    "print(\"pantheria_raw:\")\n",
    "print(pantheria_raw)\n",
    "print(\"pantheria_clean:\")\n",
    "print(pantheria_clean)\n",
    "print(\"new_column_names:\")\n",
    "print(new_column_names)\n",
    "print(\"pantheria_clean_data:\")\n",
    "print(pantheria_clean_data)"
   ]
  },
  {
   "cell_type": "markdown",
   "id": "12fc1825",
   "metadata": {},
   "source": [
    "# Methods section\n",
    "\n",
    "Start with a Markdown cell describing what you're going to do, which is:\n",
    "\n",
    "1. Filter the data (make a new `DataFrame` containing a subset of the rows) to include only nocturnal species. What variable in our dataset contains this information? Why are we interested in this subset? Explain in a few sentences. __(2 marks)__\n",
    "2. Create a new column that codes whether or not these nocturnal species are true carnivores. What values does this new column take, what does each value represent, and what is its Python type? Why are creating this new variable? __(2 marks)__\n",
    "3. Create a new variable that codes whether or not the nocturnal species are large body sized (>20kg - note the units). What values does this new column take, what does each represent, and what is the Python type? __(2 marks)__\n",
    "4. Compare how many species are true carnivores, for both the group of large-body-sized species and non-large-body sized species. What data are we using, and why? Explain in a few sentences. __(2 marks)__\n",
    "5. Use a visualization to describe your results in 4. What visualization is most appropriate, and why? How would this visualization be interpreted? Explain in a few sentences. __(2 marks)__"
   ]
  },
  {
   "cell_type": "markdown",
   "id": "302280be",
   "metadata": {},
   "source": [
    "# Computation section\n",
    "\n",
    "There are a few sections to this, as outlined in the Methods. First, you will subset your dataset for nocturnal carnivora species. Then you'll add a new column that indicates whether these species are large-body-sized, and another column that indicates whether they are true carnivores. Finally, we will analyze whether large-body-sized nocturnal species are typically true carnivores."
   ]
  },
  {
   "cell_type": "markdown",
   "id": "c1a31a7f",
   "metadata": {},
   "source": [
    "## Subset Data\n",
    "\n",
    "First, let's subset our data to include only nocturnal species of the carnivora order. \n",
    "\n",
    "Create these variables along the way. We will check them in the autotester. We will not check your intermediate steps.\n",
    "\n",
    "+ `carnivora_nocturnal_only`: a Boolean `Series` that is `True` when a carnivore is mainly active either at night or the crepuscule, and `False` otherwise. __(1 mark)__ \n",
    "+ `carnivora_nocturnal_data`: a `DataFrame` that contains only nocturnal carnivora species. __(1 mark)__\n",
    "\n"
   ]
  },
  {
   "cell_type": "code",
   "execution_count": null,
   "id": "54d5c09f",
   "metadata": {},
   "outputs": [],
   "source": [
    "# Subset Data check\n",
    "print(\"carnivora_nocturnal_only:\")\n",
    "print(carnivora_nocturnal_only)\n",
    "print(\"carnivora_nocturnal_data:\")\n",
    "print(carnivora_nocturnal_data)"
   ]
  },
  {
   "cell_type": "markdown",
   "id": "fb1439df",
   "metadata": {},
   "source": [
    "## Create new columns\n",
    "\n",
    "Let's add two new columns to our dataset. These columns will contain Boolean values.\n",
    "\n",
    "Create the following variables along the way. We will check them in the autotester. We will not check your intermediate steps.\n",
    "\n",
    "### Body mass\n",
    "\n",
    "+ `largebody_true`: a boolean `Series` that is `True` when a species has a body mass equal to or greater than 10kg, and `False` otherwise.  __(1 mark)__\n",
    "+ `largebody_false`: a boolean `Series` that is `True` when a species has a body mass of under 10kg, and `False`, otherwise. __(1 mark)__\n",
    "\n",
    "Use those two variables to add a column called `'large_body_YN'` to `pantheria_clean_data`\n",
    "that is `True` when a carnivore has a large body size, and `False`, otherwise."
   ]
  },
  {
   "cell_type": "code",
   "execution_count": null,
   "id": "fc5559e4",
   "metadata": {},
   "outputs": [],
   "source": [
    "# Body mass check\n",
    "print(\"largebody_true:\")\n",
    "print(largebody_true)\n",
    "print(\"largebody_false:\")\n",
    "print(largebody_false)\n",
    "pantheria_clean_data"
   ]
  },
  {
   "cell_type": "markdown",
   "id": "b365fdd6",
   "metadata": {},
   "source": [
    "### True carnivores\n",
    "\n",
    "+ `tcarnivore_true`: a Boolean `Series` that is `True` when a species is a true carnivore, eating only meat, and `False` otherwise.  __(1 mark)__\n",
    "+ `tcarnivore_false`: a Boolean `Series` that is `True` when a species is not a true carnivore, and `False` otherwise. __(1 mark)__\n",
    "\n",
    "Use those two variables to create a new column in `pantheria_clean_data` called `'true_carnivore_YN'` that is `True` when a species is a true carnivore and `False` otherwise.\n",
    "\n",
    "In the autotester, we will examine `pantheria_clean_data` after both columns have been added. __(1 mark)__"
   ]
  },
  {
   "cell_type": "code",
   "execution_count": null,
   "id": "37c8bd9a",
   "metadata": {},
   "outputs": [],
   "source": [
    "# True carnivores check\n",
    "print(\"tcarnivore_true:\")\n",
    "print(tcarnivore_true)\n",
    "print(\"tcarnivore_false:\")\n",
    "print(tcarnivore_false)\n",
    "pantheria_clean_data"
   ]
  },
  {
   "cell_type": "markdown",
   "id": "0f128542",
   "metadata": {},
   "source": [
    "## Create a crosstabulation\n",
    "\n",
    "Let's create a crosstabulation to compare respondents between our different columns, `'large_body_YN'` and `'true_carnivore_YN'`.\n",
    "\n",
    "Create the following variables along the way. We will check them in the autotester. We will not check your intermediate steps.\n",
    "\n",
    "+ `columns_to_crosstab`: a `DataFrame` that contains only the columns `'large_body_YN'` and `'true_carnivore_YN'` extracted from `pantheria_clean_data`. __(1 mark)__\n",
    "+ `large_tcarnivore_crosstab`: a crosstabulation, using the columns in `columns_to_crosstab` in this order: your first argument should be the `'true_carnivore_YN'` column and your second argument should be the `'large_body_YN'` column. Use `normalize='index'` as the last argument to the crosstab. __(1 mark)__"
   ]
  },
  {
   "cell_type": "code",
   "execution_count": null,
   "id": "9eea46a0",
   "metadata": {},
   "outputs": [],
   "source": [
    "# Crosstab check\n",
    "print(\"columns_to_crosstab:\")\n",
    "print(columns_to_crosstab)\n",
    "print(\"large_tcarnivore_car_crosstab:\")\n",
    "print(large_tcarnivore_crosstab)"
   ]
  },
  {
   "cell_type": "markdown",
   "id": "25ff3ee4",
   "metadata": {},
   "source": [
    "## Plot your results\n",
    "\n",
    "Finally, we can visually analyze the results of the crosstabulation. \n",
    "\n",
    "Create a bar plot of the `large_tcarnivore_crosstab` crosstabulation using `.plot.bar()` and name it `crosstab_barplot`. __(1 mark)__ "
   ]
  },
  {
   "cell_type": "code",
   "execution_count": null,
   "id": "9d7ab9b5",
   "metadata": {},
   "outputs": [],
   "source": [
    "# Plot check\n",
    "print(\"crosstab_barplot:\")\n",
    "print(crosstab_barplot)"
   ]
  },
  {
   "cell_type": "markdown",
   "id": "21a6c20d",
   "metadata": {},
   "source": [
    "# Conclusion\n",
    "\n",
    "Include cells with your answers to each of these questions:\n",
    " \n",
    "1. Are large nocturnal species from the order carnivora order are mainly true carnivores? Briefly explain. (__3 marks__)\n",
    "2. What do the values in the crosstabulation represent? Use these values and your visualization to draw at least one conclusion about the relationship between being large and being a true carnivore.  Briefly explain how you arrived at your conclusions. __(3 marks)__\n",
    "3. Think about what aspects of being a true carnivore (eating only meat) may lead or prevent a species of having a large body size. Propose two or three specific potential causes for this relationship or lack there of. __(3 marks)__"
   ]
  },
  {
   "cell_type": "markdown",
   "id": "7bebdb98",
   "metadata": {},
   "source": [
    "# BEFORE YOU SUBMIT: rerun your whole notebook!\n",
    "\n",
    "Before you submit, re-run all the Code cells in your notebook from top to bottom and read the output carefully to make sure there are no unexpected errors."
   ]
  }
 ],
 "metadata": {
  "kernelspec": {
   "display_name": "Python 3 (ipykernel)",
   "language": "python",
   "name": "python3"
  },
  "language_info": {
   "codemirror_mode": {
    "name": "ipython",
    "version": 3
   },
   "file_extension": ".py",
   "mimetype": "text/x-python",
   "name": "python",
   "nbconvert_exporter": "python",
   "pygments_lexer": "ipython3",
   "version": "3.9.9"
  }
 },
 "nbformat": 4,
 "nbformat_minor": 5
}
