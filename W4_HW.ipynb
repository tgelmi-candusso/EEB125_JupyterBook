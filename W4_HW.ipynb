{
 "cells": [
  {
   "cell_type": "markdown",
   "id": "767c66e9",
   "metadata": {},
   "source": [
    "# Homework 4 - Investigating Mammalian Fecundity and Conservation using Filtering, Joins, and Arithmetic\n",
    " \n"
   ]
  },
  {
   "cell_type": "markdown",
   "id": "ee9d066f",
   "metadata": {},
   "source": [
    "## Introduction\n",
    "\n",
    "For this week's homework, we are going to continue to work with the Pantheria Dataset and the IUCN categories. \n",
    "\n",
    "We will create a new metric using the Pantheria data that estimates: how many offspring do individuals within each species produce throughout their lifetime, on average? We call this 'lifetime fecundity'. We will be looking to see whether there is a relationship between average lifetime fecundity and a species' risk of going extinct."
   ]
  },
  {
   "cell_type": "markdown",
   "id": "4c621ab2",
   "metadata": {},
   "source": [
    "### Question\n",
    "\n",
    "The overarching question you're answering in this homework:\n",
    "\n",
    "**_Is there a difference in ICUN category between species with smaller mean lifetime fecundity and species with larger mean lifetime fecundity?_**\n",
    "\n",
    "Because this is an intricate investigation, this homework has you prepare the data to begin to answer the question. The week 5 homework will conclude this data story."
   ]
  },
  {
   "cell_type": "markdown",
   "id": "25dc74e5",
   "metadata": {},
   "source": [
    "## Lab Instructions and Learning Objectives\n",
    "\n",
    "Just like in the previous homework, you will be creating and submitting a data story answering a data science question. You will be required to submit your work in the same format as last time, complete with sections for *Introduction*, *Data*, *Methods*, *Computation*, and *Conclusion*.\n",
    "\n",
    "In this lab, you will:\n",
    "* Start a data story in a notebook exploring the question: is the number of offspring birthed by a lineage related to its risk of extinction?\n",
    "* Write and use advanced Boolean expressions to filter specific observations in our dataset. (Specifically, you're encourage to practice using logical operators such as `!=`, `<=`, `>=`, `>`, `<`.)\n",
    "* Join two related datasets to create a larger, more comprehensive dataset.\n",
    "* Perform arithmetic on several pandas series to estimate the maximum theoretical number of offspring that mothers within each species are capable of siring throughout their lifetime.\n"
   ]
  },
  {
   "cell_type": "markdown",
   "id": "2b677ef1",
   "metadata": {},
   "source": [
    "## Due date \n",
    "\n",
    "You will submit your completed Homework 4 on MarkUs by *Fri, Feb 11 2022 at 11:59 PM EST*. We will send an announcement in a couple days when autotesting has been set up on MarkUs."
   ]
  },
  {
   "cell_type": "markdown",
   "id": "2d10a0a3",
   "metadata": {},
   "source": [
    "## EEB: How to submit\n",
    "\n",
    "1. Download your homework to your local computer and save it as `EEB125_Homework_4.ipynb`.\n",
    "2. Log in here: https://markus-ds.teach.cs.toronto.edu.\n",
    "3. Submit your homework to `HW4: Homework 4`."
   ]
  },
  {
   "cell_type": "markdown",
   "id": "c9549322",
   "metadata": {},
   "source": [
    "## Marking Rubric\n",
    "\n",
    "Section     | 0 | 1 | 2 | 3\n",
    "------------|---|---|---|---\n",
    "Introduction|The question is not stated correctly or left blank | The question is stated correctly | NA | NA \n",
    "Data (for each python variable)       |auto test fails | auto test passes | NA | NA \n",
    "Methods (for each part) | No answer | The data extracted is specified or a reasonable rationale is given, but not both | Both the data extracted is specified and a reasonable rationale is given | NA\n",
    "Computation |auto test fails | auto test passes | NA | NA \n",
    "Conclusion (for each part) | No answer | The question is answered but no explanation is given | The question is answered but the explanation is not supported or weakly supported by the data | The question is answered and the explanation is supported by the data \n",
    "\n",
    "Maximum grade: **20**"
   ]
  },
  {
   "cell_type": "markdown",
   "id": "e9d60469",
   "metadata": {},
   "source": [
    "## Introduction section\n",
    "\n",
    "This should introduce the question being explored in a sentence. __(1 mark)__"
   ]
  },
  {
   "cell_type": "markdown",
   "id": "8bb168e0-fcce-4c01-88d6-743977b75cd1",
   "metadata": {},
   "source": [
    "## Data section\n",
    "\n",
    "### Step 1: import data\n",
    "\n",
    "Import the raw data from Pantheria (`pantheria.txt`) and phylacine (`phylacine.csv`) and name the `DataFrame`s as follows:\n",
    "\n",
    "+ `pantheria_raw`: the `DataFrame` created by reading the `pantheria.txt` file. __(1 mark)__\n",
    "+ `iucn_raw`: the `DataFrame` created by reading the `phylacine.csv` file. __(1 mark)__"
   ]
  },
  {
   "cell_type": "code",
   "execution_count": null,
   "id": "e2b5268e",
   "metadata": {},
   "outputs": [],
   "source": [
    "# Step 1 check\n",
    "pantheria_raw.head()"
   ]
  },
  {
   "cell_type": "code",
   "execution_count": null,
   "id": "17f405cd",
   "metadata": {},
   "outputs": [],
   "source": [
    "# Step 1 check\n",
    "iucn_raw.head()"
   ]
  },
  {
   "cell_type": "markdown",
   "id": "e2e98b68-7a20-45cf-947c-69bdd32948b8",
   "metadata": {},
   "source": [
    "### Step 2: select columns\n",
    "Create new dataframes containing only the columns we need for this homework. Name them as follows:\n",
    "\n",
    " + `pantheria_data`: a `DataFrame` containing only the relevant columns from `pantheria_raw`: `'\"MSW05_Order'`, `'MSW05_Binomial'`, `'23-1_SexualMaturityAge_d'`, and `'14-1_InterbirthInterval_d'`, `'17-1_MaxLongevity_m'`, and `'15-1_LitterSize'`. __(1 mark)__ \n",
    " + `iucn_data`: a `DataFrame` containing only the relevant columns from `iucn_raw`: `'Binomial.1.2'` and `'IUCN.Status.1.2'`. __(1 mark)__ "
   ]
  },
  {
   "cell_type": "markdown",
   "id": "b22889be",
   "metadata": {},
   "source": [
    "In a markdown cell, describe what each of the selected columns represents. __(1 mark)__"
   ]
  },
  {
   "cell_type": "code",
   "execution_count": null,
   "id": "219c8656",
   "metadata": {},
   "outputs": [],
   "source": [
    "# Step 2 check\n",
    "print(pantheria_data.columns)\n",
    "print(iucn_data.columns)"
   ]
  },
  {
   "cell_type": "markdown",
   "id": "4daf07fe-8490-47f9-bfa5-ba396d7ddfdf",
   "metadata": {},
   "source": [
    "### Step 3: create new column names\n",
    "\n",
    "Let's prepare to rename the columns. Create dictionaries mapping the current column names to new, clearer names. Name them as follows:\n",
    "+ `pantheria_new_column_names`: the `dictionary` mapping the column names from `pantheria_data` to the values `'order'`, `'genus_species'`, `'maturity_d'`, `interbirth_d`, `'longevity_m'`, and `'litter_size_ind'`. __(1 mark)__\n",
    "+ `iucn_data_new_column_names`: the `dictionary` mapping the column names from `iucn_data_raw` to `genus_species`, and `iucn_status`, respectively. __(1 mark)__"
   ]
  },
  {
   "cell_type": "code",
   "execution_count": null,
   "id": "8242fd1e",
   "metadata": {},
   "outputs": [],
   "source": [
    "# Step 3 check\n",
    "print(pantheria_new_column_names)\n",
    "print(iucn_data_new_column_names)"
   ]
  },
  {
   "cell_type": "markdown",
   "id": "ec78eafd",
   "metadata": {},
   "source": [
    "### Step 4: Rename the columns in the dataframes\n",
    "\n",
    "Use function `rename` to rename the columns in `pantheria_data` and `iucn_data` using the dictionaries that we have just created. Name the new dataframes `pantheria_data_clean` and `iucn_data_clean`.\n",
    "\n",
    "+ `pantheria_data_clean`: the `DataFrame` that is the result of renaming the columns in `pantheria_data`. __(1 mark)__\n",
    "+ `iucn_data_clean`: the `DataFrame` that is the result of renaming the columns in `iucn_data_raw`. (We will not autotest this `DataFrame` until you have added columns, as described below.) __(1 mark)__"
   ]
  },
  {
   "cell_type": "code",
   "execution_count": null,
   "id": "5211b546",
   "metadata": {},
   "outputs": [],
   "source": [
    "# Step 4 check\n",
    "print(pantheria_data_clean.columns)\n",
    "print(iucn_data_clean.columns)"
   ]
  },
  {
   "cell_type": "markdown",
   "id": "8428f25b",
   "metadata": {},
   "source": [
    "### Step 5: replace spaces in column so that data can be merged\n",
    "\n",
    "Right now, column `'genus_species'` in `iucn_data_clean` has underscores in the string values, but column `'genus_species'` in `pantheria_data_clean` does not.\n",
    "\n",
    "Update the `'genus_species'` column in `pantheria_data_clean` as follows.\n",
    "\n",
    "First, replace the spaces `\" \"` in the species names stored in `pantheria_data['genus_species']` with underscores `\"_\"` so that the puncuation matches in both dataframes that we are trying to merge. This creates a new `Series` of strings whose values have underscores, for example `'Canis_adustus'`.\n",
    "\n",
    "Next, replace the `'genus_species'` column in `pantheria_data_clean` with this new `Series`. __(1 mark)__"
   ]
  },
  {
   "cell_type": "code",
   "execution_count": null,
   "id": "d3be5a22",
   "metadata": {},
   "outputs": [],
   "source": [
    "# Step 5 check\n",
    "pantheria_data_clean.head()"
   ]
  },
  {
   "cell_type": "markdown",
   "id": "f748b0ba",
   "metadata": {},
   "source": [
    "### Step 6: merge the two dataframes\n",
    "\n",
    "Merge (join) `pantheria_data_clean` and `iucn_data_clean` using function `merge`. Use `pantheria_data_clean` as the main (left) dataframe, and `iucn_data_clean` as the right dataframe. Join on column `'genus_species'`. Name the result `joined_pantheria_iucn_data`.  __(1 mark)__"
   ]
  },
  {
   "cell_type": "code",
   "execution_count": null,
   "id": "abd40357",
   "metadata": {},
   "outputs": [],
   "source": [
    "# Step 6 check\n",
    "joined_pantheria_iucn_data.head()"
   ]
  },
  {
   "cell_type": "markdown",
   "id": "34e88691",
   "metadata": {},
   "source": [
    "### Step 7: eliminate irrelevant IUCN categories\n",
    "\n",
    "Values `'DD'` and `'EP'` are not useful. In a Markdown cell, describe why we are eliminating these IUCN categories. __(1 mark)__\n",
    "\n",
    "Now extract a new dataframe containing all rows with IUCN categories OTHER THAN `'DD'` and `'EP'` (missing data and errors) from `joined_pantheria_iucn_data`. Name this new dataframe `pantheria_iucn_clean`. __(1 mark)__"
   ]
  },
  {
   "cell_type": "code",
   "execution_count": null,
   "id": "e9e9042a",
   "metadata": {},
   "outputs": [],
   "source": [
    "# Step 7 check\n",
    "pantheria_iucn_clean.head()"
   ]
  },
  {
   "cell_type": "markdown",
   "id": "a0699243",
   "metadata": {},
   "source": [
    "## Methods section\n",
    "\n",
    "Using `pantheria_iucn_clean`, you will estimate a new measurement that we will call `max_lifetime_fecundity`. This will be computed using the following columns:\n",
    "\n",
    "`'maturity_d'`: How long it takes for the average individual to grow to maturity. This is measured in days as the interval between birth and the time when the individual first reproduces.\n",
    " \n",
    "`'longevity_m'`: How long can individuals within each species live, expressed in months.\n",
    "\n",
    "`'interbirth_d'`: How long do adult females wait, on average, between giving birth and becoming pregnant again?\n",
    "\n",
    "`'litter_size_ind'`: How many babies do females within each species have at one time, on average?\n",
    "\n",
    "The Computation section below descibes in detail how these will be used."
   ]
  },
  {
   "cell_type": "markdown",
   "id": "37704ea8",
   "metadata": {},
   "source": [
    "## Computation section\n",
    "\n",
    "The three measurements relating to time (`'maturity_d'`, `'longevity_m'`, and `'interbirth_d'`) are expressed in two different units. Convert each of these columns so that they are expressed in years. Name the three resulting `Series` `maturity_yr`, `longevity_yr`, and `interbirth_yr`, respectively.\n",
    "\n",
    "Also extract column `'litter_size_ind'` as a series and name it `litter_size_series`.\n",
    "\n",
    "Estimate the maximum lifetime fecundity metric for each species using the formula: \n",
    "\n",
    "((longevity - maturity) / (interbirth)) * litter size\n",
    "\n",
    "What are the units of our new column? What is its Python data type? __(2 marks)__ \n",
    "\n",
    "Create a new column in `pantheria_iucn_clean` called `'max_lifetime_fecundity'` that contains the maximum lifetime fecundity metric previously estimated. __(1 mark)__"
   ]
  },
  {
   "cell_type": "code",
   "execution_count": null,
   "id": "9179d2fc",
   "metadata": {},
   "outputs": [],
   "source": [
    "# Computation check\n",
    "print(maturity_yr.head())\n",
    "print(longevity_yr.head())\n",
    "print(interbirth_yr.head())\n",
    "print(litter_size_series.head())\n",
    "pantheria_iucn_clean.head()"
   ]
  },
  {
   "cell_type": "markdown",
   "id": "2b240bce",
   "metadata": {},
   "source": [
    "## Conclusion\n",
    "\n",
    "Include cells with your answers to each of these questions:\n",
    " \n",
    "1. Explain, in biological terms, what our new `max_lifetime_fecundity` metric measures. __(3 marks)__"
   ]
  }
 ],
 "metadata": {
  "kernelspec": {
   "display_name": "Python 3 (ipykernel)",
   "language": "python",
   "name": "python3"
  },
  "language_info": {
   "codemirror_mode": {
    "name": "ipython",
    "version": 3
   },
   "file_extension": ".py",
   "mimetype": "text/x-python",
   "name": "python",
   "nbconvert_exporter": "python",
   "pygments_lexer": "ipython3",
   "version": "3.9.9"
  }
 },
 "nbformat": 4,
 "nbformat_minor": 5
}
