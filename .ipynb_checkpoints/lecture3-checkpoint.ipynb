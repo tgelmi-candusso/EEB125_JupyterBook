{
 "cells": [
  {
   "cell_type": "markdown",
   "metadata": {
    "slideshow": {
     "slide_type": "slide"
    }
   },
   "source": [
    "# Class 3: Introduction to Data Wrangling and Exploratory Data Analysis\n",
    "\n",
    "## EEB 125 | 26 Jan 2022\n",
    "\n",
    "\n",
    "\n",
    "## Profs. Caroline Parins-Fukuchi, Nathan Taback, Paul Gries\n"
   ]
  },
  {
   "cell_type": "markdown",
   "metadata": {
    "slideshow": {
     "slide_type": "slide"
    }
   },
   "source": [
    "\n",
    "## Learning Objectives:\n",
    "\n",
    "By the end of today's class you will be able to:\n",
    "\n",
    "- Explore data in the panTHERIA dataset using the pandas library\n",
    "\n",
    "- Select rows using multiple conditions\n",
    "\n",
    "- Create a new column in a `pandas` DataFrame\n",
    "\n",
    "- Understand and implement crosstabulation in `pandas`\n",
    "\n",
    "- counts and bar plots using `pandas`\n",
    "\n",
    "\n",
    "<!--\n",
    "- Create numerical and visual data summaries of categorical and interval variables using Python: bar charts; histograms; and cumulative frequency distributions.\n",
    "\n",
    "- Understand how to interpret data using numerical and visual data summaries.\n",
    "\n",
    "- Understand how to compute and interpret frequency and cumulative frequency distributions.\n",
    "\n",
    "- Understand strategies on managaing missing values and the implications on data interpretations.\n",
    "-->"
   ]
  },
  {
   "cell_type": "markdown",
   "metadata": {
    "slideshow": {
     "slide_type": "slide"
    }
   },
   "source": [
    "## Dataset for today's class \n",
    "\n",
    "PanTHERIA\n",
    "  - Ecological data spanning across mammals\n",
    "    - Body size, lifespan, habitat, etc\n",
    "\n",
    "![](images/pantheria.png)    \n"
   ]
  },
  {
   "cell_type": "code",
   "execution_count": 96,
   "metadata": {
    "slideshow": {
     "slide_type": "slide"
    }
   },
   "outputs": [],
   "source": [
    "# import our data\n",
    "import pandas as pd\n",
    "pantheria = pd.read_csv('pantheria.txt',sep=\"\\t\")"
   ]
  },
  {
   "cell_type": "code",
   "execution_count": 97,
   "metadata": {
    "slideshow": {
     "slide_type": "fragment"
    }
   },
   "outputs": [
    {
     "data": {
      "text/plain": [
       "pandas.core.frame.DataFrame"
      ]
     },
     "execution_count": 97,
     "metadata": {},
     "output_type": "execute_result"
    }
   ],
   "source": [
    "type(pantheria)"
   ]
  },
  {
   "cell_type": "markdown",
   "metadata": {
    "slideshow": {
     "slide_type": "skip"
    }
   },
   "source": [
    "- A DataFrame is a rectangular table of data and contains columns, each of which can be a different value type (numeric, string, boolean, etc.). \n",
    "\n",
    "- The rows and columns can be selected from DataFrames using various functions in the pandas library."
   ]
  },
  {
   "cell_type": "markdown",
   "metadata": {
    "slideshow": {
     "slide_type": "slide"
    }
   },
   "source": [
    "# Today's Question: Do Primate meat-eaters have different body sizes compared to Carnivora meat-eaters?\n",
    "\n",
    "![](images/carnivores.svg)"
   ]
  },
  {
   "cell_type": "markdown",
   "metadata": {
    "slideshow": {
     "slide_type": "slide"
    }
   },
   "source": [
    "## What data do we need for this?"
   ]
  },
  {
   "cell_type": "code",
   "execution_count": 28,
   "metadata": {
    "scrolled": true,
    "slideshow": {
     "slide_type": "fragment"
    }
   },
   "outputs": [
    {
     "data": {
      "text/plain": [
       "Index(['MSW05_Order', 'MSW05_Family', 'MSW05_Genus', 'MSW05_Species',\n",
       "       'MSW05_Binomial', '1-1_ActivityCycle', '5-1_AdultBodyMass_g',\n",
       "       '8-1_AdultForearmLen_mm', '13-1_AdultHeadBodyLen_mm',\n",
       "       '2-1_AgeatEyeOpening_d', '3-1_AgeatFirstBirth_d',\n",
       "       '18-1_BasalMetRate_mLO2hr', '5-2_BasalMetRateMass_g', '6-1_DietBreadth',\n",
       "       '7-1_DispersalAge_d', '9-1_GestationLen_d', '12-1_HabitatBreadth',\n",
       "       '22-1_HomeRange_km2', '22-2_HomeRange_Indiv_km2',\n",
       "       '14-1_InterbirthInterval_d', '15-1_LitterSize', '16-1_LittersPerYear',\n",
       "       '17-1_MaxLongevity_m', '5-3_NeonateBodyMass_g',\n",
       "       '13-2_NeonateHeadBodyLen_mm', '21-1_PopulationDensity_n/km2',\n",
       "       '10-1_PopulationGrpSize', '23-1_SexualMaturityAge_d',\n",
       "       '10-2_SocialGrpSize', '24-1_TeatNumber', '12-2_Terrestriality',\n",
       "       '6-2_TrophicLevel', '25-1_WeaningAge_d', '5-4_WeaningBodyMass_g',\n",
       "       '13-3_WeaningHeadBodyLen_mm', 'References', '5-5_AdultBodyMass_g_EXT',\n",
       "       '16-2_LittersPerYear_EXT', '5-6_NeonateBodyMass_g_EXT',\n",
       "       '5-7_WeaningBodyMass_g_EXT', '26-1_GR_Area_km2', '26-2_GR_MaxLat_dd',\n",
       "       '26-3_GR_MinLat_dd', '26-4_GR_MidRangeLat_dd', '26-5_GR_MaxLong_dd',\n",
       "       '26-6_GR_MinLong_dd', '26-7_GR_MidRangeLong_dd',\n",
       "       '27-1_HuPopDen_Min_n/km2', '27-2_HuPopDen_Mean_n/km2',\n",
       "       '27-3_HuPopDen_5p_n/km2', '27-4_HuPopDen_Change', '28-1_Precip_Mean_mm',\n",
       "       '28-2_Temp_Mean_01degC', '30-1_AET_Mean_mm', '30-2_PET_Mean_mm'],\n",
       "      dtype='object')"
      ]
     },
     "execution_count": 28,
     "metadata": {},
     "output_type": "execute_result"
    }
   ],
   "source": [
    "# let's see what we have:\n",
    "pantheria.columns"
   ]
  },
  {
   "cell_type": "markdown",
   "metadata": {
    "slideshow": {
     "slide_type": "slide"
    }
   },
   "source": [
    "# 🤖 ¡ ¡ O V E R L 0 4 D ! ! 🤖 \n",
    "\n"
   ]
  },
  {
   "cell_type": "markdown",
   "metadata": {
    "slideshow": {
     "slide_type": "fragment"
    }
   },
   "source": [
    "- Need to make some decisions\n",
    " - 'metadata': https://esapubs.org/archive/ecol/E090/184/metadata.htm\n",
    "- Can refer to this ^ to pick some variables to focus on\n",
    "- We will pick a few out for this week"
   ]
  },
  {
   "cell_type": "markdown",
   "metadata": {
    "slideshow": {
     "slide_type": "slide"
    }
   },
   "source": [
    "# Simplify our dataset\n",
    "\n",
    "## Selecting Columns from a pandas data frame\n",
    "\n",
    "In order to create an easy to use data set we will only keep the following columns:\n",
    "\n",
    "- `MSW05_Order` (higher taxonomic grouping), \n",
    "- `MSW05_Genus` (name of genus), \n",
    "- `MSW05_Species` (name of species), \n",
    "- `5-1_AdultBodyMass_g` (average body mass within species), \n",
    "- `24-1_TeatNumber` (number of teats), \n",
    "- `6-2_TrophicLevel` (herbivore vs carnivore, etc), \n",
    "- `25-1_WeaningAge_d` (average age when infants are weaned)\n",
    "- `15-1_LitterSize` (how many offspring are birthed in each litter)"
   ]
  },
  {
   "cell_type": "markdown",
   "metadata": {
    "slideshow": {
     "slide_type": "slide"
    }
   },
   "source": [
    "Let's put all these column names in a list called `important_columns`."
   ]
  },
  {
   "cell_type": "code",
   "execution_count": 98,
   "metadata": {
    "slideshow": {
     "slide_type": "fragment"
    }
   },
   "outputs": [],
   "source": [
    "# make a list of strings corresponding to the names of columns we want to extract\n",
    "important_columns = [\"MSW05_Order\",\"MSW05_Genus\",\"MSW05_Species\",\"5-1_AdultBodyMass_g\",\"24-1_TeatNumber\",\"6-2_TrophicLevel\",\"25-1_WeaningAge_d\",\"15-1_LitterSize\"]"
   ]
  },
  {
   "cell_type": "code",
   "execution_count": 100,
   "metadata": {},
   "outputs": [
    {
     "data": {
      "text/plain": [
       "list"
      ]
     },
     "execution_count": 100,
     "metadata": {},
     "output_type": "execute_result"
    }
   ],
   "source": [
    "type(important_columns)"
   ]
  },
  {
   "cell_type": "code",
   "execution_count": 104,
   "metadata": {
    "slideshow": {
     "slide_type": "fragment"
    }
   },
   "outputs": [
    {
     "name": "stdout",
     "output_type": "stream",
     "text": [
      "(5416, 8)\n"
     ]
    },
    {
     "data": {
      "text/plain": [
       "(5416, 55)"
      ]
     },
     "execution_count": 104,
     "metadata": {},
     "output_type": "execute_result"
    }
   ],
   "source": [
    "sub_pantheria = pantheria[important_columns]\n",
    "sub_pantheria.head()\n",
    "print(sub_pantheria.shape)\n",
    "pantheria.shape"
   ]
  },
  {
   "cell_type": "markdown",
   "metadata": {
    "slideshow": {
     "slide_type": "slide"
    }
   },
   "source": [
    "## Let's make sure things came out right"
   ]
  },
  {
   "cell_type": "code",
   "execution_count": 31,
   "metadata": {
    "slideshow": {
     "slide_type": "fragment"
    }
   },
   "outputs": [
    {
     "name": "stdout",
     "output_type": "stream",
     "text": [
      "num columns in dataframe `pantheria`:  55\n"
     ]
    }
   ],
   "source": [
    "print(\"num columns in dataframe `pantheria`: \",len(pantheria.columns))\n"
   ]
  },
  {
   "cell_type": "code",
   "execution_count": 32,
   "metadata": {
    "slideshow": {
     "slide_type": "fragment"
    }
   },
   "outputs": [
    {
     "name": "stdout",
     "output_type": "stream",
     "text": [
      "num columns in dataframe `sub_pantheria`:  8\n"
     ]
    }
   ],
   "source": [
    "print(\"num columns in dataframe `sub_pantheria`: \",len(sub_pantheria.columns))"
   ]
  },
  {
   "cell_type": "code",
   "execution_count": 33,
   "metadata": {
    "slideshow": {
     "slide_type": "fragment"
    }
   },
   "outputs": [
    {
     "data": {
      "text/plain": [
       "True"
      ]
     },
     "execution_count": 33,
     "metadata": {},
     "output_type": "execute_result"
    }
   ],
   "source": [
    "# is the number of columns we extracted the same as the number we said we wanted to keep?\n",
    "len(sub_pantheria.columns) == len(important_columns)"
   ]
  },
  {
   "cell_type": "code",
   "execution_count": 34,
   "metadata": {
    "slideshow": {
     "slide_type": "fragment"
    }
   },
   "outputs": [
    {
     "data": {
      "text/plain": [
       "Index(['MSW05_Order', 'MSW05_Genus', 'MSW05_Species', '5-1_AdultBodyMass_g',\n",
       "       '24-1_TeatNumber', '6-2_TrophicLevel', '25-1_WeaningAge_d',\n",
       "       '15-1_LitterSize'],\n",
       "      dtype='object')"
      ]
     },
     "execution_count": 34,
     "metadata": {},
     "output_type": "execute_result"
    }
   ],
   "source": [
    "sub_pantheria.columns"
   ]
  },
  {
   "cell_type": "markdown",
   "metadata": {
    "slideshow": {
     "slide_type": "slide"
    }
   },
   "source": [
    "## Rename columns\n",
    "\n",
    "- Might want to rename columns so they are easier to read. Why?\n",
    "- We will create a `dict` and feed it into the `rename` function to do this\n"
   ]
  },
  {
   "cell_type": "code",
   "execution_count": 35,
   "metadata": {
    "slideshow": {
     "slide_type": "fragment"
    }
   },
   "outputs": [],
   "source": [
    "# keys are orig column names \n",
    "# values are what we will change them to\n",
    "columnnames = {'MSW05_Order': 'order',\n",
    "               'MSW05_Genus': 'genus',\n",
    "               'MSW05_Species': 'species',\n",
    "               '5-1_AdultBodyMass_g': 'body_mass_g',\n",
    "               '24-1_TeatNumber': 'teat_number',\n",
    "               '6-2_TrophicLevel': 'trophic_level',\n",
    "               '25-1_WeaningAge_d': 'weaning_age_d',\n",
    "               '15-1_LitterSize': 'litter_size'}"
   ]
  },
  {
   "cell_type": "code",
   "execution_count": 106,
   "metadata": {
    "slideshow": {
     "slide_type": "fragment"
    }
   },
   "outputs": [
    {
     "data": {
      "text/html": [
       "<div>\n",
       "<style scoped>\n",
       "    .dataframe tbody tr th:only-of-type {\n",
       "        vertical-align: middle;\n",
       "    }\n",
       "\n",
       "    .dataframe tbody tr th {\n",
       "        vertical-align: top;\n",
       "    }\n",
       "\n",
       "    .dataframe thead th {\n",
       "        text-align: right;\n",
       "    }\n",
       "</style>\n",
       "<table border=\"1\" class=\"dataframe\">\n",
       "  <thead>\n",
       "    <tr style=\"text-align: right;\">\n",
       "      <th></th>\n",
       "      <th>order</th>\n",
       "      <th>genus</th>\n",
       "      <th>species</th>\n",
       "      <th>body_mass_g</th>\n",
       "      <th>teat_number</th>\n",
       "      <th>trophic_level</th>\n",
       "      <th>weaning_age_d</th>\n",
       "      <th>litter_size</th>\n",
       "    </tr>\n",
       "  </thead>\n",
       "  <tbody>\n",
       "    <tr>\n",
       "      <th>0</th>\n",
       "      <td>Artiodactyla</td>\n",
       "      <td>Camelus</td>\n",
       "      <td>dromedarius</td>\n",
       "      <td>492714.47</td>\n",
       "      <td>NaN</td>\n",
       "      <td>1.0</td>\n",
       "      <td>389.38</td>\n",
       "      <td>0.98</td>\n",
       "    </tr>\n",
       "    <tr>\n",
       "      <th>1</th>\n",
       "      <td>Carnivora</td>\n",
       "      <td>Canis</td>\n",
       "      <td>adustus</td>\n",
       "      <td>10392.49</td>\n",
       "      <td>8.0</td>\n",
       "      <td>2.0</td>\n",
       "      <td>52.89</td>\n",
       "      <td>4.50</td>\n",
       "    </tr>\n",
       "    <tr>\n",
       "      <th>2</th>\n",
       "      <td>Carnivora</td>\n",
       "      <td>Canis</td>\n",
       "      <td>aureus</td>\n",
       "      <td>9658.70</td>\n",
       "      <td>8.0</td>\n",
       "      <td>2.0</td>\n",
       "      <td>61.30</td>\n",
       "      <td>3.74</td>\n",
       "    </tr>\n",
       "    <tr>\n",
       "      <th>3</th>\n",
       "      <td>Carnivora</td>\n",
       "      <td>Canis</td>\n",
       "      <td>latrans</td>\n",
       "      <td>11989.10</td>\n",
       "      <td>8.0</td>\n",
       "      <td>3.0</td>\n",
       "      <td>43.71</td>\n",
       "      <td>5.72</td>\n",
       "    </tr>\n",
       "    <tr>\n",
       "      <th>4</th>\n",
       "      <td>Carnivora</td>\n",
       "      <td>Canis</td>\n",
       "      <td>lupus</td>\n",
       "      <td>31756.51</td>\n",
       "      <td>9.0</td>\n",
       "      <td>3.0</td>\n",
       "      <td>44.82</td>\n",
       "      <td>4.98</td>\n",
       "    </tr>\n",
       "  </tbody>\n",
       "</table>\n",
       "</div>"
      ],
      "text/plain": [
       "          order    genus      species  body_mass_g  teat_number  \\\n",
       "0  Artiodactyla  Camelus  dromedarius    492714.47          NaN   \n",
       "1     Carnivora    Canis      adustus     10392.49          8.0   \n",
       "2     Carnivora    Canis       aureus      9658.70          8.0   \n",
       "3     Carnivora    Canis      latrans     11989.10          8.0   \n",
       "4     Carnivora    Canis        lupus     31756.51          9.0   \n",
       "\n",
       "   trophic_level  weaning_age_d  litter_size  \n",
       "0            1.0         389.38         0.98  \n",
       "1            2.0          52.89         4.50  \n",
       "2            2.0          61.30         3.74  \n",
       "3            3.0          43.71         5.72  \n",
       "4            3.0          44.82         4.98  "
      ]
     },
     "execution_count": 106,
     "metadata": {},
     "output_type": "execute_result"
    }
   ],
   "source": [
    "# provide `.rename()` with our dictionary to rename the columns in our df\n",
    "sub_pantheria_col_names = sub_pantheria.rename(columns= columnnames)\n",
    "sub_pantheria_col_names.head()"
   ]
  },
  {
   "cell_type": "markdown",
   "metadata": {
    "slideshow": {
     "slide_type": "slide"
    }
   },
   "source": [
    "## What's happened so far?\n",
    "\n",
    "1.  Read the text file named `pantheria.txt` (with values separated by tabs) into python using the pandas function `read_csv()`\n",
    "\n",
    "2. Selected eight columns and made a new data frame called `sub_pantheria`\n",
    "\n",
    "3. We renamed the columns in `sub_pantheria` \n",
    "\n",
    "4. Assigned the data frame with renamed columns to the variable `sub_pantheria_col_names`."
   ]
  },
  {
   "cell_type": "markdown",
   "metadata": {
    "slideshow": {
     "slide_type": "slide"
    }
   },
   "source": [
    "So, let's check our new spiffy column names of `sub_patheria_col_names`:"
   ]
  },
  {
   "cell_type": "code",
   "execution_count": 37,
   "metadata": {
    "slideshow": {
     "slide_type": "fragment"
    }
   },
   "outputs": [
    {
     "data": {
      "text/html": [
       "<div>\n",
       "<style scoped>\n",
       "    .dataframe tbody tr th:only-of-type {\n",
       "        vertical-align: middle;\n",
       "    }\n",
       "\n",
       "    .dataframe tbody tr th {\n",
       "        vertical-align: top;\n",
       "    }\n",
       "\n",
       "    .dataframe thead th {\n",
       "        text-align: right;\n",
       "    }\n",
       "</style>\n",
       "<table border=\"1\" class=\"dataframe\">\n",
       "  <thead>\n",
       "    <tr style=\"text-align: right;\">\n",
       "      <th></th>\n",
       "      <th>order</th>\n",
       "      <th>genus</th>\n",
       "      <th>species</th>\n",
       "      <th>body_mass_g</th>\n",
       "      <th>teat_number</th>\n",
       "      <th>trophic_level</th>\n",
       "      <th>weaning_age_d</th>\n",
       "      <th>litter_size</th>\n",
       "    </tr>\n",
       "  </thead>\n",
       "  <tbody>\n",
       "    <tr>\n",
       "      <th>0</th>\n",
       "      <td>Artiodactyla</td>\n",
       "      <td>Camelus</td>\n",
       "      <td>dromedarius</td>\n",
       "      <td>492714.47</td>\n",
       "      <td>NaN</td>\n",
       "      <td>1.0</td>\n",
       "      <td>389.38</td>\n",
       "      <td>0.98</td>\n",
       "    </tr>\n",
       "    <tr>\n",
       "      <th>1</th>\n",
       "      <td>Carnivora</td>\n",
       "      <td>Canis</td>\n",
       "      <td>adustus</td>\n",
       "      <td>10392.49</td>\n",
       "      <td>8.0</td>\n",
       "      <td>2.0</td>\n",
       "      <td>52.89</td>\n",
       "      <td>4.50</td>\n",
       "    </tr>\n",
       "    <tr>\n",
       "      <th>2</th>\n",
       "      <td>Carnivora</td>\n",
       "      <td>Canis</td>\n",
       "      <td>aureus</td>\n",
       "      <td>9658.70</td>\n",
       "      <td>8.0</td>\n",
       "      <td>2.0</td>\n",
       "      <td>61.30</td>\n",
       "      <td>3.74</td>\n",
       "    </tr>\n",
       "    <tr>\n",
       "      <th>3</th>\n",
       "      <td>Carnivora</td>\n",
       "      <td>Canis</td>\n",
       "      <td>latrans</td>\n",
       "      <td>11989.10</td>\n",
       "      <td>8.0</td>\n",
       "      <td>3.0</td>\n",
       "      <td>43.71</td>\n",
       "      <td>5.72</td>\n",
       "    </tr>\n",
       "    <tr>\n",
       "      <th>4</th>\n",
       "      <td>Carnivora</td>\n",
       "      <td>Canis</td>\n",
       "      <td>lupus</td>\n",
       "      <td>31756.51</td>\n",
       "      <td>9.0</td>\n",
       "      <td>3.0</td>\n",
       "      <td>44.82</td>\n",
       "      <td>4.98</td>\n",
       "    </tr>\n",
       "  </tbody>\n",
       "</table>\n",
       "</div>"
      ],
      "text/plain": [
       "          order    genus      species  body_mass_g  teat_number  \\\n",
       "0  Artiodactyla  Camelus  dromedarius    492714.47          NaN   \n",
       "1     Carnivora    Canis      adustus     10392.49          8.0   \n",
       "2     Carnivora    Canis       aureus      9658.70          8.0   \n",
       "3     Carnivora    Canis      latrans     11989.10          8.0   \n",
       "4     Carnivora    Canis        lupus     31756.51          9.0   \n",
       "\n",
       "   trophic_level  weaning_age_d  litter_size  \n",
       "0            1.0         389.38         0.98  \n",
       "1            2.0          52.89         4.50  \n",
       "2            2.0          61.30         3.74  \n",
       "3            3.0          43.71         5.72  \n",
       "4            3.0          44.82         4.98  "
      ]
     },
     "execution_count": 37,
     "metadata": {},
     "output_type": "execute_result"
    }
   ],
   "source": [
    "sub_pantheria_col_names.head()"
   ]
  },
  {
   "cell_type": "markdown",
   "metadata": {
    "slideshow": {
     "slide_type": "slide"
    },
    "tags": []
   },
   "source": [
    "## &#9989; Self check \n",
    "\n",
    "\n"
   ]
  },
  {
   "cell_type": "code",
   "execution_count": 108,
   "metadata": {},
   "outputs": [
    {
     "data": {
      "text/html": [
       "<div>\n",
       "<style scoped>\n",
       "    .dataframe tbody tr th:only-of-type {\n",
       "        vertical-align: middle;\n",
       "    }\n",
       "\n",
       "    .dataframe tbody tr th {\n",
       "        vertical-align: top;\n",
       "    }\n",
       "\n",
       "    .dataframe thead th {\n",
       "        text-align: right;\n",
       "    }\n",
       "</style>\n",
       "<table border=\"1\" class=\"dataframe\">\n",
       "  <thead>\n",
       "    <tr style=\"text-align: right;\">\n",
       "      <th></th>\n",
       "      <th>order</th>\n",
       "      <th>genus</th>\n",
       "      <th>species</th>\n",
       "      <th>body_mass_g</th>\n",
       "      <th>teat_number</th>\n",
       "      <th>trophic_level</th>\n",
       "      <th>weaning_age_d</th>\n",
       "      <th>litter_size</th>\n",
       "    </tr>\n",
       "  </thead>\n",
       "  <tbody>\n",
       "    <tr>\n",
       "      <th>0</th>\n",
       "      <td>Artiodactyla</td>\n",
       "      <td>Camelus</td>\n",
       "      <td>dromedarius</td>\n",
       "      <td>492714.47</td>\n",
       "      <td>NaN</td>\n",
       "      <td>1.0</td>\n",
       "      <td>389.38</td>\n",
       "      <td>0.98</td>\n",
       "    </tr>\n",
       "    <tr>\n",
       "      <th>1</th>\n",
       "      <td>Carnivora</td>\n",
       "      <td>Canis</td>\n",
       "      <td>adustus</td>\n",
       "      <td>10392.49</td>\n",
       "      <td>8.0</td>\n",
       "      <td>2.0</td>\n",
       "      <td>52.89</td>\n",
       "      <td>4.50</td>\n",
       "    </tr>\n",
       "    <tr>\n",
       "      <th>2</th>\n",
       "      <td>Carnivora</td>\n",
       "      <td>Canis</td>\n",
       "      <td>aureus</td>\n",
       "      <td>9658.70</td>\n",
       "      <td>8.0</td>\n",
       "      <td>2.0</td>\n",
       "      <td>61.30</td>\n",
       "      <td>3.74</td>\n",
       "    </tr>\n",
       "    <tr>\n",
       "      <th>3</th>\n",
       "      <td>Carnivora</td>\n",
       "      <td>Canis</td>\n",
       "      <td>latrans</td>\n",
       "      <td>11989.10</td>\n",
       "      <td>8.0</td>\n",
       "      <td>3.0</td>\n",
       "      <td>43.71</td>\n",
       "      <td>5.72</td>\n",
       "    </tr>\n",
       "    <tr>\n",
       "      <th>4</th>\n",
       "      <td>Carnivora</td>\n",
       "      <td>Canis</td>\n",
       "      <td>lupus</td>\n",
       "      <td>31756.51</td>\n",
       "      <td>9.0</td>\n",
       "      <td>3.0</td>\n",
       "      <td>44.82</td>\n",
       "      <td>4.98</td>\n",
       "    </tr>\n",
       "    <tr>\n",
       "      <th>...</th>\n",
       "      <td>...</td>\n",
       "      <td>...</td>\n",
       "      <td>...</td>\n",
       "      <td>...</td>\n",
       "      <td>...</td>\n",
       "      <td>...</td>\n",
       "      <td>...</td>\n",
       "      <td>...</td>\n",
       "    </tr>\n",
       "    <tr>\n",
       "      <th>5411</th>\n",
       "      <td>Rodentia</td>\n",
       "      <td>Zyzomys</td>\n",
       "      <td>argurus</td>\n",
       "      <td>40.42</td>\n",
       "      <td>4.0</td>\n",
       "      <td>NaN</td>\n",
       "      <td>34.99</td>\n",
       "      <td>2.76</td>\n",
       "    </tr>\n",
       "    <tr>\n",
       "      <th>5412</th>\n",
       "      <td>Rodentia</td>\n",
       "      <td>Zyzomys</td>\n",
       "      <td>maini</td>\n",
       "      <td>93.99</td>\n",
       "      <td>NaN</td>\n",
       "      <td>NaN</td>\n",
       "      <td>NaN</td>\n",
       "      <td>NaN</td>\n",
       "    </tr>\n",
       "    <tr>\n",
       "      <th>5413</th>\n",
       "      <td>Rodentia</td>\n",
       "      <td>Zyzomys</td>\n",
       "      <td>palatilis</td>\n",
       "      <td>123.00</td>\n",
       "      <td>NaN</td>\n",
       "      <td>NaN</td>\n",
       "      <td>NaN</td>\n",
       "      <td>NaN</td>\n",
       "    </tr>\n",
       "    <tr>\n",
       "      <th>5414</th>\n",
       "      <td>Rodentia</td>\n",
       "      <td>Zyzomys</td>\n",
       "      <td>pedunculatus</td>\n",
       "      <td>100.00</td>\n",
       "      <td>4.0</td>\n",
       "      <td>NaN</td>\n",
       "      <td>NaN</td>\n",
       "      <td>NaN</td>\n",
       "    </tr>\n",
       "    <tr>\n",
       "      <th>5415</th>\n",
       "      <td>Rodentia</td>\n",
       "      <td>Zyzomys</td>\n",
       "      <td>woodwardi</td>\n",
       "      <td>95.02</td>\n",
       "      <td>4.0</td>\n",
       "      <td>NaN</td>\n",
       "      <td>34.99</td>\n",
       "      <td>2.23</td>\n",
       "    </tr>\n",
       "  </tbody>\n",
       "</table>\n",
       "<p>5416 rows × 8 columns</p>\n",
       "</div>"
      ],
      "text/plain": [
       "             order    genus       species  body_mass_g  teat_number  \\\n",
       "0     Artiodactyla  Camelus   dromedarius    492714.47          NaN   \n",
       "1        Carnivora    Canis       adustus     10392.49          8.0   \n",
       "2        Carnivora    Canis        aureus      9658.70          8.0   \n",
       "3        Carnivora    Canis       latrans     11989.10          8.0   \n",
       "4        Carnivora    Canis         lupus     31756.51          9.0   \n",
       "...            ...      ...           ...          ...          ...   \n",
       "5411      Rodentia  Zyzomys       argurus        40.42          4.0   \n",
       "5412      Rodentia  Zyzomys         maini        93.99          NaN   \n",
       "5413      Rodentia  Zyzomys     palatilis       123.00          NaN   \n",
       "5414      Rodentia  Zyzomys  pedunculatus       100.00          4.0   \n",
       "5415      Rodentia  Zyzomys     woodwardi        95.02          4.0   \n",
       "\n",
       "      trophic_level  weaning_age_d  litter_size  \n",
       "0               1.0         389.38         0.98  \n",
       "1               2.0          52.89         4.50  \n",
       "2               2.0          61.30         3.74  \n",
       "3               3.0          43.71         5.72  \n",
       "4               3.0          44.82         4.98  \n",
       "...             ...            ...          ...  \n",
       "5411            NaN          34.99         2.76  \n",
       "5412            NaN            NaN          NaN  \n",
       "5413            NaN            NaN          NaN  \n",
       "5414            NaN            NaN          NaN  \n",
       "5415            NaN          34.99         2.23  \n",
       "\n",
       "[5416 rows x 8 columns]"
      ]
     },
     "execution_count": 108,
     "metadata": {},
     "output_type": "execute_result"
    }
   ],
   "source": [
    "sub_pantheria_col_names"
   ]
  },
  {
   "cell_type": "markdown",
   "metadata": {
    "slideshow": {
     "slide_type": "fragment"
    }
   },
   "source": [
    "- What is the data type of `list(sub_pantheria_col_names)`?  \n"
   ]
  },
  {
   "cell_type": "markdown",
   "metadata": {
    "slideshow": {
     "slide_type": "fragment"
    }
   },
   "source": [
    "- What python function can be used to check the number columns in `sub_pantheria_col_names`?"
   ]
  },
  {
   "cell_type": "code",
   "execution_count": 113,
   "metadata": {},
   "outputs": [
    {
     "data": {
      "text/plain": [
       "8"
      ]
     },
     "execution_count": 113,
     "metadata": {},
     "output_type": "execute_result"
    }
   ],
   "source": [
    "len(sub_pantheria_col_names.columns)"
   ]
  },
  {
   "cell_type": "markdown",
   "metadata": {
    "slideshow": {
     "slide_type": "slide"
    }
   },
   "source": [
    "# DataFrame `shape`\n",
    "\n",
    "The `DataFrame.shape` function computes `(the number of rows, number of columns)` in a `pandas` DataFrame."
   ]
  },
  {
   "cell_type": "code",
   "execution_count": 38,
   "metadata": {
    "slideshow": {
     "slide_type": "fragment"
    }
   },
   "outputs": [
    {
     "data": {
      "text/plain": [
       "(5416, 8)"
      ]
     },
     "execution_count": 38,
     "metadata": {},
     "output_type": "execute_result"
    }
   ],
   "source": [
    "sub_pantheria_col_names.shape"
   ]
  },
  {
   "cell_type": "markdown",
   "metadata": {
    "slideshow": {
     "slide_type": "fragment"
    }
   },
   "source": [
    "There are 5416 rows and 8 columns in `sub_pantheria_col_names`."
   ]
  },
  {
   "cell_type": "markdown",
   "metadata": {
    "slideshow": {
     "slide_type": "slide"
    }
   },
   "source": [
    "# Back to the question ...\n",
    "\n",
    "**Do Primate meat-eaters have different body sizes compared to Carnivora meat-eaters?**\n",
    "\n",
    "![](https://media2.giphy.com/media/4k5gSMvd1yr60/giphy.gif?cid=ecf05e470k73i97kb06nv4pwbo2dsjjkjnhhs1os6gphzvml&rid=giphy.gif&ct=g)\n"
   ]
  },
  {
   "cell_type": "code",
   "execution_count": 39,
   "metadata": {
    "slideshow": {
     "slide_type": "subslide"
    }
   },
   "outputs": [
    {
     "data": {
      "text/plain": [
       "['order',\n",
       " 'genus',\n",
       " 'species',\n",
       " 'body_mass_g',\n",
       " 'teat_number',\n",
       " 'trophic_level',\n",
       " 'weaning_age_d',\n",
       " 'litter_size']"
      ]
     },
     "execution_count": 39,
     "metadata": {},
     "output_type": "execute_result"
    }
   ],
   "source": [
    "list(sub_pantheria_col_names)"
   ]
  },
  {
   "cell_type": "markdown",
   "metadata": {
    "slideshow": {
     "slide_type": "subslide"
    }
   },
   "source": [
    "Which variables should we focus on?"
   ]
  },
  {
   "cell_type": "markdown",
   "metadata": {
    "slideshow": {
     "slide_type": "slide"
    }
   },
   "source": [
    "## Extracting our data\n",
    "\n",
    "- In order to compare our two taxa (Primates and Carnivorans), we will need to learn some new techniques...\n",
    "- **Boolean logic**\n",
    "  + System of algebra/logic using values of `True` and `False` rather than numbers\n",
    "  + Absolutely fundamental concept for the computational sciences\n",
    "  + Named after George Boole\n",
    "  + This is one of the conceptual foundations of computation"
   ]
  },
  {
   "cell_type": "markdown",
   "metadata": {
    "slideshow": {
     "slide_type": "slide"
    }
   },
   "source": [
    "# A brief aside \n",
    "\n",
    "![](images/programmers.svg)\n"
   ]
  },
  {
   "cell_type": "markdown",
   "metadata": {},
   "source": [
    "# A brief aside \n",
    "\n",
    "![](images/eniac.svg)\n"
   ]
  },
  {
   "cell_type": "markdown",
   "metadata": {
    "slideshow": {
     "slide_type": "slide"
    }
   },
   "source": [
    "# Boolean variables\n",
    "\n",
    "- Is a condition `True` or `False`?\n",
    "- Python has notation for checking this:\n",
    "  + `a == b` -> \"a is equal to b\"\n",
    "  + `a != b` -> \"a is not equal to b\"\n"
   ]
  },
  {
   "cell_type": "code",
   "execution_count": 116,
   "metadata": {},
   "outputs": [
    {
     "data": {
      "text/plain": [
       "int"
      ]
     },
     "execution_count": 116,
     "metadata": {},
     "output_type": "execute_result"
    }
   ],
   "source": [
    "type(1)"
   ]
  },
  {
   "cell_type": "code",
   "execution_count": 120,
   "metadata": {
    "slideshow": {
     "slide_type": "slide"
    }
   },
   "outputs": [
    {
     "data": {
      "text/plain": [
       "True"
      ]
     },
     "execution_count": 120,
     "metadata": {},
     "output_type": "execute_result"
    }
   ],
   "source": [
    "# We can compare numeric values:\n",
    "1 == 1.0"
   ]
  },
  {
   "cell_type": "code",
   "execution_count": 122,
   "metadata": {
    "slideshow": {
     "slide_type": "slide"
    }
   },
   "outputs": [
    {
     "data": {
      "text/plain": [
       "False"
      ]
     },
     "execution_count": 122,
     "metadata": {},
     "output_type": "execute_result"
    }
   ],
   "source": [
    "# We can also compare strings:\n",
    "\"star wars\" == \"star trek\"\n"
   ]
  },
  {
   "cell_type": "code",
   "execution_count": 123,
   "metadata": {
    "slideshow": {
     "slide_type": "slide"
    }
   },
   "outputs": [
    {
     "data": {
      "text/plain": [
       "bool"
      ]
     },
     "execution_count": 123,
     "metadata": {},
     "output_type": "execute_result"
    }
   ],
   "source": [
    "# booleans are their own type in python\n",
    "\n",
    "type(1 == 1)"
   ]
  },
  {
   "cell_type": "code",
   "execution_count": 128,
   "metadata": {
    "slideshow": {
     "slide_type": "slide"
    }
   },
   "outputs": [
    {
     "data": {
      "text/plain": [
       "False"
      ]
     },
     "execution_count": 128,
     "metadata": {},
     "output_type": "execute_result"
    }
   ],
   "source": [
    "# this means we can assign them to variables\n",
    "\n",
    "isequal = 1==2\n",
    "isequal"
   ]
  },
  {
   "cell_type": "markdown",
   "metadata": {
    "slideshow": {
     "slide_type": "slide"
    }
   },
   "source": [
    "## Using Booleans to extract data\n",
    "\n",
    "We can find the rows that correspond to Primates using Boolean logic\n",
    "    \n",
    "- Find rows that return `True` when the `order` variable is equal to Primates"
   ]
  },
  {
   "cell_type": "code",
   "execution_count": 44,
   "metadata": {
    "slideshow": {
     "slide_type": "skip"
    }
   },
   "outputs": [
    {
     "name": "stdout",
     "output_type": "stream",
     "text": [
      "number of primate observations: 376\n",
      "number of carnivoran observations: 286\n"
     ]
    }
   ],
   "source": [
    "print(\"number of primate observations:\",(sub_pantheria_col_names['order'] == 'Primates').sum())\n",
    "print(\"number of carnivoran observations:\",(sub_pantheria_col_names['order'] == 'Carnivora').sum())"
   ]
  },
  {
   "cell_type": "code",
   "execution_count": 45,
   "metadata": {
    "slideshow": {
     "slide_type": "skip"
    }
   },
   "outputs": [
    {
     "data": {
      "text/plain": [
       "0    False\n",
       "1    False\n",
       "2    False\n",
       "3    False\n",
       "4    False\n",
       "Name: order, dtype: bool"
      ]
     },
     "execution_count": 45,
     "metadata": {},
     "output_type": "execute_result"
    }
   ],
   "source": [
    "primates = (sub_pantheria_col_names['order'] == \"Primates\")\n",
    "primates.head()"
   ]
  },
  {
   "cell_type": "markdown",
   "metadata": {
    "slideshow": {
     "slide_type": "skip"
    }
   },
   "source": [
    "376 Primate species in the dataset\n",
    "  + Can use this to pull out the Primate rows from the full dataset\n",
    "  \n",
    "```\n",
    ">>>primates.value_counts()\n",
    "```\n",
    "\n",
    "```\n",
    "False    5040\n",
    "True      376\n",
    "Name: order, dtype: int64\n",
    "```"
   ]
  },
  {
   "cell_type": "code",
   "execution_count": 46,
   "metadata": {
    "slideshow": {
     "slide_type": "skip"
    }
   },
   "outputs": [
    {
     "data": {
      "text/html": [
       "<div>\n",
       "<style scoped>\n",
       "    .dataframe tbody tr th:only-of-type {\n",
       "        vertical-align: middle;\n",
       "    }\n",
       "\n",
       "    .dataframe tbody tr th {\n",
       "        vertical-align: top;\n",
       "    }\n",
       "\n",
       "    .dataframe thead th {\n",
       "        text-align: right;\n",
       "    }\n",
       "</style>\n",
       "<table border=\"1\" class=\"dataframe\">\n",
       "  <thead>\n",
       "    <tr style=\"text-align: right;\">\n",
       "      <th></th>\n",
       "      <th>order</th>\n",
       "      <th>genus</th>\n",
       "      <th>species</th>\n",
       "      <th>body_mass_g</th>\n",
       "      <th>teat_number</th>\n",
       "      <th>trophic_level</th>\n",
       "      <th>weaning_age_d</th>\n",
       "      <th>litter_size</th>\n",
       "    </tr>\n",
       "  </thead>\n",
       "  <tbody>\n",
       "    <tr>\n",
       "      <th>8</th>\n",
       "      <td>Primates</td>\n",
       "      <td>Callicebus</td>\n",
       "      <td>cupreus</td>\n",
       "      <td>1117.02</td>\n",
       "      <td>NaN</td>\n",
       "      <td>NaN</td>\n",
       "      <td>201.85</td>\n",
       "      <td>1.01</td>\n",
       "    </tr>\n",
       "    <tr>\n",
       "      <th>9</th>\n",
       "      <td>Primates</td>\n",
       "      <td>Callicebus</td>\n",
       "      <td>discolor</td>\n",
       "      <td>NaN</td>\n",
       "      <td>NaN</td>\n",
       "      <td>NaN</td>\n",
       "      <td>NaN</td>\n",
       "      <td>NaN</td>\n",
       "    </tr>\n",
       "    <tr>\n",
       "      <th>10</th>\n",
       "      <td>Primates</td>\n",
       "      <td>Callicebus</td>\n",
       "      <td>donacophilus</td>\n",
       "      <td>897.67</td>\n",
       "      <td>NaN</td>\n",
       "      <td>NaN</td>\n",
       "      <td>NaN</td>\n",
       "      <td>1.02</td>\n",
       "    </tr>\n",
       "    <tr>\n",
       "      <th>11</th>\n",
       "      <td>Primates</td>\n",
       "      <td>Callicebus</td>\n",
       "      <td>dubius</td>\n",
       "      <td>992.40</td>\n",
       "      <td>NaN</td>\n",
       "      <td>NaN</td>\n",
       "      <td>NaN</td>\n",
       "      <td>1.02</td>\n",
       "    </tr>\n",
       "    <tr>\n",
       "      <th>12</th>\n",
       "      <td>Primates</td>\n",
       "      <td>Callicebus</td>\n",
       "      <td>hoffmannsi</td>\n",
       "      <td>1067.61</td>\n",
       "      <td>NaN</td>\n",
       "      <td>NaN</td>\n",
       "      <td>NaN</td>\n",
       "      <td>1.02</td>\n",
       "    </tr>\n",
       "  </tbody>\n",
       "</table>\n",
       "</div>"
      ],
      "text/plain": [
       "       order       genus       species  body_mass_g  teat_number  \\\n",
       "8   Primates  Callicebus       cupreus      1117.02          NaN   \n",
       "9   Primates  Callicebus      discolor          NaN          NaN   \n",
       "10  Primates  Callicebus  donacophilus       897.67          NaN   \n",
       "11  Primates  Callicebus        dubius       992.40          NaN   \n",
       "12  Primates  Callicebus    hoffmannsi      1067.61          NaN   \n",
       "\n",
       "    trophic_level  weaning_age_d  litter_size  \n",
       "8             NaN         201.85         1.01  \n",
       "9             NaN            NaN          NaN  \n",
       "10            NaN            NaN         1.02  \n",
       "11            NaN            NaN         1.02  \n",
       "12            NaN            NaN         1.02  "
      ]
     },
     "execution_count": 46,
     "metadata": {},
     "output_type": "execute_result"
    }
   ],
   "source": [
    "sub_pantheria_col_names[primates == True].head()"
   ]
  },
  {
   "cell_type": "markdown",
   "metadata": {
    "slideshow": {
     "slide_type": "skip"
    }
   },
   "source": [
    "`primates == True` \n",
    "\n",
    "is the same as the condition \n",
    "\n",
    "`sub_pantheria_col_names[\"order\"] == \"Primates\"`, \n",
    "\n",
    "since \n",
    "\n",
    "`primates = (sub_pantheria_col_names['order'] == \"Primates\")`\n",
    "\n",
    "_The important thing here is that we are substituting a variable._"
   ]
  },
  {
   "cell_type": "code",
   "execution_count": 47,
   "metadata": {
    "slideshow": {
     "slide_type": "skip"
    }
   },
   "outputs": [
    {
     "data": {
      "text/html": [
       "<div>\n",
       "<style scoped>\n",
       "    .dataframe tbody tr th:only-of-type {\n",
       "        vertical-align: middle;\n",
       "    }\n",
       "\n",
       "    .dataframe tbody tr th {\n",
       "        vertical-align: top;\n",
       "    }\n",
       "\n",
       "    .dataframe thead th {\n",
       "        text-align: right;\n",
       "    }\n",
       "</style>\n",
       "<table border=\"1\" class=\"dataframe\">\n",
       "  <thead>\n",
       "    <tr style=\"text-align: right;\">\n",
       "      <th></th>\n",
       "      <th>order</th>\n",
       "      <th>genus</th>\n",
       "      <th>species</th>\n",
       "      <th>body_mass_g</th>\n",
       "      <th>teat_number</th>\n",
       "      <th>trophic_level</th>\n",
       "      <th>weaning_age_d</th>\n",
       "      <th>litter_size</th>\n",
       "    </tr>\n",
       "  </thead>\n",
       "  <tbody>\n",
       "    <tr>\n",
       "      <th>8</th>\n",
       "      <td>Primates</td>\n",
       "      <td>Callicebus</td>\n",
       "      <td>cupreus</td>\n",
       "      <td>1117.02</td>\n",
       "      <td>NaN</td>\n",
       "      <td>NaN</td>\n",
       "      <td>201.85</td>\n",
       "      <td>1.01</td>\n",
       "    </tr>\n",
       "    <tr>\n",
       "      <th>9</th>\n",
       "      <td>Primates</td>\n",
       "      <td>Callicebus</td>\n",
       "      <td>discolor</td>\n",
       "      <td>NaN</td>\n",
       "      <td>NaN</td>\n",
       "      <td>NaN</td>\n",
       "      <td>NaN</td>\n",
       "      <td>NaN</td>\n",
       "    </tr>\n",
       "    <tr>\n",
       "      <th>10</th>\n",
       "      <td>Primates</td>\n",
       "      <td>Callicebus</td>\n",
       "      <td>donacophilus</td>\n",
       "      <td>897.67</td>\n",
       "      <td>NaN</td>\n",
       "      <td>NaN</td>\n",
       "      <td>NaN</td>\n",
       "      <td>1.02</td>\n",
       "    </tr>\n",
       "    <tr>\n",
       "      <th>11</th>\n",
       "      <td>Primates</td>\n",
       "      <td>Callicebus</td>\n",
       "      <td>dubius</td>\n",
       "      <td>992.40</td>\n",
       "      <td>NaN</td>\n",
       "      <td>NaN</td>\n",
       "      <td>NaN</td>\n",
       "      <td>1.02</td>\n",
       "    </tr>\n",
       "    <tr>\n",
       "      <th>12</th>\n",
       "      <td>Primates</td>\n",
       "      <td>Callicebus</td>\n",
       "      <td>hoffmannsi</td>\n",
       "      <td>1067.61</td>\n",
       "      <td>NaN</td>\n",
       "      <td>NaN</td>\n",
       "      <td>NaN</td>\n",
       "      <td>1.02</td>\n",
       "    </tr>\n",
       "  </tbody>\n",
       "</table>\n",
       "</div>"
      ],
      "text/plain": [
       "       order       genus       species  body_mass_g  teat_number  \\\n",
       "8   Primates  Callicebus       cupreus      1117.02          NaN   \n",
       "9   Primates  Callicebus      discolor          NaN          NaN   \n",
       "10  Primates  Callicebus  donacophilus       897.67          NaN   \n",
       "11  Primates  Callicebus        dubius       992.40          NaN   \n",
       "12  Primates  Callicebus    hoffmannsi      1067.61          NaN   \n",
       "\n",
       "    trophic_level  weaning_age_d  litter_size  \n",
       "8             NaN         201.85         1.01  \n",
       "9             NaN            NaN          NaN  \n",
       "10            NaN            NaN         1.02  \n",
       "11            NaN            NaN         1.02  \n",
       "12            NaN            NaN         1.02  "
      ]
     },
     "execution_count": 47,
     "metadata": {},
     "output_type": "execute_result"
    }
   ],
   "source": [
    "sub_pantheria_col_names[sub_pantheria_col_names[\"order\"]==\"Primates\"].head()"
   ]
  },
  {
   "cell_type": "markdown",
   "metadata": {
    "slideshow": {
     "slide_type": "slide"
    }
   },
   "source": [
    "# Selecting Rows\n",
    "\n",
    "- We are interested in analyzing data within primates and within carnivora.\n",
    "\n",
    "<!--\n",
    "![Alt Text](https://media2.giphy.com/media/4k5gSMvd1yr60/giphy.gif?cid=ecf05e470k73i97kb06nv4pwbo2dsjjkjnhhs1os6gphzvml&rid=giphy.gif&ct=g)\n",
    "-->\n",
    "\n",
    "\n",
    "- So, we can select primates and carnivora from the `order` column.  But, how is primate recorded in the data?  Is it Primate, primate, Primates, etc.\n",
    "\n"
   ]
  },
  {
   "cell_type": "markdown",
   "metadata": {
    "slideshow": {
     "slide_type": "slide"
    }
   },
   "source": [
    "The pandas function `str.startswith()` can help us find `order` values that start with `p`. "
   ]
  },
  {
   "cell_type": "code",
   "execution_count": 48,
   "metadata": {
    "slideshow": {
     "slide_type": "fragment"
    }
   },
   "outputs": [],
   "source": [
    "# what are we doing here and what data type is this new variable?\n",
    "order_series = sub_pantheria_col_names['order']"
   ]
  },
  {
   "cell_type": "code",
   "execution_count": 49,
   "metadata": {
    "slideshow": {
     "slide_type": "fragment"
    }
   },
   "outputs": [
    {
     "data": {
      "text/plain": [
       "0    False\n",
       "1    False\n",
       "2    False\n",
       "3    False\n",
       "4    False\n",
       "Name: order, dtype: bool"
      ]
     },
     "execution_count": 49,
     "metadata": {},
     "output_type": "execute_result"
    }
   ],
   "source": [
    "# let's create a series that returns whether each row contains an order that starts with 'p'\n",
    "namecontains_p = order_series.str.startswith('p')\n",
    "namecontains_p.head()"
   ]
  },
  {
   "cell_type": "code",
   "execution_count": 50,
   "metadata": {},
   "outputs": [
    {
     "data": {
      "text/plain": [
       "(0, 8)"
      ]
     },
     "execution_count": 50,
     "metadata": {},
     "output_type": "execute_result"
    }
   ],
   "source": [
    "sub_pantheria_col_names.loc[namecontains_p, ].shape"
   ]
  },
  {
   "cell_type": "markdown",
   "metadata": {},
   "source": [
    "Hmm.  So, it's not (lower case) `p`. Let's try (upper case) `P`."
   ]
  },
  {
   "cell_type": "code",
   "execution_count": 51,
   "metadata": {
    "slideshow": {
     "slide_type": "skip"
    }
   },
   "outputs": [],
   "source": [
    "order_series = sub_pantheria_col_names['order']"
   ]
  },
  {
   "cell_type": "code",
   "execution_count": 52,
   "metadata": {},
   "outputs": [
    {
     "data": {
      "text/plain": [
       "0    False\n",
       "1    False\n",
       "2    False\n",
       "3    False\n",
       "4    False\n",
       "Name: order, dtype: bool"
      ]
     },
     "execution_count": 52,
     "metadata": {},
     "output_type": "execute_result"
    }
   ],
   "source": [
    "namecontains_p = order_series.str.startswith('P')\n",
    "namecontains_p.head()"
   ]
  },
  {
   "cell_type": "code",
   "execution_count": 53,
   "metadata": {},
   "outputs": [
    {
     "data": {
      "text/plain": [
       "(441, 8)"
      ]
     },
     "execution_count": 53,
     "metadata": {},
     "output_type": "execute_result"
    }
   ],
   "source": [
    "sub_pantheria_col_names.loc[namecontains_p, ].shape"
   ]
  },
  {
   "cell_type": "code",
   "execution_count": 54,
   "metadata": {
    "scrolled": true
   },
   "outputs": [
    {
     "data": {
      "text/html": [
       "<div>\n",
       "<style scoped>\n",
       "    .dataframe tbody tr th:only-of-type {\n",
       "        vertical-align: middle;\n",
       "    }\n",
       "\n",
       "    .dataframe tbody tr th {\n",
       "        vertical-align: top;\n",
       "    }\n",
       "\n",
       "    .dataframe thead th {\n",
       "        text-align: right;\n",
       "    }\n",
       "</style>\n",
       "<table border=\"1\" class=\"dataframe\">\n",
       "  <thead>\n",
       "    <tr style=\"text-align: right;\">\n",
       "      <th></th>\n",
       "      <th>order</th>\n",
       "      <th>genus</th>\n",
       "      <th>species</th>\n",
       "      <th>body_mass_g</th>\n",
       "      <th>teat_number</th>\n",
       "      <th>trophic_level</th>\n",
       "      <th>weaning_age_d</th>\n",
       "      <th>litter_size</th>\n",
       "    </tr>\n",
       "  </thead>\n",
       "  <tbody>\n",
       "    <tr>\n",
       "      <th>8</th>\n",
       "      <td>Primates</td>\n",
       "      <td>Callicebus</td>\n",
       "      <td>cupreus</td>\n",
       "      <td>1117.02</td>\n",
       "      <td>NaN</td>\n",
       "      <td>NaN</td>\n",
       "      <td>201.85</td>\n",
       "      <td>1.01</td>\n",
       "    </tr>\n",
       "    <tr>\n",
       "      <th>9</th>\n",
       "      <td>Primates</td>\n",
       "      <td>Callicebus</td>\n",
       "      <td>discolor</td>\n",
       "      <td>NaN</td>\n",
       "      <td>NaN</td>\n",
       "      <td>NaN</td>\n",
       "      <td>NaN</td>\n",
       "      <td>NaN</td>\n",
       "    </tr>\n",
       "    <tr>\n",
       "      <th>10</th>\n",
       "      <td>Primates</td>\n",
       "      <td>Callicebus</td>\n",
       "      <td>donacophilus</td>\n",
       "      <td>897.67</td>\n",
       "      <td>NaN</td>\n",
       "      <td>NaN</td>\n",
       "      <td>NaN</td>\n",
       "      <td>1.02</td>\n",
       "    </tr>\n",
       "    <tr>\n",
       "      <th>11</th>\n",
       "      <td>Primates</td>\n",
       "      <td>Callicebus</td>\n",
       "      <td>dubius</td>\n",
       "      <td>992.40</td>\n",
       "      <td>NaN</td>\n",
       "      <td>NaN</td>\n",
       "      <td>NaN</td>\n",
       "      <td>1.02</td>\n",
       "    </tr>\n",
       "    <tr>\n",
       "      <th>12</th>\n",
       "      <td>Primates</td>\n",
       "      <td>Callicebus</td>\n",
       "      <td>hoffmannsi</td>\n",
       "      <td>1067.61</td>\n",
       "      <td>NaN</td>\n",
       "      <td>NaN</td>\n",
       "      <td>NaN</td>\n",
       "      <td>1.02</td>\n",
       "    </tr>\n",
       "  </tbody>\n",
       "</table>\n",
       "</div>"
      ],
      "text/plain": [
       "       order       genus       species  body_mass_g  teat_number  \\\n",
       "8   Primates  Callicebus       cupreus      1117.02          NaN   \n",
       "9   Primates  Callicebus      discolor          NaN          NaN   \n",
       "10  Primates  Callicebus  donacophilus       897.67          NaN   \n",
       "11  Primates  Callicebus        dubius       992.40          NaN   \n",
       "12  Primates  Callicebus    hoffmannsi      1067.61          NaN   \n",
       "\n",
       "    trophic_level  weaning_age_d  litter_size  \n",
       "8             NaN         201.85         1.01  \n",
       "9             NaN            NaN          NaN  \n",
       "10            NaN            NaN         1.02  \n",
       "11            NaN            NaN         1.02  \n",
       "12            NaN            NaN         1.02  "
      ]
     },
     "execution_count": 54,
     "metadata": {},
     "output_type": "execute_result"
    }
   ],
   "source": [
    "sub_pantheria_col_names.loc[namecontains_p, ].head()"
   ]
  },
  {
   "cell_type": "markdown",
   "metadata": {},
   "source": [
    "- OK. So, it's `Primates`. \n",
    "- Let's do the same with Carnivora"
   ]
  },
  {
   "cell_type": "code",
   "execution_count": 55,
   "metadata": {},
   "outputs": [
    {
     "data": {
      "text/plain": [
       "0    False\n",
       "1     True\n",
       "2     True\n",
       "3     True\n",
       "4     True\n",
       "Name: order, dtype: bool"
      ]
     },
     "execution_count": 55,
     "metadata": {},
     "output_type": "execute_result"
    }
   ],
   "source": [
    "namecontains_c = order_series.str.startswith('C')\n",
    "namecontains_c.head()"
   ]
  },
  {
   "cell_type": "code",
   "execution_count": 56,
   "metadata": {},
   "outputs": [
    {
     "data": {
      "text/plain": [
       "(1507, 8)"
      ]
     },
     "execution_count": 56,
     "metadata": {},
     "output_type": "execute_result"
    }
   ],
   "source": [
    "sub_pantheria_col_names.loc[namecontains_c, ].shape"
   ]
  },
  {
   "cell_type": "code",
   "execution_count": 57,
   "metadata": {
    "scrolled": true
   },
   "outputs": [
    {
     "data": {
      "text/html": [
       "<div>\n",
       "<style scoped>\n",
       "    .dataframe tbody tr th:only-of-type {\n",
       "        vertical-align: middle;\n",
       "    }\n",
       "\n",
       "    .dataframe tbody tr th {\n",
       "        vertical-align: top;\n",
       "    }\n",
       "\n",
       "    .dataframe thead th {\n",
       "        text-align: right;\n",
       "    }\n",
       "</style>\n",
       "<table border=\"1\" class=\"dataframe\">\n",
       "  <thead>\n",
       "    <tr style=\"text-align: right;\">\n",
       "      <th></th>\n",
       "      <th>order</th>\n",
       "      <th>genus</th>\n",
       "      <th>species</th>\n",
       "      <th>body_mass_g</th>\n",
       "      <th>teat_number</th>\n",
       "      <th>trophic_level</th>\n",
       "      <th>weaning_age_d</th>\n",
       "      <th>litter_size</th>\n",
       "    </tr>\n",
       "  </thead>\n",
       "  <tbody>\n",
       "    <tr>\n",
       "      <th>1</th>\n",
       "      <td>Carnivora</td>\n",
       "      <td>Canis</td>\n",
       "      <td>adustus</td>\n",
       "      <td>10392.49</td>\n",
       "      <td>8.0</td>\n",
       "      <td>2.0</td>\n",
       "      <td>52.89</td>\n",
       "      <td>4.50</td>\n",
       "    </tr>\n",
       "    <tr>\n",
       "      <th>2</th>\n",
       "      <td>Carnivora</td>\n",
       "      <td>Canis</td>\n",
       "      <td>aureus</td>\n",
       "      <td>9658.70</td>\n",
       "      <td>8.0</td>\n",
       "      <td>2.0</td>\n",
       "      <td>61.30</td>\n",
       "      <td>3.74</td>\n",
       "    </tr>\n",
       "    <tr>\n",
       "      <th>3</th>\n",
       "      <td>Carnivora</td>\n",
       "      <td>Canis</td>\n",
       "      <td>latrans</td>\n",
       "      <td>11989.10</td>\n",
       "      <td>8.0</td>\n",
       "      <td>3.0</td>\n",
       "      <td>43.71</td>\n",
       "      <td>5.72</td>\n",
       "    </tr>\n",
       "    <tr>\n",
       "      <th>4</th>\n",
       "      <td>Carnivora</td>\n",
       "      <td>Canis</td>\n",
       "      <td>lupus</td>\n",
       "      <td>31756.51</td>\n",
       "      <td>9.0</td>\n",
       "      <td>3.0</td>\n",
       "      <td>44.82</td>\n",
       "      <td>4.98</td>\n",
       "    </tr>\n",
       "    <tr>\n",
       "      <th>22</th>\n",
       "      <td>Cingulata</td>\n",
       "      <td>Calyptophractus</td>\n",
       "      <td>retusus</td>\n",
       "      <td>129.99</td>\n",
       "      <td>NaN</td>\n",
       "      <td>2.0</td>\n",
       "      <td>NaN</td>\n",
       "      <td>NaN</td>\n",
       "    </tr>\n",
       "  </tbody>\n",
       "</table>\n",
       "</div>"
      ],
      "text/plain": [
       "        order            genus  species  body_mass_g  teat_number  \\\n",
       "1   Carnivora            Canis  adustus     10392.49          8.0   \n",
       "2   Carnivora            Canis   aureus      9658.70          8.0   \n",
       "3   Carnivora            Canis  latrans     11989.10          8.0   \n",
       "4   Carnivora            Canis    lupus     31756.51          9.0   \n",
       "22  Cingulata  Calyptophractus  retusus       129.99          NaN   \n",
       "\n",
       "    trophic_level  weaning_age_d  litter_size  \n",
       "1             2.0          52.89         4.50  \n",
       "2             2.0          61.30         3.74  \n",
       "3             3.0          43.71         5.72  \n",
       "4             3.0          44.82         4.98  \n",
       "22            2.0            NaN          NaN  "
      ]
     },
     "execution_count": 57,
     "metadata": {},
     "output_type": "execute_result"
    }
   ],
   "source": [
    "sub_pantheria_col_names.loc[namecontains_c, ].head()"
   ]
  },
  {
   "cell_type": "markdown",
   "metadata": {},
   "source": [
    "- OK. So it's `Carnivora`.\n",
    "- Let's create a data frame where `order` is either `Primates` **or** `Carnivora`."
   ]
  },
  {
   "cell_type": "code",
   "execution_count": 58,
   "metadata": {},
   "outputs": [
    {
     "data": {
      "text/plain": [
       "0    False\n",
       "1    False\n",
       "2    False\n",
       "3    False\n",
       "4    False\n",
       "Name: order, dtype: bool"
      ]
     },
     "execution_count": 58,
     "metadata": {},
     "output_type": "execute_result"
    }
   ],
   "source": [
    "order_Primates = order_series == 'Primates'\n",
    "order_Primates.head()"
   ]
  },
  {
   "cell_type": "markdown",
   "metadata": {},
   "source": [
    "Use the `pandas` function `value_counts()` to count the number of `True` and `False` values."
   ]
  },
  {
   "cell_type": "code",
   "execution_count": 59,
   "metadata": {},
   "outputs": [
    {
     "data": {
      "text/plain": [
       "False    5040\n",
       "True      376\n",
       "Name: order, dtype: int64"
      ]
     },
     "execution_count": 59,
     "metadata": {},
     "output_type": "execute_result"
    }
   ],
   "source": [
    "order_Primates.value_counts()"
   ]
  },
  {
   "cell_type": "markdown",
   "metadata": {},
   "source": [
    "So, there are 376 rows corresponding to `Primates`."
   ]
  },
  {
   "cell_type": "code",
   "execution_count": 60,
   "metadata": {},
   "outputs": [
    {
     "data": {
      "text/plain": [
       "0    False\n",
       "1     True\n",
       "2     True\n",
       "3     True\n",
       "4     True\n",
       "Name: order, dtype: bool"
      ]
     },
     "execution_count": 60,
     "metadata": {},
     "output_type": "execute_result"
    }
   ],
   "source": [
    "# what is order_series?\n",
    "order_Carnivora = order_series == 'Carnivora'\n",
    "order_Carnivora.head()"
   ]
  },
  {
   "cell_type": "code",
   "execution_count": 61,
   "metadata": {},
   "outputs": [
    {
     "data": {
      "text/plain": [
       "False    5130\n",
       "True      286\n",
       "Name: order, dtype: int64"
      ]
     },
     "execution_count": 61,
     "metadata": {},
     "output_type": "execute_result"
    }
   ],
   "source": [
    "order_Carnivora.value_counts()"
   ]
  },
  {
   "cell_type": "markdown",
   "metadata": {
    "slideshow": {
     "slide_type": "slide"
    }
   },
   "source": [
    "A Boolean series that is `True` if the `order` is either `Primates` **or** `Carnivora` can be created using the **or** operator `|`."
   ]
  },
  {
   "cell_type": "code",
   "execution_count": 62,
   "metadata": {
    "slideshow": {
     "slide_type": "fragment"
    }
   },
   "outputs": [],
   "source": [
    "order_primcarniv = order_Primates | order_Carnivora"
   ]
  },
  {
   "cell_type": "markdown",
   "metadata": {
    "slideshow": {
     "slide_type": "slide"
    }
   },
   "source": [
    "Now use this series to select or filter rows in `sub_pantheria_col_names`."
   ]
  },
  {
   "cell_type": "code",
   "execution_count": 63,
   "metadata": {
    "slideshow": {
     "slide_type": "fragment"
    }
   },
   "outputs": [],
   "source": [
    "primcarniv_df = sub_pantheria_col_names[order_primcarniv]"
   ]
  },
  {
   "cell_type": "code",
   "execution_count": 64,
   "metadata": {
    "slideshow": {
     "slide_type": "fragment"
    }
   },
   "outputs": [
    {
     "data": {
      "text/plain": [
       "(662, 8)"
      ]
     },
     "execution_count": 64,
     "metadata": {},
     "output_type": "execute_result"
    }
   ],
   "source": [
    "# did we get all the rows we wanted?\n",
    "primcarniv_df.shape"
   ]
  },
  {
   "cell_type": "markdown",
   "metadata": {
    "slideshow": {
     "slide_type": "slide"
    }
   },
   "source": [
    "- We started with 5416 rows now there are 662 rows.\n",
    "\n",
    "- There were 286 Carnivora and 376 Primates which sum to "
   ]
  },
  {
   "cell_type": "code",
   "execution_count": 65,
   "metadata": {
    "slideshow": {
     "slide_type": "fragment"
    }
   },
   "outputs": [
    {
     "data": {
      "text/plain": [
       "662"
      ]
     },
     "execution_count": 65,
     "metadata": {},
     "output_type": "execute_result"
    }
   ],
   "source": [
    "286 + 376"
   ]
  },
  {
   "cell_type": "markdown",
   "metadata": {
    "slideshow": {
     "slide_type": "slide"
    }
   },
   "source": [
    "## Trophic levels\n",
    "\n",
    "![Alt Text](images/trophic.png)\n",
    "\n",
    "- Sort of an oversimplification\n",
    "- But generally answers \"does it eat plants\" vs \"does it eat herbivores\" vs \"does it eat carnivores\"\n",
    "- There are no primary producers among mammals (or any other animal)"
   ]
  },
  {
   "cell_type": "code",
   "execution_count": 73,
   "metadata": {
    "slideshow": {
     "slide_type": "slide"
    }
   },
   "outputs": [
    {
     "data": {
      "text/html": [
       "<div>\n",
       "<style scoped>\n",
       "    .dataframe tbody tr th:only-of-type {\n",
       "        vertical-align: middle;\n",
       "    }\n",
       "\n",
       "    .dataframe tbody tr th {\n",
       "        vertical-align: top;\n",
       "    }\n",
       "\n",
       "    .dataframe thead th {\n",
       "        text-align: right;\n",
       "    }\n",
       "</style>\n",
       "<table border=\"1\" class=\"dataframe\">\n",
       "  <thead>\n",
       "    <tr style=\"text-align: right;\">\n",
       "      <th></th>\n",
       "      <th>order</th>\n",
       "      <th>genus</th>\n",
       "      <th>species</th>\n",
       "      <th>body_mass_g</th>\n",
       "      <th>teat_number</th>\n",
       "      <th>trophic_level</th>\n",
       "      <th>weaning_age_d</th>\n",
       "      <th>litter_size</th>\n",
       "    </tr>\n",
       "  </thead>\n",
       "  <tbody>\n",
       "    <tr>\n",
       "      <th>1</th>\n",
       "      <td>Carnivora</td>\n",
       "      <td>Canis</td>\n",
       "      <td>adustus</td>\n",
       "      <td>10392.49</td>\n",
       "      <td>8.0</td>\n",
       "      <td>2.0</td>\n",
       "      <td>52.89</td>\n",
       "      <td>4.50</td>\n",
       "    </tr>\n",
       "    <tr>\n",
       "      <th>2</th>\n",
       "      <td>Carnivora</td>\n",
       "      <td>Canis</td>\n",
       "      <td>aureus</td>\n",
       "      <td>9658.70</td>\n",
       "      <td>8.0</td>\n",
       "      <td>2.0</td>\n",
       "      <td>61.30</td>\n",
       "      <td>3.74</td>\n",
       "    </tr>\n",
       "    <tr>\n",
       "      <th>3</th>\n",
       "      <td>Carnivora</td>\n",
       "      <td>Canis</td>\n",
       "      <td>latrans</td>\n",
       "      <td>11989.10</td>\n",
       "      <td>8.0</td>\n",
       "      <td>3.0</td>\n",
       "      <td>43.71</td>\n",
       "      <td>5.72</td>\n",
       "    </tr>\n",
       "    <tr>\n",
       "      <th>4</th>\n",
       "      <td>Carnivora</td>\n",
       "      <td>Canis</td>\n",
       "      <td>lupus</td>\n",
       "      <td>31756.51</td>\n",
       "      <td>9.0</td>\n",
       "      <td>3.0</td>\n",
       "      <td>44.82</td>\n",
       "      <td>4.98</td>\n",
       "    </tr>\n",
       "    <tr>\n",
       "      <th>8</th>\n",
       "      <td>Primates</td>\n",
       "      <td>Callicebus</td>\n",
       "      <td>cupreus</td>\n",
       "      <td>1117.02</td>\n",
       "      <td>NaN</td>\n",
       "      <td>NaN</td>\n",
       "      <td>201.85</td>\n",
       "      <td>1.01</td>\n",
       "    </tr>\n",
       "  </tbody>\n",
       "</table>\n",
       "</div>"
      ],
      "text/plain": [
       "       order       genus  species  body_mass_g  teat_number  trophic_level  \\\n",
       "1  Carnivora       Canis  adustus     10392.49          8.0            2.0   \n",
       "2  Carnivora       Canis   aureus      9658.70          8.0            2.0   \n",
       "3  Carnivora       Canis  latrans     11989.10          8.0            3.0   \n",
       "4  Carnivora       Canis    lupus     31756.51          9.0            3.0   \n",
       "8   Primates  Callicebus  cupreus      1117.02          NaN            NaN   \n",
       "\n",
       "   weaning_age_d  litter_size  \n",
       "1          52.89         4.50  \n",
       "2          61.30         3.74  \n",
       "3          43.71         5.72  \n",
       "4          44.82         4.98  \n",
       "8         201.85         1.01  "
      ]
     },
     "execution_count": 73,
     "metadata": {},
     "output_type": "execute_result"
    }
   ],
   "source": [
    "# where is this information in our data?\n",
    "primcarniv_df.head()"
   ]
  },
  {
   "cell_type": "code",
   "execution_count": 74,
   "metadata": {
    "slideshow": {
     "slide_type": "slide"
    }
   },
   "outputs": [
    {
     "data": {
      "text/plain": [
       "{1.0, 2.0, 3.0}"
      ]
     },
     "execution_count": 74,
     "metadata": {},
     "output_type": "execute_result"
    }
   ],
   "source": [
    "# what values of trophic level are possible?\n",
    "# don't worry about this syntax: treat as dark magicks for now\n",
    "\n",
    "set(primcarniv_df['trophic_level'].dropna())"
   ]
  },
  {
   "cell_type": "markdown",
   "metadata": {
    "slideshow": {
     "slide_type": "slide"
    },
    "tags": []
   },
   "source": [
    "# Defining Carnivores\n",
    "\n",
    "- Trophic level can be used to define mammals that are carnivorous.\n",
    "\n",
    "- A trophic level of 1 indicates that the mammal eats plants, and a level greater than or equal to 2 indicates that it eats some meat.\n",
    "\n",
    "- If a mammal has a trophic level of at least 2 then we classify it as a carnivore, and a trophic level of 1 will be classified as a herbivore. \n",
    "\n",
    "- Let's add a new column called `carnivore` to `primcarniv_df` that is a Boolean type.  It will be `True` if the mammal is a carnivore and `False` it it's a herbivore."
   ]
  },
  {
   "cell_type": "markdown",
   "metadata": {
    "slideshow": {
     "slide_type": "slide"
    }
   },
   "source": [
    "# Pop quiz:\n",
    "    \n",
    "Carnivoran == Carnivore\n",
    "\n",
    "True or false?\n"
   ]
  },
  {
   "cell_type": "code",
   "execution_count": 301,
   "metadata": {
    "slideshow": {
     "slide_type": "slide"
    }
   },
   "outputs": [
    {
     "data": {
      "text/plain": [
       "1       2.0\n",
       "2       2.0\n",
       "3       3.0\n",
       "4       3.0\n",
       "8       NaN\n",
       "       ... \n",
       "5381    3.0\n",
       "5382    2.0\n",
       "5398    2.0\n",
       "5399    NaN\n",
       "5400    NaN\n",
       "Name: trophic_level, Length: 662, dtype: float64"
      ]
     },
     "execution_count": 301,
     "metadata": {},
     "output_type": "execute_result"
    }
   ],
   "source": [
    "primcarniv_df['trophic_level'].value_counts()\n",
    "primcarniv_df['trophic_level']"
   ]
  },
  {
   "cell_type": "markdown",
   "metadata": {
    "slideshow": {
     "slide_type": "slide"
    }
   },
   "source": [
    "- Are there any missing values?  \n",
    "- Use the pandas function `is.na()` to check for missing values.  \n",
    "- `is.na()` returns a Boolean that is True if the value is missing.  \n",
    "- Missing values can be recorded as `NaN` or `None`.  We will learn more about handling missing values later in the course."
   ]
  },
  {
   "cell_type": "code",
   "execution_count": 92,
   "metadata": {
    "slideshow": {
     "slide_type": "slide"
    }
   },
   "outputs": [
    {
     "ename": "NameError",
     "evalue": "name 'trohic_series' is not defined",
     "output_type": "error",
     "traceback": [
      "\u001b[0;31m---------------------------------------------------------------------------\u001b[0m",
      "\u001b[0;31mNameError\u001b[0m                                 Traceback (most recent call last)",
      "\u001b[0;32m<ipython-input-92-48e4eedcaa7e>\u001b[0m in \u001b[0;36m<module>\u001b[0;34m\u001b[0m\n\u001b[1;32m      2\u001b[0m \u001b[0;34m\u001b[0m\u001b[0m\n\u001b[1;32m      3\u001b[0m \u001b[0mtrophic_series\u001b[0m \u001b[0;34m=\u001b[0m \u001b[0mprimcarniv_df\u001b[0m\u001b[0;34m.\u001b[0m\u001b[0mhead\u001b[0m\u001b[0;34m(\u001b[0m\u001b[0;34m)\u001b[0m\u001b[0;34m[\u001b[0m\u001b[0;34m'trophic_level'\u001b[0m\u001b[0;34m]\u001b[0m\u001b[0;34m\u001b[0m\u001b[0;34m\u001b[0m\u001b[0m\n\u001b[0;32m----> 4\u001b[0;31m \u001b[0mmissing_trophic_series\u001b[0m \u001b[0;34m=\u001b[0m \u001b[0mtrohic_series\u001b[0m\u001b[0;34m.\u001b[0m\u001b[0mdropna\u001b[0m\u001b[0;34m(\u001b[0m\u001b[0;34m)\u001b[0m\u001b[0;34m\u001b[0m\u001b[0;34m\u001b[0m\u001b[0m\n\u001b[0m\u001b[1;32m      5\u001b[0m \u001b[0mmissing_trophic_series\u001b[0m\u001b[0;34m.\u001b[0m\u001b[0mvalue_counts\u001b[0m\u001b[0;34m(\u001b[0m\u001b[0;34m)\u001b[0m\u001b[0;34m\u001b[0m\u001b[0;34m\u001b[0m\u001b[0m\n",
      "\u001b[0;31mNameError\u001b[0m: name 'trohic_series' is not defined"
     ]
    }
   ],
   "source": [
    "# passage needs debugging\n",
    "\n",
    "trophic_series = primcarniv_df.head()['trophic_level']\n",
    "missing_trophic_series = trohic_series.dropna()\n",
    "missing_trophic_series.value_counts()"
   ]
  },
  {
   "cell_type": "code",
   "execution_count": 79,
   "metadata": {
    "slideshow": {
     "slide_type": "slide"
    }
   },
   "outputs": [
    {
     "data": {
      "text/plain": [
       "False    408\n",
       "True     254\n",
       "Name: trophic_level, dtype: int64"
      ]
     },
     "execution_count": 79,
     "metadata": {},
     "output_type": "execute_result"
    }
   ],
   "source": [
    "# CLEAN VERSION\n",
    "\n",
    "trophic_series = primcarniv_df['trophic_level']\n",
    "missing_trophic_series = trophic_series.isna()\n",
    "missing_trophic_series.value_counts()"
   ]
  },
  {
   "cell_type": "markdown",
   "metadata": {
    "slideshow": {
     "slide_type": "fragment"
    }
   },
   "source": [
    "- So, 254 mammals are missing trophic level.\n",
    "\n",
    "- For this data analysis let's exclude these mammals."
   ]
  },
  {
   "cell_type": "code",
   "execution_count": 94,
   "metadata": {
    "slideshow": {
     "slide_type": "slide"
    }
   },
   "outputs": [
    {
     "data": {
      "text/plain": [
       "1    False\n",
       "2    False\n",
       "3    False\n",
       "4    False\n",
       "Name: trophic_level, dtype: bool"
      ]
     },
     "execution_count": 94,
     "metadata": {},
     "output_type": "execute_result"
    }
   ],
   "source": [
    "miss_trophic = missing_trophic_series == False # keep rows where tropic level is not missing\n",
    "miss_trophic"
   ]
  },
  {
   "cell_type": "code",
   "execution_count": null,
   "metadata": {
    "slideshow": {
     "slide_type": "slide"
    }
   },
   "outputs": [],
   "source": [
    "primcarniv_nomiss_df = primcarniv_df[miss_trophic]\n",
    "\n",
    "print(primcarniv_nomiss_df.shape)"
   ]
  },
  {
   "cell_type": "code",
   "execution_count": 305,
   "metadata": {
    "slideshow": {
     "slide_type": "slide"
    }
   },
   "outputs": [
    {
     "name": "stdout",
     "output_type": "stream",
     "text": [
      "(408, 8)\n"
     ]
    },
    {
     "data": {
      "text/html": [
       "<div>\n",
       "<style scoped>\n",
       "    .dataframe tbody tr th:only-of-type {\n",
       "        vertical-align: middle;\n",
       "    }\n",
       "\n",
       "    .dataframe tbody tr th {\n",
       "        vertical-align: top;\n",
       "    }\n",
       "\n",
       "    .dataframe thead th {\n",
       "        text-align: right;\n",
       "    }\n",
       "</style>\n",
       "<table border=\"1\" class=\"dataframe\">\n",
       "  <thead>\n",
       "    <tr style=\"text-align: right;\">\n",
       "      <th></th>\n",
       "      <th>order</th>\n",
       "      <th>genus</th>\n",
       "      <th>species</th>\n",
       "      <th>body_mass_g</th>\n",
       "      <th>teat_number</th>\n",
       "      <th>trophic_level</th>\n",
       "      <th>weaning_age_d</th>\n",
       "      <th>litter_size</th>\n",
       "    </tr>\n",
       "  </thead>\n",
       "  <tbody>\n",
       "    <tr>\n",
       "      <th>1</th>\n",
       "      <td>Carnivora</td>\n",
       "      <td>Canis</td>\n",
       "      <td>adustus</td>\n",
       "      <td>10392.49</td>\n",
       "      <td>8.0</td>\n",
       "      <td>2.0</td>\n",
       "      <td>52.89</td>\n",
       "      <td>4.50</td>\n",
       "    </tr>\n",
       "    <tr>\n",
       "      <th>2</th>\n",
       "      <td>Carnivora</td>\n",
       "      <td>Canis</td>\n",
       "      <td>aureus</td>\n",
       "      <td>9658.70</td>\n",
       "      <td>8.0</td>\n",
       "      <td>2.0</td>\n",
       "      <td>61.30</td>\n",
       "      <td>3.74</td>\n",
       "    </tr>\n",
       "    <tr>\n",
       "      <th>3</th>\n",
       "      <td>Carnivora</td>\n",
       "      <td>Canis</td>\n",
       "      <td>latrans</td>\n",
       "      <td>11989.10</td>\n",
       "      <td>8.0</td>\n",
       "      <td>3.0</td>\n",
       "      <td>43.71</td>\n",
       "      <td>5.72</td>\n",
       "    </tr>\n",
       "    <tr>\n",
       "      <th>4</th>\n",
       "      <td>Carnivora</td>\n",
       "      <td>Canis</td>\n",
       "      <td>lupus</td>\n",
       "      <td>31756.51</td>\n",
       "      <td>9.0</td>\n",
       "      <td>3.0</td>\n",
       "      <td>44.82</td>\n",
       "      <td>4.98</td>\n",
       "    </tr>\n",
       "    <tr>\n",
       "      <th>28</th>\n",
       "      <td>Carnivora</td>\n",
       "      <td>Canis</td>\n",
       "      <td>mesomelas</td>\n",
       "      <td>8247.30</td>\n",
       "      <td>8.0</td>\n",
       "      <td>2.0</td>\n",
       "      <td>34.10</td>\n",
       "      <td>3.89</td>\n",
       "    </tr>\n",
       "  </tbody>\n",
       "</table>\n",
       "</div>"
      ],
      "text/plain": [
       "        order  genus    species  body_mass_g  teat_number  trophic_level  \\\n",
       "1   Carnivora  Canis    adustus     10392.49          8.0            2.0   \n",
       "2   Carnivora  Canis     aureus      9658.70          8.0            2.0   \n",
       "3   Carnivora  Canis    latrans     11989.10          8.0            3.0   \n",
       "4   Carnivora  Canis      lupus     31756.51          9.0            3.0   \n",
       "28  Carnivora  Canis  mesomelas      8247.30          8.0            2.0   \n",
       "\n",
       "    weaning_age_d  litter_size  \n",
       "1           52.89         4.50  \n",
       "2           61.30         3.74  \n",
       "3           43.71         5.72  \n",
       "4           44.82         4.98  \n",
       "28          34.10         3.89  "
      ]
     },
     "execution_count": 305,
     "metadata": {},
     "output_type": "execute_result"
    }
   ],
   "source": [
    "\n",
    "primcarniv_nomiss_df.head()"
   ]
  },
  {
   "cell_type": "markdown",
   "metadata": {
    "slideshow": {
     "slide_type": "slide"
    }
   },
   "source": [
    "# How many rows have been removed so far?\n",
    "\n",
    "- We started with 5416 rows.\n",
    "\n",
    "- After selecting Primates and Carnivora we had 662 rows.\n",
    "\n",
    "- Now, after removing missing trophic values we have 408 rows.\n",
    "\n",
    "- Looking at focused questions using data requires looking at smaller parts or subsets of data."
   ]
  },
  {
   "cell_type": "markdown",
   "metadata": {
    "slideshow": {
     "slide_type": "slide"
    }
   },
   "source": [
    "## Creating A New DataFrame Column\n",
    "\n",
    "The syntax for creating a new column in a `DataFrame` called `df` is:\n",
    "\n",
    "`df.loc[condition, 'New Column Name'] = value`\n",
    "\n",
    "NB: there are other several other ways to add new variables to a DataFrame. "
   ]
  },
  {
   "cell_type": "markdown",
   "metadata": {
    "slideshow": {
     "slide_type": "slide"
    }
   },
   "source": [
    "Step 1: Make a copy of the DataFrame"
   ]
  },
  {
   "cell_type": "code",
   "execution_count": 306,
   "metadata": {
    "slideshow": {
     "slide_type": "fragment"
    }
   },
   "outputs": [],
   "source": [
    "primcarniv_carn = primcarniv_nomiss_df.copy()"
   ]
  },
  {
   "cell_type": "markdown",
   "metadata": {
    "slideshow": {
     "slide_type": "fragment"
    }
   },
   "source": [
    "Step 2: Assign the values \n",
    "   + `False` when `Trophic == 1`\n",
    "   + `True` when `Trophic == 2` **or** `Trophic == 3` "
   ]
  },
  {
   "cell_type": "code",
   "execution_count": 307,
   "metadata": {
    "slideshow": {
     "slide_type": "fragment"
    }
   },
   "outputs": [
    {
     "data": {
      "text/plain": [
       "1       True\n",
       "2       True\n",
       "3       True\n",
       "4       True\n",
       "28      True\n",
       "        ... \n",
       "5379    True\n",
       "5380    True\n",
       "5381    True\n",
       "5382    True\n",
       "5398    True\n",
       "Name: trophic_level, Length: 408, dtype: bool"
      ]
     },
     "execution_count": 307,
     "metadata": {},
     "output_type": "execute_result"
    }
   ],
   "source": [
    "(primcarniv_nomiss_df['trophic_level'] == 2) | (primcarniv_nomiss_df['trophic_level'] == 3) "
   ]
  },
  {
   "cell_type": "code",
   "execution_count": 308,
   "metadata": {
    "slideshow": {
     "slide_type": "slide"
    }
   },
   "outputs": [],
   "source": [
    "trophic_nomiss = primcarniv_carn['trophic_level']\n",
    "\n",
    "carnivoire_mammal_troph1 = trophic_nomiss == 1  \n",
    "carnivoire_mammal_troph2 = trophic_nomiss == 2  \n",
    "carnivoire_mammal_troph3 = trophic_nomiss == 3\n",
    "\n",
    "carnivoire_mammal = carnivoire_mammal_troph2 | carnivoire_mammal_troph3"
   ]
  },
  {
   "cell_type": "code",
   "execution_count": 309,
   "metadata": {
    "slideshow": {
     "slide_type": "slide"
    }
   },
   "outputs": [],
   "source": [
    "primcarniv_carn.loc[carnivoire_mammal, 'Carnivoire'] = True\n",
    "\n",
    "primcarniv_carn.loc[carnivoire_mammal_troph1, 'Carnivoire'] = False"
   ]
  },
  {
   "cell_type": "code",
   "execution_count": 310,
   "metadata": {
    "slideshow": {
     "slide_type": "slide"
    }
   },
   "outputs": [
    {
     "data": {
      "text/plain": [
       "(408, 9)"
      ]
     },
     "execution_count": 310,
     "metadata": {},
     "output_type": "execute_result"
    }
   ],
   "source": [
    "primcarniv_carn.shape"
   ]
  },
  {
   "cell_type": "code",
   "execution_count": 313,
   "metadata": {
    "slideshow": {
     "slide_type": "slide"
    }
   },
   "outputs": [
    {
     "data": {
      "text/html": [
       "<div>\n",
       "<style scoped>\n",
       "    .dataframe tbody tr th:only-of-type {\n",
       "        vertical-align: middle;\n",
       "    }\n",
       "\n",
       "    .dataframe tbody tr th {\n",
       "        vertical-align: top;\n",
       "    }\n",
       "\n",
       "    .dataframe thead th {\n",
       "        text-align: right;\n",
       "    }\n",
       "</style>\n",
       "<table border=\"1\" class=\"dataframe\">\n",
       "  <thead>\n",
       "    <tr style=\"text-align: right;\">\n",
       "      <th></th>\n",
       "      <th>order</th>\n",
       "      <th>genus</th>\n",
       "      <th>species</th>\n",
       "      <th>body_mass_g</th>\n",
       "      <th>teat_number</th>\n",
       "      <th>trophic_level</th>\n",
       "      <th>weaning_age_d</th>\n",
       "      <th>litter_size</th>\n",
       "      <th>Carnivoire</th>\n",
       "    </tr>\n",
       "  </thead>\n",
       "  <tbody>\n",
       "    <tr>\n",
       "      <th>1</th>\n",
       "      <td>Carnivora</td>\n",
       "      <td>Canis</td>\n",
       "      <td>adustus</td>\n",
       "      <td>10392.49</td>\n",
       "      <td>8.0</td>\n",
       "      <td>2.0</td>\n",
       "      <td>52.89</td>\n",
       "      <td>4.50</td>\n",
       "      <td>True</td>\n",
       "    </tr>\n",
       "    <tr>\n",
       "      <th>2</th>\n",
       "      <td>Carnivora</td>\n",
       "      <td>Canis</td>\n",
       "      <td>aureus</td>\n",
       "      <td>9658.70</td>\n",
       "      <td>8.0</td>\n",
       "      <td>2.0</td>\n",
       "      <td>61.30</td>\n",
       "      <td>3.74</td>\n",
       "      <td>True</td>\n",
       "    </tr>\n",
       "    <tr>\n",
       "      <th>3</th>\n",
       "      <td>Carnivora</td>\n",
       "      <td>Canis</td>\n",
       "      <td>latrans</td>\n",
       "      <td>11989.10</td>\n",
       "      <td>8.0</td>\n",
       "      <td>3.0</td>\n",
       "      <td>43.71</td>\n",
       "      <td>5.72</td>\n",
       "      <td>True</td>\n",
       "    </tr>\n",
       "    <tr>\n",
       "      <th>4</th>\n",
       "      <td>Carnivora</td>\n",
       "      <td>Canis</td>\n",
       "      <td>lupus</td>\n",
       "      <td>31756.51</td>\n",
       "      <td>9.0</td>\n",
       "      <td>3.0</td>\n",
       "      <td>44.82</td>\n",
       "      <td>4.98</td>\n",
       "      <td>True</td>\n",
       "    </tr>\n",
       "    <tr>\n",
       "      <th>28</th>\n",
       "      <td>Carnivora</td>\n",
       "      <td>Canis</td>\n",
       "      <td>mesomelas</td>\n",
       "      <td>8247.30</td>\n",
       "      <td>8.0</td>\n",
       "      <td>2.0</td>\n",
       "      <td>34.10</td>\n",
       "      <td>3.89</td>\n",
       "      <td>True</td>\n",
       "    </tr>\n",
       "  </tbody>\n",
       "</table>\n",
       "</div>"
      ],
      "text/plain": [
       "        order  genus    species  body_mass_g  teat_number  trophic_level  \\\n",
       "1   Carnivora  Canis    adustus     10392.49          8.0            2.0   \n",
       "2   Carnivora  Canis     aureus      9658.70          8.0            2.0   \n",
       "3   Carnivora  Canis    latrans     11989.10          8.0            3.0   \n",
       "4   Carnivora  Canis      lupus     31756.51          9.0            3.0   \n",
       "28  Carnivora  Canis  mesomelas      8247.30          8.0            2.0   \n",
       "\n",
       "    weaning_age_d  litter_size Carnivoire  \n",
       "1           52.89         4.50       True  \n",
       "2           61.30         3.74       True  \n",
       "3           43.71         5.72       True  \n",
       "4           44.82         4.98       True  \n",
       "28          34.10         3.89       True  "
      ]
     },
     "execution_count": 313,
     "metadata": {},
     "output_type": "execute_result"
    }
   ],
   "source": [
    "primcarniv_carn.head()"
   ]
  },
  {
   "cell_type": "code",
   "execution_count": 314,
   "metadata": {
    "slideshow": {
     "slide_type": "slide"
    }
   },
   "outputs": [
    {
     "data": {
      "text/plain": [
       "True     332\n",
       "False     76\n",
       "Name: Carnivoire, dtype: int64"
      ]
     },
     "execution_count": 314,
     "metadata": {},
     "output_type": "execute_result"
    }
   ],
   "source": [
    "primcarniv_carn['Carnivoire'].value_counts()"
   ]
  },
  {
   "cell_type": "markdown",
   "metadata": {
    "slideshow": {
     "slide_type": "fragment"
    }
   },
   "source": [
    "So, there are 332 carnivores and 76 herbivores."
   ]
  },
  {
   "cell_type": "markdown",
   "metadata": {
    "slideshow": {
     "slide_type": "slide"
    }
   },
   "source": [
    "# Back to the question ...\n",
    "\n",
    "**Do Primate carnivores have different body sizes compared to Carnivora carnivores?**\n",
    "\n",
    "- So, we need to identify mammals that are Primates and carnivores or Carnivora and carnivores.\n",
    "\n",
    "- A Boolean series that is `True` if the `order` is `Primates` **and** `Carnivore` is `True` can be created using the **and** operator `&`.\n",
    "\n",
    "- This can then be repeated for mammals that are `Carnivora`."
   ]
  },
  {
   "cell_type": "code",
   "execution_count": 315,
   "metadata": {
    "slideshow": {
     "slide_type": "slide"
    }
   },
   "outputs": [],
   "source": [
    "carnivora_series = primcarniv_carn['order'] == 'Carnivora'\n",
    "\n",
    "primates_series = primcarniv_carn['order'] == 'Primates'\n",
    "\n",
    "carnivore_series = primcarniv_carn['Carnivoire'] == True\n",
    "\n",
    "carncarniv = carnivora_series & carnivore_series\n",
    "\n",
    "primcarniv = primates_series & carnivore_series"
   ]
  },
  {
   "cell_type": "markdown",
   "metadata": {
    "slideshow": {
     "slide_type": "slide"
    }
   },
   "source": [
    "- Calculate the mean body mass (g) for carnivora that are carnivores.\n",
    "\n",
    "- pandas has a `mean()` function that can be applied to a numeric series (i.e., either float or int)."
   ]
  },
  {
   "cell_type": "code",
   "execution_count": 319,
   "metadata": {
    "slideshow": {
     "slide_type": "fragment"
    }
   },
   "outputs": [
    {
     "data": {
      "text/plain": [
       "51817.62763636363"
      ]
     },
     "execution_count": 319,
     "metadata": {},
     "output_type": "execute_result"
    }
   ],
   "source": [
    "carncarniv_bodymass = primcarniv_carn.loc[carncarniv,'body_mass_g']\n",
    "carncarniv_bodymass.mean()"
   ]
  },
  {
   "cell_type": "markdown",
   "metadata": {
    "slideshow": {
     "slide_type": "slide"
    }
   },
   "source": [
    "Let's repeat for primates that are carnivores."
   ]
  },
  {
   "cell_type": "code",
   "execution_count": null,
   "metadata": {
    "slideshow": {
     "slide_type": "fragment"
    }
   },
   "outputs": [],
   "source": [
    "primcarniv_bodymass = primcarniv_carn.loc[primcarniv,'body_mass_g']\n",
    "primcarniv_bodymass.mean()"
   ]
  },
  {
   "cell_type": "markdown",
   "metadata": {
    "slideshow": {
     "slide_type": "slide"
    },
    "tags": []
   },
   "source": [
    "# Question: What is the relationship between trophic level and body size?\n",
    "\n",
    "- Let's divide our data into species that are 'large' and ones that are 'small'.\n",
    "- Our definition will be that average and below-average species are 'small' and above-average species are 'large'.\n",
    "- We will continue working with primates and carnivora."
   ]
  },
  {
   "cell_type": "code",
   "execution_count": 323,
   "metadata": {
    "slideshow": {
     "slide_type": "slide"
    }
   },
   "outputs": [
    {
     "data": {
      "text/plain": [
       "31806.887437810947"
      ]
     },
     "execution_count": 323,
     "metadata": {},
     "output_type": "execute_result"
    }
   ],
   "source": [
    "bodymass_series = primcarniv_carn['body_mass_g']\n",
    "bodymass_mean = bodymass_series.mean()\n",
    "bodymass_mean"
   ]
  },
  {
   "cell_type": "markdown",
   "metadata": {
    "slideshow": {
     "slide_type": "slide"
    }
   },
   "source": [
    "We can use the comparison operators `<=` and `>` to define small and large species as Boolean variable `SmallSpecies` that will be `True` if the species is small and `False` if the species is large. "
   ]
  },
  {
   "cell_type": "code",
   "execution_count": 324,
   "metadata": {
    "slideshow": {
     "slide_type": "slide"
    },
    "tags": []
   },
   "outputs": [
    {
     "data": {
      "text/plain": [
       "True     346\n",
       "False     62\n",
       "Name: body_mass_g, dtype: int64"
      ]
     },
     "execution_count": 324,
     "metadata": {},
     "output_type": "execute_result"
    }
   ],
   "source": [
    "small_species = bodymass_series <= bodymass_mean\n",
    "small_species.value_counts()"
   ]
  },
  {
   "cell_type": "code",
   "execution_count": 325,
   "metadata": {
    "slideshow": {
     "slide_type": "slide"
    }
   },
   "outputs": [
    {
     "data": {
      "text/plain": [
       "False    352\n",
       "True      56\n",
       "Name: body_mass_g, dtype: int64"
      ]
     },
     "execution_count": 325,
     "metadata": {},
     "output_type": "execute_result"
    }
   ],
   "source": [
    "large_species = bodymass_series > bodymass_mean\n",
    "large_species.value_counts()"
   ]
  },
  {
   "cell_type": "code",
   "execution_count": 327,
   "metadata": {
    "slideshow": {
     "slide_type": "slide"
    }
   },
   "outputs": [],
   "source": [
    "primcarniv_carn_small = primcarniv_carn.copy()"
   ]
  },
  {
   "cell_type": "code",
   "execution_count": 328,
   "metadata": {
    "slideshow": {
     "slide_type": "slide"
    }
   },
   "outputs": [
    {
     "data": {
      "text/html": [
       "<div>\n",
       "<style scoped>\n",
       "    .dataframe tbody tr th:only-of-type {\n",
       "        vertical-align: middle;\n",
       "    }\n",
       "\n",
       "    .dataframe tbody tr th {\n",
       "        vertical-align: top;\n",
       "    }\n",
       "\n",
       "    .dataframe thead th {\n",
       "        text-align: right;\n",
       "    }\n",
       "</style>\n",
       "<table border=\"1\" class=\"dataframe\">\n",
       "  <thead>\n",
       "    <tr style=\"text-align: right;\">\n",
       "      <th></th>\n",
       "      <th>order</th>\n",
       "      <th>genus</th>\n",
       "      <th>species</th>\n",
       "      <th>body_mass_g</th>\n",
       "      <th>teat_number</th>\n",
       "      <th>trophic_level</th>\n",
       "      <th>weaning_age_d</th>\n",
       "      <th>litter_size</th>\n",
       "      <th>Carnivoire</th>\n",
       "      <th>SmallSpecies</th>\n",
       "    </tr>\n",
       "  </thead>\n",
       "  <tbody>\n",
       "    <tr>\n",
       "      <th>1</th>\n",
       "      <td>Carnivora</td>\n",
       "      <td>Canis</td>\n",
       "      <td>adustus</td>\n",
       "      <td>10392.49</td>\n",
       "      <td>8.0</td>\n",
       "      <td>2.0</td>\n",
       "      <td>52.89</td>\n",
       "      <td>4.50</td>\n",
       "      <td>True</td>\n",
       "      <td>True</td>\n",
       "    </tr>\n",
       "    <tr>\n",
       "      <th>2</th>\n",
       "      <td>Carnivora</td>\n",
       "      <td>Canis</td>\n",
       "      <td>aureus</td>\n",
       "      <td>9658.70</td>\n",
       "      <td>8.0</td>\n",
       "      <td>2.0</td>\n",
       "      <td>61.30</td>\n",
       "      <td>3.74</td>\n",
       "      <td>True</td>\n",
       "      <td>True</td>\n",
       "    </tr>\n",
       "    <tr>\n",
       "      <th>3</th>\n",
       "      <td>Carnivora</td>\n",
       "      <td>Canis</td>\n",
       "      <td>latrans</td>\n",
       "      <td>11989.10</td>\n",
       "      <td>8.0</td>\n",
       "      <td>3.0</td>\n",
       "      <td>43.71</td>\n",
       "      <td>5.72</td>\n",
       "      <td>True</td>\n",
       "      <td>True</td>\n",
       "    </tr>\n",
       "    <tr>\n",
       "      <th>4</th>\n",
       "      <td>Carnivora</td>\n",
       "      <td>Canis</td>\n",
       "      <td>lupus</td>\n",
       "      <td>31756.51</td>\n",
       "      <td>9.0</td>\n",
       "      <td>3.0</td>\n",
       "      <td>44.82</td>\n",
       "      <td>4.98</td>\n",
       "      <td>True</td>\n",
       "      <td>True</td>\n",
       "    </tr>\n",
       "    <tr>\n",
       "      <th>28</th>\n",
       "      <td>Carnivora</td>\n",
       "      <td>Canis</td>\n",
       "      <td>mesomelas</td>\n",
       "      <td>8247.30</td>\n",
       "      <td>8.0</td>\n",
       "      <td>2.0</td>\n",
       "      <td>34.10</td>\n",
       "      <td>3.89</td>\n",
       "      <td>True</td>\n",
       "      <td>True</td>\n",
       "    </tr>\n",
       "  </tbody>\n",
       "</table>\n",
       "</div>"
      ],
      "text/plain": [
       "        order  genus    species  body_mass_g  teat_number  trophic_level  \\\n",
       "1   Carnivora  Canis    adustus     10392.49          8.0            2.0   \n",
       "2   Carnivora  Canis     aureus      9658.70          8.0            2.0   \n",
       "3   Carnivora  Canis    latrans     11989.10          8.0            3.0   \n",
       "4   Carnivora  Canis      lupus     31756.51          9.0            3.0   \n",
       "28  Carnivora  Canis  mesomelas      8247.30          8.0            2.0   \n",
       "\n",
       "    weaning_age_d  litter_size Carnivoire SmallSpecies  \n",
       "1           52.89         4.50       True         True  \n",
       "2           61.30         3.74       True         True  \n",
       "3           43.71         5.72       True         True  \n",
       "4           44.82         4.98       True         True  \n",
       "28          34.10         3.89       True         True  "
      ]
     },
     "execution_count": 328,
     "metadata": {},
     "output_type": "execute_result"
    }
   ],
   "source": [
    "primcarniv_carn_small.loc[small_species, 'SmallSpecies'] = True\n",
    "primcarniv_carn_small.loc[large_species, 'SmallSpecies'] = False\n",
    "primcarniv_carn_small.head()"
   ]
  },
  {
   "cell_type": "code",
   "execution_count": 329,
   "metadata": {
    "slideshow": {
     "slide_type": "slide"
    }
   },
   "outputs": [
    {
     "data": {
      "text/plain": [
       "order             object\n",
       "genus             object\n",
       "species           object\n",
       "body_mass_g      float64\n",
       "teat_number      float64\n",
       "trophic_level    float64\n",
       "weaning_age_d    float64\n",
       "litter_size      float64\n",
       "Carnivoire        object\n",
       "SmallSpecies      object\n",
       "dtype: object"
      ]
     },
     "execution_count": 329,
     "metadata": {},
     "output_type": "execute_result"
    }
   ],
   "source": [
    "primcarniv_carn_small.dtypes"
   ]
  },
  {
   "cell_type": "markdown",
   "metadata": {
    "slideshow": {
     "slide_type": "slide"
    }
   },
   "source": [
    "## Crosstabulation\n",
    "\n",
    "- `SmallSpecies` is a Boolean variable that classifies species as small or large, and `trophic_level` is a float variable that records trophic levels. \n",
    "\n",
    "- These two variables can be used to **cross-classify** species size and trophic levels.  There are six possibilities:\n",
    "\n",
    "\n",
    "`trophic_level` |`SmallSpecies`  | Number of observations\n",
    "--------------|-----------|------\n",
    "`1.0`       | `False`   | A\n",
    "`1.0`       | `True`    | B\n",
    "`2.0`       | `False`   | C\n",
    "`2.0`        | `True`    | D\n",
    "`3.0`       | `False`   | E\n",
    "`3.0`        | `True`    | F\n",
    "\n",
    "\n",
    "\n",
    "- How can we use python to calculate A, B, C, D, E, F?\n",
    "\n",
    "- This occurs so often that `pandas` has a function called `crosstab` to do this."
   ]
  },
  {
   "cell_type": "code",
   "execution_count": 330,
   "metadata": {
    "slideshow": {
     "slide_type": "slide"
    }
   },
   "outputs": [
    {
     "data": {
      "text/html": [
       "<div>\n",
       "<style scoped>\n",
       "    .dataframe tbody tr th:only-of-type {\n",
       "        vertical-align: middle;\n",
       "    }\n",
       "\n",
       "    .dataframe tbody tr th {\n",
       "        vertical-align: top;\n",
       "    }\n",
       "\n",
       "    .dataframe thead th {\n",
       "        text-align: right;\n",
       "    }\n",
       "</style>\n",
       "<table border=\"1\" class=\"dataframe\">\n",
       "  <thead>\n",
       "    <tr style=\"text-align: right;\">\n",
       "      <th>SmallSpecies</th>\n",
       "      <th>False</th>\n",
       "      <th>True</th>\n",
       "    </tr>\n",
       "    <tr>\n",
       "      <th>trophic_level</th>\n",
       "      <th></th>\n",
       "      <th></th>\n",
       "    </tr>\n",
       "  </thead>\n",
       "  <tbody>\n",
       "    <tr>\n",
       "      <th>1.0</th>\n",
       "      <td>4</td>\n",
       "      <td>71</td>\n",
       "    </tr>\n",
       "    <tr>\n",
       "      <th>2.0</th>\n",
       "      <td>33</td>\n",
       "      <td>186</td>\n",
       "    </tr>\n",
       "    <tr>\n",
       "      <th>3.0</th>\n",
       "      <td>19</td>\n",
       "      <td>89</td>\n",
       "    </tr>\n",
       "  </tbody>\n",
       "</table>\n",
       "</div>"
      ],
      "text/plain": [
       "SmallSpecies   False  True \n",
       "trophic_level              \n",
       "1.0                4     71\n",
       "2.0               33    186\n",
       "3.0               19     89"
      ]
     },
     "execution_count": 330,
     "metadata": {},
     "output_type": "execute_result"
    }
   ],
   "source": [
    "pd.crosstab(primcarniv_carn_small['trophic_level'],primcarniv_carn_small['SmallSpecies'])"
   ]
  },
  {
   "cell_type": "markdown",
   "metadata": {
    "slideshow": {
     "slide_type": "slide"
    }
   },
   "source": [
    "Now we know the values of A, B, C, D.\n",
    "\n",
    "\n",
    "`trophic_level` |`SmallSpecies`  | Number of observations\n",
    "--------------|-----------|------\n",
    "`1.0`       | `False`   | 4\n",
    "`1.0`       | `True`    | 71\n",
    "`2.0`       | `False`   | 33\n",
    "`2.0`        | `True`    | 186\n",
    "`3.0`       | `False`   | 19\n",
    "`3.0`        | `True`    | 89\n",
    "\n",
    "What proportion of species with tropic level 1.0 are small?\n",
    "\n",
    "There are 4 + 71 = 75 species with trophic level 1.0 and 71 are small or 71/75 = 0.95\n",
    "\n",
    "There are 33 + 186 = 219 species with trophic level 2.0 and 186 are small or 186/219 = 0.85\n",
    "\n",
    "There are 19 + 89 = 108 species with trophic level 3.0 and 89 are small or 89/108 = 0.82\n",
    "\n"
   ]
  },
  {
   "cell_type": "markdown",
   "metadata": {
    "slideshow": {
     "slide_type": "slide"
    }
   },
   "source": [
    "The `normalize` parameter can be used to get the column (use argument `column`) or row (use argument `index`) percentages."
   ]
  },
  {
   "cell_type": "code",
   "execution_count": 331,
   "metadata": {
    "slideshow": {
     "slide_type": "fragment"
    }
   },
   "outputs": [
    {
     "data": {
      "text/html": [
       "<div>\n",
       "<style scoped>\n",
       "    .dataframe tbody tr th:only-of-type {\n",
       "        vertical-align: middle;\n",
       "    }\n",
       "\n",
       "    .dataframe tbody tr th {\n",
       "        vertical-align: top;\n",
       "    }\n",
       "\n",
       "    .dataframe thead th {\n",
       "        text-align: right;\n",
       "    }\n",
       "</style>\n",
       "<table border=\"1\" class=\"dataframe\">\n",
       "  <thead>\n",
       "    <tr style=\"text-align: right;\">\n",
       "      <th>SmallSpecies</th>\n",
       "      <th>False</th>\n",
       "      <th>True</th>\n",
       "    </tr>\n",
       "    <tr>\n",
       "      <th>trophic_level</th>\n",
       "      <th></th>\n",
       "      <th></th>\n",
       "    </tr>\n",
       "  </thead>\n",
       "  <tbody>\n",
       "    <tr>\n",
       "      <th>1.0</th>\n",
       "      <td>0.053333</td>\n",
       "      <td>0.946667</td>\n",
       "    </tr>\n",
       "    <tr>\n",
       "      <th>2.0</th>\n",
       "      <td>0.150685</td>\n",
       "      <td>0.849315</td>\n",
       "    </tr>\n",
       "    <tr>\n",
       "      <th>3.0</th>\n",
       "      <td>0.175926</td>\n",
       "      <td>0.824074</td>\n",
       "    </tr>\n",
       "  </tbody>\n",
       "</table>\n",
       "</div>"
      ],
      "text/plain": [
       "SmallSpecies      False     True \n",
       "trophic_level                    \n",
       "1.0            0.053333  0.946667\n",
       "2.0            0.150685  0.849315\n",
       "3.0            0.175926  0.824074"
      ]
     },
     "execution_count": 331,
     "metadata": {},
     "output_type": "execute_result"
    }
   ],
   "source": [
    "pd.crosstab(primcarniv_carn_small['trophic_level'],\n",
    "            primcarniv_carn_small['SmallSpecies'], normalize='index')"
   ]
  },
  {
   "cell_type": "markdown",
   "metadata": {
    "slideshow": {
     "slide_type": "slide"
    }
   },
   "source": [
    "We can visualize this crosstabulation using a bar chart."
   ]
  },
  {
   "cell_type": "code",
   "execution_count": 332,
   "metadata": {
    "slideshow": {
     "slide_type": "fragment"
    }
   },
   "outputs": [
    {
     "data": {
      "text/plain": [
       "<AxesSubplot:xlabel='trophic_level'>"
      ]
     },
     "execution_count": 332,
     "metadata": {},
     "output_type": "execute_result"
    },
    {
     "data": {
      "image/png": "[encoded data removed]",
      "text/plain": [
       "<Figure size 432x288 with 1 Axes>"
      ]
     },
     "metadata": {
      "needs_background": "light"
     },
     "output_type": "display_data"
    }
   ],
   "source": [
    "ct = pd.crosstab(primcarniv_carn_small['trophic_level'],\n",
    "                 primcarniv_carn_small['SmallSpecies'], normalize='index')\n",
    "ct.plot.bar()"
   ]
  },
  {
   "cell_type": "markdown",
   "metadata": {
    "slideshow": {
     "slide_type": "slide"
    }
   },
   "source": [
    "What can we conclude?"
   ]
  },
  {
   "cell_type": "markdown",
   "metadata": {
    "slideshow": {
     "slide_type": "slide"
    }
   },
   "source": [
    "## Summary of Python functions/concepts used Today\n",
    "\n",
    "- Boolean variables and operators\n",
    "  + `==`,`!=`,`&`,`|`\n",
    "- Using multiple conditions to extract data\n",
    "- Creating a new data column\n",
    "- Cross-tabulation\n"
   ]
  },
  {
   "cell_type": "code",
   "execution_count": null,
   "metadata": {
    "slideshow": {
     "slide_type": "-"
    }
   },
   "outputs": [],
   "source": []
  }
 ],
 "metadata": {
  "celltoolbar": "Slideshow",
  "kernelspec": {
   "display_name": "Python 3",
   "language": "python",
   "name": "python3"
  },
  "language_info": {
   "codemirror_mode": {
    "name": "ipython",
    "version": 3
   },
   "file_extension": ".py",
   "mimetype": "text/x-python",
   "name": "python",
   "nbconvert_exporter": "python",
   "pygments_lexer": "ipython3",
   "version": "3.8.10"
  }
 },
 "nbformat": 4,
 "nbformat_minor": 4
}
