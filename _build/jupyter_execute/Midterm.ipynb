{
 "cells": [
  {
   "cell_type": "markdown",
   "id": "31b039e6-1150-48e9-8674-89ecf11204d4",
   "metadata": {},
   "source": [
    "# EEB125 midterm\n",
    "\n",
    "<mark> **Read this section before starting the test** </mark>\n",
    "\n",
    "## Test Instructions\n",
    "\n",
    "- Complete all 5 questions below. \n",
    "\n",
    "- The answers to the questions will be submitted on MarkUs using a similar workflow to the lab and homework assignments, except that MarkUs will not give you feedback on passing or failing the autotests.\n",
    "\n",
    "- Answers where you are asked to write python code will be autograded, and written answers will be graded manually by the teaching team.\n",
    "\n",
    "\n",
    "## Marking Rubric\n",
    "\n",
    "\n",
    "Section     | 0 | 1 | 2 | 3\n",
    "------------|---|---|---|---\n",
    "python computation steps       |auto test fails | auto test passes | NA | NA \n",
    "Describe what you did to the data (for each part) | No answer | A partial description is given that explains what the python code did to the data| A full description that uses data science terminology is given that explains what the python code did to the data and why this step is important | NA\n",
    "Conclusion (for each part) | No answer | The question is answered but no explanation is given | The question is answered but the explanation is not supported or weakly supported by the data | The question is answered and the explanation is supported by the data \n",
    "\n",
    "__The total number of marks for this test is 36.__"
   ]
  },
  {
   "cell_type": "markdown",
   "id": "2db5e13f-2945-44e0-8047-7b563b2463c9",
   "metadata": {},
   "source": [
    "## Aids Allowed and Academic Integrity\n",
    "\n",
    "- You are allowed to use any materials from the course or any other written sources (e.g., books, websites). \n",
    "\n",
    "- You are not allowed to directly receive or give help during the test period.  In other words, all work must be your own, and you must not discuss or post any information about this test with anyone during the test period.\n",
    "\n",
    "- As a student, you alone are responsible for ensuring the integrity of your work and for understanding what [constitutes an academic offense](https://www.artsci.utoronto.ca/current/academic-advising-and-support/student-academic-integrity/academic-misconduct).\n",
    "\n",
    "## Time Allowed\n",
    "\n",
    "- The test will be available at 13:00 on Wednesday, February 16, and must be submitted on MarkUs (see Submission Instructions) by 15:05 PM on Wednesday, February 16.\n",
    "\n",
    "- Late tests will receive a grade of zero unless you have an approved accommodation from your instructor.\n",
    "\n",
    "## How do I ask a question during the test?\n",
    "\n",
    "- The teaching team will be available during the test on the [usual zoom class link - pw: 683207](https://utoronto.zoom.us/j/83522365155) in case you have any questions during the midterm.\n",
    "\n",
    "- The class discussion forum  on Ed will be disabled during the test period."
   ]
  },
  {
   "cell_type": "markdown",
   "id": "20a88100",
   "metadata": {},
   "source": [
    "## Submission Instructions\n",
    "\n",
    "1. Download this notebook using menu item `File —> Download As —> Notebook (.ipynb)`. Save it as `EEB125_Midterm.ipynb`.\n",
    "\n",
    "\n",
    "2. Log in here: https://markus-ds.teach.cs.toronto.edu (Tip: Control/Command-click to open it in a new tab so you can still see these instructions.)\n",
    "\n",
    "\n",
    "3. Choose your course.\n",
    "\n",
    "\n",
    "4. Click the `mt: Midterm` assessment.\n",
    "\n",
    "\n",
    "5. Click the `Submissions` tab. The new page is `mt: Submissions`.\n",
    "\n",
    "\n",
    "6. Click button `Upload File` on the bottom right.\n",
    "\n",
    "\n",
    "7. Click button `Choose Files`.\n",
    "\n",
    "\n",
    "8. Select the `EEB125_Midterm.ipynb` file that you downloaded, then click Save."
   ]
  },
  {
   "cell_type": "markdown",
   "id": "6259576a",
   "metadata": {},
   "source": [
    "# Introduction\n",
    "\n",
    "In this midterm, we ask you to answer the questions:\n",
    "\n",
    "**How many kilograms of tissue do mammals grow throughout their development period?**\n",
    "\n",
    "The code blocks and questions below will guide you through this analysis."
   ]
  },
  {
   "cell_type": "markdown",
   "id": "edf09e6b-f6a7-4a2d-9955-25720cfd3a4c",
   "metadata": {},
   "source": [
    "# Question 1\n",
    "\n",
    "Complete the steps below."
   ]
  },
  {
   "cell_type": "markdown",
   "id": "8cc1cb31-8a03-4bc7-b8b4-e80691eb4e4b",
   "metadata": {},
   "source": [
    "## Step 1a\n",
    "\n",
    "We will use your student number as data for this midterm. Complete the assignment statement below by typing your student number as an `int`. __(1 mark)__"
   ]
  },
  {
   "cell_type": "code",
   "execution_count": 1,
   "id": "a461fb7a-bbd8-49eb-9551-aed78f9d3cdb",
   "metadata": {},
   "outputs": [
    {
     "data": {
      "text/plain": [
       "'# Answer: delete student number to create handout\\nstnum = '"
      ]
     },
     "execution_count": 1,
     "metadata": {},
     "output_type": "execute_result"
    }
   ],
   "source": [
    "'''# Answer: delete student number to create handout\n",
    "stnum = '''"
   ]
  },
  {
   "cell_type": "code",
   "execution_count": 2,
   "id": "a517d7d0-4759-40ed-a04c-3f29f2668b02",
   "metadata": {},
   "outputs": [
    {
     "data": {
      "text/plain": [
       "'# check that stnum is type int\\n\\nassert type(stnum) == int'"
      ]
     },
     "execution_count": 2,
     "metadata": {},
     "output_type": "execute_result"
    }
   ],
   "source": [
    "'''# check that stnum is type int\n",
    "\n",
    "assert type(stnum) == int'''"
   ]
  },
  {
   "cell_type": "markdown",
   "id": "9f1eb8c8-fcec-4074-b945-6327aee5feec",
   "metadata": {},
   "source": [
    "## Step 1b\n",
    "\n",
    "Run the Code cell below to obtain your random seed for Step 3.\n",
    "\n",
    "__NB: Be careful not to modify the Code cell.__\n",
    "\n",
    "__(1 mark)__"
   ]
  },
  {
   "cell_type": "code",
   "execution_count": 3,
   "id": "5cb3604c-dbcb-4272-b415-fa109b2cc3e9",
   "metadata": {},
   "outputs": [
    {
     "data": {
      "text/plain": [
       "\"#\\n# CAUTION: Don't modify this code cell\\n#\\n\\nn = len(str(stnum))\\nseed = int(str(stnum)[n-3:n])\""
      ]
     },
     "execution_count": 3,
     "metadata": {},
     "output_type": "execute_result"
    }
   ],
   "source": [
    "'''#\n",
    "# CAUTION: Don't modify this code cell\n",
    "#\n",
    "\n",
    "n = len(str(stnum))\n",
    "seed = int(str(stnum)[n-3:n])'''"
   ]
  },
  {
   "cell_type": "markdown",
   "id": "9b7c9cac-d5a8-4b11-818e-96a9968b2998",
   "metadata": {},
   "source": [
    "## Step 2\n",
    "\n",
    "Read the tab-separated text file `pantheria.txt` into a `pandas` `DataFrame` named `pantheria_alldat`. __(1 mark)__"
   ]
  },
  {
   "cell_type": "code",
   "execution_count": 4,
   "id": "9485baff-ea79-4fa7-8296-1ade05fb2161",
   "metadata": {},
   "outputs": [],
   "source": [
    "# put your answer in this cell"
   ]
  },
  {
   "cell_type": "code",
   "execution_count": 5,
   "id": "f2108a99",
   "metadata": {},
   "outputs": [
    {
     "data": {
      "text/plain": [
       "'# Check that the data makes sense\\npantheria_alldat.head()'"
      ]
     },
     "execution_count": 5,
     "metadata": {},
     "output_type": "execute_result"
    }
   ],
   "source": [
    "'''# Check that the data makes sense\n",
    "pantheria_alldat.head()'''"
   ]
  },
  {
   "cell_type": "markdown",
   "id": "961e0218-a3bb-44a0-86c7-ace7806858eb",
   "metadata": {},
   "source": [
    "## Step 3\n",
    "\n",
    "Run the code cell below.  This code uses `pandas.DataFrame.sample` to take a random sample of rows from `pantheria_alldat`, and name the resulting `DataFrame` `pantheria_dat`. __(1 mark)__"
   ]
  },
  {
   "cell_type": "code",
   "execution_count": 6,
   "id": "29fe47bf-b1f8-4047-ae51-861f81d35fd9",
   "metadata": {},
   "outputs": [
    {
     "data": {
      "text/plain": [
       "\"#\\n# CAUTION: Don't modify this code cell\\n#\\n\\npantheria_dat = pantheria_alldat.sample(frac = 0.75, random_state = seed)\""
      ]
     },
     "execution_count": 6,
     "metadata": {},
     "output_type": "execute_result"
    }
   ],
   "source": [
    "'''#\n",
    "# CAUTION: Don't modify this code cell\n",
    "#\n",
    "\n",
    "pantheria_dat = pantheria_alldat.sample(frac = 0.75, random_state = seed)'''"
   ]
  },
  {
   "cell_type": "code",
   "execution_count": 7,
   "id": "12bb0c56-12f1-406b-8fc5-124aac9890ce",
   "metadata": {},
   "outputs": [
    {
     "data": {
      "text/plain": [
       "\"# Check that you have a dataframe with the correct shape\\n\\nexpected_shape = (4062, 55)\\n\\nerror_msg = 'Go back and run the previous cells.'\\n\\nassert expected_shape == pantheria_dat.shape, error_msg\""
      ]
     },
     "execution_count": 7,
     "metadata": {},
     "output_type": "execute_result"
    }
   ],
   "source": [
    "'''# Check that you have a dataframe with the correct shape\n",
    "\n",
    "expected_shape = (4062, 55)\n",
    "\n",
    "error_msg = 'Go back and run the previous cells.'\n",
    "\n",
    "assert expected_shape == pantheria_dat.shape, error_msg'''"
   ]
  },
  {
   "cell_type": "markdown",
   "id": "e0a45395-b2fe-4f3e-816f-9bae143e8d47",
   "metadata": {},
   "source": [
    "## Step 4\n",
    "\n",
    "Briefly describe what you did to the data in this question.  Put your answer in a markdown cell below. __(2 marks)__"
   ]
  },
  {
   "cell_type": "markdown",
   "id": "4a52efaf-bf6d-4e42-8bb6-ccfbb5fce341",
   "metadata": {},
   "source": [
    "Step 4: Edit this Markdown cell to provide your answer:\n"
   ]
  },
  {
   "cell_type": "markdown",
   "id": "79a4b6e4",
   "metadata": {},
   "source": [
    "# Question 2\n",
    "\n",
    "## Step 1a\n",
    "\n",
    "A list named `important_columns` contains column names from `pantheria_dat` that will be used throughout this test is given below. Copy and paste the list below into a code cell below to define the list in python. \n",
    "\n",
    "```\n",
    "important_columns = ['MSW05_Order', \n",
    "                     'MSW05_Binomial',  \n",
    "                     '5-1_AdultBodyMass_g', \n",
    "                     '5-3_NeonateBodyMass_g',  \n",
    "                     '23-1_SexualMaturityAge_d', \n",
    "                     '15-1_LitterSize',\n",
    "                     '12-1_HabitatBreadth']\n",
    "\n",
    "```\n",
    "\n",
    "__(1 mark)__"
   ]
  },
  {
   "cell_type": "code",
   "execution_count": 8,
   "id": "041aeb5f-c66e-4991-b910-2b62e0fb412f",
   "metadata": {},
   "outputs": [],
   "source": [
    "# put your answer in this cell"
   ]
  },
  {
   "cell_type": "markdown",
   "id": "f1b0d1f5-44aa-4a2a-9f0c-f1db5a9f5664",
   "metadata": {},
   "source": [
    "## Step 1b\n",
    "\n",
    "Use the list from Step 1a to select the columns in `important_columns` from `pantheria_dat`.  Name the `DataFrame` with `important_columns` `sub_pantheria`. __(1 mark)__"
   ]
  },
  {
   "cell_type": "code",
   "execution_count": 9,
   "id": "3cc1517b",
   "metadata": {},
   "outputs": [],
   "source": [
    "# put your answer in this cell"
   ]
  },
  {
   "cell_type": "code",
   "execution_count": 10,
   "id": "771be1f7",
   "metadata": {},
   "outputs": [
    {
     "data": {
      "text/plain": [
       "'sub_pantheria.head()'"
      ]
     },
     "execution_count": 10,
     "metadata": {},
     "output_type": "execute_result"
    }
   ],
   "source": [
    "# Check your work\n",
    "'''sub_pantheria.head()'''"
   ]
  },
  {
   "cell_type": "code",
   "execution_count": 11,
   "id": "88c48551-8cfb-4493-ab2c-c5bfa2f0e031",
   "metadata": {},
   "outputs": [
    {
     "data": {
      "text/plain": [
       "\"expected_shape = (4062, 7)\\n\\nerror_msg = 'Check that you selected the correct number of columns'\\n\\nassert expected_shape == sub_pantheria.shape, error_msg\""
      ]
     },
     "execution_count": 11,
     "metadata": {},
     "output_type": "execute_result"
    }
   ],
   "source": [
    "# check the shape of your dataframe\n",
    "\n",
    "'''expected_shape = (4062, 7)\n",
    "\n",
    "error_msg = 'Check that you selected the correct number of columns'\n",
    "\n",
    "assert expected_shape == sub_pantheria.shape, error_msg'''"
   ]
  },
  {
   "cell_type": "markdown",
   "id": "ab15f907",
   "metadata": {},
   "source": [
    "## Step 2\n",
    "\n",
    "Create a dictionary named `columnnames` that can be used in Step 3 to rename the columns in `sub_pantheria`. Use **New column name** in the table below for the names of the new columns.  To save you time typing or cutting-and-pasting the dictionary has been partially completed in the cell below.\n",
    "\n",
    "\n",
    "Original column name | New column name | Description\n",
    "---------------------|-----------------|--------------\n",
    "`'MSW05_Order'`      | `'order'`       | Taxonomic order of the species in each row\n",
    "`'MSW05_Binomial'`   | `'genus_species'`| The scientific name for each species\n",
    "`'5-1_AdultBodyMass_g '`| `'adult_mass_g'`| Average body mass of adults, measured in grams\n",
    "`'5-3_NeonateBodyMass_g'` | `'neonate_mass_g'` | Average body mass at birth, measured in grams\n",
    "`'23-1_SexualMaturityAge_d'` | `'maturity_d'` | Age at which individuals are capable of sexual reproduction, measured in days\n",
    "`'12-1_HabitatBreadth'` | `'habitat_breadth'` | Types of habitat that individuals inhabit (ground dwelling, aquatic, burrowing, and above ground dwelling)\n",
    "`'15-1_LitterSize'` | `'litter_size'` | How many offspring do mothers birth at one time?\n"
   ]
  },
  {
   "cell_type": "markdown",
   "id": "2b5d2d45",
   "metadata": {},
   "source": [
    "Below is a dictionary where we have provided all the keys. Edit the dictionary to add the appropriate values. __(1 mark)__"
   ]
  },
  {
   "cell_type": "code",
   "execution_count": 12,
   "id": "84c30a6e-c92a-425f-9be0-554e90dd1042",
   "metadata": {},
   "outputs": [
    {
     "data": {
      "text/plain": [
       "\"columnnames = {\\n    'MSW05_Order': ,\\n    'MSW05_Binomial': ,\\n    '5-1_AdultBodyMass_g': ,\\n    '5-3_NeonateBodyMass_g': ,\\n    '23-1_SexualMaturityAge_d': ,\\n    '12-1_HabitatBreadth': ,\\n    '15-1_LitterSize': \\n}\""
      ]
     },
     "execution_count": 12,
     "metadata": {},
     "output_type": "execute_result"
    }
   ],
   "source": [
    "'''columnnames = {\n",
    "    'MSW05_Order': ,\n",
    "    'MSW05_Binomial': ,\n",
    "    '5-1_AdultBodyMass_g': ,\n",
    "    '5-3_NeonateBodyMass_g': ,\n",
    "    '23-1_SexualMaturityAge_d': ,\n",
    "    '12-1_HabitatBreadth': ,\n",
    "    '15-1_LitterSize': \n",
    "}'''"
   ]
  },
  {
   "cell_type": "code",
   "execution_count": 13,
   "id": "44e98016",
   "metadata": {},
   "outputs": [
    {
     "data": {
      "text/plain": [
       "'# Check your work\\ncolumnnames'"
      ]
     },
     "execution_count": 13,
     "metadata": {},
     "output_type": "execute_result"
    }
   ],
   "source": [
    "'''# Check your work\n",
    "columnnames'''"
   ]
  },
  {
   "cell_type": "markdown",
   "id": "c8bcc0d3",
   "metadata": {},
   "source": [
    "## Step 3\n",
    "\n",
    "Use `columnnames` from Step 2 to rename the columns of `sub_pantheria`, and name the new `DataFrame` `sub_pantheria_rename`. __(1 mark)__"
   ]
  },
  {
   "cell_type": "code",
   "execution_count": 14,
   "id": "3a9bfd21",
   "metadata": {},
   "outputs": [],
   "source": [
    "# put your answer in this cell"
   ]
  },
  {
   "cell_type": "code",
   "execution_count": 15,
   "id": "a15945ca-48dc-44d8-9376-53aa9ac4d68a",
   "metadata": {},
   "outputs": [
    {
     "data": {
      "text/plain": [
       "\"# check your work\\n\\nexpected_colnames = ['order',\\n 'genus_species',\\n 'adult_mass_g',\\n 'neonate_mass_g',\\n 'maturity_d',\\n 'litter_size',\\n 'habitat_breadth']\\n\\nassert expected_colnames == list(sub_pantheria_rename)\""
      ]
     },
     "execution_count": 15,
     "metadata": {},
     "output_type": "execute_result"
    }
   ],
   "source": [
    "'''# check your work\n",
    "\n",
    "expected_colnames = ['order',\n",
    " 'genus_species',\n",
    " 'adult_mass_g',\n",
    " 'neonate_mass_g',\n",
    " 'maturity_d',\n",
    " 'litter_size',\n",
    " 'habitat_breadth']\n",
    "\n",
    "assert expected_colnames == list(sub_pantheria_rename)'''"
   ]
  },
  {
   "cell_type": "markdown",
   "id": "04b764a3-6582-4270-8848-5b4a527c0b60",
   "metadata": {},
   "source": [
    "# Step 4\n",
    "\n",
    "Briefly describe what you did to the data in this question.  Put your answer in a markdown cell below. __(2 marks)__"
   ]
  },
  {
   "cell_type": "markdown",
   "id": "0379b549-9e27-45aa-857c-560c215456c9",
   "metadata": {},
   "source": [
    "Step 4: Edit this Markdown cell to provide your answer:"
   ]
  },
  {
   "cell_type": "markdown",
   "id": "3adce9bc-c75a-4e15-95af-35e333da8266",
   "metadata": {},
   "source": [
    "# Question 3\n",
    "\n",
    "**Throughout this question you will see missing values such as `NaN`.  This is expected and you do not have to remove these values.**\n",
    "\n",
    "## Step 1\n",
    "\n",
    "We want to answer the question: **\"How many kilograms of tissue do mammals grow throughout their development period?\"**\n",
    "\n",
    "You will use columns `'adult_mass_g'`, `'neonate_mass_g'`, and `'maturity_d'` to calculate the amount of tissue, **measured in kilograms**, that individuals within each species grow, on average, throughout their development period, **in years**.  \n",
    "\n",
    "Create the following **new** columns in `sub_pantheria_rename`.\n",
    "\n",
    "- `'adult_mass_kg'`: defined as`'adult_mass_g'` converted to kilograms (NB: 1kg = 1000g). __(1 marks)__\n",
    "\n",
    "- `'neonate_mass_kg'`: defined as `'neonate_mass_g'` converted to kilograms (NB: 1kg = 1000g). __(1 marks)__\n",
    "\n",
    "- `'maturity_yrs'`: defined as `'maturity_d'` converted from days to years (NB: 1 year = 365 days). __(1 marks)__\n"
   ]
  },
  {
   "cell_type": "code",
   "execution_count": 16,
   "id": "d11e4572",
   "metadata": {},
   "outputs": [],
   "source": [
    "# your answer goes here"
   ]
  },
  {
   "cell_type": "code",
   "execution_count": 17,
   "id": "1f6a0ccc",
   "metadata": {},
   "outputs": [
    {
     "data": {
      "text/plain": [
       "'# Check your work\\nsub_pantheria_rename.head()'"
      ]
     },
     "execution_count": 17,
     "metadata": {},
     "output_type": "execute_result"
    }
   ],
   "source": [
    "'''# Check your work\n",
    "sub_pantheria_rename.head()'''"
   ]
  },
  {
   "cell_type": "markdown",
   "id": "625a9a69-2e33-4814-9f03-a699bd96e0db",
   "metadata": {},
   "source": [
    "## Step 2\n",
    "\n",
    "Use the columns that you created in Step 1 of this question: `'adult_mass_kg'`, `'neonate_mass_kg'`, and `'maturity_yrs'` to create a new column in `sub_pantheria_rename`  named `'growth_rate_kg_yr'` using the formula:\n",
    "\n",
    "`'growth_rate_kg_yr' = ('adult_mass_kilograms' - 'neonate_mass_kilograms') / 'maturity_years'`\n",
    "\n",
    "__(1 mark)__"
   ]
  },
  {
   "cell_type": "code",
   "execution_count": 18,
   "id": "26f50453-852d-4dd5-9a80-bea81e6fbaeb",
   "metadata": {},
   "outputs": [],
   "source": [
    "# your answer goes here"
   ]
  },
  {
   "cell_type": "code",
   "execution_count": 19,
   "id": "d8e2b49d",
   "metadata": {},
   "outputs": [
    {
     "data": {
      "text/plain": [
       "'# Check your work\\nsub_pantheria_rename.head()'"
      ]
     },
     "execution_count": 19,
     "metadata": {},
     "output_type": "execute_result"
    }
   ],
   "source": [
    "'''# Check your work\n",
    "sub_pantheria_rename.head()'''"
   ]
  },
  {
   "cell_type": "markdown",
   "id": "eb0c4efb-7352-4b23-ba97-5d10e24ea9a1",
   "metadata": {
    "tags": []
   },
   "source": [
    "## Step 3\n",
    "\n",
    "Briefly describe what you did to the data in this question (HINT: What are the units of the column `'growth_rate_kg_yr'`?) Put your answer in a markdown cell below. __(2 marks)__ "
   ]
  },
  {
   "cell_type": "markdown",
   "id": "57005d08-ce44-4cb5-bebf-1e1d231ee0f3",
   "metadata": {},
   "source": [
    "Step 3: Edit this Markdown cell to provide your answer:"
   ]
  },
  {
   "cell_type": "markdown",
   "id": "c9c8a330-55b3-4880-b75d-c8ebf9658cc3",
   "metadata": {
    "tags": []
   },
   "source": [
    "# Question 4\n",
    "\n",
    "## Step 1\n",
    "\n",
    "Create a new column in `sub_pantheria_rename` named `'large_litters'` that is defined as `True` if `'litter_size'` is greater than one, and `False` otherwise. __(1 mark)__"
   ]
  },
  {
   "cell_type": "code",
   "execution_count": 20,
   "id": "694b3929-ddc8-467c-a788-39f31a8fdeae",
   "metadata": {},
   "outputs": [],
   "source": [
    "# put your answer here"
   ]
  },
  {
   "cell_type": "code",
   "execution_count": 21,
   "id": "dbb0ebd5",
   "metadata": {},
   "outputs": [
    {
     "data": {
      "text/plain": [
       "'# Check your work\\nsub_pantheria_rename.head()'"
      ]
     },
     "execution_count": 21,
     "metadata": {},
     "output_type": "execute_result"
    }
   ],
   "source": [
    "'''# Check your work\n",
    "sub_pantheria_rename.head()'''"
   ]
  },
  {
   "cell_type": "markdown",
   "id": "d7bf256e",
   "metadata": {},
   "source": [
    "## Step 2\n",
    "\n",
    "Use the `'growth_rate_kg_yr'` column in `sub_pantheria_rename` to calculate the growth rate (kg), among mammals with `'large_litters' == True` from Step 1, such that 10% of mammals have a growth rate greater than this value (HINT: use the `quantile` function in `pandas`). \n",
    "\n",
    "You will do this in two stages:\n",
    "\n",
    "- create a `DataFrame` from `sub_pantheria_rename` containing only the rows with large litters (using column `'large_litters'`, which is a Boolean `Series`), and these two columns: `'growth_rate_kg_yr'` and `'order'`. Name that new dataframe `largelit_growthrate`. __(1 mark)__"
   ]
  },
  {
   "cell_type": "code",
   "execution_count": 22,
   "id": "2c0386a8",
   "metadata": {},
   "outputs": [],
   "source": [
    "# put your answer here"
   ]
  },
  {
   "cell_type": "code",
   "execution_count": 23,
   "id": "e16f4e65",
   "metadata": {},
   "outputs": [
    {
     "data": {
      "text/plain": [
       "\"# Check your work\\n\\nexpected_shape = (1308, 2)\\n\\nerror_msg = 'Check that you selected two columns'\\n\\nassert expected_shape == largelit_growthrate.shape, error_msg\""
      ]
     },
     "execution_count": 23,
     "metadata": {},
     "output_type": "execute_result"
    }
   ],
   "source": [
    "'''# Check your work\n",
    "\n",
    "expected_shape = (1308, 2)\n",
    "\n",
    "error_msg = 'Check that you selected two columns'\n",
    "\n",
    "assert expected_shape == largelit_growthrate.shape, error_msg'''"
   ]
  },
  {
   "cell_type": "markdown",
   "id": "b3696c08-800e-4b7a-8f8f-ca79a9d4921e",
   "metadata": {},
   "source": [
    "- Now compute the value of `'growth_rate_kg_yr'` in `largelit_growthrate` such that 10% of mammals have a growth rate greater than this value (HINT: use the `quantile` function in `pandas`). Name this value `only10`. __(1 mark)__"
   ]
  },
  {
   "cell_type": "code",
   "execution_count": 24,
   "id": "ef8cf314",
   "metadata": {},
   "outputs": [],
   "source": [
    "# put your answer here"
   ]
  },
  {
   "cell_type": "code",
   "execution_count": 25,
   "id": "348804a3",
   "metadata": {},
   "outputs": [
    {
     "data": {
      "text/plain": [
       "'# Check your work\\nonly10'"
      ]
     },
     "execution_count": 25,
     "metadata": {},
     "output_type": "execute_result"
    }
   ],
   "source": [
    "'''# Check your work\n",
    "only10'''"
   ]
  },
  {
   "cell_type": "markdown",
   "id": "03c699fa-5065-476e-a4e2-f231a8b13b8d",
   "metadata": {},
   "source": [
    "## Step 3\n",
    "\n",
    "Use `largelit_growthrate` from Step 2 to compute the frequency distribution of `'order'` using `value_counts`, among mammals with a `'growth_rate_kg_yr'` that is at least `only10` (from Step 2).  Name the distribution `order_dist`. \n",
    "\n",
    "You will do this in two stages:\n",
    "\n",
    "- create a `DataFrame` named `large_orders` from `largelit_growthrate` that includes mammals where `'growth_rate_kg_yr'` is at least `only10` and the `DataFrame` has only the `'order'` column. __(1 mark)__\n",
    "\n",
    "- compute the frequency distribution of `'order'` in `large_orders` and name it `order_dist`. __(1 mark)__\n"
   ]
  },
  {
   "cell_type": "code",
   "execution_count": 26,
   "id": "1c8f3ef3",
   "metadata": {},
   "outputs": [],
   "source": [
    "# put your answer here"
   ]
  },
  {
   "cell_type": "code",
   "execution_count": 27,
   "id": "34569a4e",
   "metadata": {},
   "outputs": [
    {
     "data": {
      "text/plain": [
       "'# Check your work\\norder_dist'"
      ]
     },
     "execution_count": 27,
     "metadata": {},
     "output_type": "execute_result"
    }
   ],
   "source": [
    "'''# Check your work\n",
    "order_dist'''"
   ]
  },
  {
   "cell_type": "markdown",
   "id": "f517d2d9-a632-4c78-ba08-310707ca225f",
   "metadata": {},
   "source": [
    "## Step 4\n",
    "\n",
    "`order_dist.index` will extract the names of the rows of `order_dist`. (Try it! Copy and paste `order_dist.index` to see its value.) Use `order_dist.index` to extract the name of the order that is most frequent, and name it `highest_order_name`. __(1 mark)__"
   ]
  },
  {
   "cell_type": "code",
   "execution_count": 28,
   "id": "47be332e",
   "metadata": {},
   "outputs": [],
   "source": [
    "# put your answer here"
   ]
  },
  {
   "cell_type": "code",
   "execution_count": 29,
   "id": "dedc8f50",
   "metadata": {},
   "outputs": [
    {
     "data": {
      "text/plain": [
       "'# Check your work\\nhighest_order_name'"
      ]
     },
     "execution_count": 29,
     "metadata": {},
     "output_type": "execute_result"
    }
   ],
   "source": [
    "'''# Check your work\n",
    "highest_order_name'''"
   ]
  },
  {
   "cell_type": "markdown",
   "id": "ae6240cb-ceb8-4f37-bfa5-2fc726872bbb",
   "metadata": {},
   "source": [
    "## Step 5\n",
    "\n",
    "Use the `pandas` functions `describe` and `groupby` to generate a quantitative summary of the distribution of `'growth_rate_kg_yr'` by `'large_litters'`. Name this `growth_largelit_dist` __(1 mark)__\n",
    "\n",
    "NB:  `growth_largelit_dist` should only have the distributions of `'growth_rate_kg_yr'` by `'large_litters'`."
   ]
  },
  {
   "cell_type": "code",
   "execution_count": 30,
   "id": "2fef1a8f-08fa-41b0-9f65-494ae35c7d82",
   "metadata": {},
   "outputs": [],
   "source": [
    "# put your answer here"
   ]
  },
  {
   "cell_type": "code",
   "execution_count": 31,
   "id": "014a1fa9",
   "metadata": {},
   "outputs": [
    {
     "data": {
      "text/plain": [
       "'# Check your work\\ngrowth_largelit_dist'"
      ]
     },
     "execution_count": 31,
     "metadata": {},
     "output_type": "execute_result"
    }
   ],
   "source": [
    "'''# Check your work\n",
    "growth_largelit_dist'''"
   ]
  },
  {
   "cell_type": "markdown",
   "id": "2e362716-44ec-4e7c-b8ce-dddf65789646",
   "metadata": {},
   "source": [
    "## Step 6\n",
    "\n",
    "Briefly describe what you did to the data in this question. Put your answer in a markdown cell below. __(2 marks)__ "
   ]
  },
  {
   "cell_type": "markdown",
   "id": "74d1a981-38dc-4068-af23-6cdb9ab8c18b",
   "metadata": {},
   "source": [
    "Edit this cell to insert your answer to step 6."
   ]
  },
  {
   "cell_type": "markdown",
   "id": "6f1f6028-ca30-4964-9f7e-d1b390cde56f",
   "metadata": {},
   "source": [
    "# Question 5\n",
    "\n",
    "Answer the following question.\n",
    "\n",
    "Briefly describe the relationship between litter sizes greater than one and growth rate per year by including the following in your answer.  \n",
    "\n",
    "i) Do mammals with litter sizes greater than one grow faster than mammals with a litter size of one?  Briefly explain and provide evidence. __(3 marks)__\n",
    "\n",
    "ii) Which mammals with litter sizes greater than one have more variation in growth rate per year than mammals with a litter size of one?  Briefly explain and provide evidence. __(3 marks)__\n",
    "\n",
    "iii) Give a brief biological explanation that gives a rationale to your answers in i) and ii) if you haven't already done so in your explanations to i) and ii). __(3 marks)__"
   ]
  },
  {
   "cell_type": "markdown",
   "id": "22741279",
   "metadata": {},
   "source": [
    "Edit this cell to insert your answer."
   ]
  }
 ],
 "metadata": {
  "kernelspec": {
   "display_name": "Python 3 (ipykernel)",
   "language": "python",
   "name": "python3"
  },
  "language_info": {
   "codemirror_mode": {
    "name": "ipython",
    "version": 3
   },
   "file_extension": ".py",
   "mimetype": "text/x-python",
   "name": "python",
   "nbconvert_exporter": "python",
   "pygments_lexer": "ipython3",
   "version": "3.10.2"
  }
 },
 "nbformat": 4,
 "nbformat_minor": 5
}