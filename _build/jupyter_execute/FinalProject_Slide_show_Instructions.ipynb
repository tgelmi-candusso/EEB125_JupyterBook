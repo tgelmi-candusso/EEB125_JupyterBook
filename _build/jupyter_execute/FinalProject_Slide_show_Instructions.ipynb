{
 "cells": [
  {
   "cell_type": "markdown",
   "id": "d6733a89",
   "metadata": {},
   "source": [
    "# Some Useful Information on creating Markdown Cells and a Slideshow\n",
    "\n",
    "<mark> **Don't include this cell as part of your presentation** </mark>\n",
    "\n",
    "## Markdown cells\n",
    "\n",
    "More information about Markdown Cells in Jupyter notebooks can be found [here](https://jupyter-notebook.readthedocs.io/en/stable/examples/Notebook/Working%20With%20Markdown%20Cells.html).\n",
    "\n",
    "## RISE\n",
    "\n",
    "More information about RISE can be found [here](https://rise.readthedocs.io/en/stable/).  \n",
    "\n",
    "A few basics to create a *basic* slideshow:\n",
    "\n",
    "- To change a Jupyter notebook cell's Slide Type select Slideshow from the menu: View > Cell Toolbar > Slideshow\n",
    "\n",
    "![](rise1.png)\n",
    "\n",
    "- Choose Slide Type as Slide \n",
    "\n",
    "![](rise2.png)\n",
    "\n",
    "- Click on the RISE icon in the toolbar to run the slideshow.\n",
    "\n",
    "![](rise3.png)\n",
    "\n",
    "## Hiding Code While Displaying Output\n",
    "\n",
    "- You will want to display python output, but not all the code that produced the output during your presentation.  Although, we ask that your slides be reproducible, so the code and output should be in one notebook.  One way to accomplish this is to use the notebook extension called *Hide input*.  Here are the steps to trun this extension on in your notebook:\n",
    "\n",
    "- Click on the NBextensions tab in the Jupyterhub.  You can learn more about Jupyter Notebook Extensions [here](https://jupyter-contrib-nbextensions.readthedocs.io/en/latest/).\n",
    "\n",
    "![](hidecode1.png)\n",
    "\n",
    "\n",
    "- Then click the hide code button to hide the cell's code, but display output.\n",
    "\n",
    "![](hidecode2.png)\n",
    "\n",
    "- This notebook already has this extension turned on."
   ]
  },
  {
   "cell_type": "markdown",
   "id": "e67ca3ac",
   "metadata": {
    "hide_input": true,
    "slideshow": {
     "slide_type": "slide"
    }
   },
   "source": [
    "# Hiding code cell example\n",
    "\n",
    "- The code cell below is hidden, but you should be able to see the bar plot.\n",
    "- If you select the cell below then click on the hide code cell icon again the code will become visible."
   ]
  },
  {
   "cell_type": "code",
   "execution_count": 1,
   "id": "827c344b",
   "metadata": {
    "hide_input": true,
    "slideshow": {
     "slide_type": "-"
    }
   },
   "outputs": [
    {
     "data": {
      "image/png": "[encoded data removed]",
      "text/plain": [
       "<Figure size 432x288 with 1 Axes>"
      ]
     },
     "metadata": {
      "filenames": {
       "image/png": "C:\\Users\\tizge\\Documents\\GitHub\\EEB125_JupyterBook\\_build\\jupyter_execute\\FinalProject_Slide_show_Instructions_2_0.png"
      },
      "needs_background": "light"
     },
     "output_type": "display_data"
    }
   ],
   "source": [
    "import matplotlib.pyplot as plt\n",
    "import numpy as np\n",
    "\n",
    "x = np.arange(1, 5, 1)\n",
    "\n",
    "y = np.array([2, 4, 4, 1]) \n",
    "\n",
    "\n",
    "plt.bar(x = x, height = y);\n",
    "plt.xlabel('x axis')\n",
    "plt.ylabel('y axis');\n",
    "plt.title('Plot Title');"
   ]
  },
  {
   "cell_type": "markdown",
   "id": "458fc119",
   "metadata": {
    "slideshow": {
     "slide_type": "slide"
    }
   },
   "source": [
    "# Title of your group project (the title should reflect the question that you are answering)\n",
    "\n",
    "## Team members:  A. Pandas, B. Python, C. Health, D. Datasci  \n",
    "\n",
    "### Tutorial: TUTXXXX\n",
    "\n",
    "### Group number: XX\n"
   ]
  },
  {
   "cell_type": "markdown",
   "id": "a85d5a53",
   "metadata": {
    "slideshow": {
     "slide_type": "slide"
    }
   },
   "source": [
    "# Introduction\n",
    "\n",
    "- briefly states the topic you chose and how will you approach this topic\n",
    "- provides background information needed to understand your poster\n",
    "- briefly presents the statistical approach used and maybe even one or two key figure/tables to summarize the relevant data"
   ]
  },
  {
   "cell_type": "markdown",
   "id": "ea18d936",
   "metadata": {
    "slideshow": {
     "slide_type": "slide"
    }
   },
   "source": [
    "# Methods\n",
    "\n",
    "- mentions specific variables in dataset used or any data wrangling performed\n",
    "- completely and accurately describes the methods used, in paragraph form with functions and symbols in bold\n",
    "- provides enough information to allow someone to replicate your work but excludes needless detail\n"
   ]
  },
  {
   "cell_type": "markdown",
   "id": "de283622",
   "metadata": {
    "slideshow": {
     "slide_type": "slide"
    }
   },
   "source": [
    "# Results\n",
    "\n",
    "- presents the main findings\n",
    "- includes figures, tables, graphs if they enhance clarity of presentation of information\n",
    "- refers to the relevant self‐explanatory figures, tables, graphs in the text (e.g., See Figure 1)\n",
    "- has captions above tables but below figures and graphs (so they are self-contained)\n",
    "- does not interpret the data or draw conclusions"
   ]
  },
  {
   "cell_type": "markdown",
   "id": "08a66fc7",
   "metadata": {
    "slideshow": {
     "slide_type": "slide"
    }
   },
   "source": [
    "# Conclusion\n",
    "\n",
    "- briefly restates the problem you are addressing and then states the main results (in complete sentences)\n",
    "- interprets the results and summarizes how the results address the problem\n",
    "- identifies any errors found\n",
    "- discusses any challenges faced, and strengths and limitations of the project\n",
    "- offers suggestions for improvement of the project (if any)"
   ]
  }
 ],
 "metadata": {
  "celltoolbar": "Slideshow",
  "kernelspec": {
   "display_name": "Python 3 (ipykernel)",
   "language": "python",
   "name": "python3"
  },
  "language_info": {
   "codemirror_mode": {
    "name": "ipython",
    "version": 3
   },
   "file_extension": ".py",
   "mimetype": "text/x-python",
   "name": "python",
   "nbconvert_exporter": "python",
   "pygments_lexer": "ipython3",
   "version": "3.10.2"
  }
 },
 "nbformat": 4,
 "nbformat_minor": 5
}