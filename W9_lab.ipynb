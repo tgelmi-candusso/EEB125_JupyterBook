{
 "cells": [
  {
   "cell_type": "markdown",
   "metadata": {
    "tags": []
   },
   "source": [
    "# Lab 9: Final Project Proposal \n",
    "\n",
    "- The goal of this lab is to work with your final project group on the project proposal.\n",
    "\n",
    "- Information on the final project is available at <https://uoftcompdsci.github.io/EEBfinalproject/intro.html>\n",
    "\n",
    "- The grading for this lab will be based on attendance (1 mark) and participation (1 mark).\n",
    "\n",
    "- Your TA will put your group into a breakout room where you will have time to discuss the project proposal below for part of the lab.\n",
    "\n",
    "- Pick 1-3 people from your group to present your proposal ideas to the rest of the students in your lab.  \n"
   ]
  },
  {
   "cell_type": "markdown",
   "metadata": {},
   "source": [
    "# Project proposal questions\n",
    "\n",
    "- Each group must submit one project proposal.  Your TA is aiming to give your group feedback within one week of submission.\n",
    "\n",
    "\n",
    "- The goal of the proposal is not to work out every detail around your group's presentation plans and analysis, but to ensure that the question is feasible and that each group has a work plan.  \n",
    "\n",
    "\n",
    "- Another goal is for the teaching team to be able to give your group feedback with enough time to incorporate the feedback.  Although, we view this as the start of the conversation between your group and your TA."
   ]
  },
  {
   "cell_type": "markdown",
   "metadata": {},
   "source": [
    "0. **Division of labour:** How will each member contribute to completing this project? Make sure to list each member with a brief description of what they will do.  How will your group coordinate and work on the project?"
   ]
  },
  {
   "cell_type": "markdown",
   "metadata": {},
   "source": []
  },
  {
   "cell_type": "markdown",
   "metadata": {},
   "source": [
    "1. **State the question:** What question(s) will your group answer?"
   ]
  },
  {
   "cell_type": "markdown",
   "metadata": {},
   "source": []
  },
  {
   "cell_type": "markdown",
   "metadata": {},
   "source": [
    "2. **Data sources:** What data will your group use?  State specific data sets, and columns within the data sets that you will use to answer your question(s)."
   ]
  },
  {
   "cell_type": "markdown",
   "metadata": {},
   "source": []
  },
  {
   "cell_type": "markdown",
   "metadata": {},
   "source": [
    "3. **Methods:** How will your group wrangle the data?  Will new variables be created?  What statistical methods will be used?"
   ]
  },
  {
   "cell_type": "markdown",
   "metadata": {},
   "source": []
  },
  {
   "cell_type": "markdown",
   "metadata": {},
   "source": [
    "4. **Results:** How will the results be presented?  Tables, graphs?  "
   ]
  },
  {
   "cell_type": "markdown",
   "metadata": {},
   "source": []
  },
  {
   "cell_type": "markdown",
   "metadata": {},
   "source": [
    "5. **Conclusions:** What types of conclusions does your group hope to make?  What do you hope to learn from this project?"
   ]
  },
  {
   "cell_type": "markdown",
   "metadata": {},
   "source": []
  },
  {
   "cell_type": "markdown",
   "metadata": {},
   "source": [
    "# Final Project Proposal: Marking guidelines\n",
    "\n",
    "## Detailed Assessment Criteria"
   ]
  },
  {
   "cell_type": "markdown",
   "metadata": {},
   "source": [
    "\n",
    "\n",
    "\n",
    "Section     | 0 | 1 | 2 \n",
    "------------|---|---|---\n",
    "Workload| Description of workload (i.e. number of tasks and obligations) for each member of the group is omitted. | Number of tasks and obligations are described for most members.| Number of tasks and obligations are described for all members.|\n",
    "Division of labour| One person of the group takes over most tasks. | Workload is predominantly attributed to one or two students leaving remaining student out. | Workload is attributed equally among participants. |\n",
    "Group coordination| Coordination plan and collaborative working plan is omitted. | Coordination described is unreasonable for the time frame given.| Coordination plan described is reasonable in terms of time allocation and efficient (e.g. uses available online collaborative tools).|\n",
    "Research question|Research question was omitted. | Research question was inappropriate given the methods of the study.| Research questions are stated clearly and are connected to the methodology described.|\n",
    "Data sources| Data source to be used is omitted. |Data source is stated but specific columns to be used are not stated nor described| Data source is stated, including citation and/or link, and specific columns to be used to answer the question are stated and/or described.\n",
    "Data wrangling|Processes to transform raw data into clean data are not described.| Clarity and structure of the data wrangling processes described is insufficient and/or code learnt in the course is not used.| Processes used to transform raw data into clean data are clearly described in a structured order and applies the wrangling processes learnt in the course.|\n",
    "Data analysis|Statistical methods to analyse data are not described.| Clarity and structure of the data analysis described is insufficient to understand what the student will code for. | Processes used to analyse data are clearly described and plans on using analytical concepts learnt throughout the course.|\n",
    "Results|Presentation of expected results are omitted. | Presentation of expected results is vaguely described | Tables and/or Graphs expected  are clearly stated (e.g. type of graph, table content) |\n",
    "Conclusions| Expected conclusions are omitted. | Expected conclusions and/or potential impacts and/or limitations are described or learning resolutions are described| Both expected conclusions (and/or potential impacts and/or limitations) and learning resolutions are described.|\n",
    "\n",
    "\n",
    "\n",
    "\n",
    "\n"
   ]
  }
 ],
 "metadata": {
  "interpreter": {
   "hash": "ad9581ae519af95332d69424cf8bb4afaad24f2850b41edae9bd9c31ca8df22d"
  },
  "kernelspec": {
   "display_name": "Python 3 (ipykernel)",
   "language": "python",
   "name": "python3"
  },
  "language_info": {
   "codemirror_mode": {
    "name": "ipython",
    "version": 3
   },
   "file_extension": ".py",
   "mimetype": "text/x-python",
   "name": "python",
   "nbconvert_exporter": "python",
   "pygments_lexer": "ipython3",
   "version": "3.8.8"
  }
 },
 "nbformat": 4,
 "nbformat_minor": 4
}
